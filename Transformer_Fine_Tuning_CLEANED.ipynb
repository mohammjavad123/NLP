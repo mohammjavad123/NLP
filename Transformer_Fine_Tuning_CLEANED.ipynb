{
 "cells": [
  {
   "cell_type": "code",
   "execution_count": null,
   "metadata": {
    "colab": {
     "base_uri": "https://localhost:8080/",
     "height": 1000,
     "referenced_widgets": [
      "4fdc1e25c0f045fd9134636cac80a92a",
      "d2a3afd625cd413382ecae9962d92396",
      "29ae55dbb21e4da98be102a46c5595c0",
      "89bc4308dec442208fe4ca935ac59438",
      "62fcdfdb03024fa58da3de4111144972",
      "8aa2d723212e448ea0bb6466c58820bb",
      "816d2c383e2f41b09c2eca8d5d045b18",
      "086a7ab4e9664e0d89a2aac45bddbb9b",
      "b994b77fa4ce446f984a874d570d89eb",
      "0d865dca352240248c250e9758bc3eae",
      "0a4adb1c08a24a749ea9ce5907b2a60c",
      "0d69e355ac1f40b09c9fba17644e16d5",
      "5ba62e5acf7740bb918fe3c53f05158a",
      "31b46a3d89da4dcbbe35d0f8e39cd7a1",
      "e070863a37e74767ab3a56b752fa6edc",
      "d02ead29dc964ac6b107e1756a553bb8",
      "40f4f2faeb5a48388966c3b40c209957",
      "71bd2de4bb874d118a666d4674db08e9",
      "ae5c111479014768ac983ea4ebc89cf8",
      "933d1f43336f41a1a1bedd8c565692c7",
      "a3be6b61a49c4ef5baac5929bca0fa8b",
      "fb189bcae604461a994853fe2e220f6e",
      "49534982b745430c91ecb7360638b3d4",
      "4d3e117f935c4c2f919a977a4493c239",
      "78b07530eaee41cb9bc311ff04cfc1fd",
      "2995d11ec6994b1693c978d787c43a10",
      "8c19b36c92f34772967c713bd40a4f23",
      "f1c22792c182463b9a75cafdf1a4faad",
      "706c148dd2834cd1ab7e5bd389500054",
      "0f6b6deb40494b47935f71e2d73f197c",
      "0d9aacc3649f42279a7eef1f5c1035a4",
      "ba55bf6976f745ee8af19903a3e808ae",
      "7b69a6278d7040af9af88b8a8d9beac4",
      "d8fa1f2283cf4858b4caaea308aa4bec",
      "ec385a3e64e44f688eb21439a485830b",
      "de6a204d89b349fa9201331f38a15614",
      "eab7c68ebbb942d483f2985c23eb8f05",
      "2890b767395d43b5a98827ef432b1e69",
      "f8837011fbb14035b518b7395afdcbb4",
      "86ee356daae24810807ead336803f61c",
      "5340696179da4de9ac57914a43068ce8",
      "406e466c06794f24ae1069b95719fefa",
      "1d7e2626a22845dd96d0cc93f7676b81",
      "3653062fa8dc4535aa77aad10637e205",
      "ff7769fe3b4d4f16bc63677f47ae8361",
      "cec857744d9f439396fdf8495cbad384",
      "e255549017774041aec4a81f28f21d7c",
      "bbe3f7f407f94c7590c7445dbf3a4ff4",
      "95987a3a7a404c01964c7ee19ff30602",
      "604881dcc3584cafb0ac2fb300259331",
      "97dd8e07f21b4d0089f5f2cdd6244889",
      "2a9372e4a03043ddab3d626183361076",
      "a52547a506e248ef9a3d7ce5e6bd52e8",
      "560c7d59d8bf4bb98da16529deb852a1",
      "8298605804f14562aaf64373f4cfc201",
      "b76e5f2e862e4f5d9ea47abbb6fad3b5",
      "3300b363073341e1bae3f54fe2db01df",
      "bb63ae7e8cd04b789034cc736da9123e",
      "f325b19c7dbb4bdfbf69601e6073371f",
      "9000b40864bb4cdf816305b37d335565",
      "17b7516ef67a4e09a99906d678c2618c",
      "537a5960933d4a7c9b7587aaf1343daf",
      "af4ba55fda8b48abaf1eeee4ff6d801b",
      "c7dc93e5cc3743e784b9049f87c4108b",
      "efe35122927f4c55a51ddcf26730593a",
      "67700de74d3e42c886c91754f29d36f4",
      "3b80acf8af8043dc8045f40082d6a589",
      "baa3c4a744494a91936e678e518c053d",
      "8004b78050c545f8ade418bcab880e6a",
      "09ab59fba3b94f1196d624add205b49a",
      "dec706c45202433db1e7b44a969a352e",
      "56796d63dffe49a1a1b19531aeaef4ea",
      "7c1a8ddb169c429287c14cc01d9aca4e",
      "ac9e0412d24147e291f7aa60d8885b56",
      "8fc5ee4406cc4ac882da9813e3e1b176",
      "6a01a0b1afbb489ea5ea3478e9808ece",
      "f5ef6cbd9ef94d69b7573e8f3050d851"
     ]
    },
    "id": "y2xdItCNFxxM",
    "outputId": "4282c9c0-f844-4c29-b1c0-8a563f91983b"
   },
   "outputs": [
    {
     "name": "stdout",
     "output_type": "stream",
     "text": [
      "Requirement already satisfied: datasets in /usr/local/lib/python3.11/dist-packages (3.5.0)\n",
      "Requirement already satisfied: filelock in /usr/local/lib/python3.11/dist-packages (from datasets) (3.18.0)\n",
      "Requirement already satisfied: numpy>=1.17 in /usr/local/lib/python3.11/dist-packages (from datasets) (2.0.2)\n",
      "Requirement already satisfied: pyarrow>=15.0.0 in /usr/local/lib/python3.11/dist-packages (from datasets) (18.1.0)\n",
      "Requirement already satisfied: dill<0.3.9,>=0.3.0 in /usr/local/lib/python3.11/dist-packages (from datasets) (0.3.8)\n",
      "Requirement already satisfied: pandas in /usr/local/lib/python3.11/dist-packages (from datasets) (2.2.2)\n",
      "Requirement already satisfied: requests>=2.32.2 in /usr/local/lib/python3.11/dist-packages (from datasets) (2.32.3)\n",
      "Requirement already satisfied: tqdm>=4.66.3 in /usr/local/lib/python3.11/dist-packages (from datasets) (4.67.1)\n",
      "Requirement already satisfied: xxhash in /usr/local/lib/python3.11/dist-packages (from datasets) (3.5.0)\n",
      "Requirement already satisfied: multiprocess<0.70.17 in /usr/local/lib/python3.11/dist-packages (from datasets) (0.70.16)\n",
      "Requirement already satisfied: fsspec<=2024.12.0,>=2023.1.0 in /usr/local/lib/python3.11/dist-packages (from fsspec[http]<=2024.12.0,>=2023.1.0->datasets) (2024.12.0)\n",
      "Requirement already satisfied: aiohttp in /usr/local/lib/python3.11/dist-packages (from datasets) (3.11.14)\n",
      "Requirement already satisfied: huggingface-hub>=0.24.0 in /usr/local/lib/python3.11/dist-packages (from datasets) (0.29.3)\n",
      "Requirement already satisfied: packaging in /usr/local/lib/python3.11/dist-packages (from datasets) (24.2)\n",
      "Requirement already satisfied: pyyaml>=5.1 in /usr/local/lib/python3.11/dist-packages (from datasets) (6.0.2)\n",
      "Requirement already satisfied: aiohappyeyeballs>=2.3.0 in /usr/local/lib/python3.11/dist-packages (from aiohttp->datasets) (2.6.1)\n",
      "Requirement already satisfied: aiosignal>=1.1.2 in /usr/local/lib/python3.11/dist-packages (from aiohttp->datasets) (1.3.2)\n",
      "Requirement already satisfied: attrs>=17.3.0 in /usr/local/lib/python3.11/dist-packages (from aiohttp->datasets) (25.3.0)\n",
      "Requirement already satisfied: frozenlist>=1.1.1 in /usr/local/lib/python3.11/dist-packages (from aiohttp->datasets) (1.5.0)\n",
      "Requirement already satisfied: multidict<7.0,>=4.5 in /usr/local/lib/python3.11/dist-packages (from aiohttp->datasets) (6.2.0)\n",
      "Requirement already satisfied: propcache>=0.2.0 in /usr/local/lib/python3.11/dist-packages (from aiohttp->datasets) (0.3.0)\n",
      "Requirement already satisfied: yarl<2.0,>=1.17.0 in /usr/local/lib/python3.11/dist-packages (from aiohttp->datasets) (1.18.3)\n",
      "Requirement already satisfied: typing-extensions>=3.7.4.3 in /usr/local/lib/python3.11/dist-packages (from huggingface-hub>=0.24.0->datasets) (4.12.2)\n",
      "Requirement already satisfied: charset-normalizer<4,>=2 in /usr/local/lib/python3.11/dist-packages (from requests>=2.32.2->datasets) (3.4.1)\n",
      "Requirement already satisfied: idna<4,>=2.5 in /usr/local/lib/python3.11/dist-packages (from requests>=2.32.2->datasets) (3.10)\n",
      "Requirement already satisfied: urllib3<3,>=1.21.1 in /usr/local/lib/python3.11/dist-packages (from requests>=2.32.2->datasets) (2.3.0)\n",
      "Requirement already satisfied: certifi>=2017.4.17 in /usr/local/lib/python3.11/dist-packages (from requests>=2.32.2->datasets) (2025.1.31)\n",
      "Requirement already satisfied: python-dateutil>=2.8.2 in /usr/local/lib/python3.11/dist-packages (from pandas->datasets) (2.8.2)\n",
      "Requirement already satisfied: pytz>=2020.1 in /usr/local/lib/python3.11/dist-packages (from pandas->datasets) (2025.1)\n",
      "Requirement already satisfied: tzdata>=2022.7 in /usr/local/lib/python3.11/dist-packages (from pandas->datasets) (2025.1)\n",
      "Requirement already satisfied: six>=1.5 in /usr/local/lib/python3.11/dist-packages (from python-dateutil>=2.8.2->pandas->datasets) (1.17.0)\n",
      "📥 Loading 'yelp_review_full' dataset...\n"
     ]
    },
    {
     "data": {
      "application/vnd.jupyter.widget-view+json": {
       "model_id": "4fdc1e25c0f045fd9134636cac80a92a",
       "version_major": 2,
       "version_minor": 0
      },
      "text/plain": [
       "README.md:   0%|          | 0.00/6.72k [00:00<?, ?B/s]"
      ]
     },
     "metadata": {},
     "output_type": "display_data"
    },
    {
     "data": {
      "application/vnd.jupyter.widget-view+json": {
       "model_id": "0d69e355ac1f40b09c9fba17644e16d5",
       "version_major": 2,
       "version_minor": 0
      },
      "text/plain": [
       "train-00000-of-00001.parquet:   0%|          | 0.00/299M [00:00<?, ?B/s]"
      ]
     },
     "metadata": {},
     "output_type": "display_data"
    },
    {
     "data": {
      "application/vnd.jupyter.widget-view+json": {
       "model_id": "49534982b745430c91ecb7360638b3d4",
       "version_major": 2,
       "version_minor": 0
      },
      "text/plain": [
       "test-00000-of-00001.parquet:   0%|          | 0.00/23.5M [00:00<?, ?B/s]"
      ]
     },
     "metadata": {},
     "output_type": "display_data"
    },
    {
     "data": {
      "application/vnd.jupyter.widget-view+json": {
       "model_id": "d8fa1f2283cf4858b4caaea308aa4bec",
       "version_major": 2,
       "version_minor": 0
      },
      "text/plain": [
       "Generating train split:   0%|          | 0/650000 [00:00<?, ? examples/s]"
      ]
     },
     "metadata": {},
     "output_type": "display_data"
    },
    {
     "data": {
      "application/vnd.jupyter.widget-view+json": {
       "model_id": "ff7769fe3b4d4f16bc63677f47ae8361",
       "version_major": 2,
       "version_minor": 0
      },
      "text/plain": [
       "Generating test split:   0%|          | 0/50000 [00:00<?, ? examples/s]"
      ]
     },
     "metadata": {},
     "output_type": "display_data"
    },
    {
     "data": {
      "application/vnd.jupyter.widget-view+json": {
       "model_id": "b76e5f2e862e4f5d9ea47abbb6fad3b5",
       "version_major": 2,
       "version_minor": 0
      },
      "text/plain": [
       "Filter:   0%|          | 0/50000 [00:00<?, ? examples/s]"
      ]
     },
     "metadata": {},
     "output_type": "display_data"
    },
    {
     "data": {
      "application/vnd.jupyter.widget-view+json": {
       "model_id": "3b80acf8af8043dc8045f40082d6a589",
       "version_major": 2,
       "version_minor": 0
      },
      "text/plain": [
       "Map:   0%|          | 0/12559 [00:00<?, ? examples/s]"
      ]
     },
     "metadata": {},
     "output_type": "display_data"
    },
    {
     "name": "stdout",
     "output_type": "stream",
     "text": [
      "\n",
      "✅ Final dataset shape: (12559, 4)\n",
      "💾 Saved as 'apple_samsung_yelp_sentiment.csv'\n",
      "\n",
      "📊 Sentiment distribution:\n",
      "sentiment\n",
      "-1    6171\n",
      " 1    3835\n",
      " 0    2553\n",
      "Name: count, dtype: int64\n",
      "\n",
      "📌 Brand distribution:\n",
      "brand\n",
      "samsung    8191\n",
      "apple      3150\n",
      "general    1218\n",
      "Name: count, dtype: int64\n"
     ]
    }
   ],
   "source": [
    "# STEP 1: Install HuggingFace datasets\n",
    "!pip install datasets\n",
    "\n",
    "# STEP 2: Import libraries\n",
    "from datasets import load_dataset\n",
    "import pandas as pd\n",
    "\n",
    "print(\"📥 Loading 'yelp_review_full' dataset...\")\n",
    "dataset = load_dataset(\"yelp_review_full\", split=\"train[:50000]\")  # Adjust size if needed\n",
    "\n",
    "# STEP 3: Define Apple & Samsung keywords\n",
    "apple_keywords = [\n",
    "    \"apple\", \"iphone\", \"ipad\", \"macbook\", \"mac\", \"airpods\", \"apple watch\", \"ios\"\n",
    "]\n",
    "samsung_keywords = [\n",
    "    \"samsung\", \"galaxy\", \"note\", \"s22\", \"s21\", \"tab\", \"buds\", \"samsung watch\", \"android\"\n",
    "]\n",
    "product_keywords = [\n",
    "    \"smartphone\", \"tablet\", \"laptop\", \"phone\", \"headphones\", \"wearable\"\n",
    "]\n",
    "\n",
    "all_keywords = set(apple_keywords + samsung_keywords + product_keywords)\n",
    "all_keywords = [k.lower() for k in all_keywords]\n",
    "\n",
    "# STEP 4: Filter for relevant reviews\n",
    "def is_tech_related(example):\n",
    "    text = example[\"text\"].lower()\n",
    "    return any(keyword in text for keyword in all_keywords)\n",
    "\n",
    "filtered = dataset.filter(is_tech_related)\n",
    "\n",
    "# STEP 5: Tag each review with brand\n",
    "def tag_brand(example):\n",
    "    text = example[\"text\"].lower()\n",
    "    if any(word in text for word in apple_keywords):\n",
    "        return \"apple\"\n",
    "    elif any(word in text for word in samsung_keywords):\n",
    "        return \"samsung\"\n",
    "    else:\n",
    "        return \"general\"\n",
    "\n",
    "filtered = filtered.map(lambda x: {\"brand\": tag_brand(x)})\n",
    "\n",
    "# STEP 6: Convert to DataFrame\n",
    "df = pd.DataFrame(filtered)\n",
    "\n",
    "# STEP 7: Map star ratings (0–4) to sentiment\n",
    "# In yelp_review_full: 0=1 star, 1=2 stars, ..., 4=5 stars\n",
    "def map_star_to_sentiment(label):\n",
    "    if label in [0, 1]:\n",
    "        return -1\n",
    "    elif label == 2:\n",
    "        return 0\n",
    "    elif label in [3, 4]:\n",
    "        return 1\n",
    "\n",
    "df[\"sentiment\"] = df[\"label\"].apply(map_star_to_sentiment)\n",
    "\n",
    "# Optional: Keep only relevant columns\n",
    "df = df[[\"text\", \"label\", \"brand\", \"sentiment\"]]\n",
    "df = df.rename(columns={\"text\": \"review_text\", \"label\": \"star_rating\"})\n",
    "\n",
    "# STEP 8: Save to CSV\n",
    "df.to_csv(\"apple_samsung_yelp_sentiment.csv\", index=False)\n",
    "print(f\"\\n✅ Final dataset shape: {df.shape}\")\n",
    "print(\"💾 Saved as 'apple_samsung_yelp_sentiment.csv'\")\n",
    "print(\"\\n📊 Sentiment distribution:\")\n",
    "print(df[\"sentiment\"].value_counts())\n",
    "print(\"\\n📌 Brand distribution:\")\n",
    "print(df[\"brand\"].value_counts())\n"
   ]
  },
  {
   "cell_type": "code",
   "execution_count": null,
   "metadata": {
    "colab": {
     "base_uri": "https://localhost:8080/"
    },
    "id": "2jF_TPUEeKuZ",
    "outputId": "2d790df1-8e1a-4cc1-89ee-7d4784626c09"
   },
   "outputs": [
    {
     "name": "stdout",
     "output_type": "stream",
     "text": [
      "Collecting datasets\n",
      "  Downloading datasets-3.5.0-py3-none-any.whl.metadata (19 kB)\n",
      "Requirement already satisfied: filelock in /usr/local/lib/python3.11/dist-packages (from datasets) (3.18.0)\n",
      "Requirement already satisfied: numpy>=1.17 in /usr/local/lib/python3.11/dist-packages (from datasets) (2.0.2)\n",
      "Requirement already satisfied: pyarrow>=15.0.0 in /usr/local/lib/python3.11/dist-packages (from datasets) (18.1.0)\n",
      "Collecting dill<0.3.9,>=0.3.0 (from datasets)\n",
      "  Downloading dill-0.3.8-py3-none-any.whl.metadata (10 kB)\n",
      "Requirement already satisfied: pandas in /usr/local/lib/python3.11/dist-packages (from datasets) (2.2.2)\n",
      "Requirement already satisfied: requests>=2.32.2 in /usr/local/lib/python3.11/dist-packages (from datasets) (2.32.3)\n",
      "Requirement already satisfied: tqdm>=4.66.3 in /usr/local/lib/python3.11/dist-packages (from datasets) (4.67.1)\n",
      "Collecting xxhash (from datasets)\n",
      "  Downloading xxhash-3.5.0-cp311-cp311-manylinux_2_17_x86_64.manylinux2014_x86_64.whl.metadata (12 kB)\n",
      "Collecting multiprocess<0.70.17 (from datasets)\n",
      "  Downloading multiprocess-0.70.16-py311-none-any.whl.metadata (7.2 kB)\n",
      "Collecting fsspec<=2024.12.0,>=2023.1.0 (from fsspec[http]<=2024.12.0,>=2023.1.0->datasets)\n",
      "  Downloading fsspec-2024.12.0-py3-none-any.whl.metadata (11 kB)\n",
      "Requirement already satisfied: aiohttp in /usr/local/lib/python3.11/dist-packages (from datasets) (3.11.14)\n",
      "Requirement already satisfied: huggingface-hub>=0.24.0 in /usr/local/lib/python3.11/dist-packages (from datasets) (0.29.3)\n",
      "Requirement already satisfied: packaging in /usr/local/lib/python3.11/dist-packages (from datasets) (24.2)\n",
      "Requirement already satisfied: pyyaml>=5.1 in /usr/local/lib/python3.11/dist-packages (from datasets) (6.0.2)\n",
      "Requirement already satisfied: aiohappyeyeballs>=2.3.0 in /usr/local/lib/python3.11/dist-packages (from aiohttp->datasets) (2.6.1)\n",
      "Requirement already satisfied: aiosignal>=1.1.2 in /usr/local/lib/python3.11/dist-packages (from aiohttp->datasets) (1.3.2)\n",
      "Requirement already satisfied: attrs>=17.3.0 in /usr/local/lib/python3.11/dist-packages (from aiohttp->datasets) (25.3.0)\n",
      "Requirement already satisfied: frozenlist>=1.1.1 in /usr/local/lib/python3.11/dist-packages (from aiohttp->datasets) (1.5.0)\n",
      "Requirement already satisfied: multidict<7.0,>=4.5 in /usr/local/lib/python3.11/dist-packages (from aiohttp->datasets) (6.2.0)\n",
      "Requirement already satisfied: propcache>=0.2.0 in /usr/local/lib/python3.11/dist-packages (from aiohttp->datasets) (0.3.0)\n",
      "Requirement already satisfied: yarl<2.0,>=1.17.0 in /usr/local/lib/python3.11/dist-packages (from aiohttp->datasets) (1.18.3)\n",
      "Requirement already satisfied: typing-extensions>=3.7.4.3 in /usr/local/lib/python3.11/dist-packages (from huggingface-hub>=0.24.0->datasets) (4.12.2)\n",
      "Requirement already satisfied: charset-normalizer<4,>=2 in /usr/local/lib/python3.11/dist-packages (from requests>=2.32.2->datasets) (3.4.1)\n",
      "Requirement already satisfied: idna<4,>=2.5 in /usr/local/lib/python3.11/dist-packages (from requests>=2.32.2->datasets) (3.10)\n",
      "Requirement already satisfied: urllib3<3,>=1.21.1 in /usr/local/lib/python3.11/dist-packages (from requests>=2.32.2->datasets) (2.3.0)\n",
      "Requirement already satisfied: certifi>=2017.4.17 in /usr/local/lib/python3.11/dist-packages (from requests>=2.32.2->datasets) (2025.1.31)\n",
      "Requirement already satisfied: python-dateutil>=2.8.2 in /usr/local/lib/python3.11/dist-packages (from pandas->datasets) (2.8.2)\n",
      "Requirement already satisfied: pytz>=2020.1 in /usr/local/lib/python3.11/dist-packages (from pandas->datasets) (2025.1)\n",
      "Requirement already satisfied: tzdata>=2022.7 in /usr/local/lib/python3.11/dist-packages (from pandas->datasets) (2025.1)\n",
      "Requirement already satisfied: six>=1.5 in /usr/local/lib/python3.11/dist-packages (from python-dateutil>=2.8.2->pandas->datasets) (1.17.0)\n",
      "Downloading datasets-3.5.0-py3-none-any.whl (491 kB)\n",
      "\u001b[2K   \u001b[90m━━━━━━━━━━━━━━━━━━━━━━━━━━━━━━━━━━━━━━━━\u001b[0m \u001b[32m491.2/491.2 kB\u001b[0m \u001b[31m18.9 MB/s\u001b[0m eta \u001b[36m0:00:00\u001b[0m\n",
      "\u001b[?25hDownloading dill-0.3.8-py3-none-any.whl (116 kB)\n",
      "\u001b[2K   \u001b[90m━━━━━━━━━━━━━━━━━━━━━━━━━━━━━━━━━━━━━━━━\u001b[0m \u001b[32m116.3/116.3 kB\u001b[0m \u001b[31m10.3 MB/s\u001b[0m eta \u001b[36m0:00:00\u001b[0m\n",
      "\u001b[?25hDownloading fsspec-2024.12.0-py3-none-any.whl (183 kB)\n",
      "\u001b[2K   \u001b[90m━━━━━━━━━━━━━━━━━━━━━━━━━━━━━━━━━━━━━━━━\u001b[0m \u001b[32m183.9/183.9 kB\u001b[0m \u001b[31m15.4 MB/s\u001b[0m eta \u001b[36m0:00:00\u001b[0m\n",
      "\u001b[?25hDownloading multiprocess-0.70.16-py311-none-any.whl (143 kB)\n",
      "\u001b[2K   \u001b[90m━━━━━━━━━━━━━━━━━━━━━━━━━━━━━━━━━━━━━━━━\u001b[0m \u001b[32m143.5/143.5 kB\u001b[0m \u001b[31m12.0 MB/s\u001b[0m eta \u001b[36m0:00:00\u001b[0m\n",
      "\u001b[?25hDownloading xxhash-3.5.0-cp311-cp311-manylinux_2_17_x86_64.manylinux2014_x86_64.whl (194 kB)\n",
      "\u001b[2K   \u001b[90m━━━━━━━━━━━━━━━━━━━━━━━━━━━━━━━━━━━━━━━━\u001b[0m \u001b[32m194.8/194.8 kB\u001b[0m \u001b[31m16.8 MB/s\u001b[0m eta \u001b[36m0:00:00\u001b[0m\n",
      "\u001b[?25hInstalling collected packages: xxhash, fsspec, dill, multiprocess, datasets\n",
      "  Attempting uninstall: fsspec\n",
      "    Found existing installation: fsspec 2025.3.0\n",
      "    Uninstalling fsspec-2025.3.0:\n",
      "      Successfully uninstalled fsspec-2025.3.0\n",
      "\u001b[31mERROR: pip's dependency resolver does not currently take into account all the packages that are installed. This behaviour is the source of the following dependency conflicts.\n",
      "torch 2.6.0+cu124 requires nvidia-cublas-cu12==12.4.5.8; platform_system == \"Linux\" and platform_machine == \"x86_64\", but you have nvidia-cublas-cu12 12.5.3.2 which is incompatible.\n",
      "torch 2.6.0+cu124 requires nvidia-cuda-cupti-cu12==12.4.127; platform_system == \"Linux\" and platform_machine == \"x86_64\", but you have nvidia-cuda-cupti-cu12 12.5.82 which is incompatible.\n",
      "torch 2.6.0+cu124 requires nvidia-cuda-nvrtc-cu12==12.4.127; platform_system == \"Linux\" and platform_machine == \"x86_64\", but you have nvidia-cuda-nvrtc-cu12 12.5.82 which is incompatible.\n",
      "torch 2.6.0+cu124 requires nvidia-cuda-runtime-cu12==12.4.127; platform_system == \"Linux\" and platform_machine == \"x86_64\", but you have nvidia-cuda-runtime-cu12 12.5.82 which is incompatible.\n",
      "torch 2.6.0+cu124 requires nvidia-cudnn-cu12==9.1.0.70; platform_system == \"Linux\" and platform_machine == \"x86_64\", but you have nvidia-cudnn-cu12 9.3.0.75 which is incompatible.\n",
      "torch 2.6.0+cu124 requires nvidia-cufft-cu12==11.2.1.3; platform_system == \"Linux\" and platform_machine == \"x86_64\", but you have nvidia-cufft-cu12 11.2.3.61 which is incompatible.\n",
      "torch 2.6.0+cu124 requires nvidia-curand-cu12==10.3.5.147; platform_system == \"Linux\" and platform_machine == \"x86_64\", but you have nvidia-curand-cu12 10.3.6.82 which is incompatible.\n",
      "torch 2.6.0+cu124 requires nvidia-cusolver-cu12==11.6.1.9; platform_system == \"Linux\" and platform_machine == \"x86_64\", but you have nvidia-cusolver-cu12 11.6.3.83 which is incompatible.\n",
      "torch 2.6.0+cu124 requires nvidia-cusparse-cu12==12.3.1.170; platform_system == \"Linux\" and platform_machine == \"x86_64\", but you have nvidia-cusparse-cu12 12.5.1.3 which is incompatible.\n",
      "torch 2.6.0+cu124 requires nvidia-nvjitlink-cu12==12.4.127; platform_system == \"Linux\" and platform_machine == \"x86_64\", but you have nvidia-nvjitlink-cu12 12.5.82 which is incompatible.\n",
      "gcsfs 2025.3.0 requires fsspec==2025.3.0, but you have fsspec 2024.12.0 which is incompatible.\u001b[0m\u001b[31m\n",
      "\u001b[0mSuccessfully installed datasets-3.5.0 dill-0.3.8 fsspec-2024.12.0 multiprocess-0.70.16 xxhash-3.5.0\n"
     ]
    }
   ],
   "source": [
    "!pip install datasets"
   ]
  },
  {
   "cell_type": "code",
   "execution_count": null,
   "metadata": {
    "id": "DM3kqvBveyKW"
   },
   "outputs": [],
   "source": [
    "df = pd.read_csv(\"apple_samsung_yelp_sentiment.csv\", engine=\"python\")\n"
   ]
  },
  {
   "cell_type": "code",
   "execution_count": null,
   "metadata": {
    "colab": {
     "base_uri": "https://localhost:8080/",
     "height": 1000
    },
    "id": "tlxSawNqe20v",
    "outputId": "975f9488-b6a4-448b-d459-84c96729ca53"
   },
   "outputs": [
    {
     "name": "stdout",
     "output_type": "stream",
     "text": [
      "\n",
      "🧭 Sentiment Class Distribution:\n",
      "sentiment\n",
      "-1.0    2704\n",
      " 1.0    1691\n",
      " 0.0    1174\n",
      "Name: count, dtype: int64\n"
     ]
    },
    {
     "data": {
      "image/png": "[encoded data removed]",
      "text/plain": [
       "<Figure size 640x480 with 1 Axes>"
      ]
     },
     "metadata": {},
     "output_type": "display_data"
    },
    {
     "name": "stdout",
     "output_type": "stream",
     "text": [
      "\n",
      "📌 Brand Distribution:\n",
      "brand\n",
      "samsung    3694\n",
      "apple      1357\n",
      "general     518\n",
      "sam           1\n",
      "Name: count, dtype: int64\n"
     ]
    },
    {
     "data": {
      "image/png": "[encoded data removed]",
      "text/plain": [
       "<Figure size 640x480 with 1 Axes>"
      ]
     },
     "metadata": {},
     "output_type": "display_data"
    },
    {
     "data": {
      "image/png": "[encoded data removed]",
      "text/plain": [
       "<Figure size 640x480 with 1 Axes>"
      ]
     },
     "metadata": {},
     "output_type": "display_data"
    },
    {
     "data": {
      "image/png": "[encoded data removed]",
      "text/plain": [
       "<Figure size 640x480 with 1 Axes>"
      ]
     },
     "metadata": {},
     "output_type": "display_data"
    },
    {
     "name": "stdout",
     "output_type": "stream",
     "text": [
      "\n",
      "📝 Average words per review by sentiment:\n",
      "sentiment\n",
      "-1.0    223.492973\n",
      " 0.0    194.685690\n",
      " 1.0    177.657008\n",
      "Name: word_count, dtype: float64\n",
      "\n",
      "🔍 Example (Negative):\n",
      "Brand: general\n",
      "Review: Unfortunately, the frustration of being Dr. Goldberg's patient is a repeat of the experience I've had with so many other doctors in NYC -- good doctor, terrible staff.  It seems that his staff simply never answers the phone.  It usually takes 2 hours of repeated calling to get an answer.  Who has time for that or wants to deal with it?  I have run into this problem with many other doctors and I just don't get it.  You have office workers, you have patients with medical needs, why isn't anyone answering the phone?  It's incomprehensible and not work the aggravation.  It's with regret that I feel that I have to give Dr. Goldberg 2 stars.\n",
      "\n",
      "🔍 Example (Neutral):\n",
      "Brand: samsung\n",
      "Review: OK, what is with all of these \\\"CASH ONLY\\\" places in Pittsburgh? I can appreciate that some smaller businesses might have trouble installing a credit card system in their store/resturant, but could you perhaps provide an ATM?  In the past, this would deter me from eating at this place. \\n\\nLooking at a standard breakfast menu, I decided to go with a tuna melt instead. What I got was a cold tuna salad sandwich with a slice of cheese on toast. I had ordered a melt being in the mood for a warm meal, but to no avail. One day later I can't even remember what my side was. I suppose it didn't leave much of an impression on me.  I have to say that the dessert was really good! The cherry pecan pie! I have not seen this concoction anywhere else but this was awesome! The cherries were not the sweet canned variety, but a pie worthy tart topped with sugar. I think I want to make this pie with my parents next harvest of our cherry tree!\\n\\nMy first impression is \\\"Eh.\\\"  I am learning how crazy Pittsburghers are over breakfast! Seriously, waiting 30 minutes for a table at a tiny diner with a menu that reads as follows:  \\n\\n\\\"2 eggs and toast $x.xx\\\"\\n\\\"2 eggs, meat, and toast $x.xx\\\"\\n\\\"2 eggs and pancake $x.xx\\\"\\n\\nI'd rather go to a Denny's and order the \\\"create your own Grand Slam!\\\"\n",
      "\n",
      "🔍 Example (Positive):\n",
      "Brand: samsung\n",
      "Review: This place should have a lot more reviews - but I'm glad it doesn't, they don't need to get any busier.\\n\\nIts been there ages, and looks it. If you're all about ambiance, don't bother. If you pretend you're in a movie set in Pittsburgh 30 years ago it works pretty well. The service is sometimes hit or miss. Most of girls are good, one is very slow, one is amazing. They are all friendly and usually a few different people will check in to make sure that you're happy. Everything is made fresh so be prepared that nothing comes flying out of that kitchen - busy times it can take a good while to get food. \\n\\nThe food is AWESOME! Worth any little complaints I might think up before it gets there. Once its on the table, I forget them all.\\n\\n-Fish Sandwiich\\n-Salmon (huge and delicious)\\n-Flounder\\n-Shrimp a few ways (\\\"Norfolk\\\" style is oily for my taste, and I never had it growing up in Norfolk.)\\n-Hawkins St Special\\n-Prime Rib (sized for two, watch it)\\n\\nThe prices are low, the portions are large, and just about everything on the menu  is delicious. I'm not one to pick a place because they give you a lot of food, but if you like a good value and don't want to compromise on taste, this place is a gem.\n"
     ]
    }
   ],
   "source": [
    "import pandas as pd\n",
    "import matplotlib.pyplot as plt\n",
    "import seaborn as sns\n",
    "\n",
    "# Load your dataset\n",
    "df = pd.read_csv(\"apple_samsung_yelp_sentiment.csv\")\n",
    "\n",
    "# Word count per review\n",
    "df[\"word_count\"] = df[\"review_text\"].apply(lambda x: len(str(x).split()))\n",
    "\n",
    "# 1. Sentiment Distribution\n",
    "print(\"\\n🧭 Sentiment Class Distribution:\")\n",
    "print(df[\"sentiment\"].value_counts())\n",
    "\n",
    "sns.countplot(x=\"sentiment\", data=df)\n",
    "plt.title(\"Sentiment Distribution\")\n",
    "plt.xlabel(\"Sentiment (-1 = Negative, 0 = Neutral, 1 = Positive)\")\n",
    "plt.ylabel(\"Count\")\n",
    "plt.show()\n",
    "\n",
    "# 2. Brand Distribution\n",
    "print(\"\\n📌 Brand Distribution:\")\n",
    "print(df[\"brand\"].value_counts())\n",
    "\n",
    "sns.countplot(x=\"brand\", data=df)\n",
    "plt.title(\"Brand Distribution\")\n",
    "plt.xlabel(\"Brand Mentioned\")\n",
    "plt.ylabel(\"Count\")\n",
    "plt.show()\n",
    "\n",
    "# 3. Word count analysis\n",
    "sns.histplot(data=df, x=\"word_count\", bins=40, kde=True)\n",
    "plt.title(\"Word Count per Review\")\n",
    "plt.xlabel(\"Word Count\")\n",
    "plt.ylabel(\"Frequency\")\n",
    "plt.show()\n",
    "\n",
    "# 4. Word count by sentiment\n",
    "sns.boxplot(x=\"sentiment\", y=\"word_count\", data=df)\n",
    "plt.title(\"Review Length by Sentiment\")\n",
    "plt.xlabel(\"Sentiment\")\n",
    "plt.ylabel(\"Word Count\")\n",
    "plt.show()\n",
    "\n",
    "# 5. Average words per sentiment\n",
    "print(\"\\n📝 Average words per review by sentiment:\")\n",
    "print(df.groupby(\"sentiment\")[\"word_count\"].mean())\n",
    "\n",
    "# 6. Example reviews per sentiment class\n",
    "for sentiment in [-1, 0, 1]:\n",
    "    sample = df[df[\"sentiment\"] == sentiment].iloc[0]\n",
    "    print(f\"\\n🔍 Example ({'Negative' if sentiment == -1 else 'Neutral' if sentiment == 0 else 'Positive'}):\")\n",
    "    print(f\"Brand: {sample['brand']}\")\n",
    "    print(\"Review:\", sample['review_text'])\n"
   ]
  },
  {
   "cell_type": "code",
   "execution_count": null,
   "metadata": {
    "colab": {
     "base_uri": "https://localhost:8080/",
     "height": 382
    },
    "id": "RTX74KtIfADp",
    "outputId": "74ec6208-c276-4008-9ee8-de8f5dbf90f3"
   },
   "outputs": [
    {
     "ename": "ParserError",
     "evalue": "Expected 8 fields in line 3, saw 9",
     "output_type": "error",
     "traceback": [
      "\u001b[0;31m---------------------------------------------------------------------------\u001b[0m",
      "\u001b[0;31mParserError\u001b[0m                               Traceback (most recent call last)",
      "\u001b[0;32m<ipython-input-8-12e5cb004fd5>\u001b[0m in \u001b[0;36m<cell line: 0>\u001b[0;34m()\u001b[0m\n\u001b[1;32m      1\u001b[0m \u001b[0;32mimport\u001b[0m \u001b[0mcsv\u001b[0m\u001b[0;34m\u001b[0m\u001b[0;34m\u001b[0m\u001b[0m\n\u001b[0;32m----> 2\u001b[0;31m \u001b[0mdf\u001b[0m \u001b[0;34m=\u001b[0m \u001b[0mpd\u001b[0m\u001b[0;34m.\u001b[0m\u001b[0mread_csv\u001b[0m\u001b[0;34m(\u001b[0m\u001b[0;34m\"apple_samsung_yelp_sentiment.csv\"\u001b[0m\u001b[0;34m,\u001b[0m \u001b[0mquoting\u001b[0m\u001b[0;34m=\u001b[0m\u001b[0mcsv\u001b[0m\u001b[0;34m.\u001b[0m\u001b[0mQUOTE_NONE\u001b[0m\u001b[0;34m,\u001b[0m \u001b[0mengine\u001b[0m\u001b[0;34m=\u001b[0m\u001b[0;34m\"python\"\u001b[0m\u001b[0;34m)\u001b[0m\u001b[0;34m\u001b[0m\u001b[0;34m\u001b[0m\u001b[0m\n\u001b[0m",
      "\u001b[0;32m/usr/local/lib/python3.11/dist-packages/pandas/io/parsers/readers.py\u001b[0m in \u001b[0;36mread_csv\u001b[0;34m(filepath_or_buffer, sep, delimiter, header, names, index_col, usecols, dtype, engine, converters, true_values, false_values, skipinitialspace, skiprows, skipfooter, nrows, na_values, keep_default_na, na_filter, verbose, skip_blank_lines, parse_dates, infer_datetime_format, keep_date_col, date_parser, date_format, dayfirst, cache_dates, iterator, chunksize, compression, thousands, decimal, lineterminator, quotechar, quoting, doublequote, escapechar, comment, encoding, encoding_errors, dialect, on_bad_lines, delim_whitespace, low_memory, memory_map, float_precision, storage_options, dtype_backend)\u001b[0m\n\u001b[1;32m   1024\u001b[0m     \u001b[0mkwds\u001b[0m\u001b[0;34m.\u001b[0m\u001b[0mupdate\u001b[0m\u001b[0;34m(\u001b[0m\u001b[0mkwds_defaults\u001b[0m\u001b[0;34m)\u001b[0m\u001b[0;34m\u001b[0m\u001b[0;34m\u001b[0m\u001b[0m\n\u001b[1;32m   1025\u001b[0m \u001b[0;34m\u001b[0m\u001b[0m\n\u001b[0;32m-> 1026\u001b[0;31m     \u001b[0;32mreturn\u001b[0m \u001b[0m_read\u001b[0m\u001b[0;34m(\u001b[0m\u001b[0mfilepath_or_buffer\u001b[0m\u001b[0;34m,\u001b[0m \u001b[0mkwds\u001b[0m\u001b[0;34m)\u001b[0m\u001b[0;34m\u001b[0m\u001b[0;34m\u001b[0m\u001b[0m\n\u001b[0m\u001b[1;32m   1027\u001b[0m \u001b[0;34m\u001b[0m\u001b[0m\n\u001b[1;32m   1028\u001b[0m \u001b[0;34m\u001b[0m\u001b[0m\n",
      "\u001b[0;32m/usr/local/lib/python3.11/dist-packages/pandas/io/parsers/readers.py\u001b[0m in \u001b[0;36m_read\u001b[0;34m(filepath_or_buffer, kwds)\u001b[0m\n\u001b[1;32m    624\u001b[0m \u001b[0;34m\u001b[0m\u001b[0m\n\u001b[1;32m    625\u001b[0m     \u001b[0;32mwith\u001b[0m \u001b[0mparser\u001b[0m\u001b[0;34m:\u001b[0m\u001b[0;34m\u001b[0m\u001b[0;34m\u001b[0m\u001b[0m\n\u001b[0;32m--> 626\u001b[0;31m         \u001b[0;32mreturn\u001b[0m \u001b[0mparser\u001b[0m\u001b[0;34m.\u001b[0m\u001b[0mread\u001b[0m\u001b[0;34m(\u001b[0m\u001b[0mnrows\u001b[0m\u001b[0;34m)\u001b[0m\u001b[0;34m\u001b[0m\u001b[0;34m\u001b[0m\u001b[0m\n\u001b[0m\u001b[1;32m    627\u001b[0m \u001b[0;34m\u001b[0m\u001b[0m\n\u001b[1;32m    628\u001b[0m \u001b[0;34m\u001b[0m\u001b[0m\n",
      "\u001b[0;32m/usr/local/lib/python3.11/dist-packages/pandas/io/parsers/readers.py\u001b[0m in \u001b[0;36mread\u001b[0;34m(self, nrows)\u001b[0m\n\u001b[1;32m   1921\u001b[0m                     \u001b[0mcolumns\u001b[0m\u001b[0;34m,\u001b[0m\u001b[0;34m\u001b[0m\u001b[0;34m\u001b[0m\u001b[0m\n\u001b[1;32m   1922\u001b[0m                     \u001b[0mcol_dict\u001b[0m\u001b[0;34m,\u001b[0m\u001b[0;34m\u001b[0m\u001b[0;34m\u001b[0m\u001b[0m\n\u001b[0;32m-> 1923\u001b[0;31m                 \u001b[0;34m)\u001b[0m \u001b[0;34m=\u001b[0m \u001b[0mself\u001b[0m\u001b[0;34m.\u001b[0m\u001b[0m_engine\u001b[0m\u001b[0;34m.\u001b[0m\u001b[0mread\u001b[0m\u001b[0;34m(\u001b[0m  \u001b[0;31m# type: ignore[attr-defined]\u001b[0m\u001b[0;34m\u001b[0m\u001b[0;34m\u001b[0m\u001b[0m\n\u001b[0m\u001b[1;32m   1924\u001b[0m                     \u001b[0mnrows\u001b[0m\u001b[0;34m\u001b[0m\u001b[0;34m\u001b[0m\u001b[0m\n\u001b[1;32m   1925\u001b[0m                 )\n",
      "\u001b[0;32m/usr/local/lib/python3.11/dist-packages/pandas/io/parsers/python_parser.py\u001b[0m in \u001b[0;36mread\u001b[0;34m(self, rows)\u001b[0m\n\u001b[1;32m    286\u001b[0m             \u001b[0mcontent\u001b[0m \u001b[0;34m=\u001b[0m \u001b[0mcontent\u001b[0m\u001b[0;34m[\u001b[0m\u001b[0;36m1\u001b[0m\u001b[0;34m:\u001b[0m\u001b[0;34m]\u001b[0m\u001b[0;34m\u001b[0m\u001b[0;34m\u001b[0m\u001b[0m\n\u001b[1;32m    287\u001b[0m \u001b[0;34m\u001b[0m\u001b[0m\n\u001b[0;32m--> 288\u001b[0;31m         \u001b[0malldata\u001b[0m \u001b[0;34m=\u001b[0m \u001b[0mself\u001b[0m\u001b[0;34m.\u001b[0m\u001b[0m_rows_to_cols\u001b[0m\u001b[0;34m(\u001b[0m\u001b[0mcontent\u001b[0m\u001b[0;34m)\u001b[0m\u001b[0;34m\u001b[0m\u001b[0;34m\u001b[0m\u001b[0m\n\u001b[0m\u001b[1;32m    289\u001b[0m         \u001b[0mdata\u001b[0m\u001b[0;34m,\u001b[0m \u001b[0mcolumns\u001b[0m \u001b[0;34m=\u001b[0m \u001b[0mself\u001b[0m\u001b[0;34m.\u001b[0m\u001b[0m_exclude_implicit_index\u001b[0m\u001b[0;34m(\u001b[0m\u001b[0malldata\u001b[0m\u001b[0;34m)\u001b[0m\u001b[0;34m\u001b[0m\u001b[0;34m\u001b[0m\u001b[0m\n\u001b[1;32m    290\u001b[0m \u001b[0;34m\u001b[0m\u001b[0m\n",
      "\u001b[0;32m/usr/local/lib/python3.11/dist-packages/pandas/io/parsers/python_parser.py\u001b[0m in \u001b[0;36m_rows_to_cols\u001b[0;34m(self, content)\u001b[0m\n\u001b[1;32m   1061\u001b[0m                     \u001b[0mmsg\u001b[0m \u001b[0;34m+=\u001b[0m \u001b[0;34m\". \"\u001b[0m \u001b[0;34m+\u001b[0m \u001b[0mreason\u001b[0m\u001b[0;34m\u001b[0m\u001b[0;34m\u001b[0m\u001b[0m\n\u001b[1;32m   1062\u001b[0m \u001b[0;34m\u001b[0m\u001b[0m\n\u001b[0;32m-> 1063\u001b[0;31m                 \u001b[0mself\u001b[0m\u001b[0;34m.\u001b[0m\u001b[0m_alert_malformed\u001b[0m\u001b[0;34m(\u001b[0m\u001b[0mmsg\u001b[0m\u001b[0;34m,\u001b[0m \u001b[0mrow_num\u001b[0m \u001b[0;34m+\u001b[0m \u001b[0;36m1\u001b[0m\u001b[0;34m)\u001b[0m\u001b[0;34m\u001b[0m\u001b[0;34m\u001b[0m\u001b[0m\n\u001b[0m\u001b[1;32m   1064\u001b[0m \u001b[0;34m\u001b[0m\u001b[0m\n\u001b[1;32m   1065\u001b[0m         \u001b[0;31m# see gh-13320\u001b[0m\u001b[0;34m\u001b[0m\u001b[0;34m\u001b[0m\u001b[0m\n",
      "\u001b[0;32m/usr/local/lib/python3.11/dist-packages/pandas/io/parsers/python_parser.py\u001b[0m in \u001b[0;36m_alert_malformed\u001b[0;34m(self, msg, row_num)\u001b[0m\n\u001b[1;32m    779\u001b[0m         \"\"\"\n\u001b[1;32m    780\u001b[0m         \u001b[0;32mif\u001b[0m \u001b[0mself\u001b[0m\u001b[0;34m.\u001b[0m\u001b[0mon_bad_lines\u001b[0m \u001b[0;34m==\u001b[0m \u001b[0mself\u001b[0m\u001b[0;34m.\u001b[0m\u001b[0mBadLineHandleMethod\u001b[0m\u001b[0;34m.\u001b[0m\u001b[0mERROR\u001b[0m\u001b[0;34m:\u001b[0m\u001b[0;34m\u001b[0m\u001b[0;34m\u001b[0m\u001b[0m\n\u001b[0;32m--> 781\u001b[0;31m             \u001b[0;32mraise\u001b[0m \u001b[0mParserError\u001b[0m\u001b[0;34m(\u001b[0m\u001b[0mmsg\u001b[0m\u001b[0;34m)\u001b[0m\u001b[0;34m\u001b[0m\u001b[0;34m\u001b[0m\u001b[0m\n\u001b[0m\u001b[1;32m    782\u001b[0m         \u001b[0;32mif\u001b[0m \u001b[0mself\u001b[0m\u001b[0;34m.\u001b[0m\u001b[0mon_bad_lines\u001b[0m \u001b[0;34m==\u001b[0m \u001b[0mself\u001b[0m\u001b[0;34m.\u001b[0m\u001b[0mBadLineHandleMethod\u001b[0m\u001b[0;34m.\u001b[0m\u001b[0mWARN\u001b[0m\u001b[0;34m:\u001b[0m\u001b[0;34m\u001b[0m\u001b[0;34m\u001b[0m\u001b[0m\n\u001b[1;32m    783\u001b[0m             warnings.warn(\n",
      "\u001b[0;31mParserError\u001b[0m: Expected 8 fields in line 3, saw 9"
     ]
    }
   ],
   "source": [
    "import csv\n",
    "df = pd.read_csv(\"apple_samsung_yelp_sentiment.csv\", quoting=csv.QUOTE_NONE, engine=\"python\")\n"
   ]
  },
  {
   "cell_type": "code",
   "execution_count": null,
   "metadata": {
    "colab": {
     "base_uri": "https://localhost:8080/"
    },
    "id": "c6oSdRnMkAZm",
    "outputId": "e22efc95-8764-4a44-bd2d-91b35f192ba6"
   },
   "outputs": [
    {
     "name": "stdout",
     "output_type": "stream",
     "text": [
      "Index(['review_text', 'star_rating', 'brand', 'sentiment'], dtype='object')\n",
      "                                         review_text  star_rating    brand  \\\n",
      "0  Unfortunately, the frustration of being Dr. Go...            1  general   \n",
      "1  I don't know what Dr. Goldberg was like before...            0    apple   \n",
      "2  Owning a driving range inside the city limits ...            0    apple   \n",
      "\n",
      "   sentiment  \n",
      "0         -1  \n",
      "1         -1  \n",
      "2         -1  \n"
     ]
    }
   ],
   "source": [
    "import pandas as pd\n",
    "df = pd.read_csv(\"apple_samsung_yelp_sentiment.csv\", on_bad_lines='skip', engine=\"python\")\n",
    "print(df.columns)\n",
    "print(df.head(3))\n"
   ]
  },
  {
   "cell_type": "code",
   "execution_count": null,
   "metadata": {
    "colab": {
     "base_uri": "https://localhost:8080/"
    },
    "id": "q1zSL053kmlW",
    "outputId": "50275b86-d34b-4b7a-9584-26886cbd840f"
   },
   "outputs": [
    {
     "name": "stderr",
     "output_type": "stream",
     "text": [
      "[nltk_data] Downloading package stopwords to /root/nltk_data...\n",
      "[nltk_data]   Unzipping corpora/stopwords.zip.\n"
     ]
    }
   ],
   "source": [
    "import re\n",
    "import nltk\n",
    "from nltk.corpus import stopwords\n",
    "nltk.download('stopwords')\n",
    "\n",
    "stop_words = set(stopwords.words('english'))\n",
    "\n",
    "def clean_text(text):\n",
    "    text = str(text).lower()                             # lowercase\n",
    "    text = re.sub(r'[^a-z\\s]', ' ', text)                # remove non-letters\n",
    "    text = re.sub(r'\\s+', ' ', text).strip()             # remove extra whitespace\n",
    "    words = text.split()\n",
    "    words = [w for w in words if w not in stop_words]    # remove stop words\n",
    "    return \" \".join(words)\n",
    "\n",
    "df['cleaned_text'] = df['review_text'].apply(clean_text)\n"
   ]
  },
  {
   "cell_type": "code",
   "execution_count": null,
   "metadata": {
    "id": "gy0tR5Tmluji"
   },
   "outputs": [],
   "source": [
    "!pip install -q datasets\n"
   ]
  },
  {
   "cell_type": "code",
   "execution_count": null,
   "metadata": {
    "id": "I0cI6Mbwl_q_"
   },
   "outputs": [],
   "source": [
    "from transformers import DistilBertTokenizer, DistilBertForSequenceClassification\n",
    "from torch.optim import AdamW"
   ]
  },
  {
   "cell_type": "code",
   "execution_count": null,
   "metadata": {
    "colab": {
     "base_uri": "https://localhost:8080/",
     "height": 1000,
     "referenced_widgets": [
      "7d7b6b59f8884605acdd3c1189709dd3",
      "06f6b4b0657d444182045958a2af0932",
      "165995611b5d46ea962171c72c05f70d",
      "fe71a89815b642708c146ddb4f29cedb",
      "9af4bfc93062421a9d7ee53abda24eab",
      "223a6132591d46c7a064b51c7994ff2c",
      "477a132aeea04865b7bbe4200eb79de8",
      "1e717116caca4806903b6b37c5325946",
      "6d3ab53a0fe240c5bb3366596f71f915",
      "1ad29916cc1c40e8a0a422101ffa11eb",
      "18bead9436d0435793fc7ba13b1fa8fe",
      "5ca4685e5c1149ad916673290cc5dcd9",
      "1278358323db4b6f8658497e3da26179",
      "49c2cfbb2e6e4d6388dc493837f4abfd",
      "7370465403e44f23b541880984e3b485",
      "dd85d52012cb435abe4c5ca44367f920",
      "289660a670984924b64f0a143f13b471",
      "e00a0eac109b409fad5cd265e97f0b3f",
      "0856599ed77a48cba7b4e58e624e4a53",
      "581370ead3444d858c6fa58a40cae67f",
      "304853770c084cd3bb79464fbf09e090",
      "cc6b549f8c36441ba33fd231559a6719",
      "f3dc2a988709458dabee45223bccbc1f",
      "3a5eb3be374e45ff922ae186d03d39c3",
      "8abebd8be1e94433af72b5176409e343",
      "46f2278ccf2e48d88fb9de0f27aa008b",
      "88e4a69a0e5c453b818e30ba795982ba",
      "edff73966c68489f9d023c45bee6129b",
      "19b2908181444f49a47accfd76a609c8",
      "b2e0c70216ac4ee5807436c3d91f9d57",
      "698fee70d6d246e3990aaaa323099ada",
      "b89efc62b2a34c3f98a6abd97a2908d2",
      "6a8f38ab78d346a4b0ccf912984ad383",
      "c241265e66724e3087581de5ecab5614",
      "bc6c7074c67a4ca6be9c1188ab797b7d",
      "a982ed14fbb44fc5a5b8ae87da9342e3",
      "442668125c404fe48d0019020bc0fd7a",
      "29b3d9d0b72f431fac13f13759443fa8",
      "6590b8ba7972411cb16c9131d6655eb4",
      "4f53c0ca6250464cb6f34a10fa3ad81c",
      "89341ebd4b2b431bbf3caa9383a055c4",
      "6885647d56e84016acaaae7dc60d395b",
      "e2e85def41394355a8681e18f7c162e3",
      "666fb9116e214fd4a1eb948f2484ba94",
      "5f6381d5b68c44e995e7ff23c658d87c",
      "2a46ebe50bbf4c85b15e590816a1c790",
      "a8fd570f1d8340c79bad8675eb1791aa",
      "4ac22fe01f6745b2821795aa8560caf2",
      "67d9624588084866aea924801692a74e",
      "6980d3bb938a45bd980f810044817e65",
      "a223dd0b91d8436bb2296c5354ba910f",
      "d7699c61b053472bb451bb7220be53ac",
      "a0adee10401c43d59c4c6c3fe08cb756",
      "2305b04110e24bc6b4797f7f256cb8c5",
      "62b1b3ccee894924bcbb199f8034bd12",
      "dbda9ca7759345f595fb269001a124b6",
      "91970c650a7846cb96dc7dbfd83a2e87",
      "da9491c002914cffb793ca963a10f13c",
      "40fb6ffb3f4845ec86c61dc671b7c1af",
      "111189905d2c4db79cd1afb308820fd0",
      "a797d794478343908a8deb6b6b7e4bea",
      "f8cbe34d7299441d809451197ed38d24",
      "097ebe46ef7e4a439c4887fae4174171",
      "44071e102e01405ca716bf3bb1e0531d",
      "7d67c8b989fb4cc0a85ed8f0415667a8",
      "04d02fddf2734674a70215727ed5dba1",
      "e3757cce67f7469ca51135be5a7905cc",
      "ace5798f3cd0406bbe87a7fe2603cbd2",
      "a707626ce20343dd8ffd1d6a6ff4a4ad",
      "c0eae78faeaf442b9e70ac5c6498a243",
      "ff313bae66d640a895c45778664d2abc",
      "366318c5294640728ac9e372fc082c3c",
      "68346b02e6db458d8d0dd1ea931112bb",
      "5a2863e0f10e480db9dbc26c36973f14",
      "93a0582115724cc38f71c46931591172",
      "7ba1d7a9d62644fe862746b43da7a9e9",
      "fb413089c60a4a1d9c9aae95d03fe5bd",
      "5bb93787b4404b69b272dd324b3c9b65",
      "9aa3960b0b3c4ef98912c170f01e6100",
      "e470b5e325534ef08cdd9adf8c5db7c2",
      "192b22666bb94c8494d3eca1484cc6e7",
      "ad229e25b4954942a7954c591e972818",
      "d8e0552c66764b1d99788340ac20b2cb",
      "f8f2a20ba816415d9b0b083a30eb5a7c",
      "82082649029b42b59fa8bf667a1a606b",
      "97502f39c1864cbe8d611750f7b51826",
      "62f3a4f6f04b4d6a97b38457346b8e01",
      "d65eacb974cb44e9897bb9c900f2bc63"
     ]
    },
    "id": "qy1Yqknglfum",
    "outputId": "8f27233e-a353-4443-b3db-f059207bbfea"
   },
   "outputs": [
    {
     "metadata": {
      "tags": null
     },
     "name": "stderr",
     "output_type": "stream",
     "text": [
      "[nltk_data] Downloading package stopwords to /root/nltk_data...\n",
      "[nltk_data]   Package stopwords is already up-to-date!\n"
     ]
    },
    {
     "metadata": {
      "tags": null
     },
     "name": "stdout",
     "output_type": "stream",
     "text": [
      "Device: cuda\n"
     ]
    },
    {
     "data": {
      "application/vnd.jupyter.widget-view+json": {
       "model_id": "7d7b6b59f8884605acdd3c1189709dd3",
       "version_major": 2,
       "version_minor": 0
      },
      "text/plain": [
       "tokenizer_config.json:   0%|          | 0.00/48.0 [00:00<?, ?B/s]"
      ]
     },
     "metadata": {},
     "output_type": "display_data"
    },
    {
     "data": {
      "application/vnd.jupyter.widget-view+json": {
       "model_id": "5ca4685e5c1149ad916673290cc5dcd9",
       "version_major": 2,
       "version_minor": 0
      },
      "text/plain": [
       "vocab.txt:   0%|          | 0.00/232k [00:00<?, ?B/s]"
      ]
     },
     "metadata": {},
     "output_type": "display_data"
    },
    {
     "data": {
      "application/vnd.jupyter.widget-view+json": {
       "model_id": "f3dc2a988709458dabee45223bccbc1f",
       "version_major": 2,
       "version_minor": 0
      },
      "text/plain": [
       "tokenizer.json:   0%|          | 0.00/466k [00:00<?, ?B/s]"
      ]
     },
     "metadata": {},
     "output_type": "display_data"
    },
    {
     "data": {
      "application/vnd.jupyter.widget-view+json": {
       "model_id": "c241265e66724e3087581de5ecab5614",
       "version_major": 2,
       "version_minor": 0
      },
      "text/plain": [
       "config.json:   0%|          | 0.00/483 [00:00<?, ?B/s]"
      ]
     },
     "metadata": {},
     "output_type": "display_data"
    },
    {
     "data": {
      "application/vnd.jupyter.widget-view+json": {
       "model_id": "5f6381d5b68c44e995e7ff23c658d87c",
       "version_major": 2,
       "version_minor": 0
      },
      "text/plain": [
       "Map:   0%|          | 0/9042 [00:00<?, ? examples/s]"
      ]
     },
     "metadata": {},
     "output_type": "display_data"
    },
    {
     "data": {
      "application/vnd.jupyter.widget-view+json": {
       "model_id": "dbda9ca7759345f595fb269001a124b6",
       "version_major": 2,
       "version_minor": 0
      },
      "text/plain": [
       "Map:   0%|          | 0/1005 [00:00<?, ? examples/s]"
      ]
     },
     "metadata": {},
     "output_type": "display_data"
    },
    {
     "data": {
      "application/vnd.jupyter.widget-view+json": {
       "model_id": "e3757cce67f7469ca51135be5a7905cc",
       "version_major": 2,
       "version_minor": 0
      },
      "text/plain": [
       "Map:   0%|          | 0/2512 [00:00<?, ? examples/s]"
      ]
     },
     "metadata": {},
     "output_type": "display_data"
    },
    {
     "data": {
      "application/vnd.jupyter.widget-view+json": {
       "model_id": "5bb93787b4404b69b272dd324b3c9b65",
       "version_major": 2,
       "version_minor": 0
      },
      "text/plain": [
       "model.safetensors:   0%|          | 0.00/268M [00:00<?, ?B/s]"
      ]
     },
     "metadata": {},
     "output_type": "display_data"
    },
    {
     "metadata": {
      "tags": null
     },
     "name": "stderr",
     "output_type": "stream",
     "text": [
      "Some weights of DistilBertForSequenceClassification were not initialized from the model checkpoint at distilbert-base-uncased and are newly initialized: ['classifier.bias', 'classifier.weight', 'pre_classifier.bias', 'pre_classifier.weight']\n",
      "You should probably TRAIN this model on a down-stream task to be able to use it for predictions and inference.\n"
     ]
    },
    {
     "metadata": {
      "tags": null
     },
     "name": "stdout",
     "output_type": "stream",
     "text": [
      "\n",
      "Epoch 1\n"
     ]
    },
    {
     "metadata": {
      "tags": null
     },
     "name": "stderr",
     "output_type": "stream",
     "text": [
      "100%|██████████| 566/566 [01:46<00:00,  5.33it/s, loss=0.476]\n"
     ]
    },
    {
     "metadata": {
      "tags": null
     },
     "name": "stdout",
     "output_type": "stream",
     "text": [
      "\n",
      "Epoch 2\n"
     ]
    },
    {
     "name": "stderr",
     "output_type": "stream",
     "text": [
      "100%|██████████| 566/566 [01:44<00:00,  5.40it/s, loss=1.3]\n"
     ]
    },
    {
     "name": "stdout",
     "output_type": "stream",
     "text": [
      "\n",
      "Epoch 3\n"
     ]
    },
    {
     "name": "stderr",
     "output_type": "stream",
     "text": [
      "100%|██████████| 566/566 [01:44<00:00,  5.41it/s, loss=0.806]\n"
     ]
    },
    {
     "name": "stdout",
     "output_type": "stream",
     "text": [
      "\n",
      "Epoch 4\n"
     ]
    },
    {
     "name": "stderr",
     "output_type": "stream",
     "text": [
      "100%|██████████| 566/566 [01:44<00:00,  5.41it/s, loss=0.114]\n"
     ]
    },
    {
     "name": "stdout",
     "output_type": "stream",
     "text": [
      "\n",
      "Epoch 5\n"
     ]
    },
    {
     "name": "stderr",
     "output_type": "stream",
     "text": [
      "100%|██████████| 566/566 [01:44<00:00,  5.40it/s, loss=0.366]\n"
     ]
    },
    {
     "name": "stdout",
     "output_type": "stream",
     "text": [
      "\n",
      "Epoch 6\n"
     ]
    },
    {
     "name": "stderr",
     "output_type": "stream",
     "text": [
      "100%|██████████| 566/566 [01:45<00:00,  5.39it/s, loss=0.00595]\n"
     ]
    },
    {
     "name": "stdout",
     "output_type": "stream",
     "text": [
      "\n",
      "Epoch 7\n"
     ]
    },
    {
     "name": "stderr",
     "output_type": "stream",
     "text": [
      "100%|██████████| 566/566 [01:45<00:00,  5.38it/s, loss=0.00203]\n"
     ]
    },
    {
     "name": "stdout",
     "output_type": "stream",
     "text": [
      "\n",
      "Epoch 8\n"
     ]
    },
    {
     "name": "stderr",
     "output_type": "stream",
     "text": [
      "100%|██████████| 566/566 [01:44<00:00,  5.40it/s, loss=0.00119]\n"
     ]
    },
    {
     "name": "stdout",
     "output_type": "stream",
     "text": [
      "\n",
      "Epoch 9\n"
     ]
    },
    {
     "name": "stderr",
     "output_type": "stream",
     "text": [
      "100%|██████████| 566/566 [01:44<00:00,  5.40it/s, loss=0.00708]\n"
     ]
    },
    {
     "name": "stdout",
     "output_type": "stream",
     "text": [
      "\n",
      "Epoch 10\n"
     ]
    },
    {
     "name": "stderr",
     "output_type": "stream",
     "text": [
      "100%|██████████| 566/566 [01:44<00:00,  5.39it/s, loss=0.00171]\n"
     ]
    },
    {
     "name": "stdout",
     "output_type": "stream",
     "text": [
      "\n",
      "Epoch 11\n"
     ]
    },
    {
     "name": "stderr",
     "output_type": "stream",
     "text": [
      "100%|██████████| 566/566 [01:44<00:00,  5.39it/s, loss=0.000846]\n"
     ]
    },
    {
     "name": "stdout",
     "output_type": "stream",
     "text": [
      "\n",
      "Epoch 12\n"
     ]
    },
    {
     "name": "stderr",
     "output_type": "stream",
     "text": [
      "100%|██████████| 566/566 [01:44<00:00,  5.41it/s, loss=0.000412]\n"
     ]
    },
    {
     "name": "stdout",
     "output_type": "stream",
     "text": [
      "\n",
      "Validation: {'accuracy': 0.7174129353233831, 'precision': 0.7183719843934986, 'recall': 0.7174129353233831, 'f1': 0.7176456397091261}\n",
      "Test: {'accuracy': 0.7153662420382165, 'precision': 0.730757283903042, 'recall': 0.7153662420382165, 'f1': 0.7209264839608907}\n"
     ]
    }
   ],
   "source": [
    "# 📦 All-in-One Cell: DistilBERT Fine-Tuning on Apple/Samsung Yelp Sentiment Dataset\n",
    "\n",
    "import pandas as pd, re, nltk, torch\n",
    "from datasets import Dataset\n",
    "# from transformers import DistilBertTokenizer, DistilBertForSequenceClassification, AdamW\n",
    "from torch.utils.data import DataLoader\n",
    "from sklearn.model_selection import train_test_split\n",
    "from sklearn.metrics import accuracy_score, precision_recall_fscore_support\n",
    "from tqdm import tqdm\n",
    "\n",
    "nltk.download('stopwords')\n",
    "from nltk.corpus import stopwords\n",
    "\n",
    "# ⚙️ Device config\n",
    "device = torch.device(\"cuda\" if torch.cuda.is_available() else \"cpu\")\n",
    "print(\"Device:\", device)\n",
    "\n",
    "# 🚀 Load and clean dataset\n",
    "df = pd.read_csv(\"/content/apple_samsung_yelp_sentiment.csv\")  # <-- adjust path if needed\n",
    "df = df.rename(columns={\"review_text\": \"text\", \"sentiment\": \"label\"})\n",
    "\n",
    "stop_words = set(stopwords.words(\"english\"))\n",
    "def clean_text(text):\n",
    "    text = str(text).lower()\n",
    "    text = re.sub(r\"[^a-z\\s]\", \" \", text)\n",
    "    text = re.sub(r\"\\s+\", \" \", text).strip()\n",
    "    return \" \".join([w for w in text.split() if w not in stop_words])\n",
    "\n",
    "df[\"cleaned\"] = df[\"text\"].apply(clean_text)\n",
    "df[\"label\"] = df[\"label\"].map({-1: 0, 0: 1, 1: 2})\n",
    "\n",
    "# ✂️ Split\n",
    "train_df, test_df = train_test_split(df, test_size=0.2, random_state=42, stratify=df[\"label\"])\n",
    "train_df, val_df = train_test_split(train_df, test_size=0.1, random_state=42, stratify=train_df[\"label\"])\n",
    "\n",
    "# 🤗 Hugging Face Dataset\n",
    "def to_dataset(d): return Dataset.from_pandas(d[[\"cleaned\", \"label\"]], preserve_index=False)\n",
    "train_ds, val_ds, test_ds = map(to_dataset, [train_df, val_df, test_df])\n",
    "\n",
    "tokenizer = DistilBertTokenizer.from_pretrained(\"distilbert-base-uncased\")\n",
    "def tokenize_fn(ex): return tokenizer(ex[\"cleaned\"], padding=\"max_length\", truncation=True, max_length=128)\n",
    "train_ds = train_ds.map(tokenize_fn, batched=True).rename_column(\"label\", \"labels\").remove_columns([\"cleaned\"]).with_format(\"torch\")\n",
    "val_ds   = val_ds.map(tokenize_fn, batched=True).rename_column(\"label\", \"labels\").remove_columns([\"cleaned\"]).with_format(\"torch\")\n",
    "test_ds  = test_ds.map(tokenize_fn, batched=True).rename_column(\"label\", \"labels\").remove_columns([\"cleaned\"]).with_format(\"torch\")\n",
    "\n",
    "# 🔧 Model & DataLoader\n",
    "model = DistilBertForSequenceClassification.from_pretrained(\"distilbert-base-uncased\", num_labels=3).to(device)\n",
    "train_loader = DataLoader(train_ds, batch_size=16, shuffle=True)\n",
    "val_loader   = DataLoader(val_ds, batch_size=16)\n",
    "test_loader  = DataLoader(test_ds, batch_size=16)\n",
    "optimizer = AdamW(model.parameters(), lr=2e-5)\n",
    "\n",
    "# 🎯 Train loop\n",
    "for epoch in range(12):\n",
    "    print(f\"\\nEpoch {epoch+1}\")\n",
    "    model.train()\n",
    "    loop = tqdm(train_loader)\n",
    "    for batch in loop:\n",
    "        batch = {k: v.to(device) for k, v in batch.items()}\n",
    "        out = model(**batch)\n",
    "        out.loss.backward()\n",
    "        torch.nn.utils.clip_grad_norm_(model.parameters(), 1.0)\n",
    "        optimizer.step()\n",
    "        optimizer.zero_grad()\n",
    "        loop.set_postfix(loss=out.loss.item())\n",
    "\n",
    "# 📊 Eval function\n",
    "def evaluate(loader):\n",
    "    model.eval()\n",
    "    preds, labels = [], []\n",
    "    with torch.no_grad():\n",
    "        for b in loader:\n",
    "            b = {k: v.to(device) for k, v in b.items()}\n",
    "            o = model(**b)\n",
    "            pred = torch.argmax(o.logits, dim=-1)\n",
    "            preds += pred.cpu().tolist()\n",
    "            labels += b[\"labels\"].cpu().tolist()\n",
    "    p, r, f, _ = precision_recall_fscore_support(labels, preds, average=\"weighted\")\n",
    "    acc = accuracy_score(labels, preds)\n",
    "    return {\"accuracy\": acc, \"precision\": p, \"recall\": r, \"f1\": f}\n",
    "\n",
    "# ✅ Run evaluation\n",
    "print(\"\\nValidation:\", evaluate(val_loader))\n",
    "print(\"Test:\", evaluate(test_loader))\n"
   ]
  },
  {
   "cell_type": "code",
   "execution_count": null,
   "metadata": {
    "id": "cUThJdcAcpjW"
   },
   "outputs": [],
   "source": []
  },
  {
   "cell_type": "code",
   "execution_count": null,
   "metadata": {
    "id": "PmM7rdPFr3y_"
   },
   "outputs": [],
   "source": []
  },
  {
   "cell_type": "code",
   "execution_count": null,
   "metadata": {
    "colab": {
     "base_uri": "https://localhost:8080/",
     "height": 771,
     "referenced_widgets": [
      "e72a2b98becb48cebecb599a0982c227",
      "7f7b971df5374e22bb102c9e3790531c",
      "b3a8545c10ac4ce79bb61a7dc62827fa",
      "2c43b86391c546dea41b9ba2402c55db",
      "c293aec33de74d1d87bcd0806846ebab",
      "7c17e1b82fb14cbba568e888085c3f12",
      "c8126573bfca4c9f983fcca0a1a9bf0a",
      "fda9d49a39b44225af02a82c5b038d42",
      "f1f5927d9a804030b4931aed98a585e0",
      "e55e7e25d7744507856f15da85d40d3d",
      "94e840ac8c5942ddad90d630344dba89",
      "b15a65524bb8488a8fb58d16401ec13b",
      "97c80e9d10b2476d9f8d06e4d9a2bdc2",
      "f653bb9ab25d4de1aa056cae5f929c4c",
      "8937800f530147ce92c6441dc1b8d770",
      "97e065738d9b4aa0838b63f912dd0a3e",
      "a25c19f7c1ef4758b50fa9964ac3c5ed",
      "a3729af5453346fe9f8c397af5cef5bb",
      "530d175585624ac195777a91882484b7",
      "3b98e674b5aa4605839609d3b1f51dfa",
      "8927ba863863471aa586238ad56a6279",
      "ece0e92b1616430d8f19e2d8996980c1",
      "2db74a107d74411e951e33da7cadf7a1",
      "e913af1e196c4821b063331d5f62c729",
      "8b1e8fa04679457fa2c1ae904e4a07e0",
      "60f5671cfa90491da2302339f2f7f83c",
      "9b962e75e01f4ce7bd81955eff9202d3",
      "38745939b31e4acfbcd150c8235ebfc8",
      "98e63e121e37493dbaa22c086810d769",
      "a55389ea2f7b410dac3ca378908ed05f",
      "7450f93748e94a3a8545b29ecaedecb7",
      "6d558d740ff24252a46e3876b7720439",
      "b2bfd186b185490e889efcdcdca9e657",
      "36aa1d4c27e8435b97f46e567a3bbc70",
      "e54486f474924792a7e5fa76510b6184",
      "5c2db23742984e4681f936873c65d476",
      "e867478b3252482baab06d103a99c60f",
      "54d31f7b5bdd422aa10996b34da6eeaf",
      "30af178e73b3425787aa0f73fe9fdd99",
      "fdcb959f13374e07a741f4c51c50865b",
      "d297220bf2d349ada2377bb7e230e2f0",
      "269daa11220640df9b6a31d23d5d3247",
      "c3f31bc2029b4d90bf6d9b13afb09396",
      "6ea4529046d44d13a11cb70c368d48a9",
      "76ccbf2ce6ac4af7acf5038809e626bc",
      "4bd64c2ad20e4b76a66c3e8afd148371",
      "59e2e5b952d343539a4156cc3766f6e8",
      "4c3e6517f16940c1bf53cfed14b82403",
      "3ba57ab09e944534a02f5a7f8bbe7810",
      "ffdc987d2a234a04b52406cb378452f4",
      "a4e0b695664b460ea04b0c7c0d0be0fe",
      "6c2aeebb67594c5fa3cdb8fad6ebb2ab",
      "40eafbcf05b1485892e54450235d9466",
      "f1c9b839de0e421cacf2dbcb84be9e11",
      "d56631b2490f43ccb3dc723dfe181bcf",
      "311971685ce2414bb887c3d987f0963c",
      "66faf108f9844df28a97042a126c7f70",
      "edef6657946f46ffb4d62ca20c01597e",
      "80e550a69b25412baf8e8828bcf06244",
      "c422842e8e50467b921c3c381ffd373a",
      "898dede343e6421796e22049caca3d4d",
      "68636c5714254c39b7f5cab187c94681",
      "a38112d824a7402ca5e03c4db91cc6dc",
      "fb85dd93230e402bbad66e566a01136c",
      "32afd710744b4a54916336a9930af221",
      "ca97182fd8544e77b2440ff5bc1df7cf",
      "9bc3206d23cf489881d9347ab9d60c5d",
      "51a8028931f34ce19ee35f20c364a0a3",
      "6fc13627a21644f6aca36f69fa6097c8",
      "d2e4a016e79e4630ac169f6b862d7aec",
      "751dcb17f35d4296a2ade0479eecf258",
      "1af2abdcd40340298070133512bb457e",
      "0a28c907a03a459088d32d5470eef99e",
      "6400f99af81d4debbb83e6a7927d0f41",
      "d01e56a9972e4ba3a68176f85c4057e7",
      "566ba0331ac044099812354a9cbb7d8f",
      "84741b97a54d4cc7801c5d43768d11c7",
      "124f1b856bc64f50ad33d7c9ddfa8c72",
      "2180db4fb24e4e9581fc0120188ef824",
      "527d435f069445afb88d32227d98e60a",
      "1214a83b9f2547aa9333973015db3d11",
      "dadc3d0239564d0bb236028dab7853d0",
      "634c5c3ce50041a5a25f337c6a76fa6f",
      "380716bd80224c509b299e69208d13af",
      "a5872699019447349ba918178ff963d3",
      "53f6038148a741db909d870a0ca31418",
      "583ce4be2f5f4a26aabb92b683bbca37",
      "b4575f46a9da42f4ae34f6a651be8c44",
      "7e60c896253044bf9a69b6f15775b5ee",
      "89eb8936fbfb4754912a192c049ce194",
      "bb9917cc56184af08967df535c7c92f1",
      "90ada312cad24af489d69ff7ff0d580b",
      "a63afcb01c8b4f61aac16facc4a8f1a5",
      "359743b316dc4d57a539b76769ecbe60",
      "fd22d305216e432b8d4f51fde7d94478",
      "c7ed45bb76534dcebf0b1c5415a7b948",
      "9832a2d79a4440a689531cf72a5241ca",
      "0e8759182f154d0e81a6b2a742b785a6",
      "9aab3be366e14f61beb37a662c2680a7"
     ]
    },
    "id": "7To3Z52qn0_S",
    "outputId": "f3cb335c-8d33-497b-9060-f8ff311a24d4"
   },
   "outputs": [
    {
     "metadata": {
      "tags": null
     },
     "name": "stderr",
     "output_type": "stream",
     "text": [
      "[nltk_data] Downloading package stopwords to /root/nltk_data...\n",
      "[nltk_data]   Package stopwords is already up-to-date!\n"
     ]
    },
    {
     "metadata": {
      "tags": null
     },
     "name": "stdout",
     "output_type": "stream",
     "text": [
      "env: CUDA_LAUNCH_BLOCKING=1\n",
      "CUDA available: True\n",
      "Device name: Tesla T4\n"
     ]
    },
    {
     "data": {
      "application/vnd.jupyter.widget-view+json": {
       "model_id": "e72a2b98becb48cebecb599a0982c227",
       "version_major": 2,
       "version_minor": 0
      },
      "text/plain": [
       "tokenizer_config.json:   0%|          | 0.00/25.0 [00:00<?, ?B/s]"
      ]
     },
     "metadata": {},
     "output_type": "display_data"
    },
    {
     "data": {
      "application/vnd.jupyter.widget-view+json": {
       "model_id": "b15a65524bb8488a8fb58d16401ec13b",
       "version_major": 2,
       "version_minor": 0
      },
      "text/plain": [
       "vocab.json:   0%|          | 0.00/899k [00:00<?, ?B/s]"
      ]
     },
     "metadata": {},
     "output_type": "display_data"
    },
    {
     "data": {
      "application/vnd.jupyter.widget-view+json": {
       "model_id": "2db74a107d74411e951e33da7cadf7a1",
       "version_major": 2,
       "version_minor": 0
      },
      "text/plain": [
       "merges.txt:   0%|          | 0.00/456k [00:00<?, ?B/s]"
      ]
     },
     "metadata": {},
     "output_type": "display_data"
    },
    {
     "data": {
      "application/vnd.jupyter.widget-view+json": {
       "model_id": "36aa1d4c27e8435b97f46e567a3bbc70",
       "version_major": 2,
       "version_minor": 0
      },
      "text/plain": [
       "tokenizer.json:   0%|          | 0.00/1.36M [00:00<?, ?B/s]"
      ]
     },
     "metadata": {},
     "output_type": "display_data"
    },
    {
     "data": {
      "application/vnd.jupyter.widget-view+json": {
       "model_id": "76ccbf2ce6ac4af7acf5038809e626bc",
       "version_major": 2,
       "version_minor": 0
      },
      "text/plain": [
       "config.json:   0%|          | 0.00/481 [00:00<?, ?B/s]"
      ]
     },
     "metadata": {},
     "output_type": "display_data"
    },
    {
     "data": {
      "application/vnd.jupyter.widget-view+json": {
       "model_id": "311971685ce2414bb887c3d987f0963c",
       "version_major": 2,
       "version_minor": 0
      },
      "text/plain": [
       "Map:   0%|          | 0/9042 [00:00<?, ? examples/s]"
      ]
     },
     "metadata": {},
     "output_type": "display_data"
    },
    {
     "data": {
      "application/vnd.jupyter.widget-view+json": {
       "model_id": "9bc3206d23cf489881d9347ab9d60c5d",
       "version_major": 2,
       "version_minor": 0
      },
      "text/plain": [
       "Map:   0%|          | 0/1005 [00:00<?, ? examples/s]"
      ]
     },
     "metadata": {},
     "output_type": "display_data"
    },
    {
     "data": {
      "application/vnd.jupyter.widget-view+json": {
       "model_id": "124f1b856bc64f50ad33d7c9ddfa8c72",
       "version_major": 2,
       "version_minor": 0
      },
      "text/plain": [
       "Map:   0%|          | 0/2512 [00:00<?, ? examples/s]"
      ]
     },
     "metadata": {},
     "output_type": "display_data"
    },
    {
     "data": {
      "application/vnd.jupyter.widget-view+json": {
       "model_id": "7e60c896253044bf9a69b6f15775b5ee",
       "version_major": 2,
       "version_minor": 0
      },
      "text/plain": [
       "model.safetensors:   0%|          | 0.00/499M [00:00<?, ?B/s]"
      ]
     },
     "metadata": {},
     "output_type": "display_data"
    },
    {
     "metadata": {
      "tags": null
     },
     "name": "stderr",
     "output_type": "stream",
     "text": [
      "Some weights of RobertaForSequenceClassification were not initialized from the model checkpoint at roberta-base and are newly initialized: ['classifier.dense.bias', 'classifier.dense.weight', 'classifier.out_proj.bias', 'classifier.out_proj.weight']\n",
      "You should probably TRAIN this model on a down-stream task to be able to use it for predictions and inference.\n"
     ]
    },
    {
     "metadata": {
      "tags": null
     },
     "name": "stdout",
     "output_type": "stream",
     "text": [
      "Epoch 1\n"
     ]
    },
    {
     "metadata": {
      "tags": null
     },
     "name": "stderr",
     "output_type": "stream",
     "text": [
      "Epoch 0: 100%|██████████| 566/566 [03:32<00:00,  2.66it/s, loss=0.0971]\n"
     ]
    },
    {
     "metadata": {
      "tags": null
     },
     "name": "stdout",
     "output_type": "stream",
     "text": [
      "Epoch 2\n"
     ]
    },
    {
     "metadata": {
      "tags": null
     },
     "name": "stderr",
     "output_type": "stream",
     "text": [
      "Epoch 1: 100%|██████████| 566/566 [03:31<00:00,  2.68it/s, loss=1.31]\n"
     ]
    },
    {
     "metadata": {
      "tags": null
     },
     "name": "stdout",
     "output_type": "stream",
     "text": [
      "Epoch 3\n"
     ]
    },
    {
     "metadata": {
      "tags": null
     },
     "name": "stderr",
     "output_type": "stream",
     "text": [
      "Epoch 2: 100%|██████████| 566/566 [03:31<00:00,  2.67it/s, loss=0.00978]\n"
     ]
    },
    {
     "metadata": {
      "tags": null
     },
     "name": "stdout",
     "output_type": "stream",
     "text": [
      "Epoch 4\n"
     ]
    },
    {
     "metadata": {
      "tags": null
     },
     "name": "stderr",
     "output_type": "stream",
     "text": [
      "Epoch 3: 100%|██████████| 566/566 [03:31<00:00,  2.67it/s, loss=0.0414]\n"
     ]
    },
    {
     "metadata": {
      "tags": null
     },
     "name": "stdout",
     "output_type": "stream",
     "text": [
      "Epoch 5\n"
     ]
    },
    {
     "metadata": {
      "tags": null
     },
     "name": "stderr",
     "output_type": "stream",
     "text": [
      "Epoch 4: 100%|██████████| 566/566 [03:31<00:00,  2.67it/s, loss=0.224]\n"
     ]
    },
    {
     "metadata": {
      "tags": null
     },
     "name": "stdout",
     "output_type": "stream",
     "text": [
      "Epoch 6\n"
     ]
    },
    {
     "metadata": {
      "tags": null
     },
     "name": "stderr",
     "output_type": "stream",
     "text": [
      "Epoch 5: 100%|██████████| 566/566 [03:31<00:00,  2.68it/s, loss=0.00778]\n"
     ]
    },
    {
     "metadata": {
      "tags": null
     },
     "name": "stdout",
     "output_type": "stream",
     "text": [
      "Epoch 7\n"
     ]
    },
    {
     "metadata": {
      "tags": null
     },
     "name": "stderr",
     "output_type": "stream",
     "text": [
      "Epoch 6: 100%|██████████| 566/566 [03:31<00:00,  2.68it/s, loss=2.85]\n"
     ]
    },
    {
     "metadata": {
      "tags": null
     },
     "name": "stdout",
     "output_type": "stream",
     "text": [
      "Epoch 8\n"
     ]
    },
    {
     "name": "stderr",
     "output_type": "stream",
     "text": [
      "Epoch 7: 100%|██████████| 566/566 [03:31<00:00,  2.67it/s, loss=0.00716]\n"
     ]
    },
    {
     "name": "stdout",
     "output_type": "stream",
     "text": [
      "Validation Results: {'accuracy': 0.727363184079602, 'precision': 0.738492953594758, 'recall': 0.727363184079602, 'f1': 0.7314656760123917}\n",
      "Test Results: {'accuracy': 0.7503980891719745, 'precision': 0.765173001059298, 'recall': 0.7503980891719745, 'f1': 0.756605194764293}\n"
     ]
    }
   ],
   "source": [
    "# RoBERTa Fine-Tuning: Apple/Samsung Yelp Dataset\n",
    "\n",
    "import pandas as pd\n",
    "from datasets import Dataset\n",
    "from transformers import RobertaTokenizer, RobertaForSequenceClassification\n",
    "from torch.optim import AdamW\n",
    "from torch.utils.data import DataLoader\n",
    "from tqdm import tqdm\n",
    "import torch\n",
    "from sklearn.metrics import accuracy_score, precision_recall_fscore_support\n",
    "from sklearn.model_selection import train_test_split\n",
    "import re\n",
    "import nltk\n",
    "nltk.download(\"stopwords\")\n",
    "from nltk.corpus import stopwords\n",
    "\n",
    "# Debugging Mode\n",
    "%env CUDA_LAUNCH_BLOCKING=1\n",
    "\n",
    "# CUDA Check\n",
    "print(\"CUDA available:\", torch.cuda.is_available())\n",
    "if torch.cuda.is_available():\n",
    "    print(\"Device name:\", torch.cuda.get_device_name(0))\n",
    "else:\n",
    "    print(\"Using CPU\")\n",
    "\n",
    "# Load Yelp Dataset\n",
    "df = pd.read_csv(\"/content/apple_samsung_yelp_sentiment.csv\")\n",
    "df = df.rename(columns={\"review_text\": \"text\", \"sentiment\": \"label\"})\n",
    "\n",
    "# Clean text\n",
    "stop_words = set(stopwords.words(\"english\"))\n",
    "def clean_text(text):\n",
    "    text = str(text).lower()\n",
    "    text = re.sub(r\"[^a-z\\s]\", \" \", text)\n",
    "    text = re.sub(r\"\\s+\", \" \", text).strip()\n",
    "    return \" \".join([w for w in text.split() if w not in stop_words])\n",
    "\n",
    "df[\"cleaned\"] = df[\"text\"].apply(clean_text)\n",
    "df[\"label\"] = df[\"label\"].map({-1: 0, 0: 1, 1: 2})\n",
    "\n",
    "# Split into train/val/test\n",
    "train_data, test_data = train_test_split(df, test_size=0.2, stratify=df[\"label\"], random_state=42)\n",
    "train_data, val_data = train_test_split(train_data, test_size=0.1, stratify=train_data[\"label\"], random_state=42)\n",
    "\n",
    "# Convert to Hugging Face datasets\n",
    "def prepare_hf_dataset(data):\n",
    "    return Dataset.from_pandas(data[[\"cleaned\", \"label\"]], preserve_index=False)\n",
    "\n",
    "train_dataset = prepare_hf_dataset(train_data)\n",
    "val_dataset = prepare_hf_dataset(val_data)\n",
    "test_dataset = prepare_hf_dataset(test_data)\n",
    "\n",
    "# Tokenizer and tokenization\n",
    "tokenizer = RobertaTokenizer.from_pretrained(\"roberta-base\")\n",
    "\n",
    "def tokenize_function(example):\n",
    "    return tokenizer(example[\"cleaned\"], padding=\"max_length\", truncation=True, max_length=128)\n",
    "\n",
    "train_dataset = train_dataset.map(tokenize_function, batched=True)\n",
    "val_dataset = val_dataset.map(tokenize_function, batched=True)\n",
    "test_dataset = test_dataset.map(tokenize_function, batched=True)\n",
    "\n",
    "# Prepare for PyTorch\n",
    "train_dataset = train_dataset.rename_column(\"label\", \"labels\").remove_columns([\"cleaned\"]).with_format(\"torch\")\n",
    "val_dataset = val_dataset.rename_column(\"label\", \"labels\").remove_columns([\"cleaned\"]).with_format(\"torch\")\n",
    "test_dataset = test_dataset.rename_column(\"label\", \"labels\").remove_columns([\"cleaned\"]).with_format(\"torch\")\n",
    "\n",
    "# Initialize model\n",
    "device = torch.device(\"cuda\" if torch.cuda.is_available() else \"cpu\")\n",
    "model = RobertaForSequenceClassification.from_pretrained(\"roberta-base\", num_labels=3).to(device)\n",
    "\n",
    "# Dataloaders\n",
    "batch_size = 16\n",
    "train_loader = DataLoader(train_dataset, batch_size=batch_size, shuffle=True)\n",
    "val_loader = DataLoader(val_dataset, batch_size=batch_size)\n",
    "test_loader = DataLoader(test_dataset, batch_size=batch_size)\n",
    "\n",
    "# Optimizer\n",
    "optimizer = AdamW(model.parameters(), lr=2e-5)\n",
    "\n",
    "# Training Loop\n",
    "num_epochs = 8\n",
    "model.train()\n",
    "\n",
    "for epoch in range(num_epochs):\n",
    "    print(f\"Epoch {epoch + 1}\")\n",
    "    loop = tqdm(train_loader, leave=True)\n",
    "    for batch in loop:\n",
    "        batch = {k: v.to(device) for k, v in batch.items()}\n",
    "        outputs = model(**batch)\n",
    "        loss = outputs.loss\n",
    "        loss.backward()\n",
    "        torch.nn.utils.clip_grad_norm_(model.parameters(), max_norm=1.0)\n",
    "        optimizer.step()\n",
    "        optimizer.zero_grad()\n",
    "        loop.set_description(f\"Epoch {epoch}\")\n",
    "        loop.set_postfix(loss=loss.item())\n",
    "\n",
    "# Evaluation\n",
    "model.eval()\n",
    "\n",
    "def evaluate(loader):\n",
    "    all_labels = []\n",
    "    all_preds = []\n",
    "    with torch.no_grad():\n",
    "        for batch in loader:\n",
    "            batch = {k: v.to(device) for k, v in batch.items()}\n",
    "            outputs = model(**batch)\n",
    "            preds = torch.argmax(outputs.logits, dim=-1)\n",
    "            all_labels.extend(batch[\"labels\"].cpu().numpy())\n",
    "            all_preds.extend(preds.cpu().numpy())\n",
    "    precision, recall, f1, _ = precision_recall_fscore_support(all_labels, all_preds, average=\"weighted\")\n",
    "    accuracy = accuracy_score(all_labels, all_preds)\n",
    "    return {\"accuracy\": accuracy, \"precision\": precision, \"recall\": recall, \"f1\": f1}\n",
    "\n",
    "val_results = evaluate(val_loader)\n",
    "test_results = evaluate(test_loader)\n",
    "\n",
    "print(\"Validation Results:\", val_results)\n",
    "print(\"Test Results:\", test_results)\n"
   ]
  },
  {
   "cell_type": "code",
   "execution_count": null,
   "metadata": {
    "colab": {
     "base_uri": "https://localhost:8080/",
     "height": 771,
     "referenced_widgets": [
      "31a0a274088546e59cd0a34dd302e8b5",
      "9e3d6f3e58b2488a938ecec6cbce75f4",
      "8d7f3b90be434bd8ba1152df9c813f16",
      "c7cf71f3de604e2fa8c7ae8b147bf212",
      "b54724cb8dcb44d6b7d1016bbc4d9fc8",
      "0ef9aeac5e9a4e25ba3ee9f3a730ba92",
      "62874b27f8cf42e394f5b7daa6707281",
      "aedc0a4aed614c4d8e25c4a4befc3e76",
      "95b77d107da04923b6729a022dc3d3a7",
      "3764b513e1314fc9af3827e58df01c69",
      "1a5eedeb848842f39d5cb8864746558a",
      "27cc4a358320439f91abe2056594ba6c",
      "12c2e1ee80024b18971467430c4e78a8",
      "915985cf13b34319a0c396c0a0335bf4",
      "b5f3158e08b24f81827cfb8a59d21639",
      "a0291040d5944cdb8663e1f283597e6c",
      "a16b5e0d223b4ddea84be3746eb2bf9b",
      "90f88a2f6a3349e5884e58f892d7ef43",
      "5f27c53e21c74106995b9191ab26b581",
      "46bc216151574e4e864e2ac7349a2a08",
      "6ba767420ae046da8cfbfa365915e9ee",
      "b77fe200b8104998a7ae406b51ff513f",
      "00f8e519faaa46758c222049733e889e",
      "feff6f25b88e43aeab366248f83ec88d",
      "170a2ccc6c27413eb663bdaf90224f3f",
      "b3114382dbd24e3e805dedd50b5c57fa",
      "0dce8b47347b4b96bad65defdc168fa6",
      "eab50d807b6b422992152941769e3f76",
      "9f543a6d15754070a31c3e02e5474e79",
      "98ab361629244fce95692ecb73aa2616",
      "7723d5af2867482d9ae1e83b497abf6d",
      "68131548fe09461d9364e9f5714b69bc",
      "7fcdb69c419e414b984e7b3a04e64b2d",
      "e943cb4553af4ca4a119d7e38d711b9b",
      "c46a600a6447486cab4b126b80990c8a",
      "b2faf61ca54b494bb13ad592f1277ff1",
      "d0d0bba6913d4930abb12b7da87e58d2",
      "2d7e5bbc53704fe48e245c8b357cc263",
      "f0fb7e46fe36466aa00b704945ea79de",
      "50ba01f1e18147d1b85f6289a979482c",
      "0a35432d8f6e4287a5c52726e7b90777",
      "d73759e7445b444f9b98154219155caa",
      "bbd8afc2a24543f4bf2f3ae8532a83e1",
      "f436c1016d714186a1064fd5a00cea24",
      "df796245d4fc4e12b7f5452b5346c554",
      "57ceefeea13f4665ac59ade633a87613",
      "2549fff6fd38418e9d435612f0021e02",
      "5fc0b83649a94a5cb5188b12f3f2ca47",
      "9523134020854ade8894e3da3870a247",
      "6b6da16236734c5b929ef3b2757d3392",
      "1853bd05b92a49abbce4adedb975479e",
      "6a47500f60ed456cba7a20bec9952ec3",
      "62de1edb1f4048b3aeec3fd784d7ac73",
      "7ad3749a77ee47e6a54a1b93eb59af72",
      "0a1e9df31bba4e3d913045505faacfda"
     ]
    },
    "id": "-OwDf6uNr5LT",
    "outputId": "d9c4660f-87e5-4adc-b055-89a419e44da1"
   },
   "outputs": [
    {
     "name": "stderr",
     "output_type": "stream",
     "text": [
      "[nltk_data] Downloading package stopwords to /root/nltk_data...\n",
      "[nltk_data]   Package stopwords is already up-to-date!\n"
     ]
    },
    {
     "name": "stdout",
     "output_type": "stream",
     "text": [
      "CUDA available: True\n",
      "Device name: Tesla T4\n"
     ]
    },
    {
     "data": {
      "application/vnd.jupyter.widget-view+json": {
       "model_id": "31a0a274088546e59cd0a34dd302e8b5",
       "version_major": 2,
       "version_minor": 0
      },
      "text/plain": [
       "Map:   0%|          | 0/9042 [00:00<?, ? examples/s]"
      ]
     },
     "metadata": {},
     "output_type": "display_data"
    },
    {
     "data": {
      "application/vnd.jupyter.widget-view+json": {
       "model_id": "27cc4a358320439f91abe2056594ba6c",
       "version_major": 2,
       "version_minor": 0
      },
      "text/plain": [
       "Map:   0%|          | 0/1005 [00:00<?, ? examples/s]"
      ]
     },
     "metadata": {},
     "output_type": "display_data"
    },
    {
     "data": {
      "application/vnd.jupyter.widget-view+json": {
       "model_id": "00f8e519faaa46758c222049733e889e",
       "version_major": 2,
       "version_minor": 0
      },
      "text/plain": [
       "Map:   0%|          | 0/2512 [00:00<?, ? examples/s]"
      ]
     },
     "metadata": {},
     "output_type": "display_data"
    },
    {
     "data": {
      "application/vnd.jupyter.widget-view+json": {
       "model_id": "e943cb4553af4ca4a119d7e38d711b9b",
       "version_major": 2,
       "version_minor": 0
      },
      "text/plain": [
       "pytorch_model.bin:   0%|          | 0.00/467M [00:00<?, ?B/s]"
      ]
     },
     "metadata": {},
     "output_type": "display_data"
    },
    {
     "name": "stderr",
     "output_type": "stream",
     "text": [
      "Some weights of XLNetForSequenceClassification were not initialized from the model checkpoint at xlnet-base-cased and are newly initialized: ['logits_proj.bias', 'logits_proj.weight', 'sequence_summary.summary.bias', 'sequence_summary.summary.weight']\n",
      "You should probably TRAIN this model on a down-stream task to be able to use it for predictions and inference.\n"
     ]
    },
    {
     "name": "stdout",
     "output_type": "stream",
     "text": [
      "Epoch 1\n"
     ]
    },
    {
     "name": "stderr",
     "output_type": "stream",
     "text": [
      "\r",
      "  0%|          | 0/566 [00:00<?, ?it/s]"
     ]
    },
    {
     "data": {
      "application/vnd.jupyter.widget-view+json": {
       "model_id": "df796245d4fc4e12b7f5452b5346c554",
       "version_major": 2,
       "version_minor": 0
      },
      "text/plain": [
       "model.safetensors:   0%|          | 0.00/467M [00:00<?, ?B/s]"
      ]
     },
     "metadata": {},
     "output_type": "display_data"
    },
    {
     "name": "stderr",
     "output_type": "stream",
     "text": [
      "100%|██████████| 566/566 [04:40<00:00,  2.02it/s, loss=0.392]\n"
     ]
    },
    {
     "name": "stdout",
     "output_type": "stream",
     "text": [
      "Epoch 2\n"
     ]
    },
    {
     "name": "stderr",
     "output_type": "stream",
     "text": [
      "100%|██████████| 566/566 [04:38<00:00,  2.03it/s, loss=0.707]\n"
     ]
    },
    {
     "name": "stdout",
     "output_type": "stream",
     "text": [
      "Epoch 3\n"
     ]
    },
    {
     "name": "stderr",
     "output_type": "stream",
     "text": [
      "100%|██████████| 566/566 [04:38<00:00,  2.03it/s, loss=0.349]\n"
     ]
    },
    {
     "name": "stdout",
     "output_type": "stream",
     "text": [
      "Epoch 4\n"
     ]
    },
    {
     "name": "stderr",
     "output_type": "stream",
     "text": [
      "100%|██████████| 566/566 [04:38<00:00,  2.03it/s, loss=0.184]\n"
     ]
    },
    {
     "ename": "NameError",
     "evalue": "name 'f1' is not defined",
     "output_type": "error",
     "traceback": [
      "\u001b[0;31m---------------------------------------------------------------------------\u001b[0m",
      "\u001b[0;31mNameError\u001b[0m                                 Traceback (most recent call last)",
      "\u001b[0;32m<ipython-input-16-c7ebb178c0cf>\u001b[0m in \u001b[0;36m<cell line: 0>\u001b[0;34m()\u001b[0m\n\u001b[1;32m     97\u001b[0m     \u001b[0;32mreturn\u001b[0m \u001b[0;34m{\u001b[0m\u001b[0;34m\"accuracy\"\u001b[0m\u001b[0;34m:\u001b[0m \u001b[0macc\u001b[0m\u001b[0;34m,\u001b[0m \u001b[0;34m\"precision\"\u001b[0m\u001b[0;34m:\u001b[0m \u001b[0mp\u001b[0m\u001b[0;34m,\u001b[0m \u001b[0;34m\"recall\"\u001b[0m\u001b[0;34m:\u001b[0m \u001b[0mr\u001b[0m\u001b[0;34m,\u001b[0m \u001b[0;34m\"f1\"\u001b[0m\u001b[0;34m:\u001b[0m \u001b[0mf1\u001b[0m\u001b[0;34m}\u001b[0m\u001b[0;34m\u001b[0m\u001b[0;34m\u001b[0m\u001b[0m\n\u001b[1;32m     98\u001b[0m \u001b[0;34m\u001b[0m\u001b[0m\n\u001b[0;32m---> 99\u001b[0;31m \u001b[0mprint\u001b[0m\u001b[0;34m(\u001b[0m\u001b[0;34m\"Validation Results:\"\u001b[0m\u001b[0;34m,\u001b[0m \u001b[0mevaluate\u001b[0m\u001b[0;34m(\u001b[0m\u001b[0mval_loader\u001b[0m\u001b[0;34m)\u001b[0m\u001b[0;34m)\u001b[0m\u001b[0;34m\u001b[0m\u001b[0;34m\u001b[0m\u001b[0m\n\u001b[0m\u001b[1;32m    100\u001b[0m \u001b[0mprint\u001b[0m\u001b[0;34m(\u001b[0m\u001b[0;34m\"Test Results:\"\u001b[0m\u001b[0;34m,\u001b[0m \u001b[0mevaluate\u001b[0m\u001b[0;34m(\u001b[0m\u001b[0mtest_loader\u001b[0m\u001b[0;34m)\u001b[0m\u001b[0;34m)\u001b[0m\u001b[0;34m\u001b[0m\u001b[0;34m\u001b[0m\u001b[0m\n",
      "\u001b[0;32m<ipython-input-16-c7ebb178c0cf>\u001b[0m in \u001b[0;36mevaluate\u001b[0;34m(loader)\u001b[0m\n\u001b[1;32m     95\u001b[0m     \u001b[0mp\u001b[0m\u001b[0;34m,\u001b[0m \u001b[0mr\u001b[0m\u001b[0;34m,\u001b[0m \u001b[0mf\u001b[0m\u001b[0;34m,\u001b[0m \u001b[0m_\u001b[0m \u001b[0;34m=\u001b[0m \u001b[0mprecision_recall_fscore_support\u001b[0m\u001b[0;34m(\u001b[0m\u001b[0mall_labels\u001b[0m\u001b[0;34m,\u001b[0m \u001b[0mall_preds\u001b[0m\u001b[0;34m,\u001b[0m \u001b[0maverage\u001b[0m\u001b[0;34m=\u001b[0m\u001b[0;34m\"weighted\"\u001b[0m\u001b[0;34m)\u001b[0m\u001b[0;34m\u001b[0m\u001b[0;34m\u001b[0m\u001b[0m\n\u001b[1;32m     96\u001b[0m     \u001b[0macc\u001b[0m \u001b[0;34m=\u001b[0m \u001b[0maccuracy_score\u001b[0m\u001b[0;34m(\u001b[0m\u001b[0mall_labels\u001b[0m\u001b[0;34m,\u001b[0m \u001b[0mall_preds\u001b[0m\u001b[0;34m)\u001b[0m\u001b[0;34m\u001b[0m\u001b[0;34m\u001b[0m\u001b[0m\n\u001b[0;32m---> 97\u001b[0;31m     \u001b[0;32mreturn\u001b[0m \u001b[0;34m{\u001b[0m\u001b[0;34m\"accuracy\"\u001b[0m\u001b[0;34m:\u001b[0m \u001b[0macc\u001b[0m\u001b[0;34m,\u001b[0m \u001b[0;34m\"precision\"\u001b[0m\u001b[0;34m:\u001b[0m \u001b[0mp\u001b[0m\u001b[0;34m,\u001b[0m \u001b[0;34m\"recall\"\u001b[0m\u001b[0;34m:\u001b[0m \u001b[0mr\u001b[0m\u001b[0;34m,\u001b[0m \u001b[0;34m\"f1\"\u001b[0m\u001b[0;34m:\u001b[0m \u001b[0mf1\u001b[0m\u001b[0;34m}\u001b[0m\u001b[0;34m\u001b[0m\u001b[0;34m\u001b[0m\u001b[0m\n\u001b[0m\u001b[1;32m     98\u001b[0m \u001b[0;34m\u001b[0m\u001b[0m\n\u001b[1;32m     99\u001b[0m \u001b[0mprint\u001b[0m\u001b[0;34m(\u001b[0m\u001b[0;34m\"Validation Results:\"\u001b[0m\u001b[0;34m,\u001b[0m \u001b[0mevaluate\u001b[0m\u001b[0;34m(\u001b[0m\u001b[0mval_loader\u001b[0m\u001b[0;34m)\u001b[0m\u001b[0;34m)\u001b[0m\u001b[0;34m\u001b[0m\u001b[0;34m\u001b[0m\u001b[0m\n",
      "\u001b[0;31mNameError\u001b[0m: name 'f1' is not defined"
     ]
    }
   ],
   "source": [
    "# XLNet Fine-Tuning: Apple/Samsung Yelp Dataset\n",
    "\n",
    "import pandas as pd\n",
    "from datasets import Dataset\n",
    "from transformers import XLNetTokenizer, XLNetForSequenceClassification\n",
    "from torch.optim import AdamW\n",
    "from torch.utils.data import DataLoader\n",
    "from tqdm import tqdm\n",
    "import torch\n",
    "from sklearn.metrics import accuracy_score, precision_recall_fscore_support\n",
    "from sklearn.model_selection import train_test_split\n",
    "import re\n",
    "import nltk\n",
    "nltk.download(\"stopwords\")\n",
    "from nltk.corpus import stopwords\n",
    "\n",
    "# CUDA Check\n",
    "print(\"CUDA available:\", torch.cuda.is_available())\n",
    "if torch.cuda.is_available():\n",
    "    print(\"Device name:\", torch.cuda.get_device_name(0))\n",
    "else:\n",
    "    print(\"Using CPU\")\n",
    "\n",
    "# Load and clean dataset\n",
    "df = pd.read_csv(\"/content/apple_samsung_yelp_sentiment.csv\")\n",
    "df = df.rename(columns={\"review_text\": \"text\", \"sentiment\": \"label\"})\n",
    "\n",
    "stop_words = set(stopwords.words(\"english\"))\n",
    "def clean_text(text):\n",
    "    text = str(text).lower()\n",
    "    text = re.sub(r\"[^a-z\\s]\", \" \", text)\n",
    "    text = re.sub(r\"\\s+\", \" \", text).strip()\n",
    "    return \" \".join([w for w in text.split() if w not in stop_words])\n",
    "\n",
    "df[\"cleaned\"] = df[\"text\"].apply(clean_text)\n",
    "df[\"label\"] = df[\"label\"].map({-1: 0, 0: 1, 1: 2})\n",
    "\n",
    "# Split\n",
    "train_data, test_data = train_test_split(df, test_size=0.2, stratify=df[\"label\"], random_state=42)\n",
    "train_data, val_data = train_test_split(train_data, test_size=0.1, stratify=train_data[\"label\"], random_state=42)\n",
    "\n",
    "# Convert to HF datasets\n",
    "def prepare_hf_dataset(data):\n",
    "    return Dataset.from_pandas(data[[\"cleaned\", \"label\"]], preserve_index=False)\n",
    "\n",
    "train_dataset = prepare_hf_dataset(train_data)\n",
    "val_dataset = prepare_hf_dataset(val_data)\n",
    "test_dataset = prepare_hf_dataset(test_data)\n",
    "\n",
    "# Tokenization\n",
    "tokenizer = XLNetTokenizer.from_pretrained(\"xlnet-base-cased\")\n",
    "def tokenize_function(example):\n",
    "    return tokenizer(example[\"cleaned\"], padding=\"max_length\", truncation=True, max_length=128)\n",
    "\n",
    "train_dataset = train_dataset.map(tokenize_function, batched=True).rename_column(\"label\", \"labels\").remove_columns([\"cleaned\"]).with_format(\"torch\")\n",
    "val_dataset = val_dataset.map(tokenize_function, batched=True).rename_column(\"label\", \"labels\").remove_columns([\"cleaned\"]).with_format(\"torch\")\n",
    "test_dataset = test_dataset.map(tokenize_function, batched=True).rename_column(\"label\", \"labels\").remove_columns([\"cleaned\"]).with_format(\"torch\")\n",
    "\n",
    "# Initialize model\n",
    "device = torch.device(\"cuda\" if torch.cuda.is_available() else \"cpu\")\n",
    "model = XLNetForSequenceClassification.from_pretrained(\"xlnet-base-cased\", num_labels=3).to(device)\n",
    "\n",
    "# Dataloaders and optimizer\n",
    "train_loader = DataLoader(train_dataset, batch_size=16, shuffle=True)\n",
    "val_loader = DataLoader(val_dataset, batch_size=16)\n",
    "test_loader = DataLoader(test_dataset, batch_size=16)\n",
    "optimizer = AdamW(model.parameters(), lr=2e-5)\n",
    "\n",
    "# Training loop\n",
    "model.train()\n",
    "for epoch in range(4):\n",
    "    print(f\"Epoch {epoch + 1}\")\n",
    "    loop = tqdm(train_loader)\n",
    "    for batch in loop:\n",
    "        batch = {k: v.to(device) for k, v in batch.items()}\n",
    "        outputs = model(**batch)\n",
    "        loss = outputs.loss\n",
    "        loss.backward()\n",
    "        torch.nn.utils.clip_grad_norm_(model.parameters(), max_norm=1.0)\n",
    "        optimizer.step()\n",
    "        optimizer.zero_grad()\n",
    "        loop.set_postfix(loss=loss.item())\n",
    "\n",
    "# Evaluation\n",
    "model.eval()\n",
    "def evaluate(loader):\n",
    "    all_labels, all_preds = [], []\n",
    "    with torch.no_grad():\n",
    "        for batch in loader:\n",
    "            batch = {k: v.to(device) for k, v in batch.items()}\n",
    "            outputs = model(**batch)\n",
    "            preds = torch.argmax(outputs.logits, dim=-1)\n",
    "            all_labels.extend(batch[\"labels\"].cpu().numpy())\n",
    "            all_preds.extend(preds.cpu().numpy())\n",
    "    p, r, f, _ = precision_recall_fscore_support(all_labels, all_preds, average=\"weighted\")\n",
    "    acc = accuracy_score(all_labels, all_preds)\n",
    "    return {\"accuracy\": acc, \"precision\": p, \"recall\": r, \"f1\": f1}\n",
    "\n",
    "print(\"Validation Results:\", evaluate(val_loader))\n",
    "print(\"Test Results:\", evaluate(test_loader))\n"
   ]
  },
  {
   "cell_type": "code",
   "execution_count": null,
   "metadata": {
    "colab": {
     "base_uri": "https://localhost:8080/",
     "height": 1000,
     "referenced_widgets": [
      "04dcbc893af84157827c4a62f83687c4",
      "6282635fd55345e29bf5302c6d0c774a",
      "2f485d52cf03449f80443d0dd832496e",
      "af3cbfbc9c33441889b92d05f3228139",
      "19942cc2e224402498d7f3af2a8328ee",
      "398f2dd3f57f43a5836028472982c667",
      "3065abbed0bb4ef38ddae33fc35d0967",
      "3c03c3b954dc4917b7c677eda62a9fe3",
      "3fb56c02a33f430694abad4025b1e543",
      "84760c635c054bb28e2ac3a4d2f7307e",
      "b0885b4f04ac44f9841fccbc6a2a50a6",
      "7bcfa3087fec4c70b28ae9de50d0a169",
      "fb28248dc0ca4c76849c5156f796ca2c",
      "d4dbf7050a544ec783d6b14eccaa1d8e",
      "40e7d8010b4146a68d8e8f8124ecf47a",
      "84bfcb1f07c3404b81fee485ddce935a",
      "23c6612ff7cb4d22b5e470a0957c7cef",
      "3ab133632a4845bea78e23b76f2ea901",
      "41a6869c78e7450f927143a73b389b42",
      "e470bba85f2f42f9b01c029984b09d73",
      "f4b9a50508834aad97d2641ac8bdd8cc",
      "efaf71a8778b4fed9691e566ce24b7c9",
      "13eb654954d34a24a06f883c4af340f8",
      "cf69602fbee84d83bd04f6581b3aad46",
      "c34010ed32f1411ea5ee190fc967f760",
      "0d9ec1b957724e02b47c3875e93fa3de",
      "79b46f14c35945c6bfc4177f94bcd764",
      "2fb5a23975da4ba8822ecdaa49dad646",
      "732169d23cf24c53b8ce4a272bd9e0d6",
      "dca924d989684c7d803cb30b8d90c8b8",
      "d5c718acd9484446bfd659b904509247",
      "4b299b49fdfe4b00afe25aba05cd83ce",
      "50997f11280944d5a72cae1dfea3f0b4",
      "9be08344fea84166a5564a9e6b7ae371",
      "024ce709689f47bc9edd461ca20cf08a",
      "2f1eacb13aa14cfd833e3b58eb3f1014",
      "df539a1dce0343628172c7dd7bcdf814",
      "ac08eb9e3d4a40aba149a39d4c952066",
      "8217022fec764e65a82bd5ebf8a4ce7e",
      "41c0888c89364e5886c2a5d5df5aa60b",
      "b62adeebb9054a7fb904968abc0f3668",
      "78b1d22789a64e7f8f0a7413c35e8584",
      "1261c33c1cdf4a2c8b72eb4442264a73",
      "80b2cddb95b2484e9485c0f1fac0ce2b",
      "079875426c724516a1eb92f9c58f8d3e",
      "28565286de0c4b80a096b8a9da4eb8c3",
      "df69bfe775e4489f9fb86e68ac509e0b",
      "4d81e25bd6e3498dbbe965fb5790467a",
      "41486dd2e7a1441e800ab898da114b6b",
      "8ca02c0c2869453494311d1ca56711dd",
      "0b087725d5794241b94d8be5d9f98b8a",
      "f31a2aa518e84dd4a176510605aa1c91",
      "6b6ac0e03cb64a778f17d1cc9e39b682",
      "1522300615914441b50e9cfe87bf5b6e",
      "2185f42ff414420fb9a49a8cb408b059",
      "59a6ba9be08f4ec3ba93713049ea9ccb",
      "b8349ba549444bac8843a664c619170a",
      "6bfb789faccf4399bdfb6138cb07f42d",
      "4646b057c8c34337af00f2d8e3b590e4",
      "0f4efa757d894df4a11829260f6b9388",
      "1fa52ee5c0494f63998145e8c5b7c6dc",
      "e172bbb521b748b4b9aa24d943ba208d",
      "b4794bd0dd844d8195ab5873b08ca986",
      "810b82c4fa81471e9f95a2c1cd5fc020",
      "aff76f281a4a4b39b12c261d87ec923d",
      "9d1cd6879fb7417bb7ff6b7c10980206",
      "81253541fd804194bb778a1f1f49ecfc",
      "c8432df57cee449da26bb297016a6855",
      "a9fc94ff3eea4d6c96f883ccec229b70",
      "5a39a7a653ba4e8f98b53c81b7a833a0",
      "15f8626c1fcf4dadb33ed3401abb640a",
      "67c833a153a64708adbe6f508c0822ac",
      "3ba82efd2ae84749a546863f0cd2d9f1",
      "bbd04d059b6044898c7af2cf72e500e3",
      "65f50fcd414541a6897c26c8f680443b",
      "07c0cfecc0b74835ba79c30bf3524d14",
      "1ab1438a47ff48bb9d92098fd790fed1",
      "354a3e5df0004490a8f757c31320bbd9",
      "7a814e12d45f4d998f7a5a6b13c1d916",
      "a55e46e3595c42b09fe9c381b90b6cd1",
      "c07f312f53ec4cdcb85f7de40c01484e",
      "7de0ee025790478682bb6cb93ed08c07",
      "3fb19bdc6f2b4ed3ad8d51fcf32dbc14",
      "5b4e146b810f4ec1b1340a64f245be07",
      "50f1d71c156a42548f1c51bae1d908e3",
      "385de6eabb6649398981822f0bd92a0b",
      "c0aca4847c734760bcb6bccb13a7ed6d",
      "c92106963b8447d499c753fda0972145"
     ]
    },
    "id": "4MlksmXrwlA8",
    "outputId": "03a0838a-683d-469e-99fb-ae9908d07062"
   },
   "outputs": [
    {
     "name": "stderr",
     "output_type": "stream",
     "text": [
      "[nltk_data] Downloading package stopwords to /root/nltk_data...\n",
      "[nltk_data]   Package stopwords is already up-to-date!\n"
     ]
    },
    {
     "name": "stdout",
     "output_type": "stream",
     "text": [
      "CUDA available: True\n",
      "Device name: Tesla T4\n"
     ]
    },
    {
     "data": {
      "application/vnd.jupyter.widget-view+json": {
       "model_id": "04dcbc893af84157827c4a62f83687c4",
       "version_major": 2,
       "version_minor": 0
      },
      "text/plain": [
       "tokenizer_config.json:   0%|          | 0.00/52.0 [00:00<?, ?B/s]"
      ]
     },
     "metadata": {},
     "output_type": "display_data"
    },
    {
     "data": {
      "application/vnd.jupyter.widget-view+json": {
       "model_id": "7bcfa3087fec4c70b28ae9de50d0a169",
       "version_major": 2,
       "version_minor": 0
      },
      "text/plain": [
       "spm.model:   0%|          | 0.00/2.46M [00:00<?, ?B/s]"
      ]
     },
     "metadata": {},
     "output_type": "display_data"
    },
    {
     "data": {
      "application/vnd.jupyter.widget-view+json": {
       "model_id": "13eb654954d34a24a06f883c4af340f8",
       "version_major": 2,
       "version_minor": 0
      },
      "text/plain": [
       "config.json:   0%|          | 0.00/578 [00:00<?, ?B/s]"
      ]
     },
     "metadata": {},
     "output_type": "display_data"
    },
    {
     "data": {
      "application/vnd.jupyter.widget-view+json": {
       "model_id": "9be08344fea84166a5564a9e6b7ae371",
       "version_major": 2,
       "version_minor": 0
      },
      "text/plain": [
       "Map:   0%|          | 0/9042 [00:00<?, ? examples/s]"
      ]
     },
     "metadata": {},
     "output_type": "display_data"
    },
    {
     "data": {
      "application/vnd.jupyter.widget-view+json": {
       "model_id": "079875426c724516a1eb92f9c58f8d3e",
       "version_major": 2,
       "version_minor": 0
      },
      "text/plain": [
       "Map:   0%|          | 0/1005 [00:00<?, ? examples/s]"
      ]
     },
     "metadata": {},
     "output_type": "display_data"
    },
    {
     "data": {
      "application/vnd.jupyter.widget-view+json": {
       "model_id": "59a6ba9be08f4ec3ba93713049ea9ccb",
       "version_major": 2,
       "version_minor": 0
      },
      "text/plain": [
       "Map:   0%|          | 0/2512 [00:00<?, ? examples/s]"
      ]
     },
     "metadata": {},
     "output_type": "display_data"
    },
    {
     "data": {
      "application/vnd.jupyter.widget-view+json": {
       "model_id": "81253541fd804194bb778a1f1f49ecfc",
       "version_major": 2,
       "version_minor": 0
      },
      "text/plain": [
       "pytorch_model.bin:   0%|          | 0.00/286M [00:00<?, ?B/s]"
      ]
     },
     "metadata": {},
     "output_type": "display_data"
    },
    {
     "name": "stderr",
     "output_type": "stream",
     "text": [
      "Some weights of DebertaV2ForSequenceClassification were not initialized from the model checkpoint at microsoft/deberta-v3-small and are newly initialized: ['classifier.bias', 'classifier.weight', 'pooler.dense.bias', 'pooler.dense.weight']\n",
      "You should probably TRAIN this model on a down-stream task to be able to use it for predictions and inference.\n"
     ]
    },
    {
     "data": {
      "application/vnd.jupyter.widget-view+json": {
       "model_id": "354a3e5df0004490a8f757c31320bbd9",
       "version_major": 2,
       "version_minor": 0
      },
      "text/plain": [
       "model.safetensors:   0%|          | 0.00/286M [00:00<?, ?B/s]"
      ]
     },
     "metadata": {},
     "output_type": "display_data"
    },
    {
     "name": "stdout",
     "output_type": "stream",
     "text": [
      "Epoch 1\n"
     ]
    },
    {
     "name": "stderr",
     "output_type": "stream",
     "text": [
      "\n",
      "  0%|          | 0/566 [00:00<?, ?it/s]\u001b[A\n",
      "  0%|          | 0/566 [00:00<?, ?it/s, loss=1.04]\u001b[A\n",
      "  0%|          | 1/566 [00:00<06:15,  1.51it/s, loss=1.04]\u001b[A\n",
      "  0%|          | 1/566 [00:02<06:15,  1.51it/s, loss=1.08]\u001b[A\n",
      "  0%|          | 2/566 [00:02<10:01,  1.07s/it, loss=1.08]\u001b[A\n",
      "  0%|          | 2/566 [00:02<10:01,  1.07s/it, loss=1.07]\u001b[A\n",
      "  1%|          | 3/566 [00:02<06:34,  1.43it/s, loss=1.07]\u001b[A\n",
      "  1%|          | 3/566 [00:02<06:34,  1.43it/s, loss=1.03]\u001b[A\n",
      "  1%|          | 4/566 [00:02<04:56,  1.89it/s, loss=1.03]\u001b[A\n",
      "  1%|          | 4/566 [00:02<04:56,  1.89it/s, loss=1.12]\u001b[A\n",
      "  1%|          | 5/566 [00:02<04:07,  2.27it/s, loss=1.12]\u001b[A\n",
      "  1%|          | 5/566 [00:03<04:07,  2.27it/s, loss=1.05]\u001b[A\n",
      "  1%|          | 6/566 [00:03<03:34,  2.61it/s, loss=1.05]\u001b[A\n",
      "  1%|          | 6/566 [00:03<03:34,  2.61it/s, loss=1.04]\u001b[A\n",
      "  1%|          | 7/566 [00:03<03:13,  2.89it/s, loss=1.04]\u001b[A\n",
      "  1%|          | 7/566 [00:03<03:13,  2.89it/s, loss=1.01]\u001b[A\n",
      "  1%|▏         | 8/566 [00:03<02:58,  3.12it/s, loss=1.01]\u001b[A\n",
      "  1%|▏         | 8/566 [00:03<02:58,  3.12it/s, loss=1.03]\u001b[A\n",
      "  2%|▏         | 9/566 [00:03<02:49,  3.28it/s, loss=1.03]\u001b[A\n",
      "  2%|▏         | 9/566 [00:04<02:49,  3.28it/s, loss=0.995]\u001b[A\n",
      "  2%|▏         | 10/566 [00:04<02:43,  3.40it/s, loss=0.995]\u001b[A\n",
      "  2%|▏         | 10/566 [00:04<02:43,  3.40it/s, loss=0.98] \u001b[A\n",
      "  2%|▏         | 11/566 [00:04<02:39,  3.48it/s, loss=0.98]\u001b[A\n",
      "  2%|▏         | 11/566 [00:04<02:39,  3.48it/s, loss=1.04]\u001b[A\n",
      "  2%|▏         | 12/566 [00:04<02:36,  3.53it/s, loss=1.04]\u001b[A\n",
      "  2%|▏         | 12/566 [00:04<02:36,  3.53it/s, loss=0.999]\u001b[A\n",
      "  2%|▏         | 13/566 [00:04<02:34,  3.58it/s, loss=0.999]\u001b[A\n",
      "  2%|▏         | 13/566 [00:05<02:34,  3.58it/s, loss=1.02] \u001b[A\n",
      "  2%|▏         | 14/566 [00:05<02:33,  3.60it/s, loss=1.02]\u001b[A\n",
      "  2%|▏         | 14/566 [00:05<02:33,  3.60it/s, loss=0.859]\u001b[A\n",
      "  3%|▎         | 15/566 [00:05<02:32,  3.61it/s, loss=0.859]\u001b[A\n",
      "  3%|▎         | 15/566 [00:05<02:32,  3.61it/s, loss=1.07] \u001b[A\n",
      "  3%|▎         | 16/566 [00:05<02:31,  3.64it/s, loss=1.07]\u001b[A\n",
      "  3%|▎         | 16/566 [00:06<02:31,  3.64it/s, loss=1.1] \u001b[A\n",
      "  3%|▎         | 17/566 [00:06<02:31,  3.64it/s, loss=1.1]\u001b[A\n",
      "  3%|▎         | 17/566 [00:06<02:31,  3.64it/s, loss=1.12]\u001b[A\n",
      "  3%|▎         | 18/566 [00:06<02:29,  3.67it/s, loss=1.12]\u001b[A\n",
      "  3%|▎         | 18/566 [00:06<02:29,  3.67it/s, loss=1.06]\u001b[A\n",
      "  3%|▎         | 19/566 [00:06<02:30,  3.65it/s, loss=1.06]\u001b[A\n",
      "  3%|▎         | 19/566 [00:06<02:30,  3.65it/s, loss=1.02]\u001b[A\n",
      "  4%|▎         | 20/566 [00:06<02:30,  3.64it/s, loss=1.02]\u001b[A\n",
      "  4%|▎         | 20/566 [00:07<02:30,  3.64it/s, loss=0.909]\u001b[A\n",
      "  4%|▎         | 21/566 [00:07<02:29,  3.65it/s, loss=0.909]\u001b[A\n",
      "  4%|▎         | 21/566 [00:07<02:29,  3.65it/s, loss=1.06] \u001b[A\n",
      "  4%|▍         | 22/566 [00:07<02:28,  3.67it/s, loss=1.06]\u001b[A\n",
      "  4%|▍         | 22/566 [00:07<02:28,  3.67it/s, loss=1.04]\u001b[A\n",
      "  4%|▍         | 23/566 [00:07<02:29,  3.63it/s, loss=1.04]\u001b[A\n",
      "  4%|▍         | 23/566 [00:08<02:29,  3.63it/s, loss=1.18]\u001b[A\n",
      "  4%|▍         | 24/566 [00:08<02:29,  3.61it/s, loss=1.18]\u001b[A\n",
      "  4%|▍         | 24/566 [00:08<02:29,  3.61it/s, loss=0.964]\u001b[A\n",
      "  4%|▍         | 25/566 [00:08<02:29,  3.62it/s, loss=0.964]\u001b[A\n",
      "  4%|▍         | 25/566 [00:08<02:29,  3.62it/s, loss=0.885]\u001b[A\n",
      "  5%|▍         | 26/566 [00:08<02:29,  3.62it/s, loss=0.885]\u001b[A\n",
      "  5%|▍         | 26/566 [00:08<02:29,  3.62it/s, loss=0.874]\u001b[A\n",
      "  5%|▍         | 27/566 [00:08<02:28,  3.62it/s, loss=0.874]\u001b[A\n",
      "  5%|▍         | 27/566 [00:09<02:28,  3.62it/s, loss=0.995]\u001b[A\n",
      "  5%|▍         | 28/566 [00:09<02:29,  3.60it/s, loss=0.995]\u001b[A\n",
      "  5%|▍         | 28/566 [00:09<02:29,  3.60it/s, loss=0.976]\u001b[A\n",
      "  5%|▌         | 29/566 [00:09<02:29,  3.60it/s, loss=0.976]\u001b[A\n",
      "  5%|▌         | 29/566 [00:09<02:29,  3.60it/s, loss=1.01] \u001b[A\n",
      "  5%|▌         | 30/566 [00:09<02:28,  3.62it/s, loss=1.01]\u001b[A\n",
      "  5%|▌         | 30/566 [00:09<02:28,  3.62it/s, loss=1.01]\u001b[A\n",
      "  5%|▌         | 31/566 [00:09<02:28,  3.59it/s, loss=1.01]\u001b[A\n",
      "  5%|▌         | 31/566 [00:10<02:28,  3.59it/s, loss=1.01]\u001b[A\n",
      "  6%|▌         | 32/566 [00:10<02:27,  3.62it/s, loss=1.01]\u001b[A\n",
      "  6%|▌         | 32/566 [00:10<02:27,  3.62it/s, loss=1.07]\u001b[A\n",
      "  6%|▌         | 33/566 [00:10<02:27,  3.62it/s, loss=1.07]\u001b[A\n",
      "  6%|▌         | 33/566 [00:10<02:27,  3.62it/s, loss=0.933]\u001b[A\n",
      "  6%|▌         | 34/566 [00:10<02:26,  3.63it/s, loss=0.933]\u001b[A\n",
      "  6%|▌         | 34/566 [00:11<02:26,  3.63it/s, loss=0.955]\u001b[A\n",
      "  6%|▌         | 35/566 [00:11<02:26,  3.63it/s, loss=0.955]\u001b[A\n",
      "  6%|▌         | 35/566 [00:11<02:26,  3.63it/s, loss=1.05] \u001b[A\n",
      "  6%|▋         | 36/566 [00:11<02:24,  3.66it/s, loss=1.05]\u001b[A\n",
      "  6%|▋         | 36/566 [00:11<02:24,  3.66it/s, loss=0.868]\u001b[A\n",
      "  7%|▋         | 37/566 [00:11<02:26,  3.61it/s, loss=0.868]\u001b[A\n",
      "  7%|▋         | 37/566 [00:11<02:26,  3.61it/s, loss=0.978]\u001b[A\n",
      "  7%|▋         | 38/566 [00:11<02:25,  3.62it/s, loss=0.978]\u001b[A\n",
      "  7%|▋         | 38/566 [00:12<02:25,  3.62it/s, loss=1.08] \u001b[A\n",
      "  7%|▋         | 39/566 [00:12<02:25,  3.61it/s, loss=1.08]\u001b[A\n",
      "  7%|▋         | 39/566 [00:12<02:25,  3.61it/s, loss=0.956]\u001b[A\n",
      "  7%|▋         | 40/566 [00:12<02:25,  3.61it/s, loss=0.956]\u001b[A\n",
      "  7%|▋         | 40/566 [00:12<02:25,  3.61it/s, loss=0.922]\u001b[A\n",
      "  7%|▋         | 41/566 [00:12<02:26,  3.59it/s, loss=0.922]\u001b[A\n",
      "  7%|▋         | 41/566 [00:12<02:26,  3.59it/s, loss=0.887]\u001b[A\n",
      "  7%|▋         | 42/566 [00:12<02:25,  3.60it/s, loss=0.887]\u001b[A\n",
      "  7%|▋         | 42/566 [00:13<02:25,  3.60it/s, loss=1.04] \u001b[A\n",
      "  8%|▊         | 43/566 [00:13<02:23,  3.65it/s, loss=1.04]\u001b[A\n",
      "  8%|▊         | 43/566 [00:13<02:23,  3.65it/s, loss=1.04]\u001b[A\n",
      "  8%|▊         | 44/566 [00:13<02:23,  3.64it/s, loss=1.04]\u001b[A\n",
      "  8%|▊         | 44/566 [00:13<02:23,  3.64it/s, loss=0.937]\u001b[A\n",
      "  8%|▊         | 45/566 [00:13<02:24,  3.60it/s, loss=0.937]\u001b[A\n",
      "  8%|▊         | 45/566 [00:14<02:24,  3.60it/s, loss=0.92] \u001b[A\n",
      "  8%|▊         | 46/566 [00:14<02:24,  3.59it/s, loss=0.92]\u001b[A\n",
      "  8%|▊         | 46/566 [00:14<02:24,  3.59it/s, loss=0.682]\u001b[A\n",
      "  8%|▊         | 47/566 [00:14<02:24,  3.59it/s, loss=0.682]\u001b[A\n",
      "  8%|▊         | 47/566 [00:14<02:24,  3.59it/s, loss=0.89] \u001b[A\n",
      "  8%|▊         | 48/566 [00:14<02:24,  3.58it/s, loss=0.89]\u001b[A\n",
      "  8%|▊         | 48/566 [00:14<02:24,  3.58it/s, loss=1.04]\u001b[A\n",
      "  9%|▊         | 49/566 [00:14<02:24,  3.59it/s, loss=1.04]\u001b[A\n",
      "  9%|▊         | 49/566 [00:15<02:24,  3.59it/s, loss=0.696]\u001b[A\n",
      "  9%|▉         | 50/566 [00:15<02:23,  3.59it/s, loss=0.696]\u001b[A\n",
      "  9%|▉         | 50/566 [00:15<02:23,  3.59it/s, loss=0.92] \u001b[A\n",
      "  9%|▉         | 51/566 [00:15<02:23,  3.58it/s, loss=0.92]\u001b[A\n",
      "  9%|▉         | 51/566 [00:15<02:23,  3.58it/s, loss=1.35]\u001b[A\n",
      "  9%|▉         | 52/566 [00:15<02:23,  3.58it/s, loss=1.35]\u001b[A\n",
      "  9%|▉         | 52/566 [00:16<02:23,  3.58it/s, loss=0.805]\u001b[A\n",
      "  9%|▉         | 53/566 [00:16<02:22,  3.60it/s, loss=0.805]\u001b[A\n",
      "  9%|▉         | 53/566 [00:16<02:22,  3.60it/s, loss=0.799]\u001b[A\n",
      " 10%|▉         | 54/566 [00:16<02:22,  3.59it/s, loss=0.799]\u001b[A\n",
      " 10%|▉         | 54/566 [00:16<02:22,  3.59it/s, loss=0.963]\u001b[A\n",
      " 10%|▉         | 55/566 [00:16<02:23,  3.55it/s, loss=0.963]\u001b[A\n",
      " 10%|▉         | 55/566 [00:16<02:23,  3.55it/s, loss=0.855]\u001b[A\n",
      " 10%|▉         | 56/566 [00:16<02:23,  3.55it/s, loss=0.855]\u001b[A\n",
      " 10%|▉         | 56/566 [00:17<02:23,  3.55it/s, loss=0.899]\u001b[A\n",
      " 10%|█         | 57/566 [00:17<02:22,  3.57it/s, loss=0.899]\u001b[A\n",
      " 10%|█         | 57/566 [00:17<02:22,  3.57it/s, loss=0.972]\u001b[A\n",
      " 10%|█         | 58/566 [00:17<02:22,  3.56it/s, loss=0.972]\u001b[A\n",
      " 10%|█         | 58/566 [00:17<02:22,  3.56it/s, loss=0.796]\u001b[A\n",
      " 10%|█         | 59/566 [00:17<02:22,  3.56it/s, loss=0.796]\u001b[A\n",
      " 10%|█         | 59/566 [00:18<02:22,  3.56it/s, loss=0.749]\u001b[A\n",
      " 11%|█         | 60/566 [00:18<02:22,  3.55it/s, loss=0.749]\u001b[A\n",
      " 11%|█         | 60/566 [00:18<02:22,  3.55it/s, loss=0.767]\u001b[A\n",
      " 11%|█         | 61/566 [00:18<02:22,  3.55it/s, loss=0.767]\u001b[A\n",
      " 11%|█         | 61/566 [00:18<02:22,  3.55it/s, loss=0.969]\u001b[A\n",
      " 11%|█         | 62/566 [00:18<02:22,  3.54it/s, loss=0.969]\u001b[A\n",
      " 11%|█         | 62/566 [00:18<02:22,  3.54it/s, loss=0.622]\u001b[A\n",
      " 11%|█         | 63/566 [00:18<02:23,  3.50it/s, loss=0.622]\u001b[A\n",
      " 11%|█         | 63/566 [00:19<02:23,  3.50it/s, loss=1.16] \u001b[A\n",
      " 11%|█▏        | 64/566 [00:19<02:22,  3.53it/s, loss=1.16]\u001b[A\n",
      " 11%|█▏        | 64/566 [00:19<02:22,  3.53it/s, loss=0.856]\u001b[A\n",
      " 11%|█▏        | 65/566 [00:19<02:21,  3.55it/s, loss=0.856]\u001b[A\n",
      " 11%|█▏        | 65/566 [00:19<02:21,  3.55it/s, loss=0.59] \u001b[A\n",
      " 12%|█▏        | 66/566 [00:19<02:20,  3.55it/s, loss=0.59]\u001b[A\n",
      " 12%|█▏        | 66/566 [00:19<02:20,  3.55it/s, loss=0.813]\u001b[A\n",
      " 12%|█▏        | 67/566 [00:20<02:20,  3.55it/s, loss=0.813]\u001b[A\n",
      " 12%|█▏        | 67/566 [00:20<02:20,  3.55it/s, loss=1.01] \u001b[A\n",
      " 12%|█▏        | 68/566 [00:20<02:20,  3.54it/s, loss=1.01]\u001b[A\n",
      " 12%|█▏        | 68/566 [00:20<02:20,  3.54it/s, loss=0.786]\u001b[A\n",
      " 12%|█▏        | 69/566 [00:20<02:19,  3.55it/s, loss=0.786]\u001b[A\n",
      " 12%|█▏        | 69/566 [00:20<02:19,  3.55it/s, loss=0.729]\u001b[A\n",
      " 12%|█▏        | 70/566 [00:20<02:20,  3.54it/s, loss=0.729]\u001b[A\n",
      " 12%|█▏        | 70/566 [00:21<02:20,  3.54it/s, loss=0.55] \u001b[A\n",
      " 13%|█▎        | 71/566 [00:21<02:19,  3.54it/s, loss=0.55]\u001b[A\n",
      " 13%|█▎        | 71/566 [00:21<02:19,  3.54it/s, loss=0.987]\u001b[A\n",
      " 13%|█▎        | 72/566 [00:21<02:20,  3.52it/s, loss=0.987]\u001b[A\n",
      " 13%|█▎        | 72/566 [00:21<02:20,  3.52it/s, loss=0.886]\u001b[A\n",
      " 13%|█▎        | 73/566 [00:21<02:19,  3.53it/s, loss=0.886]\u001b[A\n",
      " 13%|█▎        | 73/566 [00:21<02:19,  3.53it/s, loss=0.793]\u001b[A\n",
      " 13%|█▎        | 74/566 [00:21<02:19,  3.53it/s, loss=0.793]\u001b[A\n",
      " 13%|█▎        | 74/566 [00:22<02:19,  3.53it/s, loss=1.22] \u001b[A\n",
      " 13%|█▎        | 75/566 [00:22<02:18,  3.55it/s, loss=1.22]\u001b[A\n",
      " 13%|█▎        | 75/566 [00:22<02:18,  3.55it/s, loss=0.604]\u001b[A\n",
      " 13%|█▎        | 76/566 [00:22<02:17,  3.55it/s, loss=0.604]\u001b[A\n",
      " 13%|█▎        | 76/566 [00:22<02:17,  3.55it/s, loss=0.803]\u001b[A\n",
      " 14%|█▎        | 77/566 [00:22<02:17,  3.55it/s, loss=0.803]\u001b[A\n",
      " 14%|█▎        | 77/566 [00:23<02:17,  3.55it/s, loss=0.751]\u001b[A\n",
      " 14%|█▍        | 78/566 [00:23<02:17,  3.55it/s, loss=0.751]\u001b[A\n",
      " 14%|█▍        | 78/566 [00:23<02:17,  3.55it/s, loss=0.827]\u001b[A\n",
      " 14%|█▍        | 79/566 [00:23<02:16,  3.56it/s, loss=0.827]\u001b[A\n",
      " 14%|█▍        | 79/566 [00:23<02:16,  3.56it/s, loss=0.569]\u001b[A\n",
      " 14%|█▍        | 80/566 [00:23<02:16,  3.55it/s, loss=0.569]\u001b[A\n",
      " 14%|█▍        | 80/566 [00:23<02:16,  3.55it/s, loss=1.07] \u001b[A\n",
      " 14%|█▍        | 81/566 [00:23<02:16,  3.56it/s, loss=1.07]\u001b[A\n",
      " 14%|█▍        | 81/566 [00:24<02:16,  3.56it/s, loss=1.28]\u001b[A\n",
      " 14%|█▍        | 82/566 [00:24<02:16,  3.55it/s, loss=1.28]\u001b[A\n",
      " 14%|█▍        | 82/566 [00:24<02:16,  3.55it/s, loss=1.05]\u001b[A\n",
      " 15%|█▍        | 83/566 [00:24<02:16,  3.54it/s, loss=1.05]\u001b[A\n",
      " 15%|█▍        | 83/566 [00:24<02:16,  3.54it/s, loss=0.681]\u001b[A\n",
      " 15%|█▍        | 84/566 [00:24<02:16,  3.54it/s, loss=0.681]\u001b[A\n",
      " 15%|█▍        | 84/566 [00:25<02:16,  3.54it/s, loss=0.709]\u001b[A\n",
      " 15%|█▌        | 85/566 [00:25<02:16,  3.53it/s, loss=0.709]\u001b[A\n",
      " 15%|█▌        | 85/566 [00:25<02:16,  3.53it/s, loss=1.06] \u001b[A\n",
      " 15%|█▌        | 86/566 [00:25<02:16,  3.52it/s, loss=1.06]\u001b[A\n",
      " 15%|█▌        | 86/566 [00:25<02:16,  3.52it/s, loss=0.998]\u001b[A\n",
      " 15%|█▌        | 87/566 [00:25<02:15,  3.54it/s, loss=0.998]\u001b[A\n",
      " 15%|█▌        | 87/566 [00:25<02:15,  3.54it/s, loss=0.846]\u001b[A\n",
      " 16%|█▌        | 88/566 [00:25<02:13,  3.57it/s, loss=0.846]\u001b[A\n",
      " 16%|█▌        | 88/566 [00:26<02:13,  3.57it/s, loss=0.781]\u001b[A\n",
      " 16%|█▌        | 89/566 [00:26<02:13,  3.58it/s, loss=0.781]\u001b[A\n",
      " 16%|█▌        | 89/566 [00:26<02:13,  3.58it/s, loss=0.994]\u001b[A\n",
      " 16%|█▌        | 90/566 [00:26<02:13,  3.57it/s, loss=0.994]\u001b[A\n",
      " 16%|█▌        | 90/566 [00:26<02:13,  3.57it/s, loss=0.808]\u001b[A\n",
      " 16%|█▌        | 91/566 [00:26<02:13,  3.56it/s, loss=0.808]\u001b[A\n",
      " 16%|█▌        | 91/566 [00:27<02:13,  3.56it/s, loss=0.777]\u001b[A\n",
      " 16%|█▋        | 92/566 [00:27<02:12,  3.57it/s, loss=0.777]\u001b[A\n",
      " 16%|█▋        | 92/566 [00:27<02:12,  3.57it/s, loss=0.963]\u001b[A\n",
      " 16%|█▋        | 93/566 [00:27<02:12,  3.57it/s, loss=0.963]\u001b[A\n",
      " 16%|█▋        | 93/566 [00:27<02:12,  3.57it/s, loss=0.962]\u001b[A\n",
      " 17%|█▋        | 94/566 [00:27<02:11,  3.59it/s, loss=0.962]\u001b[A\n",
      " 17%|█▋        | 94/566 [00:27<02:11,  3.59it/s, loss=0.493]\u001b[A\n",
      " 17%|█▋        | 95/566 [00:27<02:11,  3.58it/s, loss=0.493]\u001b[A\n",
      " 17%|█▋        | 95/566 [00:28<02:11,  3.58it/s, loss=0.853]\u001b[A\n",
      " 17%|█▋        | 96/566 [00:28<02:11,  3.57it/s, loss=0.853]\u001b[A\n",
      " 17%|█▋        | 96/566 [00:28<02:11,  3.57it/s, loss=0.664]\u001b[A\n",
      " 17%|█▋        | 97/566 [00:28<02:11,  3.57it/s, loss=0.664]\u001b[A\n",
      " 17%|█▋        | 97/566 [00:28<02:11,  3.57it/s, loss=0.636]\u001b[A\n",
      " 17%|█▋        | 98/566 [00:28<02:10,  3.60it/s, loss=0.636]\u001b[A\n",
      " 17%|█▋        | 98/566 [00:28<02:10,  3.60it/s, loss=0.706]\u001b[A\n",
      " 17%|█▋        | 99/566 [00:28<02:09,  3.61it/s, loss=0.706]\u001b[A\n",
      " 17%|█▋        | 99/566 [00:29<02:09,  3.61it/s, loss=0.984]\u001b[A\n",
      " 18%|█▊        | 100/566 [00:29<02:09,  3.61it/s, loss=0.984]\u001b[A\n",
      " 18%|█▊        | 100/566 [00:29<02:09,  3.61it/s, loss=0.869]\u001b[A\n",
      " 18%|█▊        | 101/566 [00:29<02:09,  3.59it/s, loss=0.869]\u001b[A\n",
      " 18%|█▊        | 101/566 [00:29<02:09,  3.59it/s, loss=0.7]  \u001b[A\n",
      " 18%|█▊        | 102/566 [00:29<02:08,  3.61it/s, loss=0.7]\u001b[A\n",
      " 18%|█▊        | 102/566 [00:30<02:08,  3.61it/s, loss=0.998]\u001b[A\n",
      " 18%|█▊        | 103/566 [00:30<02:08,  3.61it/s, loss=0.998]\u001b[A\n",
      " 18%|█▊        | 103/566 [00:30<02:08,  3.61it/s, loss=0.473]\u001b[A\n",
      " 18%|█▊        | 104/566 [00:30<02:07,  3.61it/s, loss=0.473]\u001b[A\n",
      " 18%|█▊        | 104/566 [00:30<02:07,  3.61it/s, loss=0.71] \u001b[A\n",
      " 19%|█▊        | 105/566 [00:30<02:07,  3.61it/s, loss=0.71]\u001b[A\n",
      " 19%|█▊        | 105/566 [00:30<02:07,  3.61it/s, loss=0.804]\u001b[A\n",
      " 19%|█▊        | 106/566 [00:30<02:06,  3.63it/s, loss=0.804]\u001b[A\n",
      " 19%|█▊        | 106/566 [00:31<02:06,  3.63it/s, loss=0.68] \u001b[A\n",
      " 19%|█▉        | 107/566 [00:31<02:07,  3.60it/s, loss=0.68]\u001b[A\n",
      " 19%|█▉        | 107/566 [00:31<02:07,  3.60it/s, loss=0.811]\u001b[A\n",
      " 19%|█▉        | 108/566 [00:31<02:06,  3.61it/s, loss=0.811]\u001b[A\n",
      " 19%|█▉        | 108/566 [00:31<02:06,  3.61it/s, loss=0.883]\u001b[A\n",
      " 19%|█▉        | 109/566 [00:31<02:07,  3.59it/s, loss=0.883]\u001b[A\n",
      " 19%|█▉        | 109/566 [00:32<02:07,  3.59it/s, loss=0.773]\u001b[A\n",
      " 19%|█▉        | 110/566 [00:32<02:06,  3.61it/s, loss=0.773]\u001b[A\n",
      " 19%|█▉        | 110/566 [00:32<02:06,  3.61it/s, loss=0.681]\u001b[A\n",
      " 20%|█▉        | 111/566 [00:32<02:06,  3.60it/s, loss=0.681]\u001b[A\n",
      " 20%|█▉        | 111/566 [00:32<02:06,  3.60it/s, loss=0.68] \u001b[A\n",
      " 20%|█▉        | 112/566 [00:32<02:06,  3.60it/s, loss=0.68]\u001b[A\n",
      " 20%|█▉        | 112/566 [00:32<02:06,  3.60it/s, loss=0.643]\u001b[A\n",
      " 20%|█▉        | 113/566 [00:32<02:06,  3.58it/s, loss=0.643]\u001b[A\n",
      " 20%|█▉        | 113/566 [00:33<02:06,  3.58it/s, loss=0.594]\u001b[A\n",
      " 20%|██        | 114/566 [00:33<02:05,  3.61it/s, loss=0.594]\u001b[A\n",
      " 20%|██        | 114/566 [00:33<02:05,  3.61it/s, loss=0.753]\u001b[A\n",
      " 20%|██        | 115/566 [00:33<02:04,  3.63it/s, loss=0.753]\u001b[A\n",
      " 20%|██        | 115/566 [00:33<02:04,  3.63it/s, loss=0.783]\u001b[A\n",
      " 20%|██        | 116/566 [00:33<02:05,  3.59it/s, loss=0.783]\u001b[A\n",
      " 20%|██        | 116/566 [00:33<02:05,  3.59it/s, loss=0.607]\u001b[A\n",
      " 21%|██        | 117/566 [00:33<02:04,  3.60it/s, loss=0.607]\u001b[A\n",
      " 21%|██        | 117/566 [00:34<02:04,  3.60it/s, loss=0.752]\u001b[A\n",
      " 21%|██        | 118/566 [00:34<02:04,  3.61it/s, loss=0.752]\u001b[A\n",
      " 21%|██        | 118/566 [00:34<02:04,  3.61it/s, loss=0.649]\u001b[A\n",
      " 21%|██        | 119/566 [00:34<02:02,  3.64it/s, loss=0.649]\u001b[A\n",
      " 21%|██        | 119/566 [00:34<02:02,  3.64it/s, loss=0.808]\u001b[A\n",
      " 21%|██        | 120/566 [00:34<02:03,  3.61it/s, loss=0.808]\u001b[A\n",
      " 21%|██        | 120/566 [00:35<02:03,  3.61it/s, loss=0.547]\u001b[A\n",
      " 21%|██▏       | 121/566 [00:35<02:03,  3.62it/s, loss=0.547]\u001b[A\n",
      " 21%|██▏       | 121/566 [00:35<02:03,  3.62it/s, loss=0.944]\u001b[A\n",
      " 22%|██▏       | 122/566 [00:35<02:02,  3.64it/s, loss=0.944]\u001b[A\n",
      " 22%|██▏       | 122/566 [00:35<02:02,  3.64it/s, loss=0.653]\u001b[A\n",
      " 22%|██▏       | 123/566 [00:35<02:01,  3.65it/s, loss=0.653]\u001b[A\n",
      " 22%|██▏       | 123/566 [00:35<02:01,  3.65it/s, loss=0.75] \u001b[A\n",
      " 22%|██▏       | 124/566 [00:35<02:00,  3.65it/s, loss=0.75]\u001b[A\n",
      " 22%|██▏       | 124/566 [00:36<02:00,  3.65it/s, loss=0.664]\u001b[A\n",
      " 22%|██▏       | 125/566 [00:36<02:01,  3.64it/s, loss=0.664]\u001b[A\n",
      " 22%|██▏       | 125/566 [00:36<02:01,  3.64it/s, loss=0.755]\u001b[A\n",
      " 22%|██▏       | 126/566 [00:36<02:00,  3.65it/s, loss=0.755]\u001b[A\n",
      " 22%|██▏       | 126/566 [00:36<02:00,  3.65it/s, loss=0.572]\u001b[A\n",
      " 22%|██▏       | 127/566 [00:36<02:00,  3.65it/s, loss=0.572]\u001b[A\n",
      " 22%|██▏       | 127/566 [00:36<02:00,  3.65it/s, loss=0.346]\u001b[A\n",
      " 23%|██▎       | 128/566 [00:36<01:59,  3.66it/s, loss=0.346]\u001b[A\n",
      " 23%|██▎       | 128/566 [00:37<01:59,  3.66it/s, loss=0.517]\u001b[A\n",
      " 23%|██▎       | 129/566 [00:37<01:59,  3.66it/s, loss=0.517]\u001b[A\n",
      " 23%|██▎       | 129/566 [00:37<01:59,  3.66it/s, loss=1.08] \u001b[A\n",
      " 23%|██▎       | 130/566 [00:37<01:58,  3.67it/s, loss=1.08]\u001b[A\n",
      " 23%|██▎       | 130/566 [00:37<01:58,  3.67it/s, loss=0.576]\u001b[A\n",
      " 23%|██▎       | 131/566 [00:37<01:59,  3.66it/s, loss=0.576]\u001b[A\n",
      " 23%|██▎       | 131/566 [00:38<01:59,  3.66it/s, loss=0.333]\u001b[A\n",
      " 23%|██▎       | 132/566 [00:38<01:58,  3.68it/s, loss=0.333]\u001b[A\n",
      " 23%|██▎       | 132/566 [00:38<01:58,  3.68it/s, loss=1.11] \u001b[A\n",
      " 23%|██▎       | 133/566 [00:38<01:57,  3.68it/s, loss=1.11]\u001b[A\n",
      " 23%|██▎       | 133/566 [00:38<01:57,  3.68it/s, loss=1.08]\u001b[A\n",
      " 24%|██▎       | 134/566 [00:38<01:57,  3.68it/s, loss=1.08]\u001b[A\n",
      " 24%|██▎       | 134/566 [00:38<01:57,  3.68it/s, loss=1.08]\u001b[A\n",
      " 24%|██▍       | 135/566 [00:38<01:57,  3.67it/s, loss=1.08]\u001b[A\n",
      " 24%|██▍       | 135/566 [00:39<01:57,  3.67it/s, loss=0.863]\u001b[A\n",
      " 24%|██▍       | 136/566 [00:39<01:57,  3.66it/s, loss=0.863]\u001b[A\n",
      " 24%|██▍       | 136/566 [00:39<01:57,  3.66it/s, loss=0.752]\u001b[A\n",
      " 24%|██▍       | 137/566 [00:39<01:57,  3.64it/s, loss=0.752]\u001b[A\n",
      " 24%|██▍       | 137/566 [00:39<01:57,  3.64it/s, loss=0.548]\u001b[A\n",
      " 24%|██▍       | 138/566 [00:39<01:57,  3.65it/s, loss=0.548]\u001b[A\n",
      " 24%|██▍       | 138/566 [00:39<01:57,  3.65it/s, loss=0.576]\u001b[A\n",
      " 25%|██▍       | 139/566 [00:40<01:56,  3.65it/s, loss=0.576]\u001b[A\n",
      " 25%|██▍       | 139/566 [00:40<01:56,  3.65it/s, loss=1.26] \u001b[A\n",
      " 25%|██▍       | 140/566 [00:40<01:55,  3.68it/s, loss=1.26]\u001b[A\n",
      " 25%|██▍       | 140/566 [00:40<01:55,  3.68it/s, loss=0.602]\u001b[A\n",
      " 25%|██▍       | 141/566 [00:40<01:55,  3.69it/s, loss=0.602]\u001b[A\n",
      " 25%|██▍       | 141/566 [00:40<01:55,  3.69it/s, loss=0.786]\u001b[A\n",
      " 25%|██▌       | 142/566 [00:40<01:55,  3.67it/s, loss=0.786]\u001b[A\n",
      " 25%|██▌       | 142/566 [00:41<01:55,  3.67it/s, loss=0.694]\u001b[A\n",
      " 25%|██▌       | 143/566 [00:41<01:55,  3.67it/s, loss=0.694]\u001b[A\n",
      " 25%|██▌       | 143/566 [00:41<01:55,  3.67it/s, loss=0.648]\u001b[A\n",
      " 25%|██▌       | 144/566 [00:41<01:55,  3.66it/s, loss=0.648]\u001b[A\n",
      " 25%|██▌       | 144/566 [00:41<01:55,  3.66it/s, loss=0.78] \u001b[A\n",
      " 26%|██▌       | 145/566 [00:41<01:54,  3.68it/s, loss=0.78]\u001b[A\n",
      " 26%|██▌       | 145/566 [00:41<01:54,  3.68it/s, loss=0.691]\u001b[A\n",
      " 26%|██▌       | 146/566 [00:41<01:54,  3.67it/s, loss=0.691]\u001b[A\n",
      " 26%|██▌       | 146/566 [00:42<01:54,  3.67it/s, loss=0.938]\u001b[A\n",
      " 26%|██▌       | 147/566 [00:42<01:53,  3.69it/s, loss=0.938]\u001b[A\n",
      " 26%|██▌       | 147/566 [00:42<01:53,  3.69it/s, loss=0.607]\u001b[A\n",
      " 26%|██▌       | 148/566 [00:42<01:53,  3.68it/s, loss=0.607]\u001b[A\n",
      " 26%|██▌       | 148/566 [00:42<01:53,  3.68it/s, loss=0.665]\u001b[A\n",
      " 26%|██▋       | 149/566 [00:42<01:53,  3.68it/s, loss=0.665]\u001b[A\n",
      " 26%|██▋       | 149/566 [00:42<01:53,  3.68it/s, loss=0.612]\u001b[A\n",
      " 27%|██▋       | 150/566 [00:42<01:53,  3.68it/s, loss=0.612]\u001b[A\n",
      " 27%|██▋       | 150/566 [00:43<01:53,  3.68it/s, loss=0.598]\u001b[A\n",
      " 27%|██▋       | 151/566 [00:43<01:52,  3.68it/s, loss=0.598]\u001b[A\n",
      " 27%|██▋       | 151/566 [00:43<01:52,  3.68it/s, loss=0.694]\u001b[A\n",
      " 27%|██▋       | 152/566 [00:43<01:52,  3.68it/s, loss=0.694]\u001b[A\n",
      " 27%|██▋       | 152/566 [00:43<01:52,  3.68it/s, loss=0.875]\u001b[A\n",
      " 27%|██▋       | 153/566 [00:43<01:52,  3.68it/s, loss=0.875]\u001b[A\n",
      " 27%|██▋       | 153/566 [00:44<01:52,  3.68it/s, loss=0.47] \u001b[A\n",
      " 27%|██▋       | 154/566 [00:44<01:51,  3.68it/s, loss=0.47]\u001b[A\n",
      " 27%|██▋       | 154/566 [00:44<01:51,  3.68it/s, loss=0.985]\u001b[A\n",
      " 27%|██▋       | 155/566 [00:44<01:51,  3.67it/s, loss=0.985]\u001b[A\n",
      " 27%|██▋       | 155/566 [00:44<01:51,  3.67it/s, loss=0.456]\u001b[A\n",
      " 28%|██▊       | 156/566 [00:44<01:51,  3.67it/s, loss=0.456]\u001b[A\n",
      " 28%|██▊       | 156/566 [00:44<01:51,  3.67it/s, loss=0.763]\u001b[A\n",
      " 28%|██▊       | 157/566 [00:44<01:51,  3.66it/s, loss=0.763]\u001b[A\n",
      " 28%|██▊       | 157/566 [00:45<01:51,  3.66it/s, loss=0.678]\u001b[A\n",
      " 28%|██▊       | 158/566 [00:45<01:50,  3.69it/s, loss=0.678]\u001b[A\n",
      " 28%|██▊       | 158/566 [00:45<01:50,  3.69it/s, loss=0.859]\u001b[A\n",
      " 28%|██▊       | 159/566 [00:45<01:50,  3.67it/s, loss=0.859]\u001b[A\n",
      " 28%|██▊       | 159/566 [00:45<01:50,  3.67it/s, loss=0.574]\u001b[A\n",
      " 28%|██▊       | 160/566 [00:45<01:50,  3.69it/s, loss=0.574]\u001b[A\n",
      " 28%|██▊       | 160/566 [00:45<01:50,  3.69it/s, loss=0.571]\u001b[A\n",
      " 28%|██▊       | 161/566 [00:45<01:49,  3.69it/s, loss=0.571]\u001b[A\n",
      " 28%|██▊       | 161/566 [00:46<01:49,  3.69it/s, loss=0.669]\u001b[A\n",
      " 29%|██▊       | 162/566 [00:46<01:49,  3.69it/s, loss=0.669]\u001b[A\n",
      " 29%|██▊       | 162/566 [00:46<01:49,  3.69it/s, loss=0.607]\u001b[A\n",
      " 29%|██▉       | 163/566 [00:46<01:48,  3.72it/s, loss=0.607]\u001b[A\n",
      " 29%|██▉       | 163/566 [00:46<01:48,  3.72it/s, loss=0.721]\u001b[A\n",
      " 29%|██▉       | 164/566 [00:46<01:47,  3.72it/s, loss=0.721]\u001b[A\n",
      " 29%|██▉       | 164/566 [00:47<01:47,  3.72it/s, loss=0.888]\u001b[A\n",
      " 29%|██▉       | 165/566 [00:47<01:47,  3.73it/s, loss=0.888]\u001b[A\n",
      " 29%|██▉       | 165/566 [00:47<01:47,  3.73it/s, loss=1.62] \u001b[A\n",
      " 29%|██▉       | 166/566 [00:47<01:46,  3.74it/s, loss=1.62]\u001b[A\n",
      " 29%|██▉       | 166/566 [00:47<01:46,  3.74it/s, loss=1.13]\u001b[A\n",
      " 30%|██▉       | 167/566 [00:47<01:46,  3.74it/s, loss=1.13]\u001b[A\n",
      " 30%|██▉       | 167/566 [00:47<01:46,  3.74it/s, loss=1.34]\u001b[A\n",
      " 30%|██▉       | 168/566 [00:47<01:46,  3.73it/s, loss=1.34]\u001b[A\n",
      " 30%|██▉       | 168/566 [00:48<01:46,  3.73it/s, loss=0.781]\u001b[A\n",
      " 30%|██▉       | 169/566 [00:48<01:46,  3.73it/s, loss=0.781]\u001b[A\n",
      " 30%|██▉       | 169/566 [00:48<01:46,  3.73it/s, loss=0.827]\u001b[A\n",
      " 30%|███       | 170/566 [00:48<01:45,  3.75it/s, loss=0.827]\u001b[A\n",
      " 30%|███       | 170/566 [00:48<01:45,  3.75it/s, loss=0.806]\u001b[A\n",
      " 30%|███       | 171/566 [00:48<01:45,  3.73it/s, loss=0.806]\u001b[A\n",
      " 30%|███       | 171/566 [00:48<01:45,  3.73it/s, loss=0.657]\u001b[A\n",
      " 30%|███       | 172/566 [00:48<01:45,  3.74it/s, loss=0.657]\u001b[A\n",
      " 30%|███       | 172/566 [00:49<01:45,  3.74it/s, loss=0.665]\u001b[A\n",
      " 31%|███       | 173/566 [00:49<01:45,  3.74it/s, loss=0.665]\u001b[A\n",
      " 31%|███       | 173/566 [00:49<01:45,  3.74it/s, loss=0.806]\u001b[A\n",
      " 31%|███       | 174/566 [00:49<01:45,  3.72it/s, loss=0.806]\u001b[A\n",
      " 31%|███       | 174/566 [00:49<01:45,  3.72it/s, loss=0.745]\u001b[A\n",
      " 31%|███       | 175/566 [00:49<01:45,  3.72it/s, loss=0.745]\u001b[A\n",
      " 31%|███       | 175/566 [00:49<01:45,  3.72it/s, loss=0.689]\u001b[A\n",
      " 31%|███       | 176/566 [00:49<01:44,  3.72it/s, loss=0.689]\u001b[A\n",
      " 31%|███       | 176/566 [00:50<01:44,  3.72it/s, loss=0.671]\u001b[A\n",
      " 31%|███▏      | 177/566 [00:50<01:44,  3.71it/s, loss=0.671]\u001b[A\n",
      " 31%|███▏      | 177/566 [00:50<01:44,  3.71it/s, loss=0.72] \u001b[A\n",
      " 31%|███▏      | 178/566 [00:50<01:44,  3.71it/s, loss=0.72]\u001b[A\n",
      " 31%|███▏      | 178/566 [00:50<01:44,  3.71it/s, loss=0.578]\u001b[A\n",
      " 32%|███▏      | 179/566 [00:50<01:44,  3.71it/s, loss=0.578]\u001b[A\n",
      " 32%|███▏      | 179/566 [00:51<01:44,  3.71it/s, loss=0.385]\u001b[A\n",
      " 32%|███▏      | 180/566 [00:51<01:44,  3.71it/s, loss=0.385]\u001b[A\n",
      " 32%|███▏      | 180/566 [00:51<01:44,  3.71it/s, loss=0.431]\u001b[A\n",
      " 32%|███▏      | 181/566 [00:51<01:43,  3.71it/s, loss=0.431]\u001b[A\n",
      " 32%|███▏      | 181/566 [00:51<01:43,  3.71it/s, loss=0.652]\u001b[A\n",
      " 32%|███▏      | 182/566 [00:51<01:43,  3.71it/s, loss=0.652]\u001b[A\n",
      " 32%|███▏      | 182/566 [00:51<01:43,  3.71it/s, loss=0.611]\u001b[A\n",
      " 32%|███▏      | 183/566 [00:51<01:42,  3.72it/s, loss=0.611]\u001b[A\n",
      " 32%|███▏      | 183/566 [00:52<01:42,  3.72it/s, loss=0.815]\u001b[A\n",
      " 33%|███▎      | 184/566 [00:52<01:42,  3.72it/s, loss=0.815]\u001b[A\n",
      " 33%|███▎      | 184/566 [00:52<01:42,  3.72it/s, loss=1.06] \u001b[A\n",
      " 33%|███▎      | 185/566 [00:52<01:42,  3.72it/s, loss=1.06]\u001b[A\n",
      " 33%|███▎      | 185/566 [00:52<01:42,  3.72it/s, loss=0.612]\u001b[A\n",
      " 33%|███▎      | 186/566 [00:52<01:42,  3.72it/s, loss=0.612]\u001b[A\n",
      " 33%|███▎      | 186/566 [00:52<01:42,  3.72it/s, loss=0.751]\u001b[A\n",
      " 33%|███▎      | 187/566 [00:52<01:41,  3.74it/s, loss=0.751]\u001b[A\n",
      " 33%|███▎      | 187/566 [00:53<01:41,  3.74it/s, loss=0.766]\u001b[A\n",
      " 33%|███▎      | 188/566 [00:53<01:41,  3.74it/s, loss=0.766]\u001b[A\n",
      " 33%|███▎      | 188/566 [00:53<01:41,  3.74it/s, loss=0.762]\u001b[A\n",
      " 33%|███▎      | 189/566 [00:53<01:40,  3.74it/s, loss=0.762]\u001b[A\n",
      " 33%|███▎      | 189/566 [00:53<01:40,  3.74it/s, loss=0.258]\u001b[A\n",
      " 34%|███▎      | 190/566 [00:53<01:40,  3.73it/s, loss=0.258]\u001b[A\n",
      " 34%|███▎      | 190/566 [00:54<01:40,  3.73it/s, loss=0.545]\u001b[A\n",
      " 34%|███▎      | 191/566 [00:54<01:40,  3.73it/s, loss=0.545]\u001b[A\n",
      " 34%|███▎      | 191/566 [00:54<01:40,  3.73it/s, loss=0.727]\u001b[A\n",
      " 34%|███▍      | 192/566 [00:54<01:40,  3.73it/s, loss=0.727]\u001b[A\n",
      " 34%|███▍      | 192/566 [00:54<01:40,  3.73it/s, loss=0.643]\u001b[A\n",
      " 34%|███▍      | 193/566 [00:54<01:39,  3.74it/s, loss=0.643]\u001b[A\n",
      " 34%|███▍      | 193/566 [00:54<01:39,  3.74it/s, loss=0.796]\u001b[A\n",
      " 34%|███▍      | 194/566 [00:54<01:39,  3.74it/s, loss=0.796]\u001b[A\n",
      " 34%|███▍      | 194/566 [00:55<01:39,  3.74it/s, loss=0.968]\u001b[A\n",
      " 34%|███▍      | 195/566 [00:55<01:39,  3.73it/s, loss=0.968]\u001b[A\n",
      " 34%|███▍      | 195/566 [00:55<01:39,  3.73it/s, loss=0.813]\u001b[A\n",
      " 35%|███▍      | 196/566 [00:55<01:38,  3.74it/s, loss=0.813]\u001b[A\n",
      " 35%|███▍      | 196/566 [00:55<01:38,  3.74it/s, loss=0.74] \u001b[A\n",
      " 35%|███▍      | 197/566 [00:55<01:38,  3.76it/s, loss=0.74]\u001b[A\n",
      " 35%|███▍      | 197/566 [00:55<01:38,  3.76it/s, loss=0.606]\u001b[A\n",
      " 35%|███▍      | 198/566 [00:55<01:37,  3.77it/s, loss=0.606]\u001b[A\n",
      " 35%|███▍      | 198/566 [00:56<01:37,  3.77it/s, loss=0.661]\u001b[A\n",
      " 35%|███▌      | 199/566 [00:56<01:37,  3.77it/s, loss=0.661]\u001b[A\n",
      " 35%|███▌      | 199/566 [00:56<01:37,  3.77it/s, loss=0.738]\u001b[A\n",
      " 35%|███▌      | 200/566 [00:56<01:36,  3.80it/s, loss=0.738]\u001b[A\n",
      " 35%|███▌      | 200/566 [00:56<01:36,  3.80it/s, loss=0.627]\u001b[A\n",
      " 36%|███▌      | 201/566 [00:56<01:37,  3.76it/s, loss=0.627]\u001b[A\n",
      " 36%|███▌      | 201/566 [00:56<01:37,  3.76it/s, loss=0.6]  \u001b[A\n",
      " 36%|███▌      | 202/566 [00:56<01:37,  3.74it/s, loss=0.6]\u001b[A\n",
      " 36%|███▌      | 202/566 [00:57<01:37,  3.74it/s, loss=1]  \u001b[A\n",
      " 36%|███▌      | 203/566 [00:57<01:36,  3.75it/s, loss=1]\u001b[A\n",
      " 36%|███▌      | 203/566 [00:57<01:36,  3.75it/s, loss=0.644]\u001b[A\n",
      " 36%|███▌      | 204/566 [00:57<01:36,  3.76it/s, loss=0.644]\u001b[A\n",
      " 36%|███▌      | 204/566 [00:57<01:36,  3.76it/s, loss=0.677]\u001b[A\n",
      " 36%|███▌      | 205/566 [00:57<01:36,  3.73it/s, loss=0.677]\u001b[A\n",
      " 36%|███▌      | 205/566 [00:58<01:36,  3.73it/s, loss=0.595]\u001b[A\n",
      " 36%|███▋      | 206/566 [00:58<01:36,  3.73it/s, loss=0.595]\u001b[A\n",
      " 36%|███▋      | 206/566 [00:58<01:36,  3.73it/s, loss=0.454]\u001b[A\n",
      " 37%|███▋      | 207/566 [00:58<01:35,  3.74it/s, loss=0.454]\u001b[A\n",
      " 37%|███▋      | 207/566 [00:58<01:35,  3.74it/s, loss=1.15] \u001b[A\n",
      " 37%|███▋      | 208/566 [00:58<01:35,  3.76it/s, loss=1.15]\u001b[A\n",
      " 37%|███▋      | 208/566 [00:58<01:35,  3.76it/s, loss=0.763]\u001b[A\n",
      " 37%|███▋      | 209/566 [00:58<01:35,  3.75it/s, loss=0.763]\u001b[A\n",
      " 37%|███▋      | 209/566 [00:59<01:35,  3.75it/s, loss=0.681]\u001b[A\n",
      " 37%|███▋      | 210/566 [00:59<01:34,  3.77it/s, loss=0.681]\u001b[A\n",
      " 37%|███▋      | 210/566 [00:59<01:34,  3.77it/s, loss=0.704]\u001b[A\n",
      " 37%|███▋      | 211/566 [00:59<01:34,  3.78it/s, loss=0.704]\u001b[A\n",
      " 37%|███▋      | 211/566 [00:59<01:34,  3.78it/s, loss=0.567]\u001b[A\n",
      " 37%|███▋      | 212/566 [00:59<01:33,  3.80it/s, loss=0.567]\u001b[A\n",
      " 37%|███▋      | 212/566 [00:59<01:33,  3.80it/s, loss=0.48] \u001b[A\n",
      " 38%|███▊      | 213/566 [00:59<01:33,  3.77it/s, loss=0.48]\u001b[A\n",
      " 38%|███▊      | 213/566 [01:00<01:33,  3.77it/s, loss=0.727]\u001b[A\n",
      " 38%|███▊      | 214/566 [01:00<01:33,  3.76it/s, loss=0.727]\u001b[A\n",
      " 38%|███▊      | 214/566 [01:00<01:33,  3.76it/s, loss=0.711]\u001b[A\n",
      " 38%|███▊      | 215/566 [01:00<01:33,  3.76it/s, loss=0.711]\u001b[A\n",
      " 38%|███▊      | 215/566 [01:00<01:33,  3.76it/s, loss=0.789]\u001b[A\n",
      " 38%|███▊      | 216/566 [01:00<01:32,  3.79it/s, loss=0.789]\u001b[A\n",
      " 38%|███▊      | 216/566 [01:00<01:32,  3.79it/s, loss=0.809]\u001b[A\n",
      " 38%|███▊      | 217/566 [01:00<01:32,  3.76it/s, loss=0.809]\u001b[A\n",
      " 38%|███▊      | 217/566 [01:01<01:32,  3.76it/s, loss=0.596]\u001b[A\n",
      " 39%|███▊      | 218/566 [01:01<01:32,  3.75it/s, loss=0.596]\u001b[A\n",
      " 39%|███▊      | 218/566 [01:01<01:32,  3.75it/s, loss=0.441]\u001b[A\n",
      " 39%|███▊      | 219/566 [01:01<01:32,  3.75it/s, loss=0.441]\u001b[A\n",
      " 39%|███▊      | 219/566 [01:01<01:32,  3.75it/s, loss=1.07] \u001b[A\n",
      " 39%|███▉      | 220/566 [01:01<01:31,  3.77it/s, loss=1.07]\u001b[A\n",
      " 39%|███▉      | 220/566 [01:02<01:31,  3.77it/s, loss=0.537]\u001b[A\n",
      " 39%|███▉      | 221/566 [01:02<01:31,  3.78it/s, loss=0.537]\u001b[A\n",
      " 39%|███▉      | 221/566 [01:02<01:31,  3.78it/s, loss=0.589]\u001b[A\n",
      " 39%|███▉      | 222/566 [01:02<01:30,  3.79it/s, loss=0.589]\u001b[A\n",
      " 39%|███▉      | 222/566 [01:02<01:30,  3.79it/s, loss=0.709]\u001b[A\n",
      " 39%|███▉      | 223/566 [01:02<01:30,  3.77it/s, loss=0.709]\u001b[A\n",
      " 39%|███▉      | 223/566 [01:02<01:30,  3.77it/s, loss=0.922]\u001b[A\n",
      " 40%|███▉      | 224/566 [01:02<01:30,  3.77it/s, loss=0.922]\u001b[A\n",
      " 40%|███▉      | 224/566 [01:03<01:30,  3.77it/s, loss=0.417]\u001b[A\n",
      " 40%|███▉      | 225/566 [01:03<01:30,  3.75it/s, loss=0.417]\u001b[A\n",
      " 40%|███▉      | 225/566 [01:03<01:30,  3.75it/s, loss=0.617]\u001b[A\n",
      " 40%|███▉      | 226/566 [01:03<01:29,  3.78it/s, loss=0.617]\u001b[A\n",
      " 40%|███▉      | 226/566 [01:03<01:29,  3.78it/s, loss=0.614]\u001b[A\n",
      " 40%|████      | 227/566 [01:03<01:29,  3.79it/s, loss=0.614]\u001b[A\n",
      " 40%|████      | 227/566 [01:03<01:29,  3.79it/s, loss=0.95] \u001b[A\n",
      " 40%|████      | 228/566 [01:03<01:29,  3.79it/s, loss=0.95]\u001b[A\n",
      " 40%|████      | 228/566 [01:04<01:29,  3.79it/s, loss=0.611]\u001b[A\n",
      " 40%|████      | 229/566 [01:04<01:29,  3.78it/s, loss=0.611]\u001b[A\n",
      " 40%|████      | 229/566 [01:04<01:29,  3.78it/s, loss=0.922]\u001b[A\n",
      " 41%|████      | 230/566 [01:04<01:28,  3.78it/s, loss=0.922]\u001b[A\n",
      " 41%|████      | 230/566 [01:04<01:28,  3.78it/s, loss=0.502]\u001b[A\n",
      " 41%|████      | 231/566 [01:04<01:28,  3.79it/s, loss=0.502]\u001b[A\n",
      " 41%|████      | 231/566 [01:04<01:28,  3.79it/s, loss=0.649]\u001b[A\n",
      " 41%|████      | 232/566 [01:04<01:28,  3.79it/s, loss=0.649]\u001b[A\n",
      " 41%|████      | 232/566 [01:05<01:28,  3.79it/s, loss=0.726]\u001b[A\n",
      " 41%|████      | 233/566 [01:05<01:27,  3.78it/s, loss=0.726]\u001b[A\n",
      " 41%|████      | 233/566 [01:05<01:27,  3.78it/s, loss=0.371]\u001b[A\n",
      " 41%|████▏     | 234/566 [01:05<01:27,  3.79it/s, loss=0.371]\u001b[A\n",
      " 41%|████▏     | 234/566 [01:05<01:27,  3.79it/s, loss=0.84] \u001b[A\n",
      " 42%|████▏     | 235/566 [01:05<01:27,  3.77it/s, loss=0.84]\u001b[A\n",
      " 42%|████▏     | 235/566 [01:05<01:27,  3.77it/s, loss=0.749]\u001b[A\n",
      " 42%|████▏     | 236/566 [01:05<01:27,  3.79it/s, loss=0.749]\u001b[A\n",
      " 42%|████▏     | 236/566 [01:06<01:27,  3.79it/s, loss=0.717]\u001b[A\n",
      " 42%|████▏     | 237/566 [01:06<01:26,  3.81it/s, loss=0.717]\u001b[A\n",
      " 42%|████▏     | 237/566 [01:06<01:26,  3.81it/s, loss=0.959]\u001b[A\n",
      " 42%|████▏     | 238/566 [01:06<01:26,  3.80it/s, loss=0.959]\u001b[A\n",
      " 42%|████▏     | 238/566 [01:06<01:26,  3.80it/s, loss=0.588]\u001b[A\n",
      " 42%|████▏     | 239/566 [01:06<01:26,  3.78it/s, loss=0.588]\u001b[A\n",
      " 42%|████▏     | 239/566 [01:07<01:26,  3.78it/s, loss=0.677]\u001b[A\n",
      " 42%|████▏     | 240/566 [01:07<01:26,  3.78it/s, loss=0.677]\u001b[A\n",
      " 42%|████▏     | 240/566 [01:07<01:26,  3.78it/s, loss=0.798]\u001b[A\n",
      " 43%|████▎     | 241/566 [01:07<01:25,  3.81it/s, loss=0.798]\u001b[A\n",
      " 43%|████▎     | 241/566 [01:07<01:25,  3.81it/s, loss=0.649]\u001b[A\n",
      " 43%|████▎     | 242/566 [01:07<01:25,  3.79it/s, loss=0.649]\u001b[A\n",
      " 43%|████▎     | 242/566 [01:07<01:25,  3.79it/s, loss=0.425]\u001b[A\n",
      " 43%|████▎     | 243/566 [01:07<01:24,  3.80it/s, loss=0.425]\u001b[A\n",
      " 43%|████▎     | 243/566 [01:08<01:24,  3.80it/s, loss=0.772]\u001b[A\n",
      " 43%|████▎     | 244/566 [01:08<01:26,  3.72it/s, loss=0.772]\u001b[A\n",
      " 43%|████▎     | 244/566 [01:08<01:26,  3.72it/s, loss=0.674]\u001b[A\n",
      " 43%|████▎     | 245/566 [01:08<01:29,  3.60it/s, loss=0.674]\u001b[A\n",
      " 43%|████▎     | 245/566 [01:08<01:29,  3.60it/s, loss=0.699]\u001b[A\n",
      " 43%|████▎     | 246/566 [01:08<01:36,  3.33it/s, loss=0.699]\u001b[A\n",
      " 43%|████▎     | 246/566 [01:09<01:36,  3.33it/s, loss=0.669]\u001b[A\n",
      " 44%|████▎     | 247/566 [01:09<01:38,  3.25it/s, loss=0.669]\u001b[A\n",
      " 44%|████▎     | 247/566 [01:09<01:38,  3.25it/s, loss=0.83] \u001b[A\n",
      " 44%|████▍     | 248/566 [01:09<01:40,  3.17it/s, loss=0.83]\u001b[A\n",
      " 44%|████▍     | 248/566 [01:09<01:40,  3.17it/s, loss=0.524]\u001b[A\n",
      " 44%|████▍     | 249/566 [01:09<01:39,  3.18it/s, loss=0.524]\u001b[A\n",
      " 44%|████▍     | 249/566 [01:10<01:39,  3.18it/s, loss=0.486]\u001b[A\n",
      " 44%|████▍     | 250/566 [01:10<01:37,  3.25it/s, loss=0.486]\u001b[A\n",
      " 44%|████▍     | 250/566 [01:10<01:37,  3.25it/s, loss=0.944]\u001b[A\n",
      " 44%|████▍     | 251/566 [01:10<01:33,  3.38it/s, loss=0.944]\u001b[A\n",
      " 44%|████▍     | 251/566 [01:10<01:33,  3.38it/s, loss=0.606]\u001b[A\n",
      " 45%|████▍     | 252/566 [01:10<01:37,  3.21it/s, loss=0.606]\u001b[A\n",
      " 45%|████▍     | 252/566 [01:10<01:37,  3.21it/s, loss=0.527]\u001b[A\n",
      " 45%|████▍     | 253/566 [01:10<01:40,  3.11it/s, loss=0.527]\u001b[A\n",
      " 45%|████▍     | 253/566 [01:11<01:40,  3.11it/s, loss=0.499]\u001b[A\n",
      " 45%|████▍     | 254/566 [01:11<01:36,  3.22it/s, loss=0.499]\u001b[A\n",
      " 45%|████▍     | 254/566 [01:11<01:36,  3.22it/s, loss=0.434]\u001b[A\n",
      " 45%|████▌     | 255/566 [01:11<01:33,  3.34it/s, loss=0.434]\u001b[A\n",
      " 45%|████▌     | 255/566 [01:11<01:33,  3.34it/s, loss=0.526]\u001b[A\n",
      " 45%|████▌     | 256/566 [01:11<01:29,  3.47it/s, loss=0.526]\u001b[A\n",
      " 45%|████▌     | 256/566 [01:12<01:29,  3.47it/s, loss=0.705]\u001b[A\n",
      " 45%|████▌     | 257/566 [01:12<01:27,  3.54it/s, loss=0.705]\u001b[A\n",
      " 45%|████▌     | 257/566 [01:12<01:27,  3.54it/s, loss=0.443]\u001b[A\n",
      " 46%|████▌     | 258/566 [01:12<01:25,  3.59it/s, loss=0.443]\u001b[A\n",
      " 46%|████▌     | 258/566 [01:12<01:25,  3.59it/s, loss=0.453]\u001b[A\n",
      " 46%|████▌     | 259/566 [01:12<01:24,  3.65it/s, loss=0.453]\u001b[A\n",
      " 46%|████▌     | 259/566 [01:12<01:24,  3.65it/s, loss=0.728]\u001b[A\n",
      " 46%|████▌     | 260/566 [01:12<01:23,  3.67it/s, loss=0.728]\u001b[A\n",
      " 46%|████▌     | 260/566 [01:13<01:23,  3.67it/s, loss=0.718]\u001b[A\n",
      " 46%|████▌     | 261/566 [01:13<01:22,  3.70it/s, loss=0.718]\u001b[A\n",
      " 46%|████▌     | 261/566 [01:13<01:22,  3.70it/s, loss=0.582]\u001b[A\n",
      " 46%|████▋     | 262/566 [01:13<01:21,  3.72it/s, loss=0.582]\u001b[A\n",
      " 46%|████▋     | 262/566 [01:13<01:21,  3.72it/s, loss=0.877]\u001b[A\n",
      " 46%|████▋     | 263/566 [01:13<01:22,  3.69it/s, loss=0.877]\u001b[A\n",
      " 46%|████▋     | 263/566 [01:13<01:22,  3.69it/s, loss=0.258]\u001b[A\n",
      " 47%|████▋     | 264/566 [01:13<01:20,  3.73it/s, loss=0.258]\u001b[A\n",
      " 47%|████▋     | 264/566 [01:14<01:20,  3.73it/s, loss=0.877]\u001b[A\n",
      " 47%|████▋     | 265/566 [01:14<01:21,  3.71it/s, loss=0.877]\u001b[A\n",
      " 47%|████▋     | 265/566 [01:14<01:21,  3.71it/s, loss=1.16] \u001b[A\n",
      " 47%|████▋     | 266/566 [01:14<01:20,  3.72it/s, loss=1.16]\u001b[A\n",
      " 47%|████▋     | 266/566 [01:14<01:20,  3.72it/s, loss=0.764]\u001b[A\n",
      " 47%|████▋     | 267/566 [01:14<01:19,  3.75it/s, loss=0.764]\u001b[A\n",
      " 47%|████▋     | 267/566 [01:14<01:19,  3.75it/s, loss=0.518]\u001b[A\n",
      " 47%|████▋     | 268/566 [01:14<01:19,  3.76it/s, loss=0.518]\u001b[A\n",
      " 47%|████▋     | 268/566 [01:15<01:19,  3.76it/s, loss=0.763]\u001b[A\n",
      " 48%|████▊     | 269/566 [01:15<01:18,  3.78it/s, loss=0.763]\u001b[A\n",
      " 48%|████▊     | 269/566 [01:15<01:18,  3.78it/s, loss=0.509]\u001b[A\n",
      " 48%|████▊     | 270/566 [01:15<01:18,  3.77it/s, loss=0.509]\u001b[A\n",
      " 48%|████▊     | 270/566 [01:15<01:18,  3.77it/s, loss=0.648]\u001b[A\n",
      " 48%|████▊     | 271/566 [01:15<01:18,  3.76it/s, loss=0.648]\u001b[A\n",
      " 48%|████▊     | 271/566 [01:16<01:18,  3.76it/s, loss=0.51] \u001b[A\n",
      " 48%|████▊     | 272/566 [01:16<01:18,  3.76it/s, loss=0.51]\u001b[A\n",
      " 48%|████▊     | 272/566 [01:16<01:18,  3.76it/s, loss=0.546]\u001b[A\n",
      " 48%|████▊     | 273/566 [01:16<01:17,  3.79it/s, loss=0.546]\u001b[A\n",
      " 48%|████▊     | 273/566 [01:16<01:17,  3.79it/s, loss=0.532]\u001b[A\n",
      " 48%|████▊     | 274/566 [01:16<01:17,  3.79it/s, loss=0.532]\u001b[A\n",
      " 48%|████▊     | 274/566 [01:16<01:17,  3.79it/s, loss=0.412]\u001b[A\n",
      " 49%|████▊     | 275/566 [01:16<01:17,  3.77it/s, loss=0.412]\u001b[A\n",
      " 49%|████▊     | 275/566 [01:17<01:17,  3.77it/s, loss=0.508]\u001b[A\n",
      " 49%|████▉     | 276/566 [01:17<01:16,  3.80it/s, loss=0.508]\u001b[A\n",
      " 49%|████▉     | 276/566 [01:17<01:16,  3.80it/s, loss=0.411]\u001b[A\n",
      " 49%|████▉     | 277/566 [01:17<01:16,  3.79it/s, loss=0.411]\u001b[A\n",
      " 49%|████▉     | 277/566 [01:17<01:16,  3.79it/s, loss=0.385]\u001b[A\n",
      " 49%|████▉     | 278/566 [01:17<01:15,  3.80it/s, loss=0.385]\u001b[A\n",
      " 49%|████▉     | 278/566 [01:17<01:15,  3.80it/s, loss=0.444]\u001b[A\n",
      " 49%|████▉     | 279/566 [01:17<01:15,  3.78it/s, loss=0.444]\u001b[A\n",
      " 49%|████▉     | 279/566 [01:18<01:15,  3.78it/s, loss=1.04] \u001b[A\n",
      " 49%|████▉     | 280/566 [01:18<01:15,  3.79it/s, loss=1.04]\u001b[A\n",
      " 49%|████▉     | 280/566 [01:18<01:15,  3.79it/s, loss=0.643]\u001b[A\n",
      " 50%|████▉     | 281/566 [01:18<01:15,  3.79it/s, loss=0.643]\u001b[A\n",
      " 50%|████▉     | 281/566 [01:18<01:15,  3.79it/s, loss=0.899]\u001b[A\n",
      " 50%|████▉     | 282/566 [01:18<01:14,  3.80it/s, loss=0.899]\u001b[A\n",
      " 50%|████▉     | 282/566 [01:18<01:14,  3.80it/s, loss=0.696]\u001b[A\n",
      " 50%|█████     | 283/566 [01:18<01:14,  3.80it/s, loss=0.696]\u001b[A\n",
      " 50%|█████     | 283/566 [01:19<01:14,  3.80it/s, loss=0.606]\u001b[A\n",
      " 50%|█████     | 284/566 [01:19<01:14,  3.79it/s, loss=0.606]\u001b[A\n",
      " 50%|█████     | 284/566 [01:19<01:14,  3.79it/s, loss=0.778]\u001b[A\n",
      " 50%|█████     | 285/566 [01:19<01:14,  3.80it/s, loss=0.778]\u001b[A\n",
      " 50%|█████     | 285/566 [01:19<01:14,  3.80it/s, loss=0.822]\u001b[A\n",
      " 51%|█████     | 286/566 [01:19<01:14,  3.78it/s, loss=0.822]\u001b[A\n",
      " 51%|█████     | 286/566 [01:20<01:14,  3.78it/s, loss=0.758]\u001b[A\n",
      " 51%|█████     | 287/566 [01:20<01:14,  3.76it/s, loss=0.758]\u001b[A\n",
      " 51%|█████     | 287/566 [01:20<01:14,  3.76it/s, loss=0.357]\u001b[A\n",
      " 51%|█████     | 288/566 [01:20<01:14,  3.75it/s, loss=0.357]\u001b[A\n",
      " 51%|█████     | 288/566 [01:20<01:14,  3.75it/s, loss=0.817]\u001b[A\n",
      " 51%|█████     | 289/566 [01:20<01:13,  3.75it/s, loss=0.817]\u001b[A\n",
      " 51%|█████     | 289/566 [01:20<01:13,  3.75it/s, loss=0.549]\u001b[A\n",
      " 51%|█████     | 290/566 [01:20<01:13,  3.75it/s, loss=0.549]\u001b[A\n",
      " 51%|█████     | 290/566 [01:21<01:13,  3.75it/s, loss=0.662]\u001b[A\n",
      " 51%|█████▏    | 291/566 [01:21<01:13,  3.75it/s, loss=0.662]\u001b[A\n",
      " 51%|█████▏    | 291/566 [01:21<01:13,  3.75it/s, loss=0.424]\u001b[A\n",
      " 52%|█████▏    | 292/566 [01:21<01:13,  3.72it/s, loss=0.424]\u001b[A\n",
      " 52%|█████▏    | 292/566 [01:21<01:13,  3.72it/s, loss=0.852]\u001b[A\n",
      " 52%|█████▏    | 293/566 [01:21<01:13,  3.73it/s, loss=0.852]\u001b[A\n",
      " 52%|█████▏    | 293/566 [01:21<01:13,  3.73it/s, loss=0.591]\u001b[A\n",
      " 52%|█████▏    | 294/566 [01:21<01:12,  3.74it/s, loss=0.591]\u001b[A\n",
      " 52%|█████▏    | 294/566 [01:22<01:12,  3.74it/s, loss=0.828]\u001b[A\n",
      " 52%|█████▏    | 295/566 [01:22<01:12,  3.74it/s, loss=0.828]\u001b[A\n",
      " 52%|█████▏    | 295/566 [01:22<01:12,  3.74it/s, loss=0.582]\u001b[A\n",
      " 52%|█████▏    | 296/566 [01:22<01:12,  3.72it/s, loss=0.582]\u001b[A\n",
      " 52%|█████▏    | 296/566 [01:22<01:12,  3.72it/s, loss=0.767]\u001b[A\n",
      " 52%|█████▏    | 297/566 [01:22<01:12,  3.73it/s, loss=0.767]\u001b[A\n",
      " 52%|█████▏    | 297/566 [01:22<01:12,  3.73it/s, loss=0.537]\u001b[A\n",
      " 53%|█████▎    | 298/566 [01:22<01:12,  3.72it/s, loss=0.537]\u001b[A\n",
      " 53%|█████▎    | 298/566 [01:23<01:12,  3.72it/s, loss=0.612]\u001b[A\n",
      " 53%|█████▎    | 299/566 [01:23<01:11,  3.73it/s, loss=0.612]\u001b[A\n",
      " 53%|█████▎    | 299/566 [01:23<01:11,  3.73it/s, loss=0.467]\u001b[A\n",
      " 53%|█████▎    | 300/566 [01:23<01:11,  3.74it/s, loss=0.467]\u001b[A\n",
      " 53%|█████▎    | 300/566 [01:23<01:11,  3.74it/s, loss=0.656]\u001b[A\n",
      " 53%|█████▎    | 301/566 [01:23<01:10,  3.74it/s, loss=0.656]\u001b[A\n",
      " 53%|█████▎    | 301/566 [01:24<01:10,  3.74it/s, loss=0.841]\u001b[A\n",
      " 53%|█████▎    | 302/566 [01:24<01:10,  3.74it/s, loss=0.841]\u001b[A\n",
      " 53%|█████▎    | 302/566 [01:24<01:10,  3.74it/s, loss=0.63] \u001b[A\n",
      " 54%|█████▎    | 303/566 [01:24<01:10,  3.75it/s, loss=0.63]\u001b[A\n",
      " 54%|█████▎    | 303/566 [01:24<01:10,  3.75it/s, loss=0.493]\u001b[A\n",
      " 54%|█████▎    | 304/566 [01:24<01:10,  3.74it/s, loss=0.493]\u001b[A\n",
      " 54%|█████▎    | 304/566 [01:24<01:10,  3.74it/s, loss=0.417]\u001b[A\n",
      " 54%|█████▍    | 305/566 [01:24<01:09,  3.78it/s, loss=0.417]\u001b[A\n",
      " 54%|█████▍    | 305/566 [01:25<01:09,  3.78it/s, loss=0.873]\u001b[A\n",
      " 54%|█████▍    | 306/566 [01:25<01:08,  3.78it/s, loss=0.873]\u001b[A\n",
      " 54%|█████▍    | 306/566 [01:25<01:08,  3.78it/s, loss=0.705]\u001b[A\n",
      " 54%|█████▍    | 307/566 [01:25<01:08,  3.77it/s, loss=0.705]\u001b[A\n",
      " 54%|█████▍    | 307/566 [01:25<01:08,  3.77it/s, loss=0.672]\u001b[A\n",
      " 54%|█████▍    | 308/566 [01:25<01:08,  3.77it/s, loss=0.672]\u001b[A\n",
      " 54%|█████▍    | 308/566 [01:25<01:08,  3.77it/s, loss=0.606]\u001b[A\n",
      " 55%|█████▍    | 309/566 [01:25<01:07,  3.79it/s, loss=0.606]\u001b[A\n",
      " 55%|█████▍    | 309/566 [01:26<01:07,  3.79it/s, loss=0.496]\u001b[A\n",
      " 55%|█████▍    | 310/566 [01:26<01:07,  3.77it/s, loss=0.496]\u001b[A\n",
      " 55%|█████▍    | 310/566 [01:26<01:07,  3.77it/s, loss=1.03] \u001b[A\n",
      " 55%|█████▍    | 311/566 [01:26<01:08,  3.75it/s, loss=1.03]\u001b[A\n",
      " 55%|█████▍    | 311/566 [01:26<01:08,  3.75it/s, loss=0.634]\u001b[A\n",
      " 55%|█████▌    | 312/566 [01:26<01:07,  3.75it/s, loss=0.634]\u001b[A\n",
      " 55%|█████▌    | 312/566 [01:26<01:07,  3.75it/s, loss=0.696]\u001b[A\n",
      " 55%|█████▌    | 313/566 [01:26<01:07,  3.77it/s, loss=0.696]\u001b[A\n",
      " 55%|█████▌    | 313/566 [01:27<01:07,  3.77it/s, loss=0.639]\u001b[A\n",
      " 55%|█████▌    | 314/566 [01:27<01:07,  3.74it/s, loss=0.639]\u001b[A\n",
      " 55%|█████▌    | 314/566 [01:27<01:07,  3.74it/s, loss=0.442]\u001b[A\n",
      " 56%|█████▌    | 315/566 [01:27<01:07,  3.72it/s, loss=0.442]\u001b[A\n",
      " 56%|█████▌    | 315/566 [01:27<01:07,  3.72it/s, loss=0.383]\u001b[A\n",
      " 56%|█████▌    | 316/566 [01:27<01:06,  3.73it/s, loss=0.383]\u001b[A\n",
      " 56%|█████▌    | 316/566 [01:28<01:06,  3.73it/s, loss=0.491]\u001b[A\n",
      " 56%|█████▌    | 317/566 [01:28<01:07,  3.71it/s, loss=0.491]\u001b[A\n",
      " 56%|█████▌    | 317/566 [01:28<01:07,  3.71it/s, loss=0.926]\u001b[A\n",
      " 56%|█████▌    | 318/566 [01:28<01:06,  3.73it/s, loss=0.926]\u001b[A\n",
      " 56%|█████▌    | 318/566 [01:28<01:06,  3.73it/s, loss=0.365]\u001b[A\n",
      " 56%|█████▋    | 319/566 [01:28<01:06,  3.72it/s, loss=0.365]\u001b[A\n",
      " 56%|█████▋    | 319/566 [01:28<01:06,  3.72it/s, loss=0.566]\u001b[A\n",
      " 57%|█████▋    | 320/566 [01:28<01:05,  3.74it/s, loss=0.566]\u001b[A\n",
      " 57%|█████▋    | 320/566 [01:29<01:05,  3.74it/s, loss=0.692]\u001b[A\n",
      " 57%|█████▋    | 321/566 [01:29<01:05,  3.74it/s, loss=0.692]\u001b[A\n",
      " 57%|█████▋    | 321/566 [01:29<01:05,  3.74it/s, loss=0.973]\u001b[A\n",
      " 57%|█████▋    | 322/566 [01:29<01:05,  3.75it/s, loss=0.973]\u001b[A\n",
      " 57%|█████▋    | 322/566 [01:29<01:05,  3.75it/s, loss=0.467]\u001b[A\n",
      " 57%|█████▋    | 323/566 [01:29<01:04,  3.76it/s, loss=0.467]\u001b[A\n",
      " 57%|█████▋    | 323/566 [01:29<01:04,  3.76it/s, loss=0.725]\u001b[A\n",
      " 57%|█████▋    | 324/566 [01:29<01:04,  3.75it/s, loss=0.725]\u001b[A\n",
      " 57%|█████▋    | 324/566 [01:30<01:04,  3.75it/s, loss=0.399]\u001b[A\n",
      " 57%|█████▋    | 325/566 [01:30<01:04,  3.73it/s, loss=0.399]\u001b[A\n",
      " 57%|█████▋    | 325/566 [01:30<01:04,  3.73it/s, loss=0.733]\u001b[A\n",
      " 58%|█████▊    | 326/566 [01:30<01:04,  3.74it/s, loss=0.733]\u001b[A\n",
      " 58%|█████▊    | 326/566 [01:30<01:04,  3.74it/s, loss=0.826]\u001b[A\n",
      " 58%|█████▊    | 327/566 [01:30<01:03,  3.74it/s, loss=0.826]\u001b[A\n",
      " 58%|█████▊    | 327/566 [01:30<01:03,  3.74it/s, loss=0.405]\u001b[A\n",
      " 58%|█████▊    | 328/566 [01:30<01:03,  3.74it/s, loss=0.405]\u001b[A\n",
      " 58%|█████▊    | 328/566 [01:31<01:03,  3.74it/s, loss=0.493]\u001b[A\n",
      " 58%|█████▊    | 329/566 [01:31<01:03,  3.74it/s, loss=0.493]\u001b[A\n",
      " 58%|█████▊    | 329/566 [01:31<01:03,  3.74it/s, loss=0.42] \u001b[A\n",
      " 58%|█████▊    | 330/566 [01:31<01:03,  3.74it/s, loss=0.42]\u001b[A\n",
      " 58%|█████▊    | 330/566 [01:31<01:03,  3.74it/s, loss=0.738]\u001b[A\n",
      " 58%|█████▊    | 331/566 [01:31<01:03,  3.73it/s, loss=0.738]\u001b[A\n",
      " 58%|█████▊    | 331/566 [01:32<01:03,  3.73it/s, loss=0.769]\u001b[A\n",
      " 59%|█████▊    | 332/566 [01:32<01:02,  3.73it/s, loss=0.769]\u001b[A\n",
      " 59%|█████▊    | 332/566 [01:32<01:02,  3.73it/s, loss=0.602]\u001b[A\n",
      " 59%|█████▉    | 333/566 [01:32<01:02,  3.72it/s, loss=0.602]\u001b[A\n",
      " 59%|█████▉    | 333/566 [01:32<01:02,  3.72it/s, loss=0.725]\u001b[A\n",
      " 59%|█████▉    | 334/566 [01:32<01:02,  3.72it/s, loss=0.725]\u001b[A\n",
      " 59%|█████▉    | 334/566 [01:32<01:02,  3.72it/s, loss=0.874]\u001b[A\n",
      " 59%|█████▉    | 335/566 [01:32<01:02,  3.72it/s, loss=0.874]\u001b[A\n",
      " 59%|█████▉    | 335/566 [01:33<01:02,  3.72it/s, loss=0.693]\u001b[A\n",
      " 59%|█████▉    | 336/566 [01:33<01:01,  3.72it/s, loss=0.693]\u001b[A\n",
      " 59%|█████▉    | 336/566 [01:33<01:01,  3.72it/s, loss=0.586]\u001b[A\n",
      " 60%|█████▉    | 337/566 [01:33<01:01,  3.70it/s, loss=0.586]\u001b[A\n",
      " 60%|█████▉    | 337/566 [01:33<01:01,  3.70it/s, loss=0.907]\u001b[A\n",
      " 60%|█████▉    | 338/566 [01:33<01:01,  3.68it/s, loss=0.907]\u001b[A\n",
      " 60%|█████▉    | 338/566 [01:33<01:01,  3.68it/s, loss=0.583]\u001b[A\n",
      " 60%|█████▉    | 339/566 [01:33<01:01,  3.72it/s, loss=0.583]\u001b[A\n",
      " 60%|█████▉    | 339/566 [01:34<01:01,  3.72it/s, loss=0.523]\u001b[A\n",
      " 60%|██████    | 340/566 [01:34<01:00,  3.71it/s, loss=0.523]\u001b[A\n",
      " 60%|██████    | 340/566 [01:34<01:00,  3.71it/s, loss=0.972]\u001b[A\n",
      " 60%|██████    | 341/566 [01:34<01:00,  3.71it/s, loss=0.972]\u001b[A\n",
      " 60%|██████    | 341/566 [01:34<01:00,  3.71it/s, loss=0.532]\u001b[A\n",
      " 60%|██████    | 342/566 [01:34<01:00,  3.71it/s, loss=0.532]\u001b[A\n",
      " 60%|██████    | 342/566 [01:35<01:00,  3.71it/s, loss=0.737]\u001b[A\n",
      " 61%|██████    | 343/566 [01:35<01:00,  3.69it/s, loss=0.737]\u001b[A\n",
      " 61%|██████    | 343/566 [01:35<01:00,  3.69it/s, loss=1.04] \u001b[A\n",
      " 61%|██████    | 344/566 [01:35<00:59,  3.71it/s, loss=1.04]\u001b[A\n",
      " 61%|██████    | 344/566 [01:35<00:59,  3.71it/s, loss=0.619]\u001b[A\n",
      " 61%|██████    | 345/566 [01:35<00:59,  3.72it/s, loss=0.619]\u001b[A\n",
      " 61%|██████    | 345/566 [01:35<00:59,  3.72it/s, loss=0.742]\u001b[A\n",
      " 61%|██████    | 346/566 [01:35<00:59,  3.70it/s, loss=0.742]\u001b[A\n",
      " 61%|██████    | 346/566 [01:36<00:59,  3.70it/s, loss=0.683]\u001b[A\n",
      " 61%|██████▏   | 347/566 [01:36<00:59,  3.71it/s, loss=0.683]\u001b[A\n",
      " 61%|██████▏   | 347/566 [01:36<00:59,  3.71it/s, loss=0.938]\u001b[A\n",
      " 61%|██████▏   | 348/566 [01:36<00:58,  3.70it/s, loss=0.938]\u001b[A\n",
      " 61%|██████▏   | 348/566 [01:36<00:58,  3.70it/s, loss=0.781]\u001b[A\n",
      " 62%|██████▏   | 349/566 [01:36<00:58,  3.68it/s, loss=0.781]\u001b[A\n",
      " 62%|██████▏   | 349/566 [01:36<00:58,  3.68it/s, loss=0.554]\u001b[A\n",
      " 62%|██████▏   | 350/566 [01:36<00:58,  3.69it/s, loss=0.554]\u001b[A\n",
      " 62%|██████▏   | 350/566 [01:37<00:58,  3.69it/s, loss=0.907]\u001b[A\n",
      " 62%|██████▏   | 351/566 [01:37<00:58,  3.70it/s, loss=0.907]\u001b[A\n",
      " 62%|██████▏   | 351/566 [01:37<00:58,  3.70it/s, loss=0.893]\u001b[A\n",
      " 62%|██████▏   | 352/566 [01:37<00:58,  3.67it/s, loss=0.893]\u001b[A\n",
      " 62%|██████▏   | 352/566 [01:37<00:58,  3.67it/s, loss=0.847]\u001b[A\n",
      " 62%|██████▏   | 353/566 [01:37<00:58,  3.67it/s, loss=0.847]\u001b[A\n",
      " 62%|██████▏   | 353/566 [01:37<00:58,  3.67it/s, loss=0.52] \u001b[A\n",
      " 63%|██████▎   | 354/566 [01:37<00:57,  3.70it/s, loss=0.52]\u001b[A\n",
      " 63%|██████▎   | 354/566 [01:38<00:57,  3.70it/s, loss=0.959]\u001b[A\n",
      " 63%|██████▎   | 355/566 [01:38<00:56,  3.70it/s, loss=0.959]\u001b[A\n",
      " 63%|██████▎   | 355/566 [01:38<00:56,  3.70it/s, loss=0.736]\u001b[A\n",
      " 63%|██████▎   | 356/566 [01:38<00:56,  3.71it/s, loss=0.736]\u001b[A\n",
      " 63%|██████▎   | 356/566 [01:38<00:56,  3.71it/s, loss=0.51] \u001b[A\n",
      " 63%|██████▎   | 357/566 [01:38<00:56,  3.70it/s, loss=0.51]\u001b[A\n",
      " 63%|██████▎   | 357/566 [01:39<00:56,  3.70it/s, loss=0.613]\u001b[A\n",
      " 63%|██████▎   | 358/566 [01:39<00:56,  3.70it/s, loss=0.613]\u001b[A\n",
      " 63%|██████▎   | 358/566 [01:39<00:56,  3.70it/s, loss=1.39] \u001b[A\n",
      " 63%|██████▎   | 359/566 [01:39<00:55,  3.71it/s, loss=1.39]\u001b[A\n",
      " 63%|██████▎   | 359/566 [01:39<00:55,  3.71it/s, loss=0.771]\u001b[A\n",
      " 64%|██████▎   | 360/566 [01:39<00:55,  3.68it/s, loss=0.771]\u001b[A\n",
      " 64%|██████▎   | 360/566 [01:39<00:55,  3.68it/s, loss=1.08] \u001b[A\n",
      " 64%|██████▍   | 361/566 [01:39<00:55,  3.70it/s, loss=1.08]\u001b[A\n",
      " 64%|██████▍   | 361/566 [01:40<00:55,  3.70it/s, loss=0.507]\u001b[A\n",
      " 64%|██████▍   | 362/566 [01:40<00:55,  3.69it/s, loss=0.507]\u001b[A\n",
      " 64%|██████▍   | 362/566 [01:40<00:55,  3.69it/s, loss=0.976]\u001b[A\n",
      " 64%|██████▍   | 363/566 [01:40<00:54,  3.71it/s, loss=0.976]\u001b[A\n",
      " 64%|██████▍   | 363/566 [01:40<00:54,  3.71it/s, loss=0.645]\u001b[A\n",
      " 64%|██████▍   | 364/566 [01:40<00:54,  3.71it/s, loss=0.645]\u001b[A\n",
      " 64%|██████▍   | 364/566 [01:40<00:54,  3.71it/s, loss=0.812]\u001b[A\n",
      " 64%|██████▍   | 365/566 [01:40<00:54,  3.72it/s, loss=0.812]\u001b[A\n",
      " 64%|██████▍   | 365/566 [01:41<00:54,  3.72it/s, loss=0.708]\u001b[A\n",
      " 65%|██████▍   | 366/566 [01:41<00:53,  3.71it/s, loss=0.708]\u001b[A\n",
      " 65%|██████▍   | 366/566 [01:41<00:53,  3.71it/s, loss=0.608]\u001b[A\n",
      " 65%|██████▍   | 367/566 [01:41<00:53,  3.70it/s, loss=0.608]\u001b[A\n",
      " 65%|██████▍   | 367/566 [01:41<00:53,  3.70it/s, loss=0.859]\u001b[A\n",
      " 65%|██████▌   | 368/566 [01:41<00:53,  3.71it/s, loss=0.859]\u001b[A\n",
      " 65%|██████▌   | 368/566 [01:42<00:53,  3.71it/s, loss=0.631]\u001b[A\n",
      " 65%|██████▌   | 369/566 [01:42<00:53,  3.70it/s, loss=0.631]\u001b[A\n",
      " 65%|██████▌   | 369/566 [01:42<00:53,  3.70it/s, loss=1.07] \u001b[A\n",
      " 65%|██████▌   | 370/566 [01:42<00:52,  3.70it/s, loss=1.07]\u001b[A\n",
      " 65%|██████▌   | 370/566 [01:42<00:52,  3.70it/s, loss=0.72]\u001b[A\n",
      " 66%|██████▌   | 371/566 [01:42<00:52,  3.71it/s, loss=0.72]\u001b[A\n",
      " 66%|██████▌   | 371/566 [01:42<00:52,  3.71it/s, loss=0.687]\u001b[A\n",
      " 66%|██████▌   | 372/566 [01:42<00:52,  3.70it/s, loss=0.687]\u001b[A\n",
      " 66%|██████▌   | 372/566 [01:43<00:52,  3.70it/s, loss=0.619]\u001b[A\n",
      " 66%|██████▌   | 373/566 [01:43<00:52,  3.71it/s, loss=0.619]\u001b[A\n",
      " 66%|██████▌   | 373/566 [01:43<00:52,  3.71it/s, loss=0.454]\u001b[A\n",
      " 66%|██████▌   | 374/566 [01:43<00:51,  3.71it/s, loss=0.454]\u001b[A\n",
      " 66%|██████▌   | 374/566 [01:43<00:51,  3.71it/s, loss=0.722]\u001b[A\n",
      " 66%|██████▋   | 375/566 [01:43<00:51,  3.71it/s, loss=0.722]\u001b[A\n",
      " 66%|██████▋   | 375/566 [01:43<00:51,  3.71it/s, loss=0.767]\u001b[A\n",
      " 66%|██████▋   | 376/566 [01:43<00:51,  3.70it/s, loss=0.767]\u001b[A\n",
      " 66%|██████▋   | 376/566 [01:44<00:51,  3.70it/s, loss=0.804]\u001b[A\n",
      " 67%|██████▋   | 377/566 [01:44<00:51,  3.67it/s, loss=0.804]\u001b[A\n",
      " 67%|██████▋   | 377/566 [01:44<00:51,  3.67it/s, loss=0.61] \u001b[A\n",
      " 67%|██████▋   | 378/566 [01:44<00:51,  3.67it/s, loss=0.61]\u001b[A\n",
      " 67%|██████▋   | 378/566 [01:44<00:51,  3.67it/s, loss=0.627]\u001b[A\n",
      " 67%|██████▋   | 379/566 [01:44<00:51,  3.65it/s, loss=0.627]\u001b[A\n",
      " 67%|██████▋   | 379/566 [01:45<00:51,  3.65it/s, loss=0.432]\u001b[A\n",
      " 67%|██████▋   | 380/566 [01:45<00:50,  3.66it/s, loss=0.432]\u001b[A\n",
      " 67%|██████▋   | 380/566 [01:45<00:50,  3.66it/s, loss=0.536]\u001b[A\n",
      " 67%|██████▋   | 381/566 [01:45<00:50,  3.67it/s, loss=0.536]\u001b[A\n",
      " 67%|██████▋   | 381/566 [01:45<00:50,  3.67it/s, loss=0.74] \u001b[A\n",
      " 67%|██████▋   | 382/566 [01:45<00:49,  3.69it/s, loss=0.74]\u001b[A\n",
      " 67%|██████▋   | 382/566 [01:45<00:49,  3.69it/s, loss=0.866]\u001b[A\n",
      " 68%|██████▊   | 383/566 [01:45<00:49,  3.70it/s, loss=0.866]\u001b[A\n",
      " 68%|██████▊   | 383/566 [01:46<00:49,  3.70it/s, loss=0.644]\u001b[A\n",
      " 68%|██████▊   | 384/566 [01:46<00:49,  3.65it/s, loss=0.644]\u001b[A\n",
      " 68%|██████▊   | 384/566 [01:46<00:49,  3.65it/s, loss=0.991]\u001b[A\n",
      " 68%|██████▊   | 385/566 [01:46<00:49,  3.65it/s, loss=0.991]\u001b[A\n",
      " 68%|██████▊   | 385/566 [01:46<00:49,  3.65it/s, loss=0.456]\u001b[A\n",
      " 68%|██████▊   | 386/566 [01:46<00:49,  3.66it/s, loss=0.456]\u001b[A\n",
      " 68%|██████▊   | 386/566 [01:46<00:49,  3.66it/s, loss=0.663]\u001b[A\n",
      " 68%|██████▊   | 387/566 [01:46<00:48,  3.67it/s, loss=0.663]\u001b[A\n",
      " 68%|██████▊   | 387/566 [01:47<00:48,  3.67it/s, loss=0.805]\u001b[A\n",
      " 69%|██████▊   | 388/566 [01:47<00:48,  3.66it/s, loss=0.805]\u001b[A\n",
      " 69%|██████▊   | 388/566 [01:47<00:48,  3.66it/s, loss=0.407]\u001b[A\n",
      " 69%|██████▊   | 389/566 [01:47<00:48,  3.65it/s, loss=0.407]\u001b[A\n",
      " 69%|██████▊   | 389/566 [01:47<00:48,  3.65it/s, loss=0.631]\u001b[A\n",
      " 69%|██████▉   | 390/566 [01:47<00:48,  3.66it/s, loss=0.631]\u001b[A\n",
      " 69%|██████▉   | 390/566 [01:48<00:48,  3.66it/s, loss=0.775]\u001b[A\n",
      " 69%|██████▉   | 391/566 [01:48<00:47,  3.65it/s, loss=0.775]\u001b[A\n",
      " 69%|██████▉   | 391/566 [01:48<00:47,  3.65it/s, loss=0.468]\u001b[A\n",
      " 69%|██████▉   | 392/566 [01:48<00:47,  3.65it/s, loss=0.468]\u001b[A\n",
      " 69%|██████▉   | 392/566 [01:48<00:47,  3.65it/s, loss=0.714]\u001b[A\n",
      " 69%|██████▉   | 393/566 [01:48<00:47,  3.65it/s, loss=0.714]\u001b[A\n",
      " 69%|██████▉   | 393/566 [01:48<00:47,  3.65it/s, loss=0.434]\u001b[A\n",
      " 70%|██████▉   | 394/566 [01:48<00:47,  3.65it/s, loss=0.434]\u001b[A\n",
      " 70%|██████▉   | 394/566 [01:49<00:47,  3.65it/s, loss=0.614]\u001b[A\n",
      " 70%|██████▉   | 395/566 [01:49<00:46,  3.66it/s, loss=0.614]\u001b[A\n",
      " 70%|██████▉   | 395/566 [01:49<00:46,  3.66it/s, loss=0.338]\u001b[A\n",
      " 70%|██████▉   | 396/566 [01:49<00:46,  3.67it/s, loss=0.338]\u001b[A\n",
      " 70%|██████▉   | 396/566 [01:49<00:46,  3.67it/s, loss=0.534]\u001b[A\n",
      " 70%|███████   | 397/566 [01:49<00:46,  3.65it/s, loss=0.534]\u001b[A\n",
      " 70%|███████   | 397/566 [01:49<00:46,  3.65it/s, loss=0.601]\u001b[A\n",
      " 70%|███████   | 398/566 [01:49<00:45,  3.66it/s, loss=0.601]\u001b[A\n",
      " 70%|███████   | 398/566 [01:50<00:45,  3.66it/s, loss=0.413]\u001b[A\n",
      " 70%|███████   | 399/566 [01:50<00:45,  3.65it/s, loss=0.413]\u001b[A\n",
      " 70%|███████   | 399/566 [01:50<00:45,  3.65it/s, loss=0.733]\u001b[A\n",
      " 71%|███████   | 400/566 [01:50<00:45,  3.68it/s, loss=0.733]\u001b[A\n",
      " 71%|███████   | 400/566 [01:50<00:45,  3.68it/s, loss=0.883]\u001b[A\n",
      " 71%|███████   | 401/566 [01:50<00:45,  3.66it/s, loss=0.883]\u001b[A\n",
      " 71%|███████   | 401/566 [01:51<00:45,  3.66it/s, loss=0.66] \u001b[A\n",
      " 71%|███████   | 402/566 [01:51<00:44,  3.67it/s, loss=0.66]\u001b[A\n",
      " 71%|███████   | 402/566 [01:51<00:44,  3.67it/s, loss=0.424]\u001b[A\n",
      " 71%|███████   | 403/566 [01:51<00:44,  3.65it/s, loss=0.424]\u001b[A\n",
      " 71%|███████   | 403/566 [01:51<00:44,  3.65it/s, loss=0.837]\u001b[A\n",
      " 71%|███████▏  | 404/566 [01:51<00:44,  3.68it/s, loss=0.837]\u001b[A\n",
      " 71%|███████▏  | 404/566 [01:51<00:44,  3.68it/s, loss=0.527]\u001b[A\n",
      " 72%|███████▏  | 405/566 [01:51<00:43,  3.67it/s, loss=0.527]\u001b[A\n",
      " 72%|███████▏  | 405/566 [01:52<00:43,  3.67it/s, loss=0.619]\u001b[A\n",
      " 72%|███████▏  | 406/566 [01:52<00:43,  3.66it/s, loss=0.619]\u001b[A\n",
      " 72%|███████▏  | 406/566 [01:52<00:43,  3.66it/s, loss=0.542]\u001b[A\n",
      " 72%|███████▏  | 407/566 [01:52<00:43,  3.64it/s, loss=0.542]\u001b[A\n",
      " 72%|███████▏  | 407/566 [01:52<00:43,  3.64it/s, loss=0.595]\u001b[A\n",
      " 72%|███████▏  | 408/566 [01:52<00:43,  3.65it/s, loss=0.595]\u001b[A\n",
      " 72%|███████▏  | 408/566 [01:52<00:43,  3.65it/s, loss=0.548]\u001b[A\n",
      " 72%|███████▏  | 409/566 [01:52<00:43,  3.64it/s, loss=0.548]\u001b[A\n",
      " 72%|███████▏  | 409/566 [01:53<00:43,  3.64it/s, loss=0.706]\u001b[A\n",
      " 72%|███████▏  | 410/566 [01:53<00:42,  3.66it/s, loss=0.706]\u001b[A\n",
      " 72%|███████▏  | 410/566 [01:53<00:42,  3.66it/s, loss=0.66] \u001b[A\n",
      " 73%|███████▎  | 411/566 [01:53<00:42,  3.65it/s, loss=0.66]\u001b[A\n",
      " 73%|███████▎  | 411/566 [01:53<00:42,  3.65it/s, loss=0.479]\u001b[A\n",
      " 73%|███████▎  | 412/566 [01:53<00:41,  3.68it/s, loss=0.479]\u001b[A\n",
      " 73%|███████▎  | 412/566 [01:54<00:41,  3.68it/s, loss=0.605]\u001b[A\n",
      " 73%|███████▎  | 413/566 [01:54<00:41,  3.69it/s, loss=0.605]\u001b[A\n",
      " 73%|███████▎  | 413/566 [01:54<00:41,  3.69it/s, loss=0.498]\u001b[A\n",
      " 73%|███████▎  | 414/566 [01:54<00:41,  3.69it/s, loss=0.498]\u001b[A\n",
      " 73%|███████▎  | 414/566 [01:54<00:41,  3.69it/s, loss=0.634]\u001b[A\n",
      " 73%|███████▎  | 415/566 [01:54<00:40,  3.69it/s, loss=0.634]\u001b[A\n",
      " 73%|███████▎  | 415/566 [01:54<00:40,  3.69it/s, loss=0.65] \u001b[A\n",
      " 73%|███████▎  | 416/566 [01:54<00:40,  3.68it/s, loss=0.65]\u001b[A\n",
      " 73%|███████▎  | 416/566 [01:55<00:40,  3.68it/s, loss=0.623]\u001b[A\n",
      " 74%|███████▎  | 417/566 [01:55<00:40,  3.68it/s, loss=0.623]\u001b[A\n",
      " 74%|███████▎  | 417/566 [01:55<00:40,  3.68it/s, loss=0.801]\u001b[A\n",
      " 74%|███████▍  | 418/566 [01:55<00:40,  3.69it/s, loss=0.801]\u001b[A\n",
      " 74%|███████▍  | 418/566 [01:55<00:40,  3.69it/s, loss=0.433]\u001b[A\n",
      " 74%|███████▍  | 419/566 [01:55<00:39,  3.68it/s, loss=0.433]\u001b[A\n",
      " 74%|███████▍  | 419/566 [01:55<00:39,  3.68it/s, loss=0.447]\u001b[A\n",
      " 74%|███████▍  | 420/566 [01:55<00:39,  3.65it/s, loss=0.447]\u001b[A\n",
      " 74%|███████▍  | 420/566 [01:56<00:39,  3.65it/s, loss=0.768]\u001b[A\n",
      " 74%|███████▍  | 421/566 [01:56<00:39,  3.65it/s, loss=0.768]\u001b[A\n",
      " 74%|███████▍  | 421/566 [01:56<00:39,  3.65it/s, loss=0.817]\u001b[A\n",
      " 75%|███████▍  | 422/566 [01:56<00:39,  3.66it/s, loss=0.817]\u001b[A\n",
      " 75%|███████▍  | 422/566 [01:56<00:39,  3.66it/s, loss=0.795]\u001b[A\n",
      " 75%|███████▍  | 423/566 [01:56<00:38,  3.68it/s, loss=0.795]\u001b[A\n",
      " 75%|███████▍  | 423/566 [01:57<00:38,  3.68it/s, loss=0.643]\u001b[A\n",
      " 75%|███████▍  | 424/566 [01:57<00:38,  3.68it/s, loss=0.643]\u001b[A\n",
      " 75%|███████▍  | 424/566 [01:57<00:38,  3.68it/s, loss=0.547]\u001b[A\n",
      " 75%|███████▌  | 425/566 [01:57<00:38,  3.68it/s, loss=0.547]\u001b[A\n",
      " 75%|███████▌  | 425/566 [01:57<00:38,  3.68it/s, loss=0.506]\u001b[A\n",
      " 75%|███████▌  | 426/566 [01:57<00:38,  3.66it/s, loss=0.506]\u001b[A\n",
      " 75%|███████▌  | 426/566 [01:57<00:38,  3.66it/s, loss=0.585]\u001b[A\n",
      " 75%|███████▌  | 427/566 [01:57<00:37,  3.66it/s, loss=0.585]\u001b[A\n",
      " 75%|███████▌  | 427/566 [01:58<00:37,  3.66it/s, loss=0.895]\u001b[A\n",
      " 76%|███████▌  | 428/566 [01:58<00:37,  3.66it/s, loss=0.895]\u001b[A\n",
      " 76%|███████▌  | 428/566 [01:58<00:37,  3.66it/s, loss=0.447]\u001b[A\n",
      " 76%|███████▌  | 429/566 [01:58<00:37,  3.63it/s, loss=0.447]\u001b[A\n",
      " 76%|███████▌  | 429/566 [01:58<00:37,  3.63it/s, loss=0.489]\u001b[A\n",
      " 76%|███████▌  | 430/566 [01:58<00:37,  3.67it/s, loss=0.489]\u001b[A\n",
      " 76%|███████▌  | 430/566 [01:58<00:37,  3.67it/s, loss=0.517]\u001b[A\n",
      " 76%|███████▌  | 431/566 [01:58<00:36,  3.66it/s, loss=0.517]\u001b[A\n",
      " 76%|███████▌  | 431/566 [01:59<00:36,  3.66it/s, loss=1.21] \u001b[A\n",
      " 76%|███████▋  | 432/566 [01:59<00:36,  3.67it/s, loss=1.21]\u001b[A\n",
      " 76%|███████▋  | 432/566 [01:59<00:36,  3.67it/s, loss=0.702]\u001b[A\n",
      " 77%|███████▋  | 433/566 [01:59<00:36,  3.66it/s, loss=0.702]\u001b[A\n",
      " 77%|███████▋  | 433/566 [01:59<00:36,  3.66it/s, loss=0.678]\u001b[A\n",
      " 77%|███████▋  | 434/566 [01:59<00:36,  3.67it/s, loss=0.678]\u001b[A\n",
      " 77%|███████▋  | 434/566 [02:00<00:36,  3.67it/s, loss=0.703]\u001b[A\n",
      " 77%|███████▋  | 435/566 [02:00<00:35,  3.65it/s, loss=0.703]\u001b[A\n",
      " 77%|███████▋  | 435/566 [02:00<00:35,  3.65it/s, loss=0.51] \u001b[A\n",
      " 77%|███████▋  | 436/566 [02:00<00:35,  3.67it/s, loss=0.51]\u001b[A\n",
      " 77%|███████▋  | 436/566 [02:00<00:35,  3.67it/s, loss=0.417]\u001b[A\n",
      " 77%|███████▋  | 437/566 [02:00<00:35,  3.67it/s, loss=0.417]\u001b[A\n",
      " 77%|███████▋  | 437/566 [02:00<00:35,  3.67it/s, loss=0.916]\u001b[A\n",
      " 77%|███████▋  | 438/566 [02:00<00:34,  3.68it/s, loss=0.916]\u001b[A\n",
      " 77%|███████▋  | 438/566 [02:01<00:34,  3.68it/s, loss=0.645]\u001b[A\n",
      " 78%|███████▊  | 439/566 [02:01<00:34,  3.67it/s, loss=0.645]\u001b[A\n",
      " 78%|███████▊  | 439/566 [02:01<00:34,  3.67it/s, loss=0.744]\u001b[A\n",
      " 78%|███████▊  | 440/566 [02:01<00:34,  3.67it/s, loss=0.744]\u001b[A\n",
      " 78%|███████▊  | 440/566 [02:01<00:34,  3.67it/s, loss=0.587]\u001b[A\n",
      " 78%|███████▊  | 441/566 [02:01<00:33,  3.68it/s, loss=0.587]\u001b[A\n",
      " 78%|███████▊  | 441/566 [02:01<00:33,  3.68it/s, loss=0.641]\u001b[A\n",
      " 78%|███████▊  | 442/566 [02:01<00:33,  3.69it/s, loss=0.641]\u001b[A\n",
      " 78%|███████▊  | 442/566 [02:02<00:33,  3.69it/s, loss=0.603]\u001b[A\n",
      " 78%|███████▊  | 443/566 [02:02<00:33,  3.68it/s, loss=0.603]\u001b[A\n",
      " 78%|███████▊  | 443/566 [02:02<00:33,  3.68it/s, loss=0.618]\u001b[A\n",
      " 78%|███████▊  | 444/566 [02:02<00:33,  3.66it/s, loss=0.618]\u001b[A\n",
      " 78%|███████▊  | 444/566 [02:02<00:33,  3.66it/s, loss=0.531]\u001b[A\n",
      " 79%|███████▊  | 445/566 [02:02<00:33,  3.66it/s, loss=0.531]\u001b[A\n",
      " 79%|███████▊  | 445/566 [02:03<00:33,  3.66it/s, loss=0.956]\u001b[A\n",
      " 79%|███████▉  | 446/566 [02:03<00:32,  3.64it/s, loss=0.956]\u001b[A\n",
      " 79%|███████▉  | 446/566 [02:03<00:32,  3.64it/s, loss=0.523]\u001b[A\n",
      " 79%|███████▉  | 447/566 [02:03<00:32,  3.67it/s, loss=0.523]\u001b[A\n",
      " 79%|███████▉  | 447/566 [02:03<00:32,  3.67it/s, loss=0.313]\u001b[A\n",
      " 79%|███████▉  | 448/566 [02:03<00:32,  3.64it/s, loss=0.313]\u001b[A\n",
      " 79%|███████▉  | 448/566 [02:03<00:32,  3.64it/s, loss=0.565]\u001b[A\n",
      " 79%|███████▉  | 449/566 [02:03<00:31,  3.66it/s, loss=0.565]\u001b[A\n",
      " 79%|███████▉  | 449/566 [02:04<00:31,  3.66it/s, loss=0.724]\u001b[A\n",
      " 80%|███████▉  | 450/566 [02:04<00:31,  3.64it/s, loss=0.724]\u001b[A\n",
      " 80%|███████▉  | 450/566 [02:04<00:31,  3.64it/s, loss=0.673]\u001b[A\n",
      " 80%|███████▉  | 451/566 [02:04<00:31,  3.67it/s, loss=0.673]\u001b[A\n",
      " 80%|███████▉  | 451/566 [02:04<00:31,  3.67it/s, loss=0.527]\u001b[A\n",
      " 80%|███████▉  | 452/566 [02:04<00:31,  3.65it/s, loss=0.527]\u001b[A\n",
      " 80%|███████▉  | 452/566 [02:04<00:31,  3.65it/s, loss=1.06] \u001b[A\n",
      " 80%|████████  | 453/566 [02:04<00:30,  3.68it/s, loss=1.06]\u001b[A\n",
      " 80%|████████  | 453/566 [02:05<00:30,  3.68it/s, loss=0.723]\u001b[A\n",
      " 80%|████████  | 454/566 [02:05<00:30,  3.67it/s, loss=0.723]\u001b[A\n",
      " 80%|████████  | 454/566 [02:05<00:30,  3.67it/s, loss=0.417]\u001b[A\n",
      " 80%|████████  | 455/566 [02:05<00:30,  3.66it/s, loss=0.417]\u001b[A\n",
      " 80%|████████  | 455/566 [02:05<00:30,  3.66it/s, loss=0.82] \u001b[A\n",
      " 81%|████████  | 456/566 [02:05<00:30,  3.65it/s, loss=0.82]\u001b[A\n",
      " 81%|████████  | 456/566 [02:06<00:30,  3.65it/s, loss=0.604]\u001b[A\n",
      " 81%|████████  | 457/566 [02:06<00:29,  3.66it/s, loss=0.604]\u001b[A\n",
      " 81%|████████  | 457/566 [02:06<00:29,  3.66it/s, loss=0.428]\u001b[A\n",
      " 81%|████████  | 458/566 [02:06<00:29,  3.65it/s, loss=0.428]\u001b[A\n",
      " 81%|████████  | 458/566 [02:06<00:29,  3.65it/s, loss=0.65] \u001b[A\n",
      " 81%|████████  | 459/566 [02:06<00:29,  3.66it/s, loss=0.65]\u001b[A\n",
      " 81%|████████  | 459/566 [02:06<00:29,  3.66it/s, loss=0.818]\u001b[A\n",
      " 81%|████████▏ | 460/566 [02:06<00:28,  3.67it/s, loss=0.818]\u001b[A\n",
      " 81%|████████▏ | 460/566 [02:07<00:28,  3.67it/s, loss=0.242]\u001b[A\n",
      " 81%|████████▏ | 461/566 [02:07<00:28,  3.70it/s, loss=0.242]\u001b[A\n",
      " 81%|████████▏ | 461/566 [02:07<00:28,  3.70it/s, loss=0.427]\u001b[A\n",
      " 82%|████████▏ | 462/566 [02:07<00:28,  3.69it/s, loss=0.427]\u001b[A\n",
      " 82%|████████▏ | 462/566 [02:07<00:28,  3.69it/s, loss=0.624]\u001b[A\n",
      " 82%|████████▏ | 463/566 [02:07<00:27,  3.69it/s, loss=0.624]\u001b[A\n",
      " 82%|████████▏ | 463/566 [02:07<00:27,  3.69it/s, loss=0.267]\u001b[A\n",
      " 82%|████████▏ | 464/566 [02:07<00:27,  3.69it/s, loss=0.267]\u001b[A\n",
      " 82%|████████▏ | 464/566 [02:08<00:27,  3.69it/s, loss=1.11] \u001b[A\n",
      " 82%|████████▏ | 465/566 [02:08<00:27,  3.69it/s, loss=1.11]\u001b[A\n",
      " 82%|████████▏ | 465/566 [02:08<00:27,  3.69it/s, loss=0.535]\u001b[A\n",
      " 82%|████████▏ | 466/566 [02:08<00:26,  3.72it/s, loss=0.535]\u001b[A\n",
      " 82%|████████▏ | 466/566 [02:08<00:26,  3.72it/s, loss=0.677]\u001b[A\n",
      " 83%|████████▎ | 467/566 [02:08<00:26,  3.70it/s, loss=0.677]\u001b[A\n",
      " 83%|████████▎ | 467/566 [02:09<00:26,  3.70it/s, loss=0.577]\u001b[A\n",
      " 83%|████████▎ | 468/566 [02:09<00:26,  3.69it/s, loss=0.577]\u001b[A\n",
      " 83%|████████▎ | 468/566 [02:09<00:26,  3.69it/s, loss=0.465]\u001b[A\n",
      " 83%|████████▎ | 469/566 [02:09<00:26,  3.67it/s, loss=0.465]\u001b[A\n",
      " 83%|████████▎ | 469/566 [02:09<00:26,  3.67it/s, loss=0.271]\u001b[A\n",
      " 83%|████████▎ | 470/566 [02:09<00:25,  3.70it/s, loss=0.271]\u001b[A\n",
      " 83%|████████▎ | 470/566 [02:09<00:25,  3.70it/s, loss=0.422]\u001b[A\n",
      " 83%|████████▎ | 471/566 [02:09<00:25,  3.71it/s, loss=0.422]\u001b[A\n",
      " 83%|████████▎ | 471/566 [02:10<00:25,  3.71it/s, loss=0.455]\u001b[A\n",
      " 83%|████████▎ | 472/566 [02:10<00:25,  3.69it/s, loss=0.455]\u001b[A\n",
      " 83%|████████▎ | 472/566 [02:10<00:25,  3.69it/s, loss=0.457]\u001b[A\n",
      " 84%|████████▎ | 473/566 [02:10<00:25,  3.69it/s, loss=0.457]\u001b[A\n",
      " 84%|████████▎ | 473/566 [02:10<00:25,  3.69it/s, loss=0.417]\u001b[A\n",
      " 84%|████████▎ | 474/566 [02:10<00:24,  3.68it/s, loss=0.417]\u001b[A\n",
      " 84%|████████▎ | 474/566 [02:10<00:24,  3.68it/s, loss=0.817]\u001b[A\n",
      " 84%|████████▍ | 475/566 [02:10<00:24,  3.68it/s, loss=0.817]\u001b[A\n",
      " 84%|████████▍ | 475/566 [02:11<00:24,  3.68it/s, loss=0.541]\u001b[A\n",
      " 84%|████████▍ | 476/566 [02:11<00:24,  3.66it/s, loss=0.541]\u001b[A\n",
      " 84%|████████▍ | 476/566 [02:11<00:24,  3.66it/s, loss=0.492]\u001b[A\n",
      " 84%|████████▍ | 477/566 [02:11<00:24,  3.68it/s, loss=0.492]\u001b[A\n",
      " 84%|████████▍ | 477/566 [02:11<00:24,  3.68it/s, loss=0.605]\u001b[A\n",
      " 84%|████████▍ | 478/566 [02:11<00:23,  3.69it/s, loss=0.605]\u001b[A\n",
      " 84%|████████▍ | 478/566 [02:12<00:23,  3.69it/s, loss=0.736]\u001b[A\n",
      " 85%|████████▍ | 479/566 [02:12<00:23,  3.69it/s, loss=0.736]\u001b[A\n",
      " 85%|████████▍ | 479/566 [02:12<00:23,  3.69it/s, loss=0.722]\u001b[A\n",
      " 85%|████████▍ | 480/566 [02:12<00:23,  3.65it/s, loss=0.722]\u001b[A\n",
      " 85%|████████▍ | 480/566 [02:12<00:23,  3.65it/s, loss=0.379]\u001b[A\n",
      " 85%|████████▍ | 481/566 [02:12<00:23,  3.63it/s, loss=0.379]\u001b[A\n",
      " 85%|████████▍ | 481/566 [02:12<00:23,  3.63it/s, loss=0.611]\u001b[A\n",
      " 85%|████████▌ | 482/566 [02:12<00:22,  3.66it/s, loss=0.611]\u001b[A\n",
      " 85%|████████▌ | 482/566 [02:13<00:22,  3.66it/s, loss=0.446]\u001b[A\n",
      " 85%|████████▌ | 483/566 [02:13<00:22,  3.67it/s, loss=0.446]\u001b[A\n",
      " 85%|████████▌ | 483/566 [02:13<00:22,  3.67it/s, loss=0.564]\u001b[A\n",
      " 86%|████████▌ | 484/566 [02:13<00:22,  3.65it/s, loss=0.564]\u001b[A\n",
      " 86%|████████▌ | 484/566 [02:13<00:22,  3.65it/s, loss=0.589]\u001b[A\n",
      " 86%|████████▌ | 485/566 [02:13<00:22,  3.66it/s, loss=0.589]\u001b[A\n",
      " 86%|████████▌ | 485/566 [02:13<00:22,  3.66it/s, loss=0.51] \u001b[A\n",
      " 86%|████████▌ | 486/566 [02:13<00:21,  3.67it/s, loss=0.51]\u001b[A\n",
      " 86%|████████▌ | 486/566 [02:14<00:21,  3.67it/s, loss=0.831]\u001b[A\n",
      " 86%|████████▌ | 487/566 [02:14<00:21,  3.67it/s, loss=0.831]\u001b[A\n",
      " 86%|████████▌ | 487/566 [02:14<00:21,  3.67it/s, loss=0.88] \u001b[A\n",
      " 86%|████████▌ | 488/566 [02:14<00:21,  3.67it/s, loss=0.88]\u001b[A\n",
      " 86%|████████▌ | 488/566 [02:14<00:21,  3.67it/s, loss=0.6] \u001b[A\n",
      " 86%|████████▋ | 489/566 [02:14<00:20,  3.69it/s, loss=0.6]\u001b[A\n",
      " 86%|████████▋ | 489/566 [02:15<00:20,  3.69it/s, loss=0.72]\u001b[A\n",
      " 87%|████████▋ | 490/566 [02:15<00:20,  3.69it/s, loss=0.72]\u001b[A\n",
      " 87%|████████▋ | 490/566 [02:15<00:20,  3.69it/s, loss=0.58]\u001b[A\n",
      " 87%|████████▋ | 491/566 [02:15<00:20,  3.71it/s, loss=0.58]\u001b[A\n",
      " 87%|████████▋ | 491/566 [02:15<00:20,  3.71it/s, loss=0.67]\u001b[A\n",
      " 87%|████████▋ | 492/566 [02:15<00:19,  3.70it/s, loss=0.67]\u001b[A\n",
      " 87%|████████▋ | 492/566 [02:15<00:19,  3.70it/s, loss=1.18]\u001b[A\n",
      " 87%|████████▋ | 493/566 [02:15<00:19,  3.70it/s, loss=1.18]\u001b[A\n",
      " 87%|████████▋ | 493/566 [02:16<00:19,  3.70it/s, loss=0.46]\u001b[A\n",
      " 87%|████████▋ | 494/566 [02:16<00:19,  3.71it/s, loss=0.46]\u001b[A\n",
      " 87%|████████▋ | 494/566 [02:16<00:19,  3.71it/s, loss=0.483]\u001b[A\n",
      " 87%|████████▋ | 495/566 [02:16<00:19,  3.72it/s, loss=0.483]\u001b[A\n",
      " 87%|████████▋ | 495/566 [02:16<00:19,  3.72it/s, loss=0.262]\u001b[A\n",
      " 88%|████████▊ | 496/566 [02:16<00:18,  3.71it/s, loss=0.262]\u001b[A\n",
      " 88%|████████▊ | 496/566 [02:16<00:18,  3.71it/s, loss=0.759]\u001b[A\n",
      " 88%|████████▊ | 497/566 [02:16<00:18,  3.71it/s, loss=0.759]\u001b[A\n",
      " 88%|████████▊ | 497/566 [02:17<00:18,  3.71it/s, loss=0.959]\u001b[A\n",
      " 88%|████████▊ | 498/566 [02:17<00:18,  3.74it/s, loss=0.959]\u001b[A\n",
      " 88%|████████▊ | 498/566 [02:17<00:18,  3.74it/s, loss=0.48] \u001b[A\n",
      " 88%|████████▊ | 499/566 [02:17<00:17,  3.75it/s, loss=0.48]\u001b[A\n",
      " 88%|████████▊ | 499/566 [02:17<00:17,  3.75it/s, loss=0.741]\u001b[A\n",
      " 88%|████████▊ | 500/566 [02:17<00:17,  3.73it/s, loss=0.741]\u001b[A\n",
      " 88%|████████▊ | 500/566 [02:17<00:17,  3.73it/s, loss=0.528]\u001b[A\n",
      " 89%|████████▊ | 501/566 [02:17<00:17,  3.71it/s, loss=0.528]\u001b[A\n",
      " 89%|████████▊ | 501/566 [02:18<00:17,  3.71it/s, loss=0.583]\u001b[A\n",
      " 89%|████████▊ | 502/566 [02:18<00:17,  3.68it/s, loss=0.583]\u001b[A\n",
      " 89%|████████▊ | 502/566 [02:18<00:17,  3.68it/s, loss=0.685]\u001b[A\n",
      " 89%|████████▉ | 503/566 [02:18<00:17,  3.70it/s, loss=0.685]\u001b[A\n",
      " 89%|████████▉ | 503/566 [02:18<00:17,  3.70it/s, loss=0.526]\u001b[A\n",
      " 89%|████████▉ | 504/566 [02:18<00:16,  3.68it/s, loss=0.526]\u001b[A\n",
      " 89%|████████▉ | 504/566 [02:19<00:16,  3.68it/s, loss=0.603]\u001b[A\n",
      " 89%|████████▉ | 505/566 [02:19<00:16,  3.66it/s, loss=0.603]\u001b[A\n",
      " 89%|████████▉ | 505/566 [02:19<00:16,  3.66it/s, loss=0.397]\u001b[A\n",
      " 89%|████████▉ | 506/566 [02:19<00:16,  3.67it/s, loss=0.397]\u001b[A\n",
      " 89%|████████▉ | 506/566 [02:19<00:16,  3.67it/s, loss=0.747]\u001b[A\n",
      " 90%|████████▉ | 507/566 [02:19<00:16,  3.68it/s, loss=0.747]\u001b[A\n",
      " 90%|████████▉ | 507/566 [02:19<00:16,  3.68it/s, loss=0.623]\u001b[A\n",
      " 90%|████████▉ | 508/566 [02:19<00:15,  3.70it/s, loss=0.623]\u001b[A\n",
      " 90%|████████▉ | 508/566 [02:20<00:15,  3.70it/s, loss=0.355]\u001b[A\n",
      " 90%|████████▉ | 509/566 [02:20<00:15,  3.68it/s, loss=0.355]\u001b[A\n",
      " 90%|████████▉ | 509/566 [02:20<00:15,  3.68it/s, loss=0.705]\u001b[A\n",
      " 90%|█████████ | 510/566 [02:20<00:15,  3.70it/s, loss=0.705]\u001b[A\n",
      " 90%|█████████ | 510/566 [02:20<00:15,  3.70it/s, loss=0.495]\u001b[A\n",
      " 90%|█████████ | 511/566 [02:20<00:14,  3.70it/s, loss=0.495]\u001b[A\n",
      " 90%|█████████ | 511/566 [02:20<00:14,  3.70it/s, loss=0.737]\u001b[A\n",
      " 90%|█████████ | 512/566 [02:20<00:14,  3.72it/s, loss=0.737]\u001b[A\n",
      " 90%|█████████ | 512/566 [02:21<00:14,  3.72it/s, loss=0.514]\u001b[A\n",
      " 91%|█████████ | 513/566 [02:21<00:14,  3.73it/s, loss=0.514]\u001b[A\n",
      " 91%|█████████ | 513/566 [02:21<00:14,  3.73it/s, loss=0.561]\u001b[A\n",
      " 91%|█████████ | 514/566 [02:21<00:13,  3.72it/s, loss=0.561]\u001b[A\n",
      " 91%|█████████ | 514/566 [02:21<00:13,  3.72it/s, loss=0.422]\u001b[A\n",
      " 91%|█████████ | 515/566 [02:21<00:13,  3.71it/s, loss=0.422]\u001b[A\n",
      " 91%|█████████ | 515/566 [02:22<00:13,  3.71it/s, loss=0.91] \u001b[A\n",
      " 91%|█████████ | 516/566 [02:22<00:13,  3.72it/s, loss=0.91]\u001b[A\n",
      " 91%|█████████ | 516/566 [02:22<00:13,  3.72it/s, loss=0.611]\u001b[A\n",
      " 91%|█████████▏| 517/566 [02:22<00:13,  3.71it/s, loss=0.611]\u001b[A\n",
      " 91%|█████████▏| 517/566 [02:22<00:13,  3.71it/s, loss=0.737]\u001b[A\n",
      " 92%|█████████▏| 518/566 [02:22<00:12,  3.73it/s, loss=0.737]\u001b[A\n",
      " 92%|█████████▏| 518/566 [02:22<00:12,  3.73it/s, loss=0.749]\u001b[A\n",
      " 92%|█████████▏| 519/566 [02:22<00:12,  3.72it/s, loss=0.749]\u001b[A\n",
      " 92%|█████████▏| 519/566 [02:23<00:12,  3.72it/s, loss=0.614]\u001b[A\n",
      " 92%|█████████▏| 520/566 [02:23<00:12,  3.73it/s, loss=0.614]\u001b[A\n",
      " 92%|█████████▏| 520/566 [02:23<00:12,  3.73it/s, loss=0.353]\u001b[A\n",
      " 92%|█████████▏| 521/566 [02:23<00:12,  3.71it/s, loss=0.353]\u001b[A\n",
      " 92%|█████████▏| 521/566 [02:23<00:12,  3.71it/s, loss=0.595]\u001b[A\n",
      " 92%|█████████▏| 522/566 [02:23<00:11,  3.70it/s, loss=0.595]\u001b[A\n",
      " 92%|█████████▏| 522/566 [02:23<00:11,  3.70it/s, loss=0.628]\u001b[A\n",
      " 92%|█████████▏| 523/566 [02:23<00:11,  3.71it/s, loss=0.628]\u001b[A\n",
      " 92%|█████████▏| 523/566 [02:24<00:11,  3.71it/s, loss=0.565]\u001b[A\n",
      " 93%|█████████▎| 524/566 [02:24<00:11,  3.70it/s, loss=0.565]\u001b[A\n",
      " 93%|█████████▎| 524/566 [02:24<00:11,  3.70it/s, loss=0.884]\u001b[A\n",
      " 93%|█████████▎| 525/566 [02:24<00:11,  3.67it/s, loss=0.884]\u001b[A\n",
      " 93%|█████████▎| 525/566 [02:24<00:11,  3.67it/s, loss=0.964]\u001b[A\n",
      " 93%|█████████▎| 526/566 [02:24<00:10,  3.65it/s, loss=0.964]\u001b[A\n",
      " 93%|█████████▎| 526/566 [02:25<00:10,  3.65it/s, loss=0.835]\u001b[A\n",
      " 93%|█████████▎| 527/566 [02:25<00:10,  3.66it/s, loss=0.835]\u001b[A\n",
      " 93%|█████████▎| 527/566 [02:25<00:10,  3.66it/s, loss=0.765]\u001b[A\n",
      " 93%|█████████▎| 528/566 [02:25<00:10,  3.67it/s, loss=0.765]\u001b[A\n",
      " 93%|█████████▎| 528/566 [02:25<00:10,  3.67it/s, loss=0.964]\u001b[A\n",
      " 93%|█████████▎| 529/566 [02:25<00:10,  3.68it/s, loss=0.964]\u001b[A\n",
      " 93%|█████████▎| 529/566 [02:25<00:10,  3.68it/s, loss=0.552]\u001b[A\n",
      " 94%|█████████▎| 530/566 [02:25<00:09,  3.67it/s, loss=0.552]\u001b[A\n",
      " 94%|█████████▎| 530/566 [02:26<00:09,  3.67it/s, loss=0.573]\u001b[A\n",
      " 94%|█████████▍| 531/566 [02:26<00:09,  3.68it/s, loss=0.573]\u001b[A\n",
      " 94%|█████████▍| 531/566 [02:26<00:09,  3.68it/s, loss=0.774]\u001b[A\n",
      " 94%|█████████▍| 532/566 [02:26<00:09,  3.69it/s, loss=0.774]\u001b[A\n",
      " 94%|█████████▍| 532/566 [02:26<00:09,  3.69it/s, loss=0.609]\u001b[A\n",
      " 94%|█████████▍| 533/566 [02:26<00:08,  3.68it/s, loss=0.609]\u001b[A\n",
      " 94%|█████████▍| 533/566 [02:26<00:08,  3.68it/s, loss=0.672]\u001b[A\n",
      " 94%|█████████▍| 534/566 [02:26<00:08,  3.68it/s, loss=0.672]\u001b[A\n",
      " 94%|█████████▍| 534/566 [02:27<00:08,  3.68it/s, loss=0.64] \u001b[A\n",
      " 95%|█████████▍| 535/566 [02:27<00:08,  3.69it/s, loss=0.64]\u001b[A\n",
      " 95%|█████████▍| 535/566 [02:27<00:08,  3.69it/s, loss=0.421]\u001b[A\n",
      " 95%|█████████▍| 536/566 [02:27<00:08,  3.69it/s, loss=0.421]\u001b[A\n",
      " 95%|█████████▍| 536/566 [02:27<00:08,  3.69it/s, loss=0.859]\u001b[A\n",
      " 95%|█████████▍| 537/566 [02:27<00:07,  3.69it/s, loss=0.859]\u001b[A\n",
      " 95%|█████████▍| 537/566 [02:27<00:07,  3.69it/s, loss=0.918]\u001b[A\n",
      " 95%|█████████▌| 538/566 [02:27<00:07,  3.68it/s, loss=0.918]\u001b[A\n",
      " 95%|█████████▌| 538/566 [02:28<00:07,  3.68it/s, loss=0.916]\u001b[A\n",
      " 95%|█████████▌| 539/566 [02:28<00:07,  3.69it/s, loss=0.916]\u001b[A\n",
      " 95%|█████████▌| 539/566 [02:28<00:07,  3.69it/s, loss=0.567]\u001b[A\n",
      " 95%|█████████▌| 540/566 [02:28<00:06,  3.72it/s, loss=0.567]\u001b[A\n",
      " 95%|█████████▌| 540/566 [02:28<00:06,  3.72it/s, loss=0.5]  \u001b[A\n",
      " 96%|█████████▌| 541/566 [02:28<00:06,  3.73it/s, loss=0.5]\u001b[A\n",
      " 96%|█████████▌| 541/566 [02:29<00:06,  3.73it/s, loss=0.479]\u001b[A\n",
      " 96%|█████████▌| 542/566 [02:29<00:06,  3.72it/s, loss=0.479]\u001b[A\n",
      " 96%|█████████▌| 542/566 [02:29<00:06,  3.72it/s, loss=0.764]\u001b[A\n",
      " 96%|█████████▌| 543/566 [02:29<00:06,  3.71it/s, loss=0.764]\u001b[A\n",
      " 96%|█████████▌| 543/566 [02:29<00:06,  3.71it/s, loss=0.893]\u001b[A\n",
      " 96%|█████████▌| 544/566 [02:29<00:05,  3.72it/s, loss=0.893]\u001b[A\n",
      " 96%|█████████▌| 544/566 [02:29<00:05,  3.72it/s, loss=0.537]\u001b[A\n",
      " 96%|█████████▋| 545/566 [02:29<00:05,  3.73it/s, loss=0.537]\u001b[A\n",
      " 96%|█████████▋| 545/566 [02:30<00:05,  3.73it/s, loss=0.659]\u001b[A\n",
      " 96%|█████████▋| 546/566 [02:30<00:05,  3.74it/s, loss=0.659]\u001b[A\n",
      " 96%|█████████▋| 546/566 [02:30<00:05,  3.74it/s, loss=0.544]\u001b[A\n",
      " 97%|█████████▋| 547/566 [02:30<00:05,  3.71it/s, loss=0.544]\u001b[A\n",
      " 97%|█████████▋| 547/566 [02:30<00:05,  3.71it/s, loss=0.363]\u001b[A\n",
      " 97%|█████████▋| 548/566 [02:30<00:04,  3.70it/s, loss=0.363]\u001b[A\n",
      " 97%|█████████▋| 548/566 [02:30<00:04,  3.70it/s, loss=1.06] \u001b[A\n",
      " 97%|█████████▋| 549/566 [02:30<00:04,  3.71it/s, loss=1.06]\u001b[A\n",
      " 97%|█████████▋| 549/566 [02:31<00:04,  3.71it/s, loss=0.498]\u001b[A\n",
      " 97%|█████████▋| 550/566 [02:31<00:04,  3.70it/s, loss=0.498]\u001b[A\n",
      " 97%|█████████▋| 550/566 [02:31<00:04,  3.70it/s, loss=0.385]\u001b[A\n",
      " 97%|█████████▋| 551/566 [02:31<00:04,  3.71it/s, loss=0.385]\u001b[A\n",
      " 97%|█████████▋| 551/566 [02:31<00:04,  3.71it/s, loss=0.717]\u001b[A\n",
      " 98%|█████████▊| 552/566 [02:31<00:03,  3.72it/s, loss=0.717]\u001b[A\n",
      " 98%|█████████▊| 552/566 [02:32<00:03,  3.72it/s, loss=0.937]\u001b[A\n",
      " 98%|█████████▊| 553/566 [02:32<00:03,  3.70it/s, loss=0.937]\u001b[A\n",
      " 98%|█████████▊| 553/566 [02:32<00:03,  3.70it/s, loss=0.441]\u001b[A\n",
      " 98%|█████████▊| 554/566 [02:32<00:03,  3.69it/s, loss=0.441]\u001b[A\n",
      " 98%|█████████▊| 554/566 [02:32<00:03,  3.69it/s, loss=0.833]\u001b[A\n",
      " 98%|█████████▊| 555/566 [02:32<00:03,  3.67it/s, loss=0.833]\u001b[A\n",
      " 98%|█████████▊| 555/566 [02:32<00:03,  3.67it/s, loss=0.578]\u001b[A\n",
      " 98%|█████████▊| 556/566 [02:32<00:02,  3.70it/s, loss=0.578]\u001b[A\n",
      " 98%|█████████▊| 556/566 [02:33<00:02,  3.70it/s, loss=0.345]\u001b[A\n",
      " 98%|█████████▊| 557/566 [02:33<00:02,  3.70it/s, loss=0.345]\u001b[A\n",
      " 98%|█████████▊| 557/566 [02:33<00:02,  3.70it/s, loss=0.488]\u001b[A\n",
      " 99%|█████████▊| 558/566 [02:33<00:02,  3.73it/s, loss=0.488]\u001b[A\n",
      " 99%|█████████▊| 558/566 [02:33<00:02,  3.73it/s, loss=0.315]\u001b[A\n",
      " 99%|█████████▉| 559/566 [02:33<00:01,  3.72it/s, loss=0.315]\u001b[A\n",
      " 99%|█████████▉| 559/566 [02:33<00:01,  3.72it/s, loss=0.394]\u001b[A\n",
      " 99%|█████████▉| 560/566 [02:33<00:01,  3.70it/s, loss=0.394]\u001b[A\n",
      " 99%|█████████▉| 560/566 [02:34<00:01,  3.70it/s, loss=0.624]\u001b[A\n",
      " 99%|█████████▉| 561/566 [02:34<00:01,  3.70it/s, loss=0.624]\u001b[A\n",
      " 99%|█████████▉| 561/566 [02:34<00:01,  3.70it/s, loss=0.72] \u001b[A\n",
      " 99%|█████████▉| 562/566 [02:34<00:01,  3.70it/s, loss=0.72]\u001b[A\n",
      " 99%|█████████▉| 562/566 [02:34<00:01,  3.70it/s, loss=0.636]\u001b[A\n",
      " 99%|█████████▉| 563/566 [02:34<00:00,  3.69it/s, loss=0.636]\u001b[A\n",
      " 99%|█████████▉| 563/566 [02:34<00:00,  3.69it/s, loss=0.53] \u001b[A\n",
      "100%|█████████▉| 564/566 [02:34<00:00,  3.70it/s, loss=0.53]\u001b[A\n",
      "100%|█████████▉| 564/566 [02:35<00:00,  3.70it/s, loss=0.746]\u001b[A\n",
      "100%|█████████▉| 565/566 [02:35<00:00,  3.70it/s, loss=0.746]\u001b[A\n",
      "100%|█████████▉| 565/566 [02:35<00:00,  3.70it/s, loss=0.741]\u001b[A\n",
      "100%|██████████| 566/566 [02:35<00:00,  3.64it/s, loss=0.741]\n"
     ]
    },
    {
     "name": "stdout",
     "output_type": "stream",
     "text": [
      "Epoch 2\n"
     ]
    },
    {
     "name": "stderr",
     "output_type": "stream",
     "text": [
      "100%|██████████| 566/566 [02:30<00:00,  3.75it/s, loss=0.0238]\n"
     ]
    },
    {
     "name": "stdout",
     "output_type": "stream",
     "text": [
      "Epoch 3\n"
     ]
    },
    {
     "name": "stderr",
     "output_type": "stream",
     "text": [
      "100%|██████████| 566/566 [02:30<00:00,  3.75it/s, loss=0.0279]\n"
     ]
    },
    {
     "name": "stdout",
     "output_type": "stream",
     "text": [
      "Epoch 4\n"
     ]
    },
    {
     "name": "stderr",
     "output_type": "stream",
     "text": [
      "100%|██████████| 566/566 [02:30<00:00,  3.75it/s, loss=0.187]\n"
     ]
    },
    {
     "name": "stdout",
     "output_type": "stream",
     "text": [
      "Epoch 5\n"
     ]
    },
    {
     "name": "stderr",
     "output_type": "stream",
     "text": [
      "100%|██████████| 566/566 [02:30<00:00,  3.75it/s, loss=0.24]\n"
     ]
    },
    {
     "name": "stdout",
     "output_type": "stream",
     "text": [
      "Epoch 6\n"
     ]
    },
    {
     "name": "stderr",
     "output_type": "stream",
     "text": [
      "100%|██████████| 566/566 [02:30<00:00,  3.75it/s, loss=0.0276]\n"
     ]
    },
    {
     "name": "stdout",
     "output_type": "stream",
     "text": [
      "Epoch 7\n"
     ]
    },
    {
     "name": "stderr",
     "output_type": "stream",
     "text": [
      "100%|██████████| 566/566 [02:30<00:00,  3.75it/s, loss=0.0268]\n"
     ]
    },
    {
     "name": "stdout",
     "output_type": "stream",
     "text": [
      "Epoch 8\n"
     ]
    },
    {
     "name": "stderr",
     "output_type": "stream",
     "text": [
      "100%|██████████| 566/566 [02:30<00:00,  3.75it/s, loss=0.0129]\n"
     ]
    },
    {
     "name": "stdout",
     "output_type": "stream",
     "text": [
      "Validation Results: {'accuracy': 0.6885572139303483, 'precision': 0.75459749611645, 'recall': 0.6885572139303483, 'f1': 0.7096540049021612}\n",
      "Test Results: {'accuracy': 0.70421974522293, 'precision': 0.7700749843816003, 'recall': 0.70421974522293, 'f1': 0.7246288448950967}\n"
     ]
    }
   ],
   "source": [
    "# DeBERTaV3 Fine-Tuning: Apple/Samsung Yelp Dataset\n",
    "\n",
    "import pandas as pd\n",
    "from datasets import Dataset\n",
    "from transformers import DebertaV2Tokenizer, DebertaV2ForSequenceClassification\n",
    "from torch.optim import AdamW\n",
    "from torch.utils.data import DataLoader\n",
    "from tqdm import tqdm\n",
    "import torch\n",
    "from sklearn.metrics import accuracy_score, precision_recall_fscore_support\n",
    "from sklearn.model_selection import train_test_split\n",
    "import re\n",
    "import nltk\n",
    "nltk.download(\"stopwords\")\n",
    "from nltk.corpus import stopwords\n",
    "\n",
    "# CUDA Check\n",
    "print(\"CUDA available:\", torch.cuda.is_available())\n",
    "if torch.cuda.is_available():\n",
    "    print(\"Device name:\", torch.cuda.get_device_name(0))\n",
    "else:\n",
    "    print(\"Using CPU\")\n",
    "\n",
    "# Load and clean dataset\n",
    "df = pd.read_csv(\"/content/apple_samsung_yelp_sentiment.csv\")\n",
    "df = df.rename(columns={\"review_text\": \"text\", \"sentiment\": \"label\"})\n",
    "\n",
    "stop_words = set(stopwords.words(\"english\"))\n",
    "def clean_text(text):\n",
    "    text = str(text).lower()\n",
    "    text = re.sub(r\"[^a-z\\s]\", \" \", text)\n",
    "    text = re.sub(r\"\\s+\", \" \", text).strip()\n",
    "    return \" \".join([w for w in text.split() if w not in stop_words])\n",
    "\n",
    "df[\"cleaned\"] = df[\"text\"].apply(clean_text)\n",
    "df[\"label\"] = df[\"label\"].map({-1: 0, 0: 1, 1: 2})\n",
    "\n",
    "# Split\n",
    "train_data, test_data = train_test_split(df, test_size=0.2, stratify=df[\"label\"], random_state=42)\n",
    "train_data, val_data = train_test_split(train_data, test_size=0.1, stratify=train_data[\"label\"], random_state=42)\n",
    "\n",
    "# Convert to HF datasets\n",
    "def prepare_hf_dataset(data):\n",
    "    return Dataset.from_pandas(data[[\"cleaned\", \"label\"]], preserve_index=False)\n",
    "\n",
    "train_dataset = prepare_hf_dataset(train_data)\n",
    "val_dataset = prepare_hf_dataset(val_data)\n",
    "test_dataset = prepare_hf_dataset(test_data)\n",
    "\n",
    "# Tokenizer\n",
    "tokenizer = DebertaV2Tokenizer.from_pretrained(\"microsoft/deberta-v3-small\")\n",
    "def tokenize_function(example):\n",
    "    return tokenizer(example[\"cleaned\"], padding=\"max_length\", truncation=True, max_length=128)\n",
    "\n",
    "train_dataset = train_dataset.map(tokenize_function, batched=True).rename_column(\"label\", \"labels\").remove_columns([\"cleaned\"]).with_format(\"torch\")\n",
    "val_dataset = val_dataset.map(tokenize_function, batched=True).rename_column(\"label\", \"labels\").remove_columns([\"cleaned\"]).with_format(\"torch\")\n",
    "test_dataset = test_dataset.map(tokenize_function, batched=True).rename_column(\"label\", \"labels\").remove_columns([\"cleaned\"]).with_format(\"torch\")\n",
    "\n",
    "# Model setup\n",
    "device = torch.device(\"cuda\" if torch.cuda.is_available() else \"cpu\")\n",
    "model = DebertaV2ForSequenceClassification.from_pretrained(\"microsoft/deberta-v3-small\", num_labels=3).to(device)\n",
    "\n",
    "# Dataloaders and optimizer\n",
    "train_loader = DataLoader(train_dataset, batch_size=16, shuffle=True)\n",
    "val_loader = DataLoader(val_dataset, batch_size=16)\n",
    "test_loader = DataLoader(test_dataset, batch_size=16)\n",
    "optimizer = AdamW(model.parameters(), lr=2e-5)\n",
    "\n",
    "# Training loop\n",
    "model.train()\n",
    "for epoch in range(8):  # more epochs since it's a smaller DeBERTa\n",
    "    print(f\"Epoch {epoch + 1}\")\n",
    "    loop = tqdm(train_loader)\n",
    "    for batch in loop:\n",
    "        batch = {k: v.to(device) for k, v in batch.items()}\n",
    "        outputs = model(**batch)\n",
    "        loss = outputs.loss\n",
    "        loss.backward()\n",
    "        torch.nn.utils.clip_grad_norm_(model.parameters(), max_norm=1.0)\n",
    "        optimizer.step()\n",
    "        optimizer.zero_grad()\n",
    "        loop.set_postfix(loss=loss.item())\n",
    "\n",
    "# Evaluation\n",
    "model.eval()\n",
    "def evaluate(loader):\n",
    "    all_labels, all_preds = [], []\n",
    "    with torch.no_grad():\n",
    "        for batch in loader:\n",
    "            batch = {k: v.to(device) for k, v in batch.items()}\n",
    "            outputs = model(**batch)\n",
    "            preds = torch.argmax(outputs.logits, dim=-1)\n",
    "            all_labels.extend(batch[\"labels\"].cpu().numpy())\n",
    "            all_preds.extend(preds.cpu().numpy())\n",
    "    p, r, f, _ = precision_recall_fscore_support(all_labels, all_preds, average=\"weighted\")\n",
    "    acc = accuracy_score(all_labels, all_preds)\n",
    "    return {\"accuracy\": acc, \"precision\": p, \"recall\": r, \"f1\": f}\n",
    "\n",
    "print(\"Validation Results:\", evaluate(val_loader))\n",
    "print(\"Test Results:\", evaluate(test_loader))\n"
   ]
  },
  {
   "cell_type": "code",
   "execution_count": null,
   "metadata": {
    "id": "c24VopfgA_ci"
   },
   "outputs": [],
   "source": [
    "# DeBERTaV3 Fine-Tuning: Apple/Samsung Yelp Dataset\n",
    "\n",
    "import pandas as pd\n",
    "from datasets import Dataset\n",
    "from transformers import DebertaV2Tokenizer, DebertaV2ForSequenceClassification\n",
    "from torch.optim import AdamW\n",
    "from torch.utils.data import DataLoader\n",
    "from tqdm import tqdm\n",
    "import torch\n",
    "from sklearn.metrics import accuracy_score, precision_recall_fscore_support\n",
    "from sklearn.model_selection import train_test_split\n",
    "import re\n",
    "import nltk\n",
    "nltk.download(\"stopwords\")\n",
    "from nltk.corpus import stopwords\n",
    "\n",
    "# CUDA Check\n",
    "print(\"CUDA available:\", torch.cuda.is_available())\n",
    "if torch.cuda.is_available():\n",
    "    print(\"Device name:\", torch.cuda.get_device_name(0))\n",
    "else:\n",
    "    print(\"Using CPU\")\n",
    "\n",
    "# Load and clean dataset\n",
    "df = pd.read_csv(\"/content/apple_samsung_yelp_sentiment.csv\")\n",
    "df = df.rename(columns={\"review_text\": \"text\", \"sentiment\": \"label\"})\n",
    "\n",
    "stop_words = set(stopwords.words(\"english\"))\n",
    "def clean_text(text):\n",
    "    text = str(text).lower()\n",
    "    text = re.sub(r\"[^a-z\\s]\", \" \", text)\n",
    "    text = re.sub(r\"\\s+\", \" \", text).strip()\n",
    "    return \" \".join([w for w in text.split() if w not in stop_words])\n",
    "\n",
    "df[\"cleaned\"] = df[\"text\"].apply(clean_text)\n",
    "df[\"label\"] = df[\"label\"].map({-1: 0, 0: 1, 1: 2})\n",
    "\n",
    "# Split\n",
    "train_data, test_data = train_test_split(df, test_size=0.2, stratify=df[\"label\"], random_state=42)\n",
    "train_data, val_data = train_test_split(train_data, test_size=0.1, stratify=train_data[\"label\"], random_state=42)\n",
    "\n",
    "# Convert to HF datasets\n",
    "def prepare_hf_dataset(data):\n",
    "    return Dataset.from_pandas(data[[\"cleaned\", \"label\"]], preserve_index=False)\n",
    "\n",
    "train_dataset = prepare_hf_dataset(train_data)\n",
    "val_dataset = prepare_hf_dataset(val_data)\n",
    "test_dataset = prepare_hf_dataset(test_data)\n",
    "\n",
    "# Tokenizer\n",
    "tokenizer = DebertaV2Tokenizer.from_pretrained(\"microsoft/deberta-v3-small\")\n",
    "def tokenize_function(example):\n",
    "    return tokenizer(example[\"cleaned\"], padding=\"max_length\", truncation=True, max_length=128)\n",
    "\n",
    "train_dataset = train_dataset.map(tokenize_function, batched=True).rename_column(\"label\", \"labels\").remove_columns([\"cleaned\"]).with_format(\"torch\")\n",
    "val_dataset = val_dataset.map(tokenize_function, batched=True).rename_column(\"label\", \"labels\").remove_columns([\"cleaned\"]).with_format(\"torch\")\n",
    "test_dataset = test_dataset.map(tokenize_function, batched=True).rename_column(\"label\", \"labels\").remove_columns([\"cleaned\"]).with_format(\"torch\")\n",
    "\n",
    "# Model setup\n",
    "device = torch.device(\"cuda\" if torch.cuda.is_available() else \"cpu\")\n",
    "model = DebertaV2ForSequenceClassification.from_pretrained(\"microsoft/deberta-v3-small\", num_labels=3).to(device)\n",
    "\n",
    "# Dataloaders and optimizer\n",
    "train_loader = DataLoader(train_dataset, batch_size=16, shuffle=True)\n",
    "val_loader = DataLoader(val_dataset, batch_size=16)\n",
    "test_loader = DataLoader(test_dataset, batch_size=16)\n",
    "optimizer = AdamW(model.parameters(), lr=2e-5)\n",
    "\n",
    "# Training loop\n",
    "model.train()\n",
    "for epoch in range(8):  # more epochs since it's a smaller DeBERTa\n",
    "    print(f\"Epoch {epoch + 1}\")\n",
    "    loop = tqdm(train_loader)\n",
    "    for batch in loop:\n",
    "        batch = {k: v.to(device) for k, v in batch.items()}\n",
    "        outputs = model(**batch)\n",
    "        loss = outputs.loss\n",
    "        loss.backward()\n",
    "        torch.nn.utils.clip_grad_norm_(model.parameters(), max_norm=1.0)\n",
    "        optimizer.step()\n",
    "        optimizer.zero_grad()\n",
    "        loop.set_postfix(loss=loss.item())\n",
    "\n",
    "# Evaluation\n",
    "model.eval()\n",
    "def evaluate(loader):\n",
    "    all_labels, all_preds = [], []\n",
    "    with torch.no_grad():\n",
    "        for batch in loader:\n",
    "            batch = {k: v.to(device) for k, v in batch.items()}\n",
    "            outputs = model(**batch)\n",
    "            preds = torch.argmax(outputs.logits, dim=-1)\n",
    "            all_labels.extend(batch[\"labels\"].cpu().numpy())\n",
    "            all_preds.extend(preds.cpu().numpy())\n",
    "    p, r, f, _ = precision_recall_fscore_support(all_labels, all_preds, average=\"weighted\")\n",
    "    acc = accuracy_score(all_labels, all_preds)\n",
    "    return {\"accuracy\": acc, \"precision\": p, \"recall\": r, \"f1\": f}\n",
    "\n",
    "print(\"Validation Results:\", evaluate(val_loader))\n",
    "print(\"Test Results:\", evaluate(test_loader))\n"
   ]
  },
  {
   "cell_type": "code",
   "execution_count": null,
   "metadata": {
    "colab": {
     "base_uri": "https://localhost:8080/",
     "height": 829,
     "referenced_widgets": [
      "4c2c770edb3d4c59b7b9562cdb920b92",
      "71937fe23fa84aecb66a79a2c9f06771",
      "7acc7faddcee4728b1595fe31bc10c1f",
      "b3957423fb994ac2a49adfa7b3831a98",
      "2410b0954de04f988aa92b1f3903802c",
      "79350356bf224e65b6828ca49e5ecde7",
      "ff4c55643cf04612a8c5c9d98c27ee4c",
      "6d13aec63a19484b8f3a1accc68cdcde",
      "da17f0658c1f4ccd8b381fb0e441550e",
      "53544fc9ffa4401fb7b4db3b9b15c70f",
      "a23060fa122c4169b1e7b03a5ba4a246",
      "3e9be9155b544db8898427327ce7e6e2",
      "4e9a7571e70f41149eaaf33dafbffccc",
      "491b40568e2b434489971af624aec752",
      "95d45a70644b4e2bb9b6f77d912052f5",
      "94caecbe2b604c46bd6d3f13295ca838",
      "119eb21ae8d04df7a48c6c6fecba0db6",
      "348607665823451e8dc6c9a01b6871b5",
      "4b207cdb3d944bc3b279b87c9f9e312a",
      "0c9b4b710bd14baebb4d401105bb077e",
      "dd4f0f7bbcd840a8a9836294c93c977c",
      "d176cea4f4514df9b4c76ab33e44917b",
      "362f9d8a73614a4ca9ae9f8e878372c2",
      "8c1003c6e0d846baa6a4997da72c87df",
      "2f50ee40c0cd48b1a7ad04c617d962db",
      "ad2665be93284a5ab8ee0902760f1bc0",
      "ad8dff9f43ba4becace9f4e639a0b0aa",
      "38d2d509057046fea090bd07074fc124",
      "ee0dd66d19254d8298c2a6c5edd3f4b5",
      "7303782bd2c3427c85b20b61384762e5",
      "68f95a4037464daeb6a802d9a07642dc",
      "054a507fedf14335bbe42a199f73809a",
      "3be60b55f9b54c5d99a40c8e75ca60e2",
      "a4dbee93420d411e9a42c50bbab2049b",
      "bfacf9b397c647348e2ad6a591e6b08d",
      "02bdb6acaeb947eb94099b793f49b8ff",
      "0fc0dd486a4a4a6abc6d0b31edfbb144",
      "29eb6baa655b4f35b05f89bb6a8b8229",
      "7209d0bcf7b74c8aa4770e623276344f",
      "dcd3aca66f864c3494b54fe701de748f",
      "9936775cef57432ebb23094e2de94a11",
      "8c9a181bd8244476a2f5c444989fab84",
      "3cfa3faabc28408eb4c5b087f1deb7f1",
      "65a62744d1d94e96838f5ac6c40df284",
      "96396b02de76463e8f0d9abed2533c39",
      "8b6755f1278b49f5bf348882ce87b7ab",
      "55739e8353404cb69c2c4650ecfb693b",
      "c197274cdebb4189a9f76c3c59de833d",
      "72b8231d39244b199ec8307bd55d4cbf",
      "48864d66991a420c928e51fa7495258b",
      "5ae09c1f28c64ab2a6b5812c2a1c5a32",
      "760b243d064c461c8d0fd10b02258de0",
      "ac7157813d8245f4b2f293b9ba6f622a",
      "1882bcd6f5c14af2959635303ea17e08",
      "5e1db292fc5c4a29b763039bcbcd827a",
      "9623f166977c41358550a94c811446c8",
      "38bfed331ee64e03a60f672b30210a85",
      "cd5c0e910dc44017ae85ad0f8cd7c36e",
      "fdd997738c3a4de2a085282398303e4b",
      "b2326c1612e34827b0e0693eab64d8d9",
      "a78497be13034b0eb78ef6a4f805d99d",
      "153a54cdd5624c3c8b889d88baa6411d",
      "7e1a2a7e6a3748a794c81f7aa446c34e",
      "3783e1f511df461d9205e7f2a94ff57e",
      "4ac9c634796a4bc9aaa8a3ba35fcf5aa",
      "c9d5aef16fda4450b9bf7babf79e9e98",
      "7f9a5395e2384f68a645a15309dd692a",
      "cb4853b57023430a9dfe16b51e22fdba",
      "8bbff2fd1b3e41fb8d102a87a11fbcf8",
      "38e67db69b4c44c8a6b691e9a33c4017",
      "5eb6f3ca11d245feb15b0cd23d11b31d",
      "dba89a55c1e341eda638f7eef3f84cce",
      "ea0b2d605a3642d8886284667acc1a2c",
      "e3a4730ed35c4dfba72b5a3f0a88ceac",
      "53a79988988444eaa60e7929c844b703",
      "5b6b7e368a3942f295408b9986368969",
      "6e84e3c5b5d04a5e99639de9cce7d68c",
      "4ba1f74eea8e4b06a4a36a9594c1215c",
      "c7cee884605c47c980abd63ad8c98af1",
      "93e106ca832b4c14a95c160738289bae",
      "4d6ec9a2c3a347f898e7ab54f4cb647b",
      "52b026b6c77f42a7b96df1bfda9c5e79",
      "b09f5750fc6c4416809a5b317f3da0d8",
      "50cbd9a33bc84bbfa352c1cfb260bf28",
      "40f52f7d213f4da6820144ea96f08e75",
      "f0dcfeac1a964979a92e996bbe481d9d",
      "85474fc1eb9148a7b5eb00d0464ac9f2",
      "d87a4a5f969344b6911a036db2401897"
     ]
    },
    "id": "K5bEnkgaBTXQ",
    "outputId": "a6599db7-d850-477f-d452-b4b682c649f7"
   },
   "outputs": [
    {
     "metadata": {
      "tags": null
     },
     "name": "stderr",
     "output_type": "stream",
     "text": [
      "[nltk_data] Downloading package stopwords to /root/nltk_data...\n",
      "[nltk_data]   Unzipping corpora/stopwords.zip.\n"
     ]
    },
    {
     "metadata": {
      "tags": null
     },
     "name": "stdout",
     "output_type": "stream",
     "text": [
      "CUDA available: True\n",
      "Device name: Tesla T4\n"
     ]
    },
    {
     "metadata": {
      "tags": null
     },
     "name": "stderr",
     "output_type": "stream",
     "text": [
      "/usr/local/lib/python3.11/dist-packages/huggingface_hub/utils/_auth.py:94: UserWarning: \n",
      "The secret `HF_TOKEN` does not exist in your Colab secrets.\n",
      "To authenticate with the Hugging Face Hub, create a token in your settings tab (https://huggingface.co/settings/tokens), set it as secret in your Google Colab and restart your session.\n",
      "You will be able to reuse this secret in all of your notebooks.\n",
      "Please note that authentication is recommended but still optional to access public models or datasets.\n",
      "  warnings.warn(\n"
     ]
    },
    {
     "data": {
      "application/vnd.jupyter.widget-view+json": {
       "model_id": "4c2c770edb3d4c59b7b9562cdb920b92",
       "version_major": 2,
       "version_minor": 0
      },
      "text/plain": [
       "tokenizer_config.json:   0%|          | 0.00/52.0 [00:00<?, ?B/s]"
      ]
     },
     "metadata": {},
     "output_type": "display_data"
    },
    {
     "data": {
      "application/vnd.jupyter.widget-view+json": {
       "model_id": "3e9be9155b544db8898427327ce7e6e2",
       "version_major": 2,
       "version_minor": 0
      },
      "text/plain": [
       "spm.model:   0%|          | 0.00/2.46M [00:00<?, ?B/s]"
      ]
     },
     "metadata": {},
     "output_type": "display_data"
    },
    {
     "data": {
      "application/vnd.jupyter.widget-view+json": {
       "model_id": "362f9d8a73614a4ca9ae9f8e878372c2",
       "version_major": 2,
       "version_minor": 0
      },
      "text/plain": [
       "config.json:   0%|          | 0.00/578 [00:00<?, ?B/s]"
      ]
     },
     "metadata": {},
     "output_type": "display_data"
    },
    {
     "data": {
      "application/vnd.jupyter.widget-view+json": {
       "model_id": "a4dbee93420d411e9a42c50bbab2049b",
       "version_major": 2,
       "version_minor": 0
      },
      "text/plain": [
       "Map:   0%|          | 0/9042 [00:00<?, ? examples/s]"
      ]
     },
     "metadata": {},
     "output_type": "display_data"
    },
    {
     "data": {
      "application/vnd.jupyter.widget-view+json": {
       "model_id": "96396b02de76463e8f0d9abed2533c39",
       "version_major": 2,
       "version_minor": 0
      },
      "text/plain": [
       "Map:   0%|          | 0/1005 [00:00<?, ? examples/s]"
      ]
     },
     "metadata": {},
     "output_type": "display_data"
    },
    {
     "data": {
      "application/vnd.jupyter.widget-view+json": {
       "model_id": "9623f166977c41358550a94c811446c8",
       "version_major": 2,
       "version_minor": 0
      },
      "text/plain": [
       "Map:   0%|          | 0/2512 [00:00<?, ? examples/s]"
      ]
     },
     "metadata": {},
     "output_type": "display_data"
    },
    {
     "data": {
      "application/vnd.jupyter.widget-view+json": {
       "model_id": "7f9a5395e2384f68a645a15309dd692a",
       "version_major": 2,
       "version_minor": 0
      },
      "text/plain": [
       "pytorch_model.bin:   0%|          | 0.00/286M [00:00<?, ?B/s]"
      ]
     },
     "metadata": {},
     "output_type": "display_data"
    },
    {
     "metadata": {
      "tags": null
     },
     "name": "stderr",
     "output_type": "stream",
     "text": [
      "Some weights of DebertaV2ForSequenceClassification were not initialized from the model checkpoint at microsoft/deberta-v3-small and are newly initialized: ['classifier.bias', 'classifier.weight', 'pooler.dense.bias', 'pooler.dense.weight']\n",
      "You should probably TRAIN this model on a down-stream task to be able to use it for predictions and inference.\n"
     ]
    },
    {
     "metadata": {
      "tags": null
     },
     "name": "stdout",
     "output_type": "stream",
     "text": [
      "Epoch 1\n"
     ]
    },
    {
     "metadata": {
      "tags": null
     },
     "name": "stderr",
     "output_type": "stream",
     "text": [
      "\r",
      "  0%|          | 0/566 [00:00<?, ?it/s]"
     ]
    },
    {
     "data": {
      "application/vnd.jupyter.widget-view+json": {
       "model_id": "4ba1f74eea8e4b06a4a36a9594c1215c",
       "version_major": 2,
       "version_minor": 0
      },
      "text/plain": [
       "model.safetensors:   0%|          | 0.00/286M [00:00<?, ?B/s]"
      ]
     },
     "metadata": {},
     "output_type": "display_data"
    },
    {
     "metadata": {
      "tags": null
     },
     "name": "stderr",
     "output_type": "stream",
     "text": [
      "100%|██████████| 566/566 [02:27<00:00,  3.83it/s, loss=0.593]\n"
     ]
    },
    {
     "metadata": {
      "tags": null
     },
     "name": "stdout",
     "output_type": "stream",
     "text": [
      "Epoch 2\n"
     ]
    },
    {
     "metadata": {
      "tags": null
     },
     "name": "stderr",
     "output_type": "stream",
     "text": [
      "100%|██████████| 566/566 [02:30<00:00,  3.75it/s, loss=0.203]\n"
     ]
    },
    {
     "metadata": {
      "tags": null
     },
     "name": "stdout",
     "output_type": "stream",
     "text": [
      "Epoch 3\n"
     ]
    },
    {
     "metadata": {
      "tags": null
     },
     "name": "stderr",
     "output_type": "stream",
     "text": [
      "100%|██████████| 566/566 [02:30<00:00,  3.75it/s, loss=0.615]\n"
     ]
    },
    {
     "metadata": {
      "tags": null
     },
     "name": "stdout",
     "output_type": "stream",
     "text": [
      "Epoch 4\n"
     ]
    },
    {
     "metadata": {
      "tags": null
     },
     "name": "stderr",
     "output_type": "stream",
     "text": [
      "100%|██████████| 566/566 [02:31<00:00,  3.75it/s, loss=0.0112]\n"
     ]
    },
    {
     "metadata": {
      "tags": null
     },
     "name": "stdout",
     "output_type": "stream",
     "text": [
      "Epoch 5\n"
     ]
    },
    {
     "metadata": {
      "tags": null
     },
     "name": "stderr",
     "output_type": "stream",
     "text": [
      "100%|██████████| 566/566 [02:31<00:00,  3.74it/s, loss=0.0316]\n"
     ]
    },
    {
     "metadata": {
      "tags": null
     },
     "name": "stdout",
     "output_type": "stream",
     "text": [
      "Epoch 6\n"
     ]
    },
    {
     "metadata": {
      "tags": null
     },
     "name": "stderr",
     "output_type": "stream",
     "text": [
      "100%|██████████| 566/566 [02:30<00:00,  3.75it/s, loss=0.00231]\n"
     ]
    },
    {
     "metadata": {
      "tags": null
     },
     "name": "stdout",
     "output_type": "stream",
     "text": [
      "Epoch 7\n"
     ]
    },
    {
     "name": "stderr",
     "output_type": "stream",
     "text": [
      "100%|██████████| 566/566 [02:31<00:00,  3.74it/s, loss=0.00404]\n"
     ]
    },
    {
     "name": "stdout",
     "output_type": "stream",
     "text": [
      "Epoch 8\n"
     ]
    },
    {
     "name": "stderr",
     "output_type": "stream",
     "text": [
      "100%|██████████| 566/566 [02:31<00:00,  3.74it/s, loss=0.0106]\n"
     ]
    },
    {
     "name": "stdout",
     "output_type": "stream",
     "text": [
      "Validation Results: {'accuracy': 0.7412935323383084, 'precision': 0.755457739699724, 'recall': 0.7412935323383084, 'f1': 0.7472113080965775}\n"
     ]
    }
   ],
   "source": [
    "# DeBERTaV3 Fine-Tuning: Apple/Samsung Yelp Dataset\n",
    "\n",
    "import pandas as pd\n",
    "from datasets import Dataset\n",
    "from transformers import DebertaV2Tokenizer, DebertaV2ForSequenceClassification\n",
    "from torch.optim import AdamW\n",
    "from torch.utils.data import DataLoader\n",
    "from tqdm import tqdm\n",
    "import torch\n",
    "from sklearn.metrics import accuracy_score, precision_recall_fscore_support\n",
    "from sklearn.model_selection import train_test_split\n",
    "import re\n",
    "import nltk\n",
    "nltk.download(\"stopwords\")\n",
    "from nltk.corpus import stopwords\n",
    "\n",
    "# CUDA Check\n",
    "print(\"CUDA available:\", torch.cuda.is_available())\n",
    "if torch.cuda.is_available():\n",
    "    print(\"Device name:\", torch.cuda.get_device_name(0))\n",
    "else:\n",
    "    print(\"Using CPU\")\n",
    "\n",
    "# Load and clean dataset\n",
    "df = pd.read_csv(\"/content/apple_samsung_yelp_sentiment.csv\")\n",
    "df = df.rename(columns={\"review_text\": \"text\", \"sentiment\": \"label\"})\n",
    "\n",
    "stop_words = set(stopwords.words(\"english\"))\n",
    "def clean_text(text):\n",
    "    text = str(text).lower()\n",
    "    text = re.sub(r\"[^a-z\\s]\", \" \", text)\n",
    "    text = re.sub(r\"\\s+\", \" \", text).strip()\n",
    "    return \" \".join([w for w in text.split() if w not in stop_words])\n",
    "\n",
    "df[\"cleaned\"] = df[\"text\"].apply(clean_text)\n",
    "df[\"label\"] = df[\"label\"].map({-1: 0, 0: 1, 1: 2})\n",
    "\n",
    "# Split\n",
    "train_data, test_data = train_test_split(df, test_size=0.2, stratify=df[\"label\"], random_state=42)\n",
    "train_data, val_data = train_test_split(train_data, test_size=0.1, stratify=train_data[\"label\"], random_state=42)\n",
    "\n",
    "# Convert to HF datasets\n",
    "def prepare_hf_dataset(data):\n",
    "    return Dataset.from_pandas(data[[\"cleaned\", \"label\"]], preserve_index=False)\n",
    "\n",
    "train_dataset = prepare_hf_dataset(train_data)\n",
    "val_dataset = prepare_hf_dataset(val_data)\n",
    "test_dataset = prepare_hf_dataset(test_data)\n",
    "\n",
    "# Tokenizer\n",
    "tokenizer = DebertaV2Tokenizer.from_pretrained(\"microsoft/deberta-v3-small\")\n",
    "def tokenize_function(example):\n",
    "    return tokenizer(example[\"cleaned\"], padding=\"max_length\", truncation=True, max_length=128)\n",
    "\n",
    "train_dataset = train_dataset.map(tokenize_function, batched=True).rename_column(\"label\", \"labels\").remove_columns([\"cleaned\"]).with_format(\"torch\")\n",
    "val_dataset = val_dataset.map(tokenize_function, batched=True).rename_column(\"label\", \"labels\").remove_columns([\"cleaned\"]).with_format(\"torch\")\n",
    "test_dataset = test_dataset.map(tokenize_function, batched=True).rename_column(\"label\", \"labels\").remove_columns([\"cleaned\"]).with_format(\"torch\")\n",
    "\n",
    "# Model setup\n",
    "device = torch.device(\"cuda\" if torch.cuda.is_available() else \"cpu\")\n",
    "model = DebertaV2ForSequenceClassification.from_pretrained(\"microsoft/deberta-v3-small\", num_labels=3).to(device)\n",
    "\n",
    "# Dataloaders and optimizer\n",
    "train_loader = DataLoader(train_dataset, batch_size=16, shuffle=True)\n",
    "val_loader = DataLoader(val_dataset, batch_size=16)\n",
    "test_loader = DataLoader(test_dataset, batch_size=16)\n",
    "optimizer = AdamW(model.parameters(), lr=2e-5)\n",
    "\n",
    "# Training loop\n",
    "model.train()\n",
    "for epoch in range(8):  # more epochs since it's a smaller DeBERTa\n",
    "    print(f\"Epoch {epoch + 1}\")\n",
    "    loop = tqdm(train_loader)\n",
    "    for batch in loop:\n",
    "        batch = {k: v.to(device) for k, v in batch.items()}\n",
    "        outputs = model(**batch)\n",
    "        loss = outputs.loss\n",
    "        loss.backward()\n",
    "        torch.nn.utils.clip_grad_norm_(model.parameters(), max_norm=1.0)\n",
    "        optimizer.step()\n",
    "        optimizer.zero_grad()\n",
    "        loop.set_postfix(loss=loss.item())\n",
    "\n",
    "# Evaluation\n",
    "model.eval()\n",
    "def evaluate(loader):\n",
    "    all_labels, all_preds = [], []\n",
    "    with torch.no_grad():\n",
    "        for batch in loader:\n",
    "            batch = {k: v.to(device) for k, v in batch.items()}\n",
    "            outputs = model(**batch)\n",
    "            preds = torch.argmax(outputs.logits, dim=-1)\n",
    "            all_labels.extend(batch[\"labels\"].cpu().numpy())\n",
    "            all_preds.extend(preds.cpu().numpy())\n",
    "    p, r, f, _ = precision_recall_fscore_support(all_labels, all_preds, average=\"weighted\")\n",
    "    acc = accuracy_score(all_labels, all_preds)\n",
    "    return {\"accuracy\": acc, \"precision\": p, \"recall\": r, \"f1\": f}\n",
    "\n",
    "print(\"Validation Results:\", evaluate(val_loader))\n",
    "print(\"Test Results:\", evaluate(test_loader))\n"
   ]
  },
  {
   "cell_type": "code",
   "execution_count": null,
   "metadata": {
    "colab": {
     "base_uri": "https://localhost:8080/",
     "height": 293
    },
    "id": "yG1rHiBKdFNp",
    "outputId": "48c89e65-8b21-49ed-edf2-adcc8b134fc6"
   },
   "outputs": [
    {
     "ename": "NotImplementedError",
     "evalue": "A UTF-8 locale is required. Got ANSI_X3.4-1968",
     "output_type": "error",
     "traceback": [
      "\u001b[0;31m---------------------------------------------------------------------------\u001b[0m",
      "\u001b[0;31mNotImplementedError\u001b[0m                       Traceback (most recent call last)",
      "\u001b[0;32m<ipython-input-10-065e8d1b0626>\u001b[0m in \u001b[0;36m<cell line: 0>\u001b[0;34m()\u001b[0m\n\u001b[0;32m----> 1\u001b[0;31m \u001b[0mget_ipython\u001b[0m\u001b[0;34m(\u001b[0m\u001b[0;34m)\u001b[0m\u001b[0;34m.\u001b[0m\u001b[0msystem\u001b[0m\u001b[0;34m(\u001b[0m\u001b[0;34m'pip install -q transformers datasets nltk'\u001b[0m\u001b[0;34m)\u001b[0m\u001b[0;34m\u001b[0m\u001b[0;34m\u001b[0m\u001b[0m\n\u001b[0m",
      "\u001b[0;32m/usr/local/lib/python3.11/dist-packages/google/colab/_shell.py\u001b[0m in \u001b[0;36msystem\u001b[0;34m(self, *args, **kwargs)\u001b[0m\n\u001b[1;32m    121\u001b[0m       \u001b[0mkwargs\u001b[0m\u001b[0;34m.\u001b[0m\u001b[0mupdate\u001b[0m\u001b[0;34m(\u001b[0m\u001b[0;34m{\u001b[0m\u001b[0;34m'also_return_output'\u001b[0m\u001b[0;34m:\u001b[0m \u001b[0;32mTrue\u001b[0m\u001b[0;34m}\u001b[0m\u001b[0;34m)\u001b[0m\u001b[0;34m\u001b[0m\u001b[0;34m\u001b[0m\u001b[0m\n\u001b[1;32m    122\u001b[0m \u001b[0;34m\u001b[0m\u001b[0m\n\u001b[0;32m--> 123\u001b[0;31m     \u001b[0moutput\u001b[0m \u001b[0;34m=\u001b[0m \u001b[0m_system_commands\u001b[0m\u001b[0;34m.\u001b[0m\u001b[0m_system_compat\u001b[0m\u001b[0;34m(\u001b[0m\u001b[0mself\u001b[0m\u001b[0;34m,\u001b[0m \u001b[0;34m*\u001b[0m\u001b[0margs\u001b[0m\u001b[0;34m,\u001b[0m \u001b[0;34m**\u001b[0m\u001b[0mkwargs\u001b[0m\u001b[0;34m)\u001b[0m  \u001b[0;31m# pylint:disable=protected-access\u001b[0m\u001b[0;34m\u001b[0m\u001b[0;34m\u001b[0m\u001b[0m\n\u001b[0m\u001b[1;32m    124\u001b[0m \u001b[0;34m\u001b[0m\u001b[0m\n\u001b[1;32m    125\u001b[0m     \u001b[0;32mif\u001b[0m \u001b[0mpip_warn\u001b[0m\u001b[0;34m:\u001b[0m\u001b[0;34m\u001b[0m\u001b[0;34m\u001b[0m\u001b[0m\n",
      "\u001b[0;32m/usr/local/lib/python3.11/dist-packages/google/colab/_system_commands.py\u001b[0m in \u001b[0;36m_system_compat\u001b[0;34m(shell, cmd, also_return_output)\u001b[0m\n\u001b[1;32m    452\u001b[0m   \u001b[0;31m# is expected to call this function, thus adding one level of nesting to the\u001b[0m\u001b[0;34m\u001b[0m\u001b[0;34m\u001b[0m\u001b[0m\n\u001b[1;32m    453\u001b[0m   \u001b[0;31m# stack.\u001b[0m\u001b[0;34m\u001b[0m\u001b[0;34m\u001b[0m\u001b[0m\n\u001b[0;32m--> 454\u001b[0;31m   result = _run_command(\n\u001b[0m\u001b[1;32m    455\u001b[0m       \u001b[0mshell\u001b[0m\u001b[0;34m.\u001b[0m\u001b[0mvar_expand\u001b[0m\u001b[0;34m(\u001b[0m\u001b[0mcmd\u001b[0m\u001b[0;34m,\u001b[0m \u001b[0mdepth\u001b[0m\u001b[0;34m=\u001b[0m\u001b[0;36m2\u001b[0m\u001b[0;34m)\u001b[0m\u001b[0;34m,\u001b[0m \u001b[0mclear_streamed_output\u001b[0m\u001b[0;34m=\u001b[0m\u001b[0;32mFalse\u001b[0m\u001b[0;34m\u001b[0m\u001b[0;34m\u001b[0m\u001b[0m\n\u001b[1;32m    456\u001b[0m   )\n",
      "\u001b[0;32m/usr/local/lib/python3.11/dist-packages/google/colab/_system_commands.py\u001b[0m in \u001b[0;36m_run_command\u001b[0;34m(cmd, clear_streamed_output)\u001b[0m\n\u001b[1;32m    166\u001b[0m     \u001b[0mlocale_encoding\u001b[0m \u001b[0;34m=\u001b[0m \u001b[0mlocale\u001b[0m\u001b[0;34m.\u001b[0m\u001b[0mgetpreferredencoding\u001b[0m\u001b[0;34m(\u001b[0m\u001b[0;34m)\u001b[0m\u001b[0;34m\u001b[0m\u001b[0;34m\u001b[0m\u001b[0m\n\u001b[1;32m    167\u001b[0m     \u001b[0;32mif\u001b[0m \u001b[0mlocale_encoding\u001b[0m \u001b[0;34m!=\u001b[0m \u001b[0m_ENCODING\u001b[0m\u001b[0;34m:\u001b[0m\u001b[0;34m\u001b[0m\u001b[0;34m\u001b[0m\u001b[0m\n\u001b[0;32m--> 168\u001b[0;31m       raise NotImplementedError(\n\u001b[0m\u001b[1;32m    169\u001b[0m           \u001b[0;34m'A UTF-8 locale is required. Got {}'\u001b[0m\u001b[0;34m.\u001b[0m\u001b[0mformat\u001b[0m\u001b[0;34m(\u001b[0m\u001b[0mlocale_encoding\u001b[0m\u001b[0;34m)\u001b[0m\u001b[0;34m\u001b[0m\u001b[0;34m\u001b[0m\u001b[0m\n\u001b[1;32m    170\u001b[0m       )\n",
      "\u001b[0;31mNotImplementedError\u001b[0m: A UTF-8 locale is required. Got ANSI_X3.4-1968"
     ]
    }
   ],
   "source": [
    "!pip install -q transformers datasets nltk"
   ]
  },
  {
   "cell_type": "code",
   "execution_count": 1,
   "metadata": {
    "colab": {
     "base_uri": "https://localhost:8080/",
     "height": 1000,
     "referenced_widgets": [
      "d958840ca5d842059b4669b8877001eb",
      "2dc1cf828a594e5295d6f467a5450a4a",
      "1263a89ae23444e1bb8d84b718704257",
      "4965b2f845a546f0b98f4c4cbc1dadeb",
      "5d94e15b679b4892b32567a46bfc454a",
      "bf6593e61c4f423c92dc7b35057bd741",
      "546f5054142c42fe8a24d8adeb9c3256",
      "f2a8bf9a98464692bbfd863439e4a224",
      "2fac3532d6d242d5b5c2f859f939939f",
      "bc05be3604894fa5820964c7bff36b43",
      "ffd836f981b64e7995c385a023d3b317",
      "77075af165a84b399c05b7d4167e186e",
      "0b919ae045884ad4842f5c817540e67a",
      "44a921919cab42429ede135d2ecd5b00",
      "7e8d091b29ec4d6db00af30ed417c956",
      "a8b56fc2dc284821a00233deafb94a34",
      "a33fb0ddb94c4aa0aec28bfe23da167c",
      "85b62d8709794297a816886bf7585899",
      "d46b0e7fae614596bdfe1babd3379329",
      "ebad93bebe424c4cb9ab737ff114a2bb",
      "a971cd8dbf3b43d694be9d645dc9d6cd",
      "96d98fc1e8704d1f9c134b2522a18297",
      "4ee70be91a5c4a0ba5aa046074ad814d",
      "215919265cc74b0d92ccc6149f5a9ba7",
      "3a4c63c6f59b48b4a6e826f359cff74c",
      "2c23c4efc90341368293dbde58b39200",
      "05dcdc13f4834ab68e81528af5089663",
      "6afa149d477240f5895506a21dacc080",
      "98ed60ea3e144967a99bee5e53795798",
      "cf3eb7d098824ae89ef969d35b64008c",
      "c96190280b434368920a934ac40d7938",
      "7553c2349eac49309b7b6f275b033004",
      "b2b80ac8e6694221922ca9faad7754d9",
      "1090dc8100844621ade912348c5daeff",
      "5e104b6445c2496aa05853997cfe6bee",
      "725cbb96d71c417591e19ccadafc1339",
      "6667cdb350464c23a03da0b8bc4b5f67",
      "8d1db41e4c864952a9095e51a8a147cc",
      "530e52acfe4b493598dec13f047c7593",
      "f0bea5611dae4b4bb178e71360f67875",
      "2b9a4cb872c743a9872e3bd0bba0f046",
      "9a5001132418429290a0c973443a676d",
      "0d8d74e38be94247a735854815cd0a6e",
      "01d4e7124b0e434dbb3e73187509346c",
      "55109e3ba016479991343f1a50df2865",
      "6c45e5bad04548db9374d213d8431065",
      "d219fc421afd44808e5fad2ad8a6a223",
      "c2a216d77731409eb2fb7b2d75ec6068",
      "73cdcc27a6dd4ac2b386f4b31fa19c8d",
      "0d57be41f6f54a7cb8ca83137f6c371a",
      "11d52fd70ef444659326f889c85b1756",
      "88ad03b9781240d0ae7fda18bb478386",
      "ef0be19a709f4011af8e2c7b2d1c7ab2",
      "da9d5feb485d4177a101ad3e16d85e00",
      "afb3fd578a1c4f048519396c295a2986",
      "3d9efd07228c445dbef2486a6859f326",
      "bc3d2ab1466a4438a96b19cdca548498",
      "11df9b6e5d56430fbc679da13bc88c76",
      "b36274614d5a4e3b9aa3005a61803bb2",
      "84264938a5514e99a8128756f149147a",
      "0c3c389f780a4bbbb88bbc219de9cf4e",
      "8503ce8fa04d4f78a20edcb739ded15d",
      "4efc9b8c944a4b60ae50abc5c62233ff",
      "b046db2823f9422d92953404f3a328c9",
      "a9fe5b5d47cf46be8fe821f745a1c14b",
      "cd266fc3e9134ba69fa4b31e74835911",
      "e52cedfd76144b62bb02d1ba2e2baca6",
      "5500d0bad0804da28dd78c1289a5e092",
      "64a189e06c8b4ef4b68d465b84cd8d35",
      "80cdba222a444019a38ce982a8604de0",
      "c5c354ff068f48efbca5f8b5ba79d86f",
      "f0f872efc5384baba001a7b0421b72c3",
      "290c0ebab9f545e9920883b0fd2bf798",
      "9ba89321de644d819818a74c164ce2fa",
      "1835d63467734f3590b7e10792de2898",
      "61b79a6204384d25abebd4d61bc57c35",
      "f346d34c00f04af189351582de7eef28",
      "6f1b857c4fb14ee7afd919702e423cf8",
      "56cf6b6e36f24c1aa7516219128818ff",
      "798a69c7fa404979a0abdfa3f3977c13",
      "8d140e22bcd1420a8ae356af009c91de",
      "fb306bbc06504c089ef415d08e6a9158",
      "65853b2091b049a4980f763a9315f605",
      "5acefd1b6bf54aba97136ffef29575b9",
      "a1023a2814ee401ea868cba4b76722f8",
      "18caebfe9dcd4162bff48ac25ea99393",
      "71464f7745404cb88df3dbc0bd5116eb",
      "0e241e2395294d5f91cb1230c168de45"
     ]
    },
    "id": "CwXxpufxcq9s",
    "outputId": "52d35220-6a6d-4053-e65f-cde725e7d954"
   },
   "outputs": [
    {
     "metadata": {
      "tags": null
     },
     "name": "stdout",
     "output_type": "stream",
     "text": [
      "\u001b[?25l   \u001b[90m━━━━━━━━━━━━━━━━━━━━━━━━━━━━━━━━━━━━━━━━\u001b[0m \u001b[32m0.0/491.2 kB\u001b[0m \u001b[31m?\u001b[0m eta \u001b[36m-:--:--\u001b[0m\r",
      "\u001b[2K   \u001b[91m━━━━━━━━━━━━━━━━━━━━━━━━━\u001b[0m\u001b[90m╺\u001b[0m\u001b[90m━━━━━━━━━━━━━━\u001b[0m \u001b[32m307.2/491.2 kB\u001b[0m \u001b[31m9.5 MB/s\u001b[0m eta \u001b[36m0:00:01\u001b[0m\r",
      "\u001b[2K   \u001b[90m━━━━━━━━━━━━━━━━━━━━━━━━━━━━━━━━━━━━━━━━\u001b[0m \u001b[32m491.2/491.2 kB\u001b[0m \u001b[31m7.6 MB/s\u001b[0m eta \u001b[36m0:00:00\u001b[0m\n",
      "\u001b[?25h\u001b[?25l   \u001b[90m━━━━━━━━━━━━━━━━━━━━━━━━━━━━━━━━━━━━━━━━\u001b[0m \u001b[32m0.0/116.3 kB\u001b[0m \u001b[31m?\u001b[0m eta \u001b[36m-:--:--\u001b[0m\r",
      "\u001b[2K   \u001b[90m━━━━━━━━━━━━━━━━━━━━━━━━━━━━━━━━━━━━━━━━\u001b[0m \u001b[32m116.3/116.3 kB\u001b[0m \u001b[31m8.4 MB/s\u001b[0m eta \u001b[36m0:00:00\u001b[0m\n",
      "\u001b[?25h\u001b[?25l   \u001b[90m━━━━━━━━━━━━━━━━━━━━━━━━━━━━━━━━━━━━━━━━\u001b[0m \u001b[32m0.0/183.9 kB\u001b[0m \u001b[31m?\u001b[0m eta \u001b[36m-:--:--\u001b[0m\r",
      "\u001b[2K   \u001b[90m━━━━━━━━━━━━━━━━━━━━━━━━━━━━━━━━━━━━━━━━\u001b[0m \u001b[32m183.9/183.9 kB\u001b[0m \u001b[31m14.0 MB/s\u001b[0m eta \u001b[36m0:00:00\u001b[0m\n",
      "\u001b[?25h\u001b[?25l   \u001b[90m━━━━━━━━━━━━━━━━━━━━━━━━━━━━━━━━━━━━━━━━\u001b[0m \u001b[32m0.0/143.5 kB\u001b[0m \u001b[31m?\u001b[0m eta \u001b[36m-:--:--\u001b[0m\r",
      "\u001b[2K   \u001b[90m━━━━━━━━━━━━━━━━━━━━━━━━━━━━━━━━━━━━━━━━\u001b[0m \u001b[32m143.5/143.5 kB\u001b[0m \u001b[31m10.4 MB/s\u001b[0m eta \u001b[36m0:00:00\u001b[0m\n",
      "\u001b[?25h\u001b[?25l   \u001b[90m━━━━━━━━━━━━━━━━━━━━━━━━━━━━━━━━━━━━━━━━\u001b[0m \u001b[32m0.0/194.8 kB\u001b[0m \u001b[31m?\u001b[0m eta \u001b[36m-:--:--\u001b[0m\r",
      "\u001b[2K   \u001b[90m━━━━━━━━━━━━━━━━━━━━━━━━━━━━━━━━━━━━━━━━\u001b[0m \u001b[32m194.8/194.8 kB\u001b[0m \u001b[31m15.4 MB/s\u001b[0m eta \u001b[36m0:00:00\u001b[0m\n",
      "\u001b[?25h\u001b[31mERROR: pip's dependency resolver does not currently take into account all the packages that are installed. This behaviour is the source of the following dependency conflicts.\n",
      "torch 2.6.0+cu124 requires nvidia-cublas-cu12==12.4.5.8; platform_system == \"Linux\" and platform_machine == \"x86_64\", but you have nvidia-cublas-cu12 12.5.3.2 which is incompatible.\n",
      "torch 2.6.0+cu124 requires nvidia-cuda-cupti-cu12==12.4.127; platform_system == \"Linux\" and platform_machine == \"x86_64\", but you have nvidia-cuda-cupti-cu12 12.5.82 which is incompatible.\n",
      "torch 2.6.0+cu124 requires nvidia-cuda-nvrtc-cu12==12.4.127; platform_system == \"Linux\" and platform_machine == \"x86_64\", but you have nvidia-cuda-nvrtc-cu12 12.5.82 which is incompatible.\n",
      "torch 2.6.0+cu124 requires nvidia-cuda-runtime-cu12==12.4.127; platform_system == \"Linux\" and platform_machine == \"x86_64\", but you have nvidia-cuda-runtime-cu12 12.5.82 which is incompatible.\n",
      "torch 2.6.0+cu124 requires nvidia-cudnn-cu12==9.1.0.70; platform_system == \"Linux\" and platform_machine == \"x86_64\", but you have nvidia-cudnn-cu12 9.3.0.75 which is incompatible.\n",
      "torch 2.6.0+cu124 requires nvidia-cufft-cu12==11.2.1.3; platform_system == \"Linux\" and platform_machine == \"x86_64\", but you have nvidia-cufft-cu12 11.2.3.61 which is incompatible.\n",
      "torch 2.6.0+cu124 requires nvidia-curand-cu12==10.3.5.147; platform_system == \"Linux\" and platform_machine == \"x86_64\", but you have nvidia-curand-cu12 10.3.6.82 which is incompatible.\n",
      "torch 2.6.0+cu124 requires nvidia-cusolver-cu12==11.6.1.9; platform_system == \"Linux\" and platform_machine == \"x86_64\", but you have nvidia-cusolver-cu12 11.6.3.83 which is incompatible.\n",
      "torch 2.6.0+cu124 requires nvidia-cusparse-cu12==12.3.1.170; platform_system == \"Linux\" and platform_machine == \"x86_64\", but you have nvidia-cusparse-cu12 12.5.1.3 which is incompatible.\n",
      "torch 2.6.0+cu124 requires nvidia-nvjitlink-cu12==12.4.127; platform_system == \"Linux\" and platform_machine == \"x86_64\", but you have nvidia-nvjitlink-cu12 12.5.82 which is incompatible.\n",
      "gcsfs 2025.3.0 requires fsspec==2025.3.0, but you have fsspec 2024.12.0 which is incompatible.\u001b[0m\u001b[31m\n",
      "\u001b[0m"
     ]
    },
    {
     "metadata": {
      "tags": null
     },
     "name": "stderr",
     "output_type": "stream",
     "text": [
      "[nltk_data] Downloading package stopwords to /root/nltk_data...\n",
      "[nltk_data]   Unzipping corpora/stopwords.zip.\n"
     ]
    },
    {
     "metadata": {
      "tags": null
     },
     "name": "stdout",
     "output_type": "stream",
     "text": [
      "Device: cuda\n"
     ]
    },
    {
     "metadata": {
      "tags": null
     },
     "name": "stderr",
     "output_type": "stream",
     "text": [
      "/usr/local/lib/python3.11/dist-packages/huggingface_hub/utils/_auth.py:94: UserWarning: \n",
      "The secret `HF_TOKEN` does not exist in your Colab secrets.\n",
      "To authenticate with the Hugging Face Hub, create a token in your settings tab (https://huggingface.co/settings/tokens), set it as secret in your Google Colab and restart your session.\n",
      "You will be able to reuse this secret in all of your notebooks.\n",
      "Please note that authentication is recommended but still optional to access public models or datasets.\n",
      "  warnings.warn(\n"
     ]
    },
    {
     "data": {
      "application/vnd.jupyter.widget-view+json": {
       "model_id": "d958840ca5d842059b4669b8877001eb",
       "version_major": 2,
       "version_minor": 0
      },
      "text/plain": [
       "tokenizer_config.json:   0%|          | 0.00/52.0 [00:00<?, ?B/s]"
      ]
     },
     "metadata": {},
     "output_type": "display_data"
    },
    {
     "data": {
      "application/vnd.jupyter.widget-view+json": {
       "model_id": "77075af165a84b399c05b7d4167e186e",
       "version_major": 2,
       "version_minor": 0
      },
      "text/plain": [
       "spm.model:   0%|          | 0.00/2.46M [00:00<?, ?B/s]"
      ]
     },
     "metadata": {},
     "output_type": "display_data"
    },
    {
     "data": {
      "application/vnd.jupyter.widget-view+json": {
       "model_id": "4ee70be91a5c4a0ba5aa046074ad814d",
       "version_major": 2,
       "version_minor": 0
      },
      "text/plain": [
       "config.json:   0%|          | 0.00/579 [00:00<?, ?B/s]"
      ]
     },
     "metadata": {},
     "output_type": "display_data"
    },
    {
     "data": {
      "application/vnd.jupyter.widget-view+json": {
       "model_id": "1090dc8100844621ade912348c5daeff",
       "version_major": 2,
       "version_minor": 0
      },
      "text/plain": [
       "Map:   0%|          | 0/9042 [00:00<?, ? examples/s]"
      ]
     },
     "metadata": {},
     "output_type": "display_data"
    },
    {
     "data": {
      "application/vnd.jupyter.widget-view+json": {
       "model_id": "55109e3ba016479991343f1a50df2865",
       "version_major": 2,
       "version_minor": 0
      },
      "text/plain": [
       "Map:   0%|          | 0/1005 [00:00<?, ? examples/s]"
      ]
     },
     "metadata": {},
     "output_type": "display_data"
    },
    {
     "data": {
      "application/vnd.jupyter.widget-view+json": {
       "model_id": "3d9efd07228c445dbef2486a6859f326",
       "version_major": 2,
       "version_minor": 0
      },
      "text/plain": [
       "Map:   0%|          | 0/2512 [00:00<?, ? examples/s]"
      ]
     },
     "metadata": {},
     "output_type": "display_data"
    },
    {
     "data": {
      "application/vnd.jupyter.widget-view+json": {
       "model_id": "e52cedfd76144b62bb02d1ba2e2baca6",
       "version_major": 2,
       "version_minor": 0
      },
      "text/plain": [
       "pytorch_model.bin:   0%|          | 0.00/371M [00:00<?, ?B/s]"
      ]
     },
     "metadata": {},
     "output_type": "display_data"
    },
    {
     "data": {
      "application/vnd.jupyter.widget-view+json": {
       "model_id": "6f1b857c4fb14ee7afd919702e423cf8",
       "version_major": 2,
       "version_minor": 0
      },
      "text/plain": [
       "model.safetensors:   0%|          | 0.00/371M [00:00<?, ?B/s]"
      ]
     },
     "metadata": {},
     "output_type": "display_data"
    },
    {
     "metadata": {
      "tags": null
     },
     "name": "stderr",
     "output_type": "stream",
     "text": [
      "Some weights of DebertaV2ForSequenceClassification were not initialized from the model checkpoint at microsoft/deberta-v3-base and are newly initialized: ['classifier.bias', 'classifier.weight', 'pooler.dense.bias', 'pooler.dense.weight']\n",
      "You should probably TRAIN this model on a down-stream task to be able to use it for predictions and inference.\n"
     ]
    },
    {
     "metadata": {
      "tags": null
     },
     "name": "stdout",
     "output_type": "stream",
     "text": [
      "\n",
      "Epoch 1\n"
     ]
    },
    {
     "metadata": {
      "tags": null
     },
     "name": "stderr",
     "output_type": "stream",
     "text": [
      "\n",
      "  0%|          | 0/566 [00:00<?, ?it/s]\u001b[A\n",
      "  0%|          | 0/566 [00:02<?, ?it/s, loss=1.11]\u001b[A\n",
      "  0%|          | 1/566 [00:02<21:04,  2.24s/it, loss=1.11]\u001b[A\n",
      "  0%|          | 1/566 [00:03<21:04,  2.24s/it, loss=1.09]\u001b[A\n",
      "  0%|          | 2/566 [00:03<13:02,  1.39s/it, loss=1.09]\u001b[A\n",
      "  0%|          | 2/566 [00:03<13:02,  1.39s/it, loss=1.1] \u001b[A\n",
      "  1%|          | 3/566 [00:03<08:53,  1.06it/s, loss=1.1]\u001b[A\n",
      "  1%|          | 3/566 [00:03<08:53,  1.06it/s, loss=1.08]\u001b[A\n",
      "  1%|          | 4/566 [00:03<07:12,  1.30it/s, loss=1.08]\u001b[A\n",
      "  1%|          | 4/566 [00:04<07:12,  1.30it/s, loss=0.986]\u001b[A\n",
      "  1%|          | 5/566 [00:04<06:05,  1.54it/s, loss=0.986]\u001b[A\n",
      "  1%|          | 5/566 [00:04<06:05,  1.54it/s, loss=1.01] \u001b[A\n",
      "  1%|          | 6/566 [00:04<05:26,  1.72it/s, loss=1.01]\u001b[A\n",
      "  1%|          | 6/566 [00:05<05:26,  1.72it/s, loss=1.05]\u001b[A\n",
      "  1%|          | 7/566 [00:05<05:00,  1.86it/s, loss=1.05]\u001b[A\n",
      "  1%|          | 7/566 [00:05<05:00,  1.86it/s, loss=1.07]\u001b[A\n",
      "  1%|▏         | 8/566 [00:05<04:43,  1.97it/s, loss=1.07]\u001b[A\n",
      "  1%|▏         | 8/566 [00:06<04:43,  1.97it/s, loss=0.962]\u001b[A\n",
      "  2%|▏         | 9/566 [00:06<04:31,  2.05it/s, loss=0.962]\u001b[A\n",
      "  2%|▏         | 9/566 [00:06<04:31,  2.05it/s, loss=0.905]\u001b[A\n",
      "  2%|▏         | 10/566 [00:06<04:23,  2.11it/s, loss=0.905]\u001b[A\n",
      "  2%|▏         | 10/566 [00:07<04:23,  2.11it/s, loss=1.07] \u001b[A\n",
      "  2%|▏         | 11/566 [00:07<04:18,  2.15it/s, loss=1.07]\u001b[A\n",
      "  2%|▏         | 11/566 [00:07<04:18,  2.15it/s, loss=0.996]\u001b[A\n",
      "  2%|▏         | 12/566 [00:07<04:15,  2.17it/s, loss=0.996]\u001b[A\n",
      "  2%|▏         | 12/566 [00:07<04:15,  2.17it/s, loss=1.05] \u001b[A\n",
      "  2%|▏         | 13/566 [00:07<04:12,  2.19it/s, loss=1.05]\u001b[A\n",
      "  2%|▏         | 13/566 [00:08<04:12,  2.19it/s, loss=0.973]\u001b[A\n",
      "  2%|▏         | 14/566 [00:08<04:09,  2.21it/s, loss=0.973]\u001b[A\n",
      "  2%|▏         | 14/566 [00:08<04:09,  2.21it/s, loss=0.887]\u001b[A\n",
      "  3%|▎         | 15/566 [00:08<04:08,  2.22it/s, loss=0.887]\u001b[A\n",
      "  3%|▎         | 15/566 [00:09<04:08,  2.22it/s, loss=0.9]  \u001b[A\n",
      "  3%|▎         | 16/566 [00:09<04:06,  2.23it/s, loss=0.9]\u001b[A\n",
      "  3%|▎         | 16/566 [00:09<04:06,  2.23it/s, loss=0.97]\u001b[A\n",
      "  3%|▎         | 17/566 [00:09<04:05,  2.23it/s, loss=0.97]\u001b[A\n",
      "  3%|▎         | 17/566 [00:10<04:05,  2.23it/s, loss=1.03]\u001b[A\n",
      "  3%|▎         | 18/566 [00:10<04:04,  2.24it/s, loss=1.03]\u001b[A\n",
      "  3%|▎         | 18/566 [00:10<04:04,  2.24it/s, loss=1.05]\u001b[A\n",
      "  3%|▎         | 19/566 [00:10<04:04,  2.24it/s, loss=1.05]\u001b[A\n",
      "  3%|▎         | 19/566 [00:11<04:04,  2.24it/s, loss=1.18]\u001b[A\n",
      "  4%|▎         | 20/566 [00:11<04:03,  2.24it/s, loss=1.18]\u001b[A\n",
      "  4%|▎         | 20/566 [00:11<04:03,  2.24it/s, loss=0.992]\u001b[A\n",
      "  4%|▎         | 21/566 [00:11<04:02,  2.24it/s, loss=0.992]\u001b[A\n",
      "  4%|▎         | 21/566 [00:11<04:02,  2.24it/s, loss=1.06] \u001b[A\n",
      "  4%|▍         | 22/566 [00:11<04:03,  2.24it/s, loss=1.06]\u001b[A\n",
      "  4%|▍         | 22/566 [00:12<04:03,  2.24it/s, loss=0.953]\u001b[A\n",
      "  4%|▍         | 23/566 [00:12<04:03,  2.23it/s, loss=0.953]\u001b[A\n",
      "  4%|▍         | 23/566 [00:12<04:03,  2.23it/s, loss=0.919]\u001b[A\n",
      "  4%|▍         | 24/566 [00:12<04:03,  2.23it/s, loss=0.919]\u001b[A\n",
      "  4%|▍         | 24/566 [00:13<04:03,  2.23it/s, loss=0.962]\u001b[A\n",
      "  4%|▍         | 25/566 [00:13<04:02,  2.23it/s, loss=0.962]\u001b[A\n",
      "  4%|▍         | 25/566 [00:13<04:02,  2.23it/s, loss=1.12] \u001b[A\n",
      "  5%|▍         | 26/566 [00:13<04:02,  2.23it/s, loss=1.12]\u001b[A\n",
      "  5%|▍         | 26/566 [00:14<04:02,  2.23it/s, loss=1.04]\u001b[A\n",
      "  5%|▍         | 27/566 [00:14<04:02,  2.22it/s, loss=1.04]\u001b[A\n",
      "  5%|▍         | 27/566 [00:14<04:02,  2.22it/s, loss=0.88]\u001b[A\n",
      "  5%|▍         | 28/566 [00:14<04:01,  2.22it/s, loss=0.88]\u001b[A\n",
      "  5%|▍         | 28/566 [00:15<04:01,  2.22it/s, loss=1.04]\u001b[A\n",
      "  5%|▌         | 29/566 [00:15<04:01,  2.23it/s, loss=1.04]\u001b[A\n",
      "  5%|▌         | 29/566 [00:15<04:01,  2.23it/s, loss=1.08]\u001b[A\n",
      "  5%|▌         | 30/566 [00:15<04:01,  2.22it/s, loss=1.08]\u001b[A\n",
      "  5%|▌         | 30/566 [00:16<04:01,  2.22it/s, loss=0.986]\u001b[A\n",
      "  5%|▌         | 31/566 [00:16<04:00,  2.22it/s, loss=0.986]\u001b[A\n",
      "  5%|▌         | 31/566 [00:16<04:00,  2.22it/s, loss=1.04] \u001b[A\n",
      "  6%|▌         | 32/566 [00:16<04:00,  2.22it/s, loss=1.04]\u001b[A\n",
      "  6%|▌         | 32/566 [00:16<04:00,  2.22it/s, loss=0.989]\u001b[A\n",
      "  6%|▌         | 33/566 [00:16<04:00,  2.22it/s, loss=0.989]\u001b[A\n",
      "  6%|▌         | 33/566 [00:17<04:00,  2.22it/s, loss=0.951]\u001b[A\n",
      "  6%|▌         | 34/566 [00:17<03:59,  2.22it/s, loss=0.951]\u001b[A\n",
      "  6%|▌         | 34/566 [00:17<03:59,  2.22it/s, loss=0.908]\u001b[A\n",
      "  6%|▌         | 35/566 [00:17<03:58,  2.22it/s, loss=0.908]\u001b[A\n",
      "  6%|▌         | 35/566 [00:18<03:58,  2.22it/s, loss=0.987]\u001b[A\n",
      "  6%|▋         | 36/566 [00:18<03:58,  2.22it/s, loss=0.987]\u001b[A\n",
      "  6%|▋         | 36/566 [00:18<03:58,  2.22it/s, loss=1.02] \u001b[A\n",
      "  7%|▋         | 37/566 [00:18<03:58,  2.22it/s, loss=1.02]\u001b[A\n",
      "  7%|▋         | 37/566 [00:19<03:58,  2.22it/s, loss=0.935]\u001b[A\n",
      "  7%|▋         | 38/566 [00:19<03:57,  2.22it/s, loss=0.935]\u001b[A\n",
      "  7%|▋         | 38/566 [00:19<03:57,  2.22it/s, loss=0.851]\u001b[A\n",
      "  7%|▋         | 39/566 [00:19<03:57,  2.22it/s, loss=0.851]\u001b[A\n",
      "  7%|▋         | 39/566 [00:20<03:57,  2.22it/s, loss=0.794]\u001b[A\n",
      "  7%|▋         | 40/566 [00:20<03:57,  2.21it/s, loss=0.794]\u001b[A\n",
      "  7%|▋         | 40/566 [00:20<03:57,  2.21it/s, loss=1.09] \u001b[A\n",
      "  7%|▋         | 41/566 [00:20<03:56,  2.22it/s, loss=1.09]\u001b[A\n",
      "  7%|▋         | 41/566 [00:20<03:56,  2.22it/s, loss=1.03]\u001b[A\n",
      "  7%|▋         | 42/566 [00:20<03:56,  2.22it/s, loss=1.03]\u001b[A\n",
      "  7%|▋         | 42/566 [00:21<03:56,  2.22it/s, loss=1.03]\u001b[A\n",
      "  8%|▊         | 43/566 [00:21<03:54,  2.23it/s, loss=1.03]\u001b[A\n",
      "  8%|▊         | 43/566 [00:21<03:54,  2.23it/s, loss=1.12]\u001b[A\n",
      "  8%|▊         | 44/566 [00:21<03:54,  2.23it/s, loss=1.12]\u001b[A\n",
      "  8%|▊         | 44/566 [00:22<03:54,  2.23it/s, loss=0.814]\u001b[A\n",
      "  8%|▊         | 45/566 [00:22<03:54,  2.23it/s, loss=0.814]\u001b[A\n",
      "  8%|▊         | 45/566 [00:22<03:54,  2.23it/s, loss=1.05] \u001b[A\n",
      "  8%|▊         | 46/566 [00:22<03:54,  2.22it/s, loss=1.05]\u001b[A\n",
      "  8%|▊         | 46/566 [00:23<03:54,  2.22it/s, loss=0.929]\u001b[A\n",
      "  8%|▊         | 47/566 [00:23<03:54,  2.21it/s, loss=0.929]\u001b[A\n",
      "  8%|▊         | 47/566 [00:23<03:54,  2.21it/s, loss=0.774]\u001b[A\n",
      "  8%|▊         | 48/566 [00:23<03:54,  2.21it/s, loss=0.774]\u001b[A\n",
      "  8%|▊         | 48/566 [00:24<03:54,  2.21it/s, loss=0.649]\u001b[A\n",
      "  9%|▊         | 49/566 [00:24<03:54,  2.21it/s, loss=0.649]\u001b[A\n",
      "  9%|▊         | 49/566 [00:24<03:54,  2.21it/s, loss=0.955]\u001b[A\n",
      "  9%|▉         | 50/566 [00:24<03:54,  2.20it/s, loss=0.955]\u001b[A\n",
      "  9%|▉         | 50/566 [00:25<03:54,  2.20it/s, loss=0.763]\u001b[A\n",
      "  9%|▉         | 51/566 [00:25<03:52,  2.21it/s, loss=0.763]\u001b[A\n",
      "  9%|▉         | 51/566 [00:25<03:52,  2.21it/s, loss=0.578]\u001b[A\n",
      "  9%|▉         | 52/566 [00:25<03:53,  2.20it/s, loss=0.578]\u001b[A\n",
      "  9%|▉         | 52/566 [00:25<03:53,  2.20it/s, loss=0.89] \u001b[A\n",
      "  9%|▉         | 53/566 [00:25<03:52,  2.20it/s, loss=0.89]\u001b[A\n",
      "  9%|▉         | 53/566 [00:26<03:52,  2.20it/s, loss=0.644]\u001b[A\n",
      " 10%|▉         | 54/566 [00:26<03:53,  2.20it/s, loss=0.644]\u001b[A\n",
      " 10%|▉         | 54/566 [00:26<03:53,  2.20it/s, loss=0.803]\u001b[A\n",
      " 10%|▉         | 55/566 [00:26<03:52,  2.20it/s, loss=0.803]\u001b[A\n",
      " 10%|▉         | 55/566 [00:27<03:52,  2.20it/s, loss=0.862]\u001b[A\n",
      " 10%|▉         | 56/566 [00:27<03:50,  2.21it/s, loss=0.862]\u001b[A\n",
      " 10%|▉         | 56/566 [00:27<03:50,  2.21it/s, loss=0.947]\u001b[A\n",
      " 10%|█         | 57/566 [00:27<03:51,  2.20it/s, loss=0.947]\u001b[A\n",
      " 10%|█         | 57/566 [00:28<03:51,  2.20it/s, loss=0.815]\u001b[A\n",
      " 10%|█         | 58/566 [00:28<03:51,  2.20it/s, loss=0.815]\u001b[A\n",
      " 10%|█         | 58/566 [00:28<03:51,  2.20it/s, loss=0.761]\u001b[A\n",
      " 10%|█         | 59/566 [00:28<03:51,  2.19it/s, loss=0.761]\u001b[A\n",
      " 10%|█         | 59/566 [00:29<03:51,  2.19it/s, loss=0.793]\u001b[A\n",
      " 11%|█         | 60/566 [00:29<03:50,  2.19it/s, loss=0.793]\u001b[A\n",
      " 11%|█         | 60/566 [00:29<03:50,  2.19it/s, loss=0.62] \u001b[A\n",
      " 11%|█         | 61/566 [00:29<03:51,  2.18it/s, loss=0.62]\u001b[A\n",
      " 11%|█         | 61/566 [00:30<03:51,  2.18it/s, loss=1.06]\u001b[A\n",
      " 11%|█         | 62/566 [00:30<03:50,  2.18it/s, loss=1.06]\u001b[A\n",
      " 11%|█         | 62/566 [00:30<03:50,  2.18it/s, loss=0.687]\u001b[A\n",
      " 11%|█         | 63/566 [00:30<03:50,  2.18it/s, loss=0.687]\u001b[A\n",
      " 11%|█         | 63/566 [00:30<03:50,  2.18it/s, loss=1.3]  \u001b[A\n",
      " 11%|█▏        | 64/566 [00:30<03:49,  2.19it/s, loss=1.3]\u001b[A\n",
      " 11%|█▏        | 64/566 [00:31<03:49,  2.19it/s, loss=0.699]\u001b[A\n",
      " 11%|█▏        | 65/566 [00:31<03:49,  2.19it/s, loss=0.699]\u001b[A\n",
      " 11%|█▏        | 65/566 [00:31<03:49,  2.19it/s, loss=0.744]\u001b[A\n",
      " 12%|█▏        | 66/566 [00:31<03:48,  2.19it/s, loss=0.744]\u001b[A\n",
      " 12%|█▏        | 66/566 [00:32<03:48,  2.19it/s, loss=0.796]\u001b[A\n",
      " 12%|█▏        | 67/566 [00:32<03:47,  2.19it/s, loss=0.796]\u001b[A\n",
      " 12%|█▏        | 67/566 [00:32<03:47,  2.19it/s, loss=0.843]\u001b[A\n",
      " 12%|█▏        | 68/566 [00:32<03:48,  2.18it/s, loss=0.843]\u001b[A\n",
      " 12%|█▏        | 68/566 [00:33<03:48,  2.18it/s, loss=0.692]\u001b[A\n",
      " 12%|█▏        | 69/566 [00:33<03:47,  2.19it/s, loss=0.692]\u001b[A\n",
      " 12%|█▏        | 69/566 [00:33<03:47,  2.19it/s, loss=0.68] \u001b[A\n",
      " 12%|█▏        | 70/566 [00:33<03:47,  2.18it/s, loss=0.68]\u001b[A\n",
      " 12%|█▏        | 70/566 [00:34<03:47,  2.18it/s, loss=0.727]\u001b[A\n",
      " 13%|█▎        | 71/566 [00:34<03:47,  2.17it/s, loss=0.727]\u001b[A\n",
      " 13%|█▎        | 71/566 [00:34<03:47,  2.17it/s, loss=1.16] \u001b[A\n",
      " 13%|█▎        | 72/566 [00:34<03:47,  2.17it/s, loss=1.16]\u001b[A\n",
      " 13%|█▎        | 72/566 [00:35<03:47,  2.17it/s, loss=0.988]\u001b[A\n",
      " 13%|█▎        | 73/566 [00:35<03:47,  2.17it/s, loss=0.988]\u001b[A\n",
      " 13%|█▎        | 73/566 [00:35<03:47,  2.17it/s, loss=0.913]\u001b[A\n",
      " 13%|█▎        | 74/566 [00:35<03:47,  2.17it/s, loss=0.913]\u001b[A\n",
      " 13%|█▎        | 74/566 [00:36<03:47,  2.17it/s, loss=0.765]\u001b[A\n",
      " 13%|█▎        | 75/566 [00:36<03:43,  2.20it/s, loss=0.765]\u001b[A\n",
      " 13%|█▎        | 75/566 [00:36<03:43,  2.20it/s, loss=0.861]\u001b[A\n",
      " 13%|█▎        | 76/566 [00:36<03:44,  2.18it/s, loss=0.861]\u001b[A\n",
      " 13%|█▎        | 76/566 [00:36<03:44,  2.18it/s, loss=0.854]\u001b[A\n",
      " 14%|█▎        | 77/566 [00:36<03:44,  2.18it/s, loss=0.854]\u001b[A\n",
      " 14%|█▎        | 77/566 [00:37<03:44,  2.18it/s, loss=0.602]\u001b[A\n",
      " 14%|█▍        | 78/566 [00:37<03:44,  2.17it/s, loss=0.602]\u001b[A\n",
      " 14%|█▍        | 78/566 [00:37<03:44,  2.17it/s, loss=0.77] \u001b[A\n",
      " 14%|█▍        | 79/566 [00:37<03:44,  2.17it/s, loss=0.77]\u001b[A\n",
      " 14%|█▍        | 79/566 [00:38<03:44,  2.17it/s, loss=0.871]\u001b[A\n",
      " 14%|█▍        | 80/566 [00:38<03:44,  2.16it/s, loss=0.871]\u001b[A\n",
      " 14%|█▍        | 80/566 [00:38<03:44,  2.16it/s, loss=0.596]\u001b[A\n",
      " 14%|█▍        | 81/566 [00:38<03:43,  2.17it/s, loss=0.596]\u001b[A\n",
      " 14%|█▍        | 81/566 [00:39<03:43,  2.17it/s, loss=0.733]\u001b[A\n",
      " 14%|█▍        | 82/566 [00:39<03:42,  2.18it/s, loss=0.733]\u001b[A\n",
      " 14%|█▍        | 82/566 [00:39<03:42,  2.18it/s, loss=0.866]\u001b[A\n",
      " 15%|█▍        | 83/566 [00:39<03:42,  2.17it/s, loss=0.866]\u001b[A\n",
      " 15%|█▍        | 83/566 [00:40<03:42,  2.17it/s, loss=0.808]\u001b[A\n",
      " 15%|█▍        | 84/566 [00:40<03:42,  2.17it/s, loss=0.808]\u001b[A\n",
      " 15%|█▍        | 84/566 [00:40<03:42,  2.17it/s, loss=0.399]\u001b[A\n",
      " 15%|█▌        | 85/566 [00:40<03:42,  2.16it/s, loss=0.399]\u001b[A\n",
      " 15%|█▌        | 85/566 [00:41<03:42,  2.16it/s, loss=0.49] \u001b[A\n",
      " 15%|█▌        | 86/566 [00:41<03:42,  2.16it/s, loss=0.49]\u001b[A\n",
      " 15%|█▌        | 86/566 [00:41<03:42,  2.16it/s, loss=0.727]\u001b[A\n",
      " 15%|█▌        | 87/566 [00:41<03:42,  2.16it/s, loss=0.727]\u001b[A\n",
      " 15%|█▌        | 87/566 [00:42<03:42,  2.16it/s, loss=0.687]\u001b[A\n",
      " 16%|█▌        | 88/566 [00:42<03:42,  2.15it/s, loss=0.687]\u001b[A\n",
      " 16%|█▌        | 88/566 [00:42<03:42,  2.15it/s, loss=0.7]  \u001b[A\n",
      " 16%|█▌        | 89/566 [00:42<03:41,  2.15it/s, loss=0.7]\u001b[A\n",
      " 16%|█▌        | 89/566 [00:42<03:41,  2.15it/s, loss=0.815]\u001b[A\n",
      " 16%|█▌        | 90/566 [00:42<03:41,  2.15it/s, loss=0.815]\u001b[A\n",
      " 16%|█▌        | 90/566 [00:43<03:41,  2.15it/s, loss=0.812]\u001b[A\n",
      " 16%|█▌        | 91/566 [00:43<03:41,  2.15it/s, loss=0.812]\u001b[A\n",
      " 16%|█▌        | 91/566 [00:43<03:41,  2.15it/s, loss=1.14] \u001b[A\n",
      " 16%|█▋        | 92/566 [00:43<03:40,  2.15it/s, loss=1.14]\u001b[A\n",
      " 16%|█▋        | 92/566 [00:44<03:40,  2.15it/s, loss=0.746]\u001b[A\n",
      " 16%|█▋        | 93/566 [00:44<03:39,  2.15it/s, loss=0.746]\u001b[A\n",
      " 16%|█▋        | 93/566 [00:44<03:39,  2.15it/s, loss=0.669]\u001b[A\n",
      " 17%|█▋        | 94/566 [00:44<03:39,  2.15it/s, loss=0.669]\u001b[A\n",
      " 17%|█▋        | 94/566 [00:45<03:39,  2.15it/s, loss=0.868]\u001b[A\n",
      " 17%|█▋        | 95/566 [00:45<03:38,  2.15it/s, loss=0.868]\u001b[A\n",
      " 17%|█▋        | 95/566 [00:45<03:38,  2.15it/s, loss=0.825]\u001b[A\n",
      " 17%|█▋        | 96/566 [00:45<03:38,  2.15it/s, loss=0.825]\u001b[A\n",
      " 17%|█▋        | 96/566 [00:46<03:38,  2.15it/s, loss=0.61] \u001b[A\n",
      " 17%|█▋        | 97/566 [00:46<03:38,  2.15it/s, loss=0.61]\u001b[A\n",
      " 17%|█▋        | 97/566 [00:46<03:38,  2.15it/s, loss=0.753]\u001b[A\n",
      " 17%|█▋        | 98/566 [00:46<03:37,  2.15it/s, loss=0.753]\u001b[A\n",
      " 17%|█▋        | 98/566 [00:47<03:37,  2.15it/s, loss=0.906]\u001b[A\n",
      " 17%|█▋        | 99/566 [00:47<03:37,  2.15it/s, loss=0.906]\u001b[A\n",
      " 17%|█▋        | 99/566 [00:47<03:37,  2.15it/s, loss=0.68] \u001b[A\n",
      " 18%|█▊        | 100/566 [00:47<03:36,  2.15it/s, loss=0.68]\u001b[A\n",
      " 18%|█▊        | 100/566 [00:48<03:36,  2.15it/s, loss=0.861]\u001b[A\n",
      " 18%|█▊        | 101/566 [00:48<03:37,  2.14it/s, loss=0.861]\u001b[A\n",
      " 18%|█▊        | 101/566 [00:48<03:37,  2.14it/s, loss=0.495]\u001b[A\n",
      " 18%|█▊        | 102/566 [00:48<03:35,  2.15it/s, loss=0.495]\u001b[A\n",
      " 18%|█▊        | 102/566 [00:49<03:35,  2.15it/s, loss=0.536]\u001b[A\n",
      " 18%|█▊        | 103/566 [00:49<03:35,  2.15it/s, loss=0.536]\u001b[A\n",
      " 18%|█▊        | 103/566 [00:49<03:35,  2.15it/s, loss=0.567]\u001b[A\n",
      " 18%|█▊        | 104/566 [00:49<03:34,  2.15it/s, loss=0.567]\u001b[A\n",
      " 18%|█▊        | 104/566 [00:49<03:34,  2.15it/s, loss=0.462]\u001b[A\n",
      " 19%|█▊        | 105/566 [00:49<03:34,  2.15it/s, loss=0.462]\u001b[A\n",
      " 19%|█▊        | 105/566 [00:50<03:34,  2.15it/s, loss=0.435]\u001b[A\n",
      " 19%|█▊        | 106/566 [00:50<03:34,  2.15it/s, loss=0.435]\u001b[A\n",
      " 19%|█▊        | 106/566 [00:50<03:34,  2.15it/s, loss=0.958]\u001b[A\n",
      " 19%|█▉        | 107/566 [00:50<03:34,  2.14it/s, loss=0.958]\u001b[A\n",
      " 19%|█▉        | 107/566 [00:51<03:34,  2.14it/s, loss=1.07] \u001b[A\n",
      " 19%|█▉        | 108/566 [00:51<03:33,  2.14it/s, loss=1.07]\u001b[A\n",
      " 19%|█▉        | 108/566 [00:51<03:33,  2.14it/s, loss=0.687]\u001b[A\n",
      " 19%|█▉        | 109/566 [00:51<03:32,  2.15it/s, loss=0.687]\u001b[A\n",
      " 19%|█▉        | 109/566 [00:52<03:32,  2.15it/s, loss=0.716]\u001b[A\n",
      " 19%|█▉        | 110/566 [00:52<03:31,  2.15it/s, loss=0.716]\u001b[A\n",
      " 19%|█▉        | 110/566 [00:52<03:31,  2.15it/s, loss=0.709]\u001b[A\n",
      " 20%|█▉        | 111/566 [00:52<03:31,  2.15it/s, loss=0.709]\u001b[A\n",
      " 20%|█▉        | 111/566 [00:53<03:31,  2.15it/s, loss=0.69] \u001b[A\n",
      " 20%|█▉        | 112/566 [00:53<03:30,  2.15it/s, loss=0.69]\u001b[A\n",
      " 20%|█▉        | 112/566 [00:53<03:30,  2.15it/s, loss=0.7] \u001b[A\n",
      " 20%|█▉        | 113/566 [00:53<03:31,  2.15it/s, loss=0.7]\u001b[A\n",
      " 20%|█▉        | 113/566 [00:54<03:31,  2.15it/s, loss=0.549]\u001b[A\n",
      " 20%|██        | 114/566 [00:54<03:30,  2.14it/s, loss=0.549]\u001b[A\n",
      " 20%|██        | 114/566 [00:54<03:30,  2.14it/s, loss=0.662]\u001b[A\n",
      " 20%|██        | 115/566 [00:54<03:31,  2.13it/s, loss=0.662]\u001b[A\n",
      " 20%|██        | 115/566 [00:55<03:31,  2.13it/s, loss=0.34] \u001b[A\n",
      " 20%|██        | 116/566 [00:55<03:31,  2.13it/s, loss=0.34]\u001b[A\n",
      " 20%|██        | 116/566 [00:55<03:31,  2.13it/s, loss=0.625]\u001b[A\n",
      " 21%|██        | 117/566 [00:55<03:31,  2.12it/s, loss=0.625]\u001b[A\n",
      " 21%|██        | 117/566 [00:56<03:31,  2.12it/s, loss=1.09] \u001b[A\n",
      " 21%|██        | 118/566 [00:56<03:31,  2.12it/s, loss=1.09]\u001b[A\n",
      " 21%|██        | 118/566 [00:56<03:31,  2.12it/s, loss=0.865]\u001b[A\n",
      " 21%|██        | 119/566 [00:56<03:30,  2.12it/s, loss=0.865]\u001b[A\n",
      " 21%|██        | 119/566 [00:56<03:30,  2.12it/s, loss=0.758]\u001b[A\n",
      " 21%|██        | 120/566 [00:56<03:31,  2.11it/s, loss=0.758]\u001b[A\n",
      " 21%|██        | 120/566 [00:57<03:31,  2.11it/s, loss=0.367]\u001b[A\n",
      " 21%|██▏       | 121/566 [00:57<03:30,  2.11it/s, loss=0.367]\u001b[A\n",
      " 21%|██▏       | 121/566 [00:57<03:30,  2.11it/s, loss=0.853]\u001b[A\n",
      " 22%|██▏       | 122/566 [00:57<03:29,  2.12it/s, loss=0.853]\u001b[A\n",
      " 22%|██▏       | 122/566 [00:58<03:29,  2.12it/s, loss=0.47] \u001b[A\n",
      " 22%|██▏       | 123/566 [00:58<03:29,  2.11it/s, loss=0.47]\u001b[A\n",
      " 22%|██▏       | 123/566 [00:58<03:29,  2.11it/s, loss=0.577]\u001b[A\n",
      " 22%|██▏       | 124/566 [00:58<03:28,  2.12it/s, loss=0.577]\u001b[A\n",
      " 22%|██▏       | 124/566 [00:59<03:28,  2.12it/s, loss=0.741]\u001b[A\n",
      " 22%|██▏       | 125/566 [00:59<03:28,  2.11it/s, loss=0.741]\u001b[A\n",
      " 22%|██▏       | 125/566 [00:59<03:28,  2.11it/s, loss=0.658]\u001b[A\n",
      " 22%|██▏       | 126/566 [00:59<03:27,  2.12it/s, loss=0.658]\u001b[A\n",
      " 22%|██▏       | 126/566 [01:00<03:27,  2.12it/s, loss=0.392]\u001b[A\n",
      " 22%|██▏       | 127/566 [01:00<03:26,  2.12it/s, loss=0.392]\u001b[A\n",
      " 22%|██▏       | 127/566 [01:00<03:26,  2.12it/s, loss=0.426]\u001b[A\n",
      " 23%|██▎       | 128/566 [01:00<03:26,  2.12it/s, loss=0.426]\u001b[A\n",
      " 23%|██▎       | 128/566 [01:01<03:26,  2.12it/s, loss=0.572]\u001b[A\n",
      " 23%|██▎       | 129/566 [01:01<03:26,  2.11it/s, loss=0.572]\u001b[A\n",
      " 23%|██▎       | 129/566 [01:01<03:26,  2.11it/s, loss=0.814]\u001b[A\n",
      " 23%|██▎       | 130/566 [01:01<03:26,  2.11it/s, loss=0.814]\u001b[A\n",
      " 23%|██▎       | 130/566 [01:02<03:26,  2.11it/s, loss=0.499]\u001b[A\n",
      " 23%|██▎       | 131/566 [01:02<03:26,  2.11it/s, loss=0.499]\u001b[A\n",
      " 23%|██▎       | 131/566 [01:02<03:26,  2.11it/s, loss=0.38] \u001b[A\n",
      " 23%|██▎       | 132/566 [01:02<03:26,  2.10it/s, loss=0.38]\u001b[A\n",
      " 23%|██▎       | 132/566 [01:03<03:26,  2.10it/s, loss=0.948]\u001b[A\n",
      " 23%|██▎       | 133/566 [01:03<03:25,  2.10it/s, loss=0.948]\u001b[A\n",
      " 23%|██▎       | 133/566 [01:03<03:25,  2.10it/s, loss=0.613]\u001b[A\n",
      " 24%|██▎       | 134/566 [01:03<03:25,  2.10it/s, loss=0.613]\u001b[A\n",
      " 24%|██▎       | 134/566 [01:04<03:25,  2.10it/s, loss=0.828]\u001b[A\n",
      " 24%|██▍       | 135/566 [01:04<03:25,  2.10it/s, loss=0.828]\u001b[A\n",
      " 24%|██▍       | 135/566 [01:04<03:25,  2.10it/s, loss=0.91] \u001b[A\n",
      " 24%|██▍       | 136/566 [01:04<03:23,  2.11it/s, loss=0.91]\u001b[A\n",
      " 24%|██▍       | 136/566 [01:05<03:23,  2.11it/s, loss=0.855]\u001b[A\n",
      " 24%|██▍       | 137/566 [01:05<03:23,  2.11it/s, loss=0.855]\u001b[A\n",
      " 24%|██▍       | 137/566 [01:05<03:23,  2.11it/s, loss=0.816]\u001b[A\n",
      " 24%|██▍       | 138/566 [01:05<03:23,  2.10it/s, loss=0.816]\u001b[A\n",
      " 24%|██▍       | 138/566 [01:05<03:23,  2.10it/s, loss=0.877]\u001b[A\n",
      " 25%|██▍       | 139/566 [01:05<03:22,  2.11it/s, loss=0.877]\u001b[A\n",
      " 25%|██▍       | 139/566 [01:06<03:22,  2.11it/s, loss=0.671]\u001b[A\n",
      " 25%|██▍       | 140/566 [01:06<03:23,  2.10it/s, loss=0.671]\u001b[A\n",
      " 25%|██▍       | 140/566 [01:06<03:23,  2.10it/s, loss=0.735]\u001b[A\n",
      " 25%|██▍       | 141/566 [01:06<03:23,  2.09it/s, loss=0.735]\u001b[A\n",
      " 25%|██▍       | 141/566 [01:07<03:23,  2.09it/s, loss=0.546]\u001b[A\n",
      " 25%|██▌       | 142/566 [01:07<03:22,  2.10it/s, loss=0.546]\u001b[A\n",
      " 25%|██▌       | 142/566 [01:07<03:22,  2.10it/s, loss=0.812]\u001b[A\n",
      " 25%|██▌       | 143/566 [01:07<03:22,  2.09it/s, loss=0.812]\u001b[A\n",
      " 25%|██▌       | 143/566 [01:08<03:22,  2.09it/s, loss=0.759]\u001b[A\n",
      " 25%|██▌       | 144/566 [01:08<03:22,  2.09it/s, loss=0.759]\u001b[A\n",
      " 25%|██▌       | 144/566 [01:08<03:22,  2.09it/s, loss=0.818]\u001b[A\n",
      " 26%|██▌       | 145/566 [01:08<03:21,  2.09it/s, loss=0.818]\u001b[A\n",
      " 26%|██▌       | 145/566 [01:09<03:21,  2.09it/s, loss=0.682]\u001b[A\n",
      " 26%|██▌       | 146/566 [01:09<03:21,  2.09it/s, loss=0.682]\u001b[A\n",
      " 26%|██▌       | 146/566 [01:09<03:21,  2.09it/s, loss=0.613]\u001b[A\n",
      " 26%|██▌       | 147/566 [01:09<03:21,  2.08it/s, loss=0.613]\u001b[A\n",
      " 26%|██▌       | 147/566 [01:10<03:21,  2.08it/s, loss=0.64] \u001b[A\n",
      " 26%|██▌       | 148/566 [01:10<03:21,  2.08it/s, loss=0.64]\u001b[A\n",
      " 26%|██▌       | 148/566 [01:10<03:21,  2.08it/s, loss=0.756]\u001b[A\n",
      " 26%|██▋       | 149/566 [01:10<03:19,  2.09it/s, loss=0.756]\u001b[A\n",
      " 26%|██▋       | 149/566 [01:11<03:19,  2.09it/s, loss=0.831]\u001b[A\n",
      " 27%|██▋       | 150/566 [01:11<03:19,  2.09it/s, loss=0.831]\u001b[A\n",
      " 27%|██▋       | 150/566 [01:11<03:19,  2.09it/s, loss=0.862]\u001b[A\n",
      " 27%|██▋       | 151/566 [01:11<03:18,  2.09it/s, loss=0.862]\u001b[A\n",
      " 27%|██▋       | 151/566 [01:12<03:18,  2.09it/s, loss=0.848]\u001b[A\n",
      " 27%|██▋       | 152/566 [01:12<03:18,  2.09it/s, loss=0.848]\u001b[A\n",
      " 27%|██▋       | 152/566 [01:12<03:18,  2.09it/s, loss=0.813]\u001b[A\n",
      " 27%|██▋       | 153/566 [01:12<03:17,  2.09it/s, loss=0.813]\u001b[A\n",
      " 27%|██▋       | 153/566 [01:13<03:17,  2.09it/s, loss=0.603]\u001b[A\n",
      " 27%|██▋       | 154/566 [01:13<03:16,  2.10it/s, loss=0.603]\u001b[A\n",
      " 27%|██▋       | 154/566 [01:13<03:16,  2.10it/s, loss=0.7]  \u001b[A\n",
      " 27%|██▋       | 155/566 [01:13<03:16,  2.09it/s, loss=0.7]\u001b[A\n",
      " 27%|██▋       | 155/566 [01:14<03:16,  2.09it/s, loss=0.992]\u001b[A\n",
      " 28%|██▊       | 156/566 [01:14<03:17,  2.08it/s, loss=0.992]\u001b[A\n",
      " 28%|██▊       | 156/566 [01:14<03:17,  2.08it/s, loss=0.843]\u001b[A\n",
      " 28%|██▊       | 157/566 [01:14<03:17,  2.07it/s, loss=0.843]\u001b[A\n",
      " 28%|██▊       | 157/566 [01:15<03:17,  2.07it/s, loss=0.761]\u001b[A\n",
      " 28%|██▊       | 158/566 [01:15<03:16,  2.07it/s, loss=0.761]\u001b[A\n",
      " 28%|██▊       | 158/566 [01:15<03:16,  2.07it/s, loss=0.55] \u001b[A\n",
      " 28%|██▊       | 159/566 [01:15<03:17,  2.06it/s, loss=0.55]\u001b[A\n",
      " 28%|██▊       | 159/566 [01:16<03:17,  2.06it/s, loss=0.633]\u001b[A\n",
      " 28%|██▊       | 160/566 [01:16<03:16,  2.06it/s, loss=0.633]\u001b[A\n",
      " 28%|██▊       | 160/566 [01:16<03:16,  2.06it/s, loss=0.925]\u001b[A\n",
      " 28%|██▊       | 161/566 [01:16<03:16,  2.06it/s, loss=0.925]\u001b[A\n",
      " 28%|██▊       | 161/566 [01:17<03:16,  2.06it/s, loss=0.334]\u001b[A\n",
      " 29%|██▊       | 162/566 [01:17<03:15,  2.07it/s, loss=0.334]\u001b[A\n",
      " 29%|██▊       | 162/566 [01:17<03:15,  2.07it/s, loss=0.674]\u001b[A\n",
      " 29%|██▉       | 163/566 [01:17<03:16,  2.05it/s, loss=0.674]\u001b[A\n",
      " 29%|██▉       | 163/566 [01:18<03:16,  2.05it/s, loss=0.654]\u001b[A\n",
      " 29%|██▉       | 164/566 [01:18<03:15,  2.06it/s, loss=0.654]\u001b[A\n",
      " 29%|██▉       | 164/566 [01:18<03:15,  2.06it/s, loss=0.682]\u001b[A\n",
      " 29%|██▉       | 165/566 [01:18<03:14,  2.06it/s, loss=0.682]\u001b[A\n",
      " 29%|██▉       | 165/566 [01:18<03:14,  2.06it/s, loss=0.696]\u001b[A\n",
      " 29%|██▉       | 166/566 [01:18<03:13,  2.07it/s, loss=0.696]\u001b[A\n",
      " 29%|██▉       | 166/566 [01:19<03:13,  2.07it/s, loss=0.383]\u001b[A\n",
      " 30%|██▉       | 167/566 [01:19<03:14,  2.05it/s, loss=0.383]\u001b[A\n",
      " 30%|██▉       | 167/566 [01:19<03:14,  2.05it/s, loss=1.03] \u001b[A\n",
      " 30%|██▉       | 168/566 [01:19<03:13,  2.06it/s, loss=1.03]\u001b[A\n",
      " 30%|██▉       | 168/566 [01:20<03:13,  2.06it/s, loss=0.566]\u001b[A\n",
      " 30%|██▉       | 169/566 [01:20<03:12,  2.06it/s, loss=0.566]\u001b[A\n",
      " 30%|██▉       | 169/566 [01:20<03:12,  2.06it/s, loss=0.674]\u001b[A\n",
      " 30%|███       | 170/566 [01:20<03:12,  2.06it/s, loss=0.674]\u001b[A\n",
      " 30%|███       | 170/566 [01:21<03:12,  2.06it/s, loss=0.992]\u001b[A\n",
      " 30%|███       | 171/566 [01:21<03:11,  2.06it/s, loss=0.992]\u001b[A\n",
      " 30%|███       | 171/566 [01:21<03:11,  2.06it/s, loss=0.463]\u001b[A\n",
      " 30%|███       | 172/566 [01:21<03:10,  2.07it/s, loss=0.463]\u001b[A\n",
      " 30%|███       | 172/566 [01:22<03:10,  2.07it/s, loss=0.966]\u001b[A\n",
      " 31%|███       | 173/566 [01:22<03:10,  2.06it/s, loss=0.966]\u001b[A\n",
      " 31%|███       | 173/566 [01:22<03:10,  2.06it/s, loss=0.554]\u001b[A\n",
      " 31%|███       | 174/566 [01:22<03:10,  2.06it/s, loss=0.554]\u001b[A\n",
      " 31%|███       | 174/566 [01:23<03:10,  2.06it/s, loss=0.921]\u001b[A\n",
      " 31%|███       | 175/566 [01:23<03:10,  2.06it/s, loss=0.921]\u001b[A\n",
      " 31%|███       | 175/566 [01:23<03:10,  2.06it/s, loss=0.952]\u001b[A\n",
      " 31%|███       | 176/566 [01:23<03:10,  2.05it/s, loss=0.952]\u001b[A\n",
      " 31%|███       | 176/566 [01:24<03:10,  2.05it/s, loss=0.852]\u001b[A\n",
      " 31%|███▏      | 177/566 [01:24<03:09,  2.05it/s, loss=0.852]\u001b[A\n",
      " 31%|███▏      | 177/566 [01:24<03:09,  2.05it/s, loss=0.572]\u001b[A\n",
      " 31%|███▏      | 178/566 [01:24<03:08,  2.06it/s, loss=0.572]\u001b[A\n",
      " 31%|███▏      | 178/566 [01:25<03:08,  2.06it/s, loss=0.827]\u001b[A\n",
      " 32%|███▏      | 179/566 [01:25<03:07,  2.06it/s, loss=0.827]\u001b[A\n",
      " 32%|███▏      | 179/566 [01:25<03:07,  2.06it/s, loss=0.498]\u001b[A\n",
      " 32%|███▏      | 180/566 [01:25<03:05,  2.08it/s, loss=0.498]\u001b[A\n",
      " 32%|███▏      | 180/566 [01:26<03:05,  2.08it/s, loss=0.591]\u001b[A\n",
      " 32%|███▏      | 181/566 [01:26<03:05,  2.08it/s, loss=0.591]\u001b[A\n",
      " 32%|███▏      | 181/566 [01:26<03:05,  2.08it/s, loss=0.8]  \u001b[A\n",
      " 32%|███▏      | 182/566 [01:26<03:05,  2.07it/s, loss=0.8]\u001b[A\n",
      " 32%|███▏      | 182/566 [01:27<03:05,  2.07it/s, loss=0.889]\u001b[A\n",
      " 32%|███▏      | 183/566 [01:27<03:05,  2.06it/s, loss=0.889]\u001b[A\n",
      " 32%|███▏      | 183/566 [01:27<03:05,  2.06it/s, loss=0.633]\u001b[A\n",
      " 33%|███▎      | 184/566 [01:27<03:05,  2.06it/s, loss=0.633]\u001b[A\n",
      " 33%|███▎      | 184/566 [01:28<03:05,  2.06it/s, loss=0.529]\u001b[A\n",
      " 33%|███▎      | 185/566 [01:28<03:06,  2.04it/s, loss=0.529]\u001b[A\n",
      " 33%|███▎      | 185/566 [01:28<03:06,  2.04it/s, loss=0.741]\u001b[A\n",
      " 33%|███▎      | 186/566 [01:28<03:06,  2.04it/s, loss=0.741]\u001b[A\n",
      " 33%|███▎      | 186/566 [01:29<03:06,  2.04it/s, loss=0.569]\u001b[A\n",
      " 33%|███▎      | 187/566 [01:29<03:06,  2.03it/s, loss=0.569]\u001b[A\n",
      " 33%|███▎      | 187/566 [01:29<03:06,  2.03it/s, loss=0.5]  \u001b[A\n",
      " 33%|███▎      | 188/566 [01:29<03:06,  2.02it/s, loss=0.5]\u001b[A\n",
      " 33%|███▎      | 188/566 [01:30<03:06,  2.02it/s, loss=0.699]\u001b[A\n",
      " 33%|███▎      | 189/566 [01:30<03:07,  2.01it/s, loss=0.699]\u001b[A\n",
      " 33%|███▎      | 189/566 [01:30<03:07,  2.01it/s, loss=0.718]\u001b[A\n",
      " 34%|███▎      | 190/566 [01:30<03:05,  2.03it/s, loss=0.718]\u001b[A\n",
      " 34%|███▎      | 190/566 [01:31<03:05,  2.03it/s, loss=0.555]\u001b[A\n",
      " 34%|███▎      | 191/566 [01:31<03:04,  2.03it/s, loss=0.555]\u001b[A\n",
      " 34%|███▎      | 191/566 [01:31<03:04,  2.03it/s, loss=0.748]\u001b[A\n",
      " 34%|███▍      | 192/566 [01:31<03:04,  2.03it/s, loss=0.748]\u001b[A\n",
      " 34%|███▍      | 192/566 [01:32<03:04,  2.03it/s, loss=0.749]\u001b[A\n",
      " 34%|███▍      | 193/566 [01:32<03:03,  2.03it/s, loss=0.749]\u001b[A\n",
      " 34%|███▍      | 193/566 [01:32<03:03,  2.03it/s, loss=0.614]\u001b[A\n",
      " 34%|███▍      | 194/566 [01:32<03:02,  2.04it/s, loss=0.614]\u001b[A\n",
      " 34%|███▍      | 194/566 [01:33<03:02,  2.04it/s, loss=0.538]\u001b[A\n",
      " 34%|███▍      | 195/566 [01:33<03:01,  2.04it/s, loss=0.538]\u001b[A\n",
      " 34%|███▍      | 195/566 [01:33<03:01,  2.04it/s, loss=0.697]\u001b[A\n",
      " 35%|███▍      | 196/566 [01:33<03:00,  2.05it/s, loss=0.697]\u001b[A\n",
      " 35%|███▍      | 196/566 [01:34<03:00,  2.05it/s, loss=0.6]  \u001b[A\n",
      " 35%|███▍      | 197/566 [01:34<03:00,  2.05it/s, loss=0.6]\u001b[A\n",
      " 35%|███▍      | 197/566 [01:34<03:00,  2.05it/s, loss=0.545]\u001b[A\n",
      " 35%|███▍      | 198/566 [01:34<02:59,  2.05it/s, loss=0.545]\u001b[A\n",
      " 35%|███▍      | 198/566 [01:35<02:59,  2.05it/s, loss=0.749]\u001b[A\n",
      " 35%|███▌      | 199/566 [01:35<02:59,  2.05it/s, loss=0.749]\u001b[A\n",
      " 35%|███▌      | 199/566 [01:35<02:59,  2.05it/s, loss=0.338]\u001b[A\n",
      " 35%|███▌      | 200/566 [01:35<03:00,  2.03it/s, loss=0.338]\u001b[A\n",
      " 35%|███▌      | 200/566 [01:36<03:00,  2.03it/s, loss=0.453]\u001b[A\n",
      " 36%|███▌      | 201/566 [01:36<02:59,  2.04it/s, loss=0.453]\u001b[A\n",
      " 36%|███▌      | 201/566 [01:36<02:59,  2.04it/s, loss=0.422]\u001b[A\n",
      " 36%|███▌      | 202/566 [01:36<02:59,  2.03it/s, loss=0.422]\u001b[A\n",
      " 36%|███▌      | 202/566 [01:37<02:59,  2.03it/s, loss=0.798]\u001b[A\n",
      " 36%|███▌      | 203/566 [01:37<02:58,  2.03it/s, loss=0.798]\u001b[A\n",
      " 36%|███▌      | 203/566 [01:37<02:58,  2.03it/s, loss=0.839]\u001b[A\n",
      " 36%|███▌      | 204/566 [01:37<02:57,  2.04it/s, loss=0.839]\u001b[A\n",
      " 36%|███▌      | 204/566 [01:38<02:57,  2.04it/s, loss=1.32] \u001b[A\n",
      " 36%|███▌      | 205/566 [01:38<02:57,  2.03it/s, loss=1.32]\u001b[A\n",
      " 36%|███▌      | 205/566 [01:38<02:57,  2.03it/s, loss=0.582]\u001b[A\n",
      " 36%|███▋      | 206/566 [01:38<02:57,  2.03it/s, loss=0.582]\u001b[A\n",
      " 36%|███▋      | 206/566 [01:39<02:57,  2.03it/s, loss=0.342]\u001b[A\n",
      " 37%|███▋      | 207/566 [01:39<02:57,  2.02it/s, loss=0.342]\u001b[A\n",
      " 37%|███▋      | 207/566 [01:39<02:57,  2.02it/s, loss=0.958]\u001b[A\n",
      " 37%|███▋      | 208/566 [01:39<02:57,  2.02it/s, loss=0.958]\u001b[A\n",
      " 37%|███▋      | 208/566 [01:40<02:57,  2.02it/s, loss=0.681]\u001b[A\n",
      " 37%|███▋      | 209/566 [01:40<02:55,  2.03it/s, loss=0.681]\u001b[A\n",
      " 37%|███▋      | 209/566 [01:40<02:55,  2.03it/s, loss=0.796]\u001b[A\n",
      " 37%|███▋      | 210/566 [01:40<02:55,  2.03it/s, loss=0.796]\u001b[A\n",
      " 37%|███▋      | 210/566 [01:41<02:55,  2.03it/s, loss=0.456]\u001b[A\n",
      " 37%|███▋      | 211/566 [01:41<02:55,  2.02it/s, loss=0.456]\u001b[A\n",
      " 37%|███▋      | 211/566 [01:41<02:55,  2.02it/s, loss=0.72] \u001b[A\n",
      " 37%|███▋      | 212/566 [01:41<02:54,  2.03it/s, loss=0.72]\u001b[A\n",
      " 37%|███▋      | 212/566 [01:42<02:54,  2.03it/s, loss=0.797]\u001b[A\n",
      " 38%|███▊      | 213/566 [01:42<02:54,  2.02it/s, loss=0.797]\u001b[A\n",
      " 38%|███▊      | 213/566 [01:42<02:54,  2.02it/s, loss=0.438]\u001b[A\n",
      " 38%|███▊      | 214/566 [01:42<02:54,  2.02it/s, loss=0.438]\u001b[A\n",
      " 38%|███▊      | 214/566 [01:43<02:54,  2.02it/s, loss=0.42] \u001b[A\n",
      " 38%|███▊      | 215/566 [01:43<02:53,  2.02it/s, loss=0.42]\u001b[A\n",
      " 38%|███▊      | 215/566 [01:43<02:53,  2.02it/s, loss=0.549]\u001b[A\n",
      " 38%|███▊      | 216/566 [01:43<02:52,  2.02it/s, loss=0.549]\u001b[A\n",
      " 38%|███▊      | 216/566 [01:43<02:52,  2.02it/s, loss=0.531]\u001b[A\n",
      " 38%|███▊      | 217/566 [01:43<02:50,  2.04it/s, loss=0.531]\u001b[A\n",
      " 38%|███▊      | 217/566 [01:44<02:50,  2.04it/s, loss=0.535]\u001b[A\n",
      " 39%|███▊      | 218/566 [01:44<02:51,  2.03it/s, loss=0.535]\u001b[A\n",
      " 39%|███▊      | 218/566 [01:44<02:51,  2.03it/s, loss=0.577]\u001b[A\n",
      " 39%|███▊      | 219/566 [01:44<02:50,  2.04it/s, loss=0.577]\u001b[A\n",
      " 39%|███▊      | 219/566 [01:45<02:50,  2.04it/s, loss=0.609]\u001b[A\n",
      " 39%|███▉      | 220/566 [01:45<02:49,  2.04it/s, loss=0.609]\u001b[A\n",
      " 39%|███▉      | 220/566 [01:45<02:49,  2.04it/s, loss=0.977]\u001b[A\n",
      " 39%|███▉      | 221/566 [01:45<02:49,  2.04it/s, loss=0.977]\u001b[A\n",
      " 39%|███▉      | 221/566 [01:46<02:49,  2.04it/s, loss=0.874]\u001b[A\n",
      " 39%|███▉      | 222/566 [01:46<02:48,  2.04it/s, loss=0.874]\u001b[A\n",
      " 39%|███▉      | 222/566 [01:46<02:48,  2.04it/s, loss=0.609]\u001b[A\n",
      " 39%|███▉      | 223/566 [01:46<02:47,  2.05it/s, loss=0.609]\u001b[A\n",
      " 39%|███▉      | 223/566 [01:47<02:47,  2.05it/s, loss=0.892]\u001b[A\n",
      " 40%|███▉      | 224/566 [01:47<02:46,  2.05it/s, loss=0.892]\u001b[A\n",
      " 40%|███▉      | 224/566 [01:47<02:46,  2.05it/s, loss=0.635]\u001b[A\n",
      " 40%|███▉      | 225/566 [01:47<02:45,  2.06it/s, loss=0.635]\u001b[A\n",
      " 40%|███▉      | 225/566 [01:48<02:45,  2.06it/s, loss=0.582]\u001b[A\n",
      " 40%|███▉      | 226/566 [01:48<02:45,  2.06it/s, loss=0.582]\u001b[A\n",
      " 40%|███▉      | 226/566 [01:48<02:45,  2.06it/s, loss=0.545]\u001b[A\n",
      " 40%|████      | 227/566 [01:48<02:44,  2.06it/s, loss=0.545]\u001b[A\n",
      " 40%|████      | 227/566 [01:49<02:44,  2.06it/s, loss=0.575]\u001b[A\n",
      " 40%|████      | 228/566 [01:49<02:44,  2.06it/s, loss=0.575]\u001b[A\n",
      " 40%|████      | 228/566 [01:49<02:44,  2.06it/s, loss=0.753]\u001b[A\n",
      " 40%|████      | 229/566 [01:49<02:44,  2.05it/s, loss=0.753]\u001b[A\n",
      " 40%|████      | 229/566 [01:50<02:44,  2.05it/s, loss=0.636]\u001b[A\n",
      " 41%|████      | 230/566 [01:50<02:43,  2.06it/s, loss=0.636]\u001b[A\n",
      " 41%|████      | 230/566 [01:50<02:43,  2.06it/s, loss=0.76] \u001b[A\n",
      " 41%|████      | 231/566 [01:50<02:42,  2.06it/s, loss=0.76]\u001b[A\n",
      " 41%|████      | 231/566 [01:51<02:42,  2.06it/s, loss=0.758]\u001b[A\n",
      " 41%|████      | 232/566 [01:51<02:41,  2.06it/s, loss=0.758]\u001b[A\n",
      " 41%|████      | 232/566 [01:51<02:41,  2.06it/s, loss=0.663]\u001b[A\n",
      " 41%|████      | 233/566 [01:51<02:41,  2.06it/s, loss=0.663]\u001b[A\n",
      " 41%|████      | 233/566 [01:52<02:41,  2.06it/s, loss=0.947]\u001b[A\n",
      " 41%|████▏     | 234/566 [01:52<02:41,  2.06it/s, loss=0.947]\u001b[A\n",
      " 41%|████▏     | 234/566 [01:52<02:41,  2.06it/s, loss=0.505]\u001b[A\n",
      " 42%|████▏     | 235/566 [01:52<02:40,  2.06it/s, loss=0.505]\u001b[A\n",
      " 42%|████▏     | 235/566 [01:53<02:40,  2.06it/s, loss=0.615]\u001b[A\n",
      " 42%|████▏     | 236/566 [01:53<02:40,  2.05it/s, loss=0.615]\u001b[A\n",
      " 42%|████▏     | 236/566 [01:53<02:40,  2.05it/s, loss=0.687]\u001b[A\n",
      " 42%|████▏     | 237/566 [01:53<02:39,  2.06it/s, loss=0.687]\u001b[A\n",
      " 42%|████▏     | 237/566 [01:54<02:39,  2.06it/s, loss=0.635]\u001b[A\n",
      " 42%|████▏     | 238/566 [01:54<02:39,  2.06it/s, loss=0.635]\u001b[A\n",
      " 42%|████▏     | 238/566 [01:54<02:39,  2.06it/s, loss=0.544]\u001b[A\n",
      " 42%|████▏     | 239/566 [01:54<02:38,  2.06it/s, loss=0.544]\u001b[A\n",
      " 42%|████▏     | 239/566 [01:55<02:38,  2.06it/s, loss=0.809]\u001b[A\n",
      " 42%|████▏     | 240/566 [01:55<02:38,  2.06it/s, loss=0.809]\u001b[A\n",
      " 42%|████▏     | 240/566 [01:55<02:38,  2.06it/s, loss=0.805]\u001b[A\n",
      " 43%|████▎     | 241/566 [01:55<02:37,  2.07it/s, loss=0.805]\u001b[A\n",
      " 43%|████▎     | 241/566 [01:56<02:37,  2.07it/s, loss=0.711]\u001b[A\n",
      " 43%|████▎     | 242/566 [01:56<02:37,  2.06it/s, loss=0.711]\u001b[A\n",
      " 43%|████▎     | 242/566 [01:56<02:37,  2.06it/s, loss=0.474]\u001b[A\n",
      " 43%|████▎     | 243/566 [01:56<02:36,  2.06it/s, loss=0.474]\u001b[A\n",
      " 43%|████▎     | 243/566 [01:57<02:36,  2.06it/s, loss=0.362]\u001b[A\n",
      " 43%|████▎     | 244/566 [01:57<02:36,  2.06it/s, loss=0.362]\u001b[A\n",
      " 43%|████▎     | 244/566 [01:57<02:36,  2.06it/s, loss=0.279]\u001b[A\n",
      " 43%|████▎     | 245/566 [01:57<02:35,  2.06it/s, loss=0.279]\u001b[A\n",
      " 43%|████▎     | 245/566 [01:58<02:35,  2.06it/s, loss=0.409]\u001b[A\n",
      " 43%|████▎     | 246/566 [01:58<02:34,  2.06it/s, loss=0.409]\u001b[A\n",
      " 43%|████▎     | 246/566 [01:58<02:34,  2.06it/s, loss=0.771]\u001b[A\n",
      " 44%|████▎     | 247/566 [01:58<02:34,  2.06it/s, loss=0.771]\u001b[A\n",
      " 44%|████▎     | 247/566 [01:59<02:34,  2.06it/s, loss=0.84] \u001b[A\n",
      " 44%|████▍     | 248/566 [01:59<02:34,  2.06it/s, loss=0.84]\u001b[A\n",
      " 44%|████▍     | 248/566 [01:59<02:34,  2.06it/s, loss=0.782]\u001b[A\n",
      " 44%|████▍     | 249/566 [01:59<02:33,  2.07it/s, loss=0.782]\u001b[A\n",
      " 44%|████▍     | 249/566 [02:00<02:33,  2.07it/s, loss=1.04] \u001b[A\n",
      " 44%|████▍     | 250/566 [02:00<02:33,  2.06it/s, loss=1.04]\u001b[A\n",
      " 44%|████▍     | 250/566 [02:00<02:33,  2.06it/s, loss=0.798]\u001b[A\n",
      " 44%|████▍     | 251/566 [02:00<02:32,  2.06it/s, loss=0.798]\u001b[A\n",
      " 44%|████▍     | 251/566 [02:00<02:32,  2.06it/s, loss=0.511]\u001b[A\n",
      " 45%|████▍     | 252/566 [02:00<02:32,  2.05it/s, loss=0.511]\u001b[A\n",
      " 45%|████▍     | 252/566 [02:01<02:32,  2.05it/s, loss=0.71] \u001b[A\n",
      " 45%|████▍     | 253/566 [02:01<02:32,  2.06it/s, loss=0.71]\u001b[A\n",
      " 45%|████▍     | 253/566 [02:01<02:32,  2.06it/s, loss=0.58]\u001b[A\n",
      " 45%|████▍     | 254/566 [02:01<02:31,  2.06it/s, loss=0.58]\u001b[A\n",
      " 45%|████▍     | 254/566 [02:02<02:31,  2.06it/s, loss=0.632]\u001b[A\n",
      " 45%|████▌     | 255/566 [02:02<02:31,  2.06it/s, loss=0.632]\u001b[A\n",
      " 45%|████▌     | 255/566 [02:02<02:31,  2.06it/s, loss=0.771]\u001b[A\n",
      " 45%|████▌     | 256/566 [02:02<02:30,  2.06it/s, loss=0.771]\u001b[A\n",
      " 45%|████▌     | 256/566 [02:03<02:30,  2.06it/s, loss=0.707]\u001b[A\n",
      " 45%|████▌     | 257/566 [02:03<02:29,  2.06it/s, loss=0.707]\u001b[A\n",
      " 45%|████▌     | 257/566 [02:03<02:29,  2.06it/s, loss=0.923]\u001b[A\n",
      " 46%|████▌     | 258/566 [02:03<02:29,  2.06it/s, loss=0.923]\u001b[A\n",
      " 46%|████▌     | 258/566 [02:04<02:29,  2.06it/s, loss=0.633]\u001b[A\n",
      " 46%|████▌     | 259/566 [02:04<02:29,  2.06it/s, loss=0.633]\u001b[A\n",
      " 46%|████▌     | 259/566 [02:04<02:29,  2.06it/s, loss=0.638]\u001b[A\n",
      " 46%|████▌     | 260/566 [02:04<02:28,  2.06it/s, loss=0.638]\u001b[A\n",
      " 46%|████▌     | 260/566 [02:05<02:28,  2.06it/s, loss=0.736]\u001b[A\n",
      " 46%|████▌     | 261/566 [02:05<02:28,  2.06it/s, loss=0.736]\u001b[A\n",
      " 46%|████▌     | 261/566 [02:05<02:28,  2.06it/s, loss=0.857]\u001b[A\n",
      " 46%|████▋     | 262/566 [02:05<02:27,  2.06it/s, loss=0.857]\u001b[A\n",
      " 46%|████▋     | 262/566 [02:06<02:27,  2.06it/s, loss=0.75] \u001b[A\n",
      " 46%|████▋     | 263/566 [02:06<02:27,  2.06it/s, loss=0.75]\u001b[A\n",
      " 46%|████▋     | 263/566 [02:06<02:27,  2.06it/s, loss=0.563]\u001b[A\n",
      " 47%|████▋     | 264/566 [02:06<02:26,  2.06it/s, loss=0.563]\u001b[A\n",
      " 47%|████▋     | 264/566 [02:07<02:26,  2.06it/s, loss=0.375]\u001b[A\n",
      " 47%|████▋     | 265/566 [02:07<02:25,  2.06it/s, loss=0.375]\u001b[A\n",
      " 47%|████▋     | 265/566 [02:07<02:25,  2.06it/s, loss=0.701]\u001b[A\n",
      " 47%|████▋     | 266/566 [02:07<02:25,  2.06it/s, loss=0.701]\u001b[A\n",
      " 47%|████▋     | 266/566 [02:08<02:25,  2.06it/s, loss=0.315]\u001b[A\n",
      " 47%|████▋     | 267/566 [02:08<02:24,  2.07it/s, loss=0.315]\u001b[A\n",
      " 47%|████▋     | 267/566 [02:08<02:24,  2.07it/s, loss=0.533]\u001b[A\n",
      " 47%|████▋     | 268/566 [02:08<02:23,  2.08it/s, loss=0.533]\u001b[A\n",
      " 47%|████▋     | 268/566 [02:09<02:23,  2.08it/s, loss=0.665]\u001b[A\n",
      " 48%|████▊     | 269/566 [02:09<02:23,  2.08it/s, loss=0.665]\u001b[A\n",
      " 48%|████▊     | 269/566 [02:09<02:23,  2.08it/s, loss=0.707]\u001b[A\n",
      " 48%|████▊     | 270/566 [02:09<02:22,  2.07it/s, loss=0.707]\u001b[A\n",
      " 48%|████▊     | 270/566 [02:10<02:22,  2.07it/s, loss=0.468]\u001b[A\n",
      " 48%|████▊     | 271/566 [02:10<02:22,  2.07it/s, loss=0.468]\u001b[A\n",
      " 48%|████▊     | 271/566 [02:10<02:22,  2.07it/s, loss=0.722]\u001b[A\n",
      " 48%|████▊     | 272/566 [02:10<02:22,  2.07it/s, loss=0.722]\u001b[A\n",
      " 48%|████▊     | 272/566 [02:11<02:22,  2.07it/s, loss=0.516]\u001b[A\n",
      " 48%|████▊     | 273/566 [02:11<02:22,  2.06it/s, loss=0.516]\u001b[A\n",
      " 48%|████▊     | 273/566 [02:11<02:22,  2.06it/s, loss=0.527]\u001b[A\n",
      " 48%|████▊     | 274/566 [02:11<02:21,  2.07it/s, loss=0.527]\u001b[A\n",
      " 48%|████▊     | 274/566 [02:12<02:21,  2.07it/s, loss=0.78] \u001b[A\n",
      " 49%|████▊     | 275/566 [02:12<02:20,  2.07it/s, loss=0.78]\u001b[A\n",
      " 49%|████▊     | 275/566 [02:12<02:20,  2.07it/s, loss=0.494]\u001b[A\n",
      " 49%|████▉     | 276/566 [02:12<02:19,  2.07it/s, loss=0.494]\u001b[A\n",
      " 49%|████▉     | 276/566 [02:13<02:19,  2.07it/s, loss=0.995]\u001b[A\n",
      " 49%|████▉     | 277/566 [02:13<02:18,  2.08it/s, loss=0.995]\u001b[A\n",
      " 49%|████▉     | 277/566 [02:13<02:18,  2.08it/s, loss=0.304]\u001b[A\n",
      " 49%|████▉     | 278/566 [02:13<02:18,  2.09it/s, loss=0.304]\u001b[A\n",
      " 49%|████▉     | 278/566 [02:14<02:18,  2.09it/s, loss=0.585]\u001b[A\n",
      " 49%|████▉     | 279/566 [02:14<02:18,  2.08it/s, loss=0.585]\u001b[A\n",
      " 49%|████▉     | 279/566 [02:14<02:18,  2.08it/s, loss=0.516]\u001b[A\n",
      " 49%|████▉     | 280/566 [02:14<02:18,  2.07it/s, loss=0.516]\u001b[A\n",
      " 49%|████▉     | 280/566 [02:15<02:18,  2.07it/s, loss=0.517]\u001b[A\n",
      " 50%|████▉     | 281/566 [02:15<02:17,  2.07it/s, loss=0.517]\u001b[A\n",
      " 50%|████▉     | 281/566 [02:15<02:17,  2.07it/s, loss=0.34] \u001b[A\n",
      " 50%|████▉     | 282/566 [02:15<02:17,  2.07it/s, loss=0.34]\u001b[A\n",
      " 50%|████▉     | 282/566 [02:15<02:17,  2.07it/s, loss=0.388]\u001b[A\n",
      " 50%|█████     | 283/566 [02:15<02:15,  2.08it/s, loss=0.388]\u001b[A\n",
      " 50%|█████     | 283/566 [02:16<02:15,  2.08it/s, loss=0.63] \u001b[A\n",
      " 50%|█████     | 284/566 [02:16<02:15,  2.08it/s, loss=0.63]\u001b[A\n",
      " 50%|█████     | 284/566 [02:16<02:15,  2.08it/s, loss=0.39]\u001b[A\n",
      " 50%|█████     | 285/566 [02:16<02:15,  2.07it/s, loss=0.39]\u001b[A\n",
      " 50%|█████     | 285/566 [02:17<02:15,  2.07it/s, loss=0.816]\u001b[A\n",
      " 51%|█████     | 286/566 [02:17<02:15,  2.07it/s, loss=0.816]\u001b[A\n",
      " 51%|█████     | 286/566 [02:17<02:15,  2.07it/s, loss=0.751]\u001b[A\n",
      " 51%|█████     | 287/566 [02:17<02:14,  2.07it/s, loss=0.751]\u001b[A\n",
      " 51%|█████     | 287/566 [02:18<02:14,  2.07it/s, loss=0.354]\u001b[A\n",
      " 51%|█████     | 288/566 [02:18<02:14,  2.07it/s, loss=0.354]\u001b[A\n",
      " 51%|█████     | 288/566 [02:18<02:14,  2.07it/s, loss=0.365]\u001b[A\n",
      " 51%|█████     | 289/566 [02:18<02:13,  2.07it/s, loss=0.365]\u001b[A\n",
      " 51%|█████     | 289/566 [02:19<02:13,  2.07it/s, loss=0.448]\u001b[A\n",
      " 51%|█████     | 290/566 [02:19<02:13,  2.07it/s, loss=0.448]\u001b[A\n",
      " 51%|█████     | 290/566 [02:19<02:13,  2.07it/s, loss=0.404]\u001b[A\n",
      " 51%|█████▏    | 291/566 [02:19<02:12,  2.08it/s, loss=0.404]\u001b[A\n",
      " 51%|█████▏    | 291/566 [02:20<02:12,  2.08it/s, loss=0.855]\u001b[A\n",
      " 52%|█████▏    | 292/566 [02:20<02:11,  2.08it/s, loss=0.855]\u001b[A\n",
      " 52%|█████▏    | 292/566 [02:20<02:11,  2.08it/s, loss=1.08] \u001b[A\n",
      " 52%|█████▏    | 293/566 [02:20<02:11,  2.08it/s, loss=1.08]\u001b[A\n",
      " 52%|█████▏    | 293/566 [02:21<02:11,  2.08it/s, loss=0.875]\u001b[A\n",
      " 52%|█████▏    | 294/566 [02:21<02:10,  2.08it/s, loss=0.875]\u001b[A\n",
      " 52%|█████▏    | 294/566 [02:21<02:10,  2.08it/s, loss=0.267]\u001b[A\n",
      " 52%|█████▏    | 295/566 [02:21<02:10,  2.08it/s, loss=0.267]\u001b[A\n",
      " 52%|█████▏    | 295/566 [02:22<02:10,  2.08it/s, loss=0.905]\u001b[A\n",
      " 52%|█████▏    | 296/566 [02:22<02:10,  2.08it/s, loss=0.905]\u001b[A\n",
      " 52%|█████▏    | 296/566 [02:22<02:10,  2.08it/s, loss=0.582]\u001b[A\n",
      " 52%|█████▏    | 297/566 [02:22<02:09,  2.07it/s, loss=0.582]\u001b[A\n",
      " 52%|█████▏    | 297/566 [02:23<02:09,  2.07it/s, loss=0.502]\u001b[A\n",
      " 53%|█████▎    | 298/566 [02:23<02:09,  2.07it/s, loss=0.502]\u001b[A\n",
      " 53%|█████▎    | 298/566 [02:23<02:09,  2.07it/s, loss=0.364]\u001b[A\n",
      " 53%|█████▎    | 299/566 [02:23<02:08,  2.07it/s, loss=0.364]\u001b[A\n",
      " 53%|█████▎    | 299/566 [02:24<02:08,  2.07it/s, loss=0.388]\u001b[A\n",
      " 53%|█████▎    | 300/566 [02:24<02:08,  2.07it/s, loss=0.388]\u001b[A\n",
      " 53%|█████▎    | 300/566 [02:24<02:08,  2.07it/s, loss=0.401]\u001b[A\n",
      " 53%|█████▎    | 301/566 [02:24<02:08,  2.06it/s, loss=0.401]\u001b[A\n",
      " 53%|█████▎    | 301/566 [02:25<02:08,  2.06it/s, loss=1.06] \u001b[A\n",
      " 53%|█████▎    | 302/566 [02:25<02:08,  2.06it/s, loss=1.06]\u001b[A\n",
      " 53%|█████▎    | 302/566 [02:25<02:08,  2.06it/s, loss=0.402]\u001b[A\n",
      " 54%|█████▎    | 303/566 [02:25<02:07,  2.06it/s, loss=0.402]\u001b[A\n",
      " 54%|█████▎    | 303/566 [02:26<02:07,  2.06it/s, loss=0.557]\u001b[A\n",
      " 54%|█████▎    | 304/566 [02:26<02:06,  2.06it/s, loss=0.557]\u001b[A\n",
      " 54%|█████▎    | 304/566 [02:26<02:06,  2.06it/s, loss=0.546]\u001b[A\n",
      " 54%|█████▍    | 305/566 [02:26<02:06,  2.06it/s, loss=0.546]\u001b[A\n",
      " 54%|█████▍    | 305/566 [02:27<02:06,  2.06it/s, loss=0.516]\u001b[A\n",
      " 54%|█████▍    | 306/566 [02:27<02:06,  2.06it/s, loss=0.516]\u001b[A\n",
      " 54%|█████▍    | 306/566 [02:27<02:06,  2.06it/s, loss=0.572]\u001b[A\n",
      " 54%|█████▍    | 307/566 [02:27<02:05,  2.06it/s, loss=0.572]\u001b[A\n",
      " 54%|█████▍    | 307/566 [02:28<02:05,  2.06it/s, loss=0.833]\u001b[A\n",
      " 54%|█████▍    | 308/566 [02:28<02:04,  2.08it/s, loss=0.833]\u001b[A\n",
      " 54%|█████▍    | 308/566 [02:28<02:04,  2.08it/s, loss=0.367]\u001b[A\n",
      " 55%|█████▍    | 309/566 [02:28<02:03,  2.08it/s, loss=0.367]\u001b[A\n",
      " 55%|█████▍    | 309/566 [02:29<02:03,  2.08it/s, loss=0.6]  \u001b[A\n",
      " 55%|█████▍    | 310/566 [02:29<02:03,  2.08it/s, loss=0.6]\u001b[A\n",
      " 55%|█████▍    | 310/566 [02:29<02:03,  2.08it/s, loss=0.672]\u001b[A\n",
      " 55%|█████▍    | 311/566 [02:29<02:02,  2.07it/s, loss=0.672]\u001b[A\n",
      " 55%|█████▍    | 311/566 [02:29<02:02,  2.07it/s, loss=0.791]\u001b[A\n",
      " 55%|█████▌    | 312/566 [02:29<02:01,  2.09it/s, loss=0.791]\u001b[A\n",
      " 55%|█████▌    | 312/566 [02:30<02:01,  2.09it/s, loss=0.64] \u001b[A\n",
      " 55%|█████▌    | 313/566 [02:30<02:01,  2.08it/s, loss=0.64]\u001b[A\n",
      " 55%|█████▌    | 313/566 [02:30<02:01,  2.08it/s, loss=0.455]\u001b[A\n",
      " 55%|█████▌    | 314/566 [02:30<02:01,  2.08it/s, loss=0.455]\u001b[A\n",
      " 55%|█████▌    | 314/566 [02:31<02:01,  2.08it/s, loss=0.645]\u001b[A\n",
      " 56%|█████▌    | 315/566 [02:31<02:00,  2.07it/s, loss=0.645]\u001b[A\n",
      " 56%|█████▌    | 315/566 [02:31<02:00,  2.07it/s, loss=0.623]\u001b[A\n",
      " 56%|█████▌    | 316/566 [02:31<02:00,  2.07it/s, loss=0.623]\u001b[A\n",
      " 56%|█████▌    | 316/566 [02:32<02:00,  2.07it/s, loss=0.794]\u001b[A\n",
      " 56%|█████▌    | 317/566 [02:32<02:00,  2.07it/s, loss=0.794]\u001b[A\n",
      " 56%|█████▌    | 317/566 [02:32<02:00,  2.07it/s, loss=0.343]\u001b[A\n",
      " 56%|█████▌    | 318/566 [02:32<01:59,  2.08it/s, loss=0.343]\u001b[A\n",
      " 56%|█████▌    | 318/566 [02:33<01:59,  2.08it/s, loss=0.485]\u001b[A\n",
      " 56%|█████▋    | 319/566 [02:33<01:59,  2.07it/s, loss=0.485]\u001b[A\n",
      " 56%|█████▋    | 319/566 [02:33<01:59,  2.07it/s, loss=0.652]\u001b[A\n",
      " 57%|█████▋    | 320/566 [02:33<01:58,  2.07it/s, loss=0.652]\u001b[A\n",
      " 57%|█████▋    | 320/566 [02:34<01:58,  2.07it/s, loss=0.855]\u001b[A\n",
      " 57%|█████▋    | 321/566 [02:34<01:58,  2.07it/s, loss=0.855]\u001b[A\n",
      " 57%|█████▋    | 321/566 [02:34<01:58,  2.07it/s, loss=1.04] \u001b[A\n",
      " 57%|█████▋    | 322/566 [02:34<01:58,  2.07it/s, loss=1.04]\u001b[A\n",
      " 57%|█████▋    | 322/566 [02:35<01:58,  2.07it/s, loss=0.659]\u001b[A\n",
      " 57%|█████▋    | 323/566 [02:35<01:56,  2.08it/s, loss=0.659]\u001b[A\n",
      " 57%|█████▋    | 323/566 [02:35<01:56,  2.08it/s, loss=0.478]\u001b[A\n",
      " 57%|█████▋    | 324/566 [02:35<01:56,  2.08it/s, loss=0.478]\u001b[A\n",
      " 57%|█████▋    | 324/566 [02:36<01:56,  2.08it/s, loss=0.516]\u001b[A\n",
      " 57%|█████▋    | 325/566 [02:36<01:55,  2.09it/s, loss=0.516]\u001b[A\n",
      " 57%|█████▋    | 325/566 [02:36<01:55,  2.09it/s, loss=0.561]\u001b[A\n",
      " 58%|█████▊    | 326/566 [02:36<01:55,  2.08it/s, loss=0.561]\u001b[A\n",
      " 58%|█████▊    | 326/566 [02:37<01:55,  2.08it/s, loss=0.844]\u001b[A\n",
      " 58%|█████▊    | 327/566 [02:37<01:55,  2.07it/s, loss=0.844]\u001b[A\n",
      " 58%|█████▊    | 327/566 [02:37<01:55,  2.07it/s, loss=0.955]\u001b[A\n",
      " 58%|█████▊    | 328/566 [02:37<01:54,  2.07it/s, loss=0.955]\u001b[A\n",
      " 58%|█████▊    | 328/566 [02:38<01:54,  2.07it/s, loss=0.663]\u001b[A\n",
      " 58%|█████▊    | 329/566 [02:38<01:54,  2.07it/s, loss=0.663]\u001b[A\n",
      " 58%|█████▊    | 329/566 [02:38<01:54,  2.07it/s, loss=0.574]\u001b[A\n",
      " 58%|█████▊    | 330/566 [02:38<01:54,  2.07it/s, loss=0.574]\u001b[A\n",
      " 58%|█████▊    | 330/566 [02:39<01:54,  2.07it/s, loss=0.8]  \u001b[A\n",
      " 58%|█████▊    | 331/566 [02:39<01:54,  2.06it/s, loss=0.8]\u001b[A\n",
      " 58%|█████▊    | 331/566 [02:39<01:54,  2.06it/s, loss=0.566]\u001b[A\n",
      " 59%|█████▊    | 332/566 [02:39<01:53,  2.06it/s, loss=0.566]\u001b[A\n",
      " 59%|█████▊    | 332/566 [02:40<01:53,  2.06it/s, loss=0.439]\u001b[A\n",
      " 59%|█████▉    | 333/566 [02:40<01:52,  2.06it/s, loss=0.439]\u001b[A\n",
      " 59%|█████▉    | 333/566 [02:40<01:52,  2.06it/s, loss=0.481]\u001b[A\n",
      " 59%|█████▉    | 334/566 [02:40<01:51,  2.07it/s, loss=0.481]\u001b[A\n",
      " 59%|█████▉    | 334/566 [02:41<01:51,  2.07it/s, loss=0.824]\u001b[A\n",
      " 59%|█████▉    | 335/566 [02:41<01:51,  2.07it/s, loss=0.824]\u001b[A\n",
      " 59%|█████▉    | 335/566 [02:41<01:51,  2.07it/s, loss=0.525]\u001b[A\n",
      " 59%|█████▉    | 336/566 [02:41<01:50,  2.08it/s, loss=0.525]\u001b[A\n",
      " 59%|█████▉    | 336/566 [02:42<01:50,  2.08it/s, loss=0.517]\u001b[A\n",
      " 60%|█████▉    | 337/566 [02:42<01:50,  2.07it/s, loss=0.517]\u001b[A\n",
      " 60%|█████▉    | 337/566 [02:42<01:50,  2.07it/s, loss=0.627]\u001b[A\n",
      " 60%|█████▉    | 338/566 [02:42<01:50,  2.06it/s, loss=0.627]\u001b[A\n",
      " 60%|█████▉    | 338/566 [02:43<01:50,  2.06it/s, loss=0.556]\u001b[A\n",
      " 60%|█████▉    | 339/566 [02:43<01:49,  2.07it/s, loss=0.556]\u001b[A\n",
      " 60%|█████▉    | 339/566 [02:43<01:49,  2.07it/s, loss=0.57] \u001b[A\n",
      " 60%|██████    | 340/566 [02:43<01:49,  2.06it/s, loss=0.57]\u001b[A\n",
      " 60%|██████    | 340/566 [02:43<01:49,  2.06it/s, loss=0.85]\u001b[A\n",
      " 60%|██████    | 341/566 [02:43<01:48,  2.07it/s, loss=0.85]\u001b[A\n",
      " 60%|██████    | 341/566 [02:44<01:48,  2.07it/s, loss=0.992]\u001b[A\n",
      " 60%|██████    | 342/566 [02:44<01:48,  2.06it/s, loss=0.992]\u001b[A\n",
      " 60%|██████    | 342/566 [02:44<01:48,  2.06it/s, loss=0.406]\u001b[A\n",
      " 61%|██████    | 343/566 [02:44<01:48,  2.06it/s, loss=0.406]\u001b[A\n",
      " 61%|██████    | 343/566 [02:45<01:48,  2.06it/s, loss=0.539]\u001b[A\n",
      " 61%|██████    | 344/566 [02:45<01:48,  2.06it/s, loss=0.539]\u001b[A\n",
      " 61%|██████    | 344/566 [02:45<01:48,  2.06it/s, loss=0.257]\u001b[A\n",
      " 61%|██████    | 345/566 [02:45<01:47,  2.06it/s, loss=0.257]\u001b[A\n",
      " 61%|██████    | 345/566 [02:46<01:47,  2.06it/s, loss=0.386]\u001b[A\n",
      " 61%|██████    | 346/566 [02:46<01:46,  2.06it/s, loss=0.386]\u001b[A\n",
      " 61%|██████    | 346/566 [02:46<01:46,  2.06it/s, loss=0.703]\u001b[A\n",
      " 61%|██████▏   | 347/566 [02:46<01:46,  2.05it/s, loss=0.703]\u001b[A\n",
      " 61%|██████▏   | 347/566 [02:47<01:46,  2.05it/s, loss=0.903]\u001b[A\n",
      " 61%|██████▏   | 348/566 [02:47<01:46,  2.05it/s, loss=0.903]\u001b[A\n",
      " 61%|██████▏   | 348/566 [02:47<01:46,  2.05it/s, loss=0.353]\u001b[A\n",
      " 62%|██████▏   | 349/566 [02:47<01:45,  2.06it/s, loss=0.353]\u001b[A\n",
      " 62%|██████▏   | 349/566 [02:48<01:45,  2.06it/s, loss=0.661]\u001b[A\n",
      " 62%|██████▏   | 350/566 [02:48<01:45,  2.06it/s, loss=0.661]\u001b[A\n",
      " 62%|██████▏   | 350/566 [02:48<01:45,  2.06it/s, loss=0.74] \u001b[A\n",
      " 62%|██████▏   | 351/566 [02:48<01:44,  2.06it/s, loss=0.74]\u001b[A\n",
      " 62%|██████▏   | 351/566 [02:49<01:44,  2.06it/s, loss=0.738]\u001b[A\n",
      " 62%|██████▏   | 352/566 [02:49<01:43,  2.06it/s, loss=0.738]\u001b[A\n",
      " 62%|██████▏   | 352/566 [02:49<01:43,  2.06it/s, loss=1]    \u001b[A\n",
      " 62%|██████▏   | 353/566 [02:49<01:43,  2.06it/s, loss=1]\u001b[A\n",
      " 62%|██████▏   | 353/566 [02:50<01:43,  2.06it/s, loss=0.425]\u001b[A\n",
      " 63%|██████▎   | 354/566 [02:50<01:42,  2.06it/s, loss=0.425]\u001b[A\n",
      " 63%|██████▎   | 354/566 [02:50<01:42,  2.06it/s, loss=0.276]\u001b[A\n",
      " 63%|██████▎   | 355/566 [02:50<01:42,  2.07it/s, loss=0.276]\u001b[A\n",
      " 63%|██████▎   | 355/566 [02:51<01:42,  2.07it/s, loss=0.353]\u001b[A\n",
      " 63%|██████▎   | 356/566 [02:51<01:41,  2.06it/s, loss=0.353]\u001b[A\n",
      " 63%|██████▎   | 356/566 [02:51<01:41,  2.06it/s, loss=0.679]\u001b[A\n",
      " 63%|██████▎   | 357/566 [02:51<01:41,  2.06it/s, loss=0.679]\u001b[A\n",
      " 63%|██████▎   | 357/566 [02:52<01:41,  2.06it/s, loss=0.709]\u001b[A\n",
      " 63%|██████▎   | 358/566 [02:52<01:40,  2.06it/s, loss=0.709]\u001b[A\n",
      " 63%|██████▎   | 358/566 [02:52<01:40,  2.06it/s, loss=0.308]\u001b[A\n",
      " 63%|██████▎   | 359/566 [02:52<01:40,  2.06it/s, loss=0.308]\u001b[A\n",
      " 63%|██████▎   | 359/566 [02:53<01:40,  2.06it/s, loss=0.696]\u001b[A\n",
      " 64%|██████▎   | 360/566 [02:53<01:40,  2.06it/s, loss=0.696]\u001b[A\n",
      " 64%|██████▎   | 360/566 [02:53<01:40,  2.06it/s, loss=0.712]\u001b[A\n",
      " 64%|██████▍   | 361/566 [02:53<01:39,  2.06it/s, loss=0.712]\u001b[A\n",
      " 64%|██████▍   | 361/566 [02:54<01:39,  2.06it/s, loss=0.869]\u001b[A\n",
      " 64%|██████▍   | 362/566 [02:54<01:39,  2.06it/s, loss=0.869]\u001b[A\n",
      " 64%|██████▍   | 362/566 [02:54<01:39,  2.06it/s, loss=0.847]\u001b[A\n",
      " 64%|██████▍   | 363/566 [02:54<01:38,  2.06it/s, loss=0.847]\u001b[A\n",
      " 64%|██████▍   | 363/566 [02:55<01:38,  2.06it/s, loss=0.457]\u001b[A\n",
      " 64%|██████▍   | 364/566 [02:55<01:37,  2.06it/s, loss=0.457]\u001b[A\n",
      " 64%|██████▍   | 364/566 [02:55<01:37,  2.06it/s, loss=0.65] \u001b[A\n",
      " 64%|██████▍   | 365/566 [02:55<01:37,  2.06it/s, loss=0.65]\u001b[A\n",
      " 64%|██████▍   | 365/566 [02:56<01:37,  2.06it/s, loss=0.401]\u001b[A\n",
      " 65%|██████▍   | 366/566 [02:56<01:36,  2.07it/s, loss=0.401]\u001b[A\n",
      " 65%|██████▍   | 366/566 [02:56<01:36,  2.07it/s, loss=0.285]\u001b[A\n",
      " 65%|██████▍   | 367/566 [02:56<01:36,  2.06it/s, loss=0.285]\u001b[A\n",
      " 65%|██████▍   | 367/566 [02:57<01:36,  2.06it/s, loss=0.409]\u001b[A\n",
      " 65%|██████▌   | 368/566 [02:57<01:36,  2.06it/s, loss=0.409]\u001b[A\n",
      " 65%|██████▌   | 368/566 [02:57<01:36,  2.06it/s, loss=0.473]\u001b[A\n",
      " 65%|██████▌   | 369/566 [02:57<01:36,  2.05it/s, loss=0.473]\u001b[A\n",
      " 65%|██████▌   | 369/566 [02:58<01:36,  2.05it/s, loss=0.533]\u001b[A\n",
      " 65%|██████▌   | 370/566 [02:58<01:35,  2.04it/s, loss=0.533]\u001b[A\n",
      " 65%|██████▌   | 370/566 [02:58<01:35,  2.04it/s, loss=0.684]\u001b[A\n",
      " 66%|██████▌   | 371/566 [02:58<01:35,  2.04it/s, loss=0.684]\u001b[A\n",
      " 66%|██████▌   | 371/566 [02:59<01:35,  2.04it/s, loss=0.38] \u001b[A\n",
      " 66%|██████▌   | 372/566 [02:59<01:34,  2.05it/s, loss=0.38]\u001b[A\n",
      " 66%|██████▌   | 372/566 [02:59<01:34,  2.05it/s, loss=0.922]\u001b[A\n",
      " 66%|██████▌   | 373/566 [02:59<01:34,  2.05it/s, loss=0.922]\u001b[A\n",
      " 66%|██████▌   | 373/566 [03:00<01:34,  2.05it/s, loss=0.275]\u001b[A\n",
      " 66%|██████▌   | 374/566 [03:00<01:33,  2.05it/s, loss=0.275]\u001b[A\n",
      " 66%|██████▌   | 374/566 [03:00<01:33,  2.05it/s, loss=0.657]\u001b[A\n",
      " 66%|██████▋   | 375/566 [03:00<01:33,  2.05it/s, loss=0.657]\u001b[A\n",
      " 66%|██████▋   | 375/566 [03:00<01:33,  2.05it/s, loss=0.588]\u001b[A\n",
      " 66%|██████▋   | 376/566 [03:01<01:32,  2.05it/s, loss=0.588]\u001b[A\n",
      " 66%|██████▋   | 376/566 [03:01<01:32,  2.05it/s, loss=0.469]\u001b[A\n",
      " 67%|██████▋   | 377/566 [03:01<01:32,  2.04it/s, loss=0.469]\u001b[A\n",
      " 67%|██████▋   | 377/566 [03:01<01:32,  2.04it/s, loss=0.516]\u001b[A\n",
      " 67%|██████▋   | 378/566 [03:01<01:32,  2.04it/s, loss=0.516]\u001b[A\n",
      " 67%|██████▋   | 378/566 [03:02<01:32,  2.04it/s, loss=0.874]\u001b[A\n",
      " 67%|██████▋   | 379/566 [03:02<01:31,  2.04it/s, loss=0.874]\u001b[A\n",
      " 67%|██████▋   | 379/566 [03:02<01:31,  2.04it/s, loss=0.436]\u001b[A\n",
      " 67%|██████▋   | 380/566 [03:02<01:30,  2.05it/s, loss=0.436]\u001b[A\n",
      " 67%|██████▋   | 380/566 [03:03<01:30,  2.05it/s, loss=0.434]\u001b[A\n",
      " 67%|██████▋   | 381/566 [03:03<01:29,  2.06it/s, loss=0.434]\u001b[A\n",
      " 67%|██████▋   | 381/566 [03:03<01:29,  2.06it/s, loss=0.529]\u001b[A\n",
      " 67%|██████▋   | 382/566 [03:03<01:29,  2.05it/s, loss=0.529]\u001b[A\n",
      " 67%|██████▋   | 382/566 [03:04<01:29,  2.05it/s, loss=0.656]\u001b[A\n",
      " 68%|██████▊   | 383/566 [03:04<01:28,  2.06it/s, loss=0.656]\u001b[A\n",
      " 68%|██████▊   | 383/566 [03:04<01:28,  2.06it/s, loss=0.858]\u001b[A\n",
      " 68%|██████▊   | 384/566 [03:04<01:28,  2.05it/s, loss=0.858]\u001b[A\n",
      " 68%|██████▊   | 384/566 [03:05<01:28,  2.05it/s, loss=0.713]\u001b[A\n",
      " 68%|██████▊   | 385/566 [03:05<01:28,  2.06it/s, loss=0.713]\u001b[A\n",
      " 68%|██████▊   | 385/566 [03:05<01:28,  2.06it/s, loss=0.658]\u001b[A\n",
      " 68%|██████▊   | 386/566 [03:05<01:27,  2.06it/s, loss=0.658]\u001b[A\n",
      " 68%|██████▊   | 386/566 [03:06<01:27,  2.06it/s, loss=0.552]\u001b[A\n",
      " 68%|██████▊   | 387/566 [03:06<01:27,  2.04it/s, loss=0.552]\u001b[A\n",
      " 68%|██████▊   | 387/566 [03:06<01:27,  2.04it/s, loss=0.655]\u001b[A\n",
      " 69%|██████▊   | 388/566 [03:06<01:26,  2.05it/s, loss=0.655]\u001b[A\n",
      " 69%|██████▊   | 388/566 [03:07<01:26,  2.05it/s, loss=0.392]\u001b[A\n",
      " 69%|██████▊   | 389/566 [03:07<01:26,  2.05it/s, loss=0.392]\u001b[A\n",
      " 69%|██████▊   | 389/566 [03:07<01:26,  2.05it/s, loss=0.608]\u001b[A\n",
      " 69%|██████▉   | 390/566 [03:07<01:26,  2.04it/s, loss=0.608]\u001b[A\n",
      " 69%|██████▉   | 390/566 [03:08<01:26,  2.04it/s, loss=0.506]\u001b[A\n",
      " 69%|██████▉   | 391/566 [03:08<01:25,  2.04it/s, loss=0.506]\u001b[A\n",
      " 69%|██████▉   | 391/566 [03:08<01:25,  2.04it/s, loss=0.521]\u001b[A\n",
      " 69%|██████▉   | 392/566 [03:08<01:25,  2.04it/s, loss=0.521]\u001b[A\n",
      " 69%|██████▉   | 392/566 [03:09<01:25,  2.04it/s, loss=0.661]\u001b[A\n",
      " 69%|██████▉   | 393/566 [03:09<01:24,  2.05it/s, loss=0.661]\u001b[A\n",
      " 69%|██████▉   | 393/566 [03:09<01:24,  2.05it/s, loss=1.05] \u001b[A\n",
      " 70%|██████▉   | 394/566 [03:09<01:23,  2.05it/s, loss=1.05]\u001b[A\n",
      " 70%|██████▉   | 394/566 [03:10<01:23,  2.05it/s, loss=0.369]\u001b[A\n",
      " 70%|██████▉   | 395/566 [03:10<01:23,  2.05it/s, loss=0.369]\u001b[A\n",
      " 70%|██████▉   | 395/566 [03:10<01:23,  2.05it/s, loss=0.384]\u001b[A\n",
      " 70%|██████▉   | 396/566 [03:10<01:22,  2.05it/s, loss=0.384]\u001b[A\n",
      " 70%|██████▉   | 396/566 [03:11<01:22,  2.05it/s, loss=0.498]\u001b[A\n",
      " 70%|███████   | 397/566 [03:11<01:22,  2.06it/s, loss=0.498]\u001b[A\n",
      " 70%|███████   | 397/566 [03:11<01:22,  2.06it/s, loss=0.653]\u001b[A\n",
      " 70%|███████   | 398/566 [03:11<01:21,  2.05it/s, loss=0.653]\u001b[A\n",
      " 70%|███████   | 398/566 [03:12<01:21,  2.05it/s, loss=0.472]\u001b[A\n",
      " 70%|███████   | 399/566 [03:12<01:21,  2.06it/s, loss=0.472]\u001b[A\n",
      " 70%|███████   | 399/566 [03:12<01:21,  2.06it/s, loss=0.731]\u001b[A\n",
      " 71%|███████   | 400/566 [03:12<01:20,  2.06it/s, loss=0.731]\u001b[A\n",
      " 71%|███████   | 400/566 [03:13<01:20,  2.06it/s, loss=0.752]\u001b[A\n",
      " 71%|███████   | 401/566 [03:13<01:20,  2.06it/s, loss=0.752]\u001b[A\n",
      " 71%|███████   | 401/566 [03:13<01:20,  2.06it/s, loss=0.345]\u001b[A\n",
      " 71%|███████   | 402/566 [03:13<01:19,  2.06it/s, loss=0.345]\u001b[A\n",
      " 71%|███████   | 402/566 [03:14<01:19,  2.06it/s, loss=0.791]\u001b[A\n",
      " 71%|███████   | 403/566 [03:14<01:18,  2.06it/s, loss=0.791]\u001b[A\n",
      " 71%|███████   | 403/566 [03:14<01:18,  2.06it/s, loss=0.357]\u001b[A\n",
      " 71%|███████▏  | 404/566 [03:14<01:18,  2.06it/s, loss=0.357]\u001b[A\n",
      " 71%|███████▏  | 404/566 [03:15<01:18,  2.06it/s, loss=0.405]\u001b[A\n",
      " 72%|███████▏  | 405/566 [03:15<01:18,  2.05it/s, loss=0.405]\u001b[A\n",
      " 72%|███████▏  | 405/566 [03:15<01:18,  2.05it/s, loss=0.616]\u001b[A\n",
      " 72%|███████▏  | 406/566 [03:15<01:17,  2.06it/s, loss=0.616]\u001b[A\n",
      " 72%|███████▏  | 406/566 [03:16<01:17,  2.06it/s, loss=0.458]\u001b[A\n",
      " 72%|███████▏  | 407/566 [03:16<01:17,  2.06it/s, loss=0.458]\u001b[A\n",
      " 72%|███████▏  | 407/566 [03:16<01:17,  2.06it/s, loss=0.548]\u001b[A\n",
      " 72%|███████▏  | 408/566 [03:16<01:16,  2.06it/s, loss=0.548]\u001b[A\n",
      " 72%|███████▏  | 408/566 [03:17<01:16,  2.06it/s, loss=0.606]\u001b[A\n",
      " 72%|███████▏  | 409/566 [03:17<01:16,  2.07it/s, loss=0.606]\u001b[A\n",
      " 72%|███████▏  | 409/566 [03:17<01:16,  2.07it/s, loss=0.819]\u001b[A\n",
      " 72%|███████▏  | 410/566 [03:17<01:15,  2.07it/s, loss=0.819]\u001b[A\n",
      " 72%|███████▏  | 410/566 [03:18<01:15,  2.07it/s, loss=0.502]\u001b[A\n",
      " 73%|███████▎  | 411/566 [03:18<01:15,  2.06it/s, loss=0.502]\u001b[A\n",
      " 73%|███████▎  | 411/566 [03:18<01:15,  2.06it/s, loss=0.612]\u001b[A\n",
      " 73%|███████▎  | 412/566 [03:18<01:14,  2.06it/s, loss=0.612]\u001b[A\n",
      " 73%|███████▎  | 412/566 [03:19<01:14,  2.06it/s, loss=0.584]\u001b[A\n",
      " 73%|███████▎  | 413/566 [03:19<01:14,  2.06it/s, loss=0.584]\u001b[A\n",
      " 73%|███████▎  | 413/566 [03:19<01:14,  2.06it/s, loss=0.338]\u001b[A\n",
      " 73%|███████▎  | 414/566 [03:19<01:13,  2.06it/s, loss=0.338]\u001b[A\n",
      " 73%|███████▎  | 414/566 [03:19<01:13,  2.06it/s, loss=0.403]\u001b[A\n",
      " 73%|███████▎  | 415/566 [03:19<01:13,  2.06it/s, loss=0.403]\u001b[A\n",
      " 73%|███████▎  | 415/566 [03:20<01:13,  2.06it/s, loss=0.602]\u001b[A\n",
      " 73%|███████▎  | 416/566 [03:20<01:13,  2.05it/s, loss=0.602]\u001b[A\n",
      " 73%|███████▎  | 416/566 [03:20<01:13,  2.05it/s, loss=0.345]\u001b[A\n",
      " 74%|███████▎  | 417/566 [03:20<01:12,  2.06it/s, loss=0.345]\u001b[A\n",
      " 74%|███████▎  | 417/566 [03:21<01:12,  2.06it/s, loss=0.694]\u001b[A\n",
      " 74%|███████▍  | 418/566 [03:21<01:11,  2.07it/s, loss=0.694]\u001b[A\n",
      " 74%|███████▍  | 418/566 [03:21<01:11,  2.07it/s, loss=0.874]\u001b[A\n",
      " 74%|███████▍  | 419/566 [03:21<01:11,  2.06it/s, loss=0.874]\u001b[A\n",
      " 74%|███████▍  | 419/566 [03:22<01:11,  2.06it/s, loss=0.674]\u001b[A\n",
      " 74%|███████▍  | 420/566 [03:22<01:10,  2.07it/s, loss=0.674]\u001b[A\n",
      " 74%|███████▍  | 420/566 [03:22<01:10,  2.07it/s, loss=0.577]\u001b[A\n",
      " 74%|███████▍  | 421/566 [03:22<01:10,  2.06it/s, loss=0.577]\u001b[A\n",
      " 74%|███████▍  | 421/566 [03:23<01:10,  2.06it/s, loss=0.451]\u001b[A\n",
      " 75%|███████▍  | 422/566 [03:23<01:09,  2.06it/s, loss=0.451]\u001b[A\n",
      " 75%|███████▍  | 422/566 [03:23<01:09,  2.06it/s, loss=0.73] \u001b[A\n",
      " 75%|███████▍  | 423/566 [03:23<01:09,  2.06it/s, loss=0.73]\u001b[A\n",
      " 75%|███████▍  | 423/566 [03:24<01:09,  2.06it/s, loss=0.789]\u001b[A\n",
      " 75%|███████▍  | 424/566 [03:24<01:08,  2.06it/s, loss=0.789]\u001b[A\n",
      " 75%|███████▍  | 424/566 [03:24<01:08,  2.06it/s, loss=0.733]\u001b[A\n",
      " 75%|███████▌  | 425/566 [03:24<01:08,  2.06it/s, loss=0.733]\u001b[A\n",
      " 75%|███████▌  | 425/566 [03:25<01:08,  2.06it/s, loss=0.477]\u001b[A\n",
      " 75%|███████▌  | 426/566 [03:25<01:07,  2.06it/s, loss=0.477]\u001b[A\n",
      " 75%|███████▌  | 426/566 [03:25<01:07,  2.06it/s, loss=0.787]\u001b[A\n",
      " 75%|███████▌  | 427/566 [03:25<01:07,  2.06it/s, loss=0.787]\u001b[A\n",
      " 75%|███████▌  | 427/566 [03:26<01:07,  2.06it/s, loss=0.824]\u001b[A\n",
      " 76%|███████▌  | 428/566 [03:26<01:07,  2.06it/s, loss=0.824]\u001b[A\n",
      " 76%|███████▌  | 428/566 [03:26<01:07,  2.06it/s, loss=0.887]\u001b[A\n",
      " 76%|███████▌  | 429/566 [03:26<01:06,  2.05it/s, loss=0.887]\u001b[A\n",
      " 76%|███████▌  | 429/566 [03:27<01:06,  2.05it/s, loss=0.504]\u001b[A\n",
      " 76%|███████▌  | 430/566 [03:27<01:06,  2.06it/s, loss=0.504]\u001b[A\n",
      " 76%|███████▌  | 430/566 [03:27<01:06,  2.06it/s, loss=0.496]\u001b[A\n",
      " 76%|███████▌  | 431/566 [03:27<01:05,  2.07it/s, loss=0.496]\u001b[A\n",
      " 76%|███████▌  | 431/566 [03:28<01:05,  2.07it/s, loss=0.496]\u001b[A\n",
      " 76%|███████▋  | 432/566 [03:28<01:04,  2.07it/s, loss=0.496]\u001b[A\n",
      " 76%|███████▋  | 432/566 [03:28<01:04,  2.07it/s, loss=0.861]\u001b[A\n",
      " 77%|███████▋  | 433/566 [03:28<01:04,  2.05it/s, loss=0.861]\u001b[A\n",
      " 77%|███████▋  | 433/566 [03:29<01:04,  2.05it/s, loss=0.334]\u001b[A\n",
      " 77%|███████▋  | 434/566 [03:29<01:04,  2.06it/s, loss=0.334]\u001b[A\n",
      " 77%|███████▋  | 434/566 [03:29<01:04,  2.06it/s, loss=0.296]\u001b[A\n",
      " 77%|███████▋  | 435/566 [03:29<01:03,  2.07it/s, loss=0.296]\u001b[A\n",
      " 77%|███████▋  | 435/566 [03:30<01:03,  2.07it/s, loss=0.793]\u001b[A\n",
      " 77%|███████▋  | 436/566 [03:30<01:02,  2.06it/s, loss=0.793]\u001b[A\n",
      " 77%|███████▋  | 436/566 [03:30<01:02,  2.06it/s, loss=0.336]\u001b[A\n",
      " 77%|███████▋  | 437/566 [03:30<01:02,  2.06it/s, loss=0.336]\u001b[A\n",
      " 77%|███████▋  | 437/566 [03:31<01:02,  2.06it/s, loss=0.479]\u001b[A\n",
      " 77%|███████▋  | 438/566 [03:31<01:02,  2.06it/s, loss=0.479]\u001b[A\n",
      " 77%|███████▋  | 438/566 [03:31<01:02,  2.06it/s, loss=0.587]\u001b[A\n",
      " 78%|███████▊  | 439/566 [03:31<01:01,  2.06it/s, loss=0.587]\u001b[A\n",
      " 78%|███████▊  | 439/566 [03:32<01:01,  2.06it/s, loss=0.41] \u001b[A\n",
      " 78%|███████▊  | 440/566 [03:32<01:01,  2.05it/s, loss=0.41]\u001b[A\n",
      " 78%|███████▊  | 440/566 [03:32<01:01,  2.05it/s, loss=0.979]\u001b[A\n",
      " 78%|███████▊  | 441/566 [03:32<01:00,  2.05it/s, loss=0.979]\u001b[A\n",
      " 78%|███████▊  | 441/566 [03:33<01:00,  2.05it/s, loss=0.459]\u001b[A\n",
      " 78%|███████▊  | 442/566 [03:33<01:00,  2.05it/s, loss=0.459]\u001b[A\n",
      " 78%|███████▊  | 442/566 [03:33<01:00,  2.05it/s, loss=0.752]\u001b[A\n",
      " 78%|███████▊  | 443/566 [03:33<00:59,  2.06it/s, loss=0.752]\u001b[A\n",
      " 78%|███████▊  | 443/566 [03:34<00:59,  2.06it/s, loss=0.314]\u001b[A\n",
      " 78%|███████▊  | 444/566 [03:34<00:59,  2.06it/s, loss=0.314]\u001b[A\n",
      " 78%|███████▊  | 444/566 [03:34<00:59,  2.06it/s, loss=0.77] \u001b[A\n",
      " 79%|███████▊  | 445/566 [03:34<00:58,  2.06it/s, loss=0.77]\u001b[A\n",
      " 79%|███████▊  | 445/566 [03:35<00:58,  2.06it/s, loss=0.387]\u001b[A\n",
      " 79%|███████▉  | 446/566 [03:35<00:58,  2.07it/s, loss=0.387]\u001b[A\n",
      " 79%|███████▉  | 446/566 [03:35<00:58,  2.07it/s, loss=0.672]\u001b[A\n",
      " 79%|███████▉  | 447/566 [03:35<00:57,  2.06it/s, loss=0.672]\u001b[A\n",
      " 79%|███████▉  | 447/566 [03:35<00:57,  2.06it/s, loss=1.07] \u001b[A\n",
      " 79%|███████▉  | 448/566 [03:36<00:57,  2.06it/s, loss=1.07]\u001b[A\n",
      " 79%|███████▉  | 448/566 [03:36<00:57,  2.06it/s, loss=0.892]\u001b[A\n",
      " 79%|███████▉  | 449/566 [03:36<00:56,  2.06it/s, loss=0.892]\u001b[A\n",
      " 79%|███████▉  | 449/566 [03:36<00:56,  2.06it/s, loss=0.918]\u001b[A\n",
      " 80%|███████▉  | 450/566 [03:36<00:56,  2.05it/s, loss=0.918]\u001b[A\n",
      " 80%|███████▉  | 450/566 [03:37<00:56,  2.05it/s, loss=0.904]\u001b[A\n",
      " 80%|███████▉  | 451/566 [03:37<00:55,  2.06it/s, loss=0.904]\u001b[A\n",
      " 80%|███████▉  | 451/566 [03:37<00:55,  2.06it/s, loss=0.752]\u001b[A\n",
      " 80%|███████▉  | 452/566 [03:37<00:55,  2.07it/s, loss=0.752]\u001b[A\n",
      " 80%|███████▉  | 452/566 [03:38<00:55,  2.07it/s, loss=0.49] \u001b[A\n",
      " 80%|████████  | 453/566 [03:38<00:54,  2.06it/s, loss=0.49]\u001b[A\n",
      " 80%|████████  | 453/566 [03:38<00:54,  2.06it/s, loss=0.941]\u001b[A\n",
      " 80%|████████  | 454/566 [03:38<00:54,  2.06it/s, loss=0.941]\u001b[A\n",
      " 80%|████████  | 454/566 [03:39<00:54,  2.06it/s, loss=0.773]\u001b[A\n",
      " 80%|████████  | 455/566 [03:39<00:53,  2.06it/s, loss=0.773]\u001b[A\n",
      " 80%|████████  | 455/566 [03:39<00:53,  2.06it/s, loss=0.88] \u001b[A\n",
      " 81%|████████  | 456/566 [03:39<00:53,  2.06it/s, loss=0.88]\u001b[A\n",
      " 81%|████████  | 456/566 [03:40<00:53,  2.06it/s, loss=0.855]\u001b[A\n",
      " 81%|████████  | 457/566 [03:40<00:52,  2.06it/s, loss=0.855]\u001b[A\n",
      " 81%|████████  | 457/566 [03:40<00:52,  2.06it/s, loss=0.619]\u001b[A\n",
      " 81%|████████  | 458/566 [03:40<00:52,  2.06it/s, loss=0.619]\u001b[A\n",
      " 81%|████████  | 458/566 [03:41<00:52,  2.06it/s, loss=0.586]\u001b[A\n",
      " 81%|████████  | 459/566 [03:41<00:51,  2.07it/s, loss=0.586]\u001b[A\n",
      " 81%|████████  | 459/566 [03:41<00:51,  2.07it/s, loss=0.639]\u001b[A\n",
      " 81%|████████▏ | 460/566 [03:41<00:51,  2.07it/s, loss=0.639]\u001b[A\n",
      " 81%|████████▏ | 460/566 [03:42<00:51,  2.07it/s, loss=0.745]\u001b[A\n",
      " 81%|████████▏ | 461/566 [03:42<00:50,  2.07it/s, loss=0.745]\u001b[A\n",
      " 81%|████████▏ | 461/566 [03:42<00:50,  2.07it/s, loss=0.558]\u001b[A\n",
      " 82%|████████▏ | 462/566 [03:42<00:50,  2.07it/s, loss=0.558]\u001b[A\n",
      " 82%|████████▏ | 462/566 [03:43<00:50,  2.07it/s, loss=0.581]\u001b[A\n",
      " 82%|████████▏ | 463/566 [03:43<00:50,  2.06it/s, loss=0.581]\u001b[A\n",
      " 82%|████████▏ | 463/566 [03:43<00:50,  2.06it/s, loss=0.441]\u001b[A\n",
      " 82%|████████▏ | 464/566 [03:43<00:49,  2.06it/s, loss=0.441]\u001b[A\n",
      " 82%|████████▏ | 464/566 [03:44<00:49,  2.06it/s, loss=0.648]\u001b[A\n",
      " 82%|████████▏ | 465/566 [03:44<00:48,  2.06it/s, loss=0.648]\u001b[A\n",
      " 82%|████████▏ | 465/566 [03:44<00:48,  2.06it/s, loss=0.631]\u001b[A\n",
      " 82%|████████▏ | 466/566 [03:44<00:48,  2.06it/s, loss=0.631]\u001b[A\n",
      " 82%|████████▏ | 466/566 [03:45<00:48,  2.06it/s, loss=0.381]\u001b[A\n",
      " 83%|████████▎ | 467/566 [03:45<00:48,  2.06it/s, loss=0.381]\u001b[A\n",
      " 83%|████████▎ | 467/566 [03:45<00:48,  2.06it/s, loss=0.252]\u001b[A\n",
      " 83%|████████▎ | 468/566 [03:45<00:47,  2.06it/s, loss=0.252]\u001b[A\n",
      " 83%|████████▎ | 468/566 [03:46<00:47,  2.06it/s, loss=0.517]\u001b[A\n",
      " 83%|████████▎ | 469/566 [03:46<00:46,  2.07it/s, loss=0.517]\u001b[A\n",
      " 83%|████████▎ | 469/566 [03:46<00:46,  2.07it/s, loss=0.508]\u001b[A\n",
      " 83%|████████▎ | 470/566 [03:46<00:46,  2.06it/s, loss=0.508]\u001b[A\n",
      " 83%|████████▎ | 470/566 [03:47<00:46,  2.06it/s, loss=0.716]\u001b[A\n",
      " 83%|████████▎ | 471/566 [03:47<00:46,  2.06it/s, loss=0.716]\u001b[A\n",
      " 83%|████████▎ | 471/566 [03:47<00:46,  2.06it/s, loss=0.36] \u001b[A\n",
      " 83%|████████▎ | 472/566 [03:47<00:45,  2.05it/s, loss=0.36]\u001b[A\n",
      " 83%|████████▎ | 472/566 [03:48<00:45,  2.05it/s, loss=0.846]\u001b[A\n",
      " 84%|████████▎ | 473/566 [03:48<00:45,  2.05it/s, loss=0.846]\u001b[A\n",
      " 84%|████████▎ | 473/566 [03:48<00:45,  2.05it/s, loss=0.65] \u001b[A\n",
      " 84%|████████▎ | 474/566 [03:48<00:44,  2.06it/s, loss=0.65]\u001b[A\n",
      " 84%|████████▎ | 474/566 [03:49<00:44,  2.06it/s, loss=0.405]\u001b[A\n",
      " 84%|████████▍ | 475/566 [03:49<00:44,  2.06it/s, loss=0.405]\u001b[A\n",
      " 84%|████████▍ | 475/566 [03:49<00:44,  2.06it/s, loss=0.443]\u001b[A\n",
      " 84%|████████▍ | 476/566 [03:49<00:43,  2.06it/s, loss=0.443]\u001b[A\n",
      " 84%|████████▍ | 476/566 [03:50<00:43,  2.06it/s, loss=0.549]\u001b[A\n",
      " 84%|████████▍ | 477/566 [03:50<00:43,  2.06it/s, loss=0.549]\u001b[A\n",
      " 84%|████████▍ | 477/566 [03:50<00:43,  2.06it/s, loss=0.657]\u001b[A\n",
      " 84%|████████▍ | 478/566 [03:50<00:42,  2.06it/s, loss=0.657]\u001b[A\n",
      " 84%|████████▍ | 478/566 [03:51<00:42,  2.06it/s, loss=0.803]\u001b[A\n",
      " 85%|████████▍ | 479/566 [03:51<00:42,  2.06it/s, loss=0.803]\u001b[A\n",
      " 85%|████████▍ | 479/566 [03:51<00:42,  2.06it/s, loss=0.843]\u001b[A\n",
      " 85%|████████▍ | 480/566 [03:51<00:41,  2.06it/s, loss=0.843]\u001b[A\n",
      " 85%|████████▍ | 480/566 [03:52<00:41,  2.06it/s, loss=0.378]\u001b[A\n",
      " 85%|████████▍ | 481/566 [03:52<00:41,  2.07it/s, loss=0.378]\u001b[A\n",
      " 85%|████████▍ | 481/566 [03:52<00:41,  2.07it/s, loss=0.577]\u001b[A\n",
      " 85%|████████▌ | 482/566 [03:52<00:40,  2.07it/s, loss=0.577]\u001b[A\n",
      " 85%|████████▌ | 482/566 [03:52<00:40,  2.07it/s, loss=0.345]\u001b[A\n",
      " 85%|████████▌ | 483/566 [03:52<00:40,  2.06it/s, loss=0.345]\u001b[A\n",
      " 85%|████████▌ | 483/566 [03:53<00:40,  2.06it/s, loss=0.442]\u001b[A\n",
      " 86%|████████▌ | 484/566 [03:53<00:39,  2.06it/s, loss=0.442]\u001b[A\n",
      " 86%|████████▌ | 484/566 [03:53<00:39,  2.06it/s, loss=0.484]\u001b[A\n",
      " 86%|████████▌ | 485/566 [03:53<00:39,  2.06it/s, loss=0.484]\u001b[A\n",
      " 86%|████████▌ | 485/566 [03:54<00:39,  2.06it/s, loss=0.423]\u001b[A\n",
      " 86%|████████▌ | 486/566 [03:54<00:38,  2.05it/s, loss=0.423]\u001b[A\n",
      " 86%|████████▌ | 486/566 [03:54<00:38,  2.05it/s, loss=0.697]\u001b[A\n",
      " 86%|████████▌ | 487/566 [03:54<00:38,  2.05it/s, loss=0.697]\u001b[A\n",
      " 86%|████████▌ | 487/566 [03:55<00:38,  2.05it/s, loss=0.886]\u001b[A\n",
      " 86%|████████▌ | 488/566 [03:55<00:37,  2.06it/s, loss=0.886]\u001b[A\n",
      " 86%|████████▌ | 488/566 [03:55<00:37,  2.06it/s, loss=0.564]\u001b[A\n",
      " 86%|████████▋ | 489/566 [03:55<00:37,  2.05it/s, loss=0.564]\u001b[A\n",
      " 86%|████████▋ | 489/566 [03:56<00:37,  2.05it/s, loss=0.664]\u001b[A\n",
      " 87%|████████▋ | 490/566 [03:56<00:36,  2.06it/s, loss=0.664]\u001b[A\n",
      " 87%|████████▋ | 490/566 [03:56<00:36,  2.06it/s, loss=0.607]\u001b[A\n",
      " 87%|████████▋ | 491/566 [03:56<00:36,  2.06it/s, loss=0.607]\u001b[A\n",
      " 87%|████████▋ | 491/566 [03:57<00:36,  2.06it/s, loss=0.551]\u001b[A\n",
      " 87%|████████▋ | 492/566 [03:57<00:35,  2.06it/s, loss=0.551]\u001b[A\n",
      " 87%|████████▋ | 492/566 [03:57<00:35,  2.06it/s, loss=0.56] \u001b[A\n",
      " 87%|████████▋ | 493/566 [03:57<00:35,  2.06it/s, loss=0.56]\u001b[A\n",
      " 87%|████████▋ | 493/566 [03:58<00:35,  2.06it/s, loss=0.404]\u001b[A\n",
      " 87%|████████▋ | 494/566 [03:58<00:34,  2.07it/s, loss=0.404]\u001b[A\n",
      " 87%|████████▋ | 494/566 [03:58<00:34,  2.07it/s, loss=0.705]\u001b[A\n",
      " 87%|████████▋ | 495/566 [03:58<00:34,  2.06it/s, loss=0.705]\u001b[A\n",
      " 87%|████████▋ | 495/566 [03:59<00:34,  2.06it/s, loss=0.759]\u001b[A\n",
      " 88%|████████▊ | 496/566 [03:59<00:33,  2.06it/s, loss=0.759]\u001b[A\n",
      " 88%|████████▊ | 496/566 [03:59<00:33,  2.06it/s, loss=0.278]\u001b[A\n",
      " 88%|████████▊ | 497/566 [03:59<00:33,  2.06it/s, loss=0.278]\u001b[A\n",
      " 88%|████████▊ | 497/566 [04:00<00:33,  2.06it/s, loss=0.586]\u001b[A\n",
      " 88%|████████▊ | 498/566 [04:00<00:32,  2.06it/s, loss=0.586]\u001b[A\n",
      " 88%|████████▊ | 498/566 [04:00<00:32,  2.06it/s, loss=0.821]\u001b[A\n",
      " 88%|████████▊ | 499/566 [04:00<00:32,  2.06it/s, loss=0.821]\u001b[A\n",
      " 88%|████████▊ | 499/566 [04:01<00:32,  2.06it/s, loss=0.475]\u001b[A\n",
      " 88%|████████▊ | 500/566 [04:01<00:32,  2.06it/s, loss=0.475]\u001b[A\n",
      " 88%|████████▊ | 500/566 [04:01<00:32,  2.06it/s, loss=0.727]\u001b[A\n",
      " 89%|████████▊ | 501/566 [04:01<00:31,  2.06it/s, loss=0.727]\u001b[A\n",
      " 89%|████████▊ | 501/566 [04:02<00:31,  2.06it/s, loss=0.561]\u001b[A\n",
      " 89%|████████▊ | 502/566 [04:02<00:31,  2.06it/s, loss=0.561]\u001b[A\n",
      " 89%|████████▊ | 502/566 [04:02<00:31,  2.06it/s, loss=0.286]\u001b[A\n",
      " 89%|████████▉ | 503/566 [04:02<00:30,  2.07it/s, loss=0.286]\u001b[A\n",
      " 89%|████████▉ | 503/566 [04:03<00:30,  2.07it/s, loss=0.737]\u001b[A\n",
      " 89%|████████▉ | 504/566 [04:03<00:30,  2.06it/s, loss=0.737]\u001b[A\n",
      " 89%|████████▉ | 504/566 [04:03<00:30,  2.06it/s, loss=1.28] \u001b[A\n",
      " 89%|████████▉ | 505/566 [04:03<00:29,  2.07it/s, loss=1.28]\u001b[A\n",
      " 89%|████████▉ | 505/566 [04:04<00:29,  2.07it/s, loss=0.896]\u001b[A\n",
      " 89%|████████▉ | 506/566 [04:04<00:28,  2.08it/s, loss=0.896]\u001b[A\n",
      " 89%|████████▉ | 506/566 [04:04<00:28,  2.08it/s, loss=0.424]\u001b[A\n",
      " 90%|████████▉ | 507/566 [04:04<00:28,  2.08it/s, loss=0.424]\u001b[A\n",
      " 90%|████████▉ | 507/566 [04:05<00:28,  2.08it/s, loss=0.7]  \u001b[A\n",
      " 90%|████████▉ | 508/566 [04:05<00:28,  2.07it/s, loss=0.7]\u001b[A\n",
      " 90%|████████▉ | 508/566 [04:05<00:28,  2.07it/s, loss=0.818]\u001b[A\n",
      " 90%|████████▉ | 509/566 [04:05<00:27,  2.07it/s, loss=0.818]\u001b[A\n",
      " 90%|████████▉ | 509/566 [04:06<00:27,  2.07it/s, loss=0.522]\u001b[A\n",
      " 90%|█████████ | 510/566 [04:06<00:27,  2.06it/s, loss=0.522]\u001b[A\n",
      " 90%|█████████ | 510/566 [04:06<00:27,  2.06it/s, loss=0.789]\u001b[A\n",
      " 90%|█████████ | 511/566 [04:06<00:26,  2.06it/s, loss=0.789]\u001b[A\n",
      " 90%|█████████ | 511/566 [04:07<00:26,  2.06it/s, loss=0.819]\u001b[A\n",
      " 90%|█████████ | 512/566 [04:07<00:26,  2.06it/s, loss=0.819]\u001b[A\n",
      " 90%|█████████ | 512/566 [04:07<00:26,  2.06it/s, loss=0.611]\u001b[A\n",
      " 91%|█████████ | 513/566 [04:07<00:25,  2.06it/s, loss=0.611]\u001b[A\n",
      " 91%|█████████ | 513/566 [04:08<00:25,  2.06it/s, loss=0.547]\u001b[A\n",
      " 91%|█████████ | 514/566 [04:08<00:25,  2.06it/s, loss=0.547]\u001b[A\n",
      " 91%|█████████ | 514/566 [04:08<00:25,  2.06it/s, loss=0.418]\u001b[A\n",
      " 91%|█████████ | 515/566 [04:08<00:24,  2.06it/s, loss=0.418]\u001b[A\n",
      " 91%|█████████ | 515/566 [04:08<00:24,  2.06it/s, loss=0.716]\u001b[A\n",
      " 91%|█████████ | 516/566 [04:08<00:24,  2.06it/s, loss=0.716]\u001b[A\n",
      " 91%|█████████ | 516/566 [04:09<00:24,  2.06it/s, loss=1.28] \u001b[A\n",
      " 91%|█████████▏| 517/566 [04:09<00:23,  2.06it/s, loss=1.28]\u001b[A\n",
      " 91%|█████████▏| 517/566 [04:09<00:23,  2.06it/s, loss=0.525]\u001b[A\n",
      " 92%|█████████▏| 518/566 [04:09<00:23,  2.06it/s, loss=0.525]\u001b[A\n",
      " 92%|█████████▏| 518/566 [04:10<00:23,  2.06it/s, loss=0.569]\u001b[A\n",
      " 92%|█████████▏| 519/566 [04:10<00:22,  2.07it/s, loss=0.569]\u001b[A\n",
      " 92%|█████████▏| 519/566 [04:10<00:22,  2.07it/s, loss=0.276]\u001b[A\n",
      " 92%|█████████▏| 520/566 [04:10<00:22,  2.08it/s, loss=0.276]\u001b[A\n",
      " 92%|█████████▏| 520/566 [04:11<00:22,  2.08it/s, loss=0.88] \u001b[A\n",
      " 92%|█████████▏| 521/566 [04:11<00:21,  2.08it/s, loss=0.88]\u001b[A\n",
      " 92%|█████████▏| 521/566 [04:11<00:21,  2.08it/s, loss=0.476]\u001b[A\n",
      " 92%|█████████▏| 522/566 [04:11<00:21,  2.07it/s, loss=0.476]\u001b[A\n",
      " 92%|█████████▏| 522/566 [04:12<00:21,  2.07it/s, loss=1.5]  \u001b[A\n",
      " 92%|█████████▏| 523/566 [04:12<00:20,  2.07it/s, loss=1.5]\u001b[A\n",
      " 92%|█████████▏| 523/566 [04:12<00:20,  2.07it/s, loss=0.805]\u001b[A\n",
      " 93%|█████████▎| 524/566 [04:12<00:20,  2.07it/s, loss=0.805]\u001b[A\n",
      " 93%|█████████▎| 524/566 [04:13<00:20,  2.07it/s, loss=0.412]\u001b[A\n",
      " 93%|█████████▎| 525/566 [04:13<00:19,  2.07it/s, loss=0.412]\u001b[A\n",
      " 93%|█████████▎| 525/566 [04:13<00:19,  2.07it/s, loss=0.389]\u001b[A\n",
      " 93%|█████████▎| 526/566 [04:13<00:19,  2.06it/s, loss=0.389]\u001b[A\n",
      " 93%|█████████▎| 526/566 [04:14<00:19,  2.06it/s, loss=0.347]\u001b[A\n",
      " 93%|█████████▎| 527/566 [04:14<00:18,  2.06it/s, loss=0.347]\u001b[A\n",
      " 93%|█████████▎| 527/566 [04:14<00:18,  2.06it/s, loss=0.91] \u001b[A\n",
      " 93%|█████████▎| 528/566 [04:14<00:18,  2.06it/s, loss=0.91]\u001b[A\n",
      " 93%|█████████▎| 528/566 [04:15<00:18,  2.06it/s, loss=0.674]\u001b[A\n",
      " 93%|█████████▎| 529/566 [04:15<00:18,  2.05it/s, loss=0.674]\u001b[A\n",
      " 93%|█████████▎| 529/566 [04:15<00:18,  2.05it/s, loss=0.644]\u001b[A\n",
      " 94%|█████████▎| 530/566 [04:15<00:17,  2.07it/s, loss=0.644]\u001b[A\n",
      " 94%|█████████▎| 530/566 [04:16<00:17,  2.07it/s, loss=0.524]\u001b[A\n",
      " 94%|█████████▍| 531/566 [04:16<00:17,  2.06it/s, loss=0.524]\u001b[A\n",
      " 94%|█████████▍| 531/566 [04:16<00:17,  2.06it/s, loss=0.886]\u001b[A\n",
      " 94%|█████████▍| 532/566 [04:16<00:16,  2.07it/s, loss=0.886]\u001b[A\n",
      " 94%|█████████▍| 532/566 [04:17<00:16,  2.07it/s, loss=0.406]\u001b[A\n",
      " 94%|█████████▍| 533/566 [04:17<00:15,  2.08it/s, loss=0.406]\u001b[A\n",
      " 94%|█████████▍| 533/566 [04:17<00:15,  2.08it/s, loss=0.841]\u001b[A\n",
      " 94%|█████████▍| 534/566 [04:17<00:15,  2.08it/s, loss=0.841]\u001b[A\n",
      " 94%|█████████▍| 534/566 [04:18<00:15,  2.08it/s, loss=1.08] \u001b[A\n",
      " 95%|█████████▍| 535/566 [04:18<00:14,  2.07it/s, loss=1.08]\u001b[A\n",
      " 95%|█████████▍| 535/566 [04:18<00:14,  2.07it/s, loss=0.439]\u001b[A\n",
      " 95%|█████████▍| 536/566 [04:18<00:14,  2.07it/s, loss=0.439]\u001b[A\n",
      " 95%|█████████▍| 536/566 [04:19<00:14,  2.07it/s, loss=0.827]\u001b[A\n",
      " 95%|█████████▍| 537/566 [04:19<00:14,  2.07it/s, loss=0.827]\u001b[A\n",
      " 95%|█████████▍| 537/566 [04:19<00:14,  2.07it/s, loss=0.39] \u001b[A\n",
      " 95%|█████████▌| 538/566 [04:19<00:13,  2.06it/s, loss=0.39]\u001b[A\n",
      " 95%|█████████▌| 538/566 [04:20<00:13,  2.06it/s, loss=0.485]\u001b[A\n",
      " 95%|█████████▌| 539/566 [04:20<00:13,  2.07it/s, loss=0.485]\u001b[A\n",
      " 95%|█████████▌| 539/566 [04:20<00:13,  2.07it/s, loss=0.211]\u001b[A\n",
      " 95%|█████████▌| 540/566 [04:20<00:12,  2.07it/s, loss=0.211]\u001b[A\n",
      " 95%|█████████▌| 540/566 [04:21<00:12,  2.07it/s, loss=0.754]\u001b[A\n",
      " 96%|█████████▌| 541/566 [04:21<00:12,  2.07it/s, loss=0.754]\u001b[A\n",
      " 96%|█████████▌| 541/566 [04:21<00:12,  2.07it/s, loss=0.537]\u001b[A\n",
      " 96%|█████████▌| 542/566 [04:21<00:11,  2.06it/s, loss=0.537]\u001b[A\n",
      " 96%|█████████▌| 542/566 [04:22<00:11,  2.06it/s, loss=0.56] \u001b[A\n",
      " 96%|█████████▌| 543/566 [04:22<00:11,  2.06it/s, loss=0.56]\u001b[A\n",
      " 96%|█████████▌| 543/566 [04:22<00:11,  2.06it/s, loss=0.56]\u001b[A\n",
      " 96%|█████████▌| 544/566 [04:22<00:10,  2.06it/s, loss=0.56]\u001b[A\n",
      " 96%|█████████▌| 544/566 [04:23<00:10,  2.06it/s, loss=0.53]\u001b[A\n",
      " 96%|█████████▋| 545/566 [04:23<00:10,  2.07it/s, loss=0.53]\u001b[A\n",
      " 96%|█████████▋| 545/566 [04:23<00:10,  2.07it/s, loss=0.578]\u001b[A\n",
      " 96%|█████████▋| 546/566 [04:23<00:09,  2.08it/s, loss=0.578]\u001b[A\n",
      " 96%|█████████▋| 546/566 [04:23<00:09,  2.08it/s, loss=0.531]\u001b[A\n",
      " 97%|█████████▋| 547/566 [04:23<00:09,  2.07it/s, loss=0.531]\u001b[A\n",
      " 97%|█████████▋| 547/566 [04:24<00:09,  2.07it/s, loss=0.665]\u001b[A\n",
      " 97%|█████████▋| 548/566 [04:24<00:08,  2.07it/s, loss=0.665]\u001b[A\n",
      " 97%|█████████▋| 548/566 [04:24<00:08,  2.07it/s, loss=0.848]\u001b[A\n",
      " 97%|█████████▋| 549/566 [04:24<00:08,  2.07it/s, loss=0.848]\u001b[A\n",
      " 97%|█████████▋| 549/566 [04:25<00:08,  2.07it/s, loss=0.912]\u001b[A\n",
      " 97%|█████████▋| 550/566 [04:25<00:07,  2.07it/s, loss=0.912]\u001b[A\n",
      " 97%|█████████▋| 550/566 [04:25<00:07,  2.07it/s, loss=0.38] \u001b[A\n",
      " 97%|█████████▋| 551/566 [04:25<00:07,  2.07it/s, loss=0.38]\u001b[A\n",
      " 97%|█████████▋| 551/566 [04:26<00:07,  2.07it/s, loss=0.804]\u001b[A\n",
      " 98%|█████████▊| 552/566 [04:26<00:06,  2.06it/s, loss=0.804]\u001b[A\n",
      " 98%|█████████▊| 552/566 [04:26<00:06,  2.06it/s, loss=0.515]\u001b[A\n",
      " 98%|█████████▊| 553/566 [04:26<00:06,  2.07it/s, loss=0.515]\u001b[A\n",
      " 98%|█████████▊| 553/566 [04:27<00:06,  2.07it/s, loss=0.339]\u001b[A\n",
      " 98%|█████████▊| 554/566 [04:27<00:05,  2.06it/s, loss=0.339]\u001b[A\n",
      " 98%|█████████▊| 554/566 [04:27<00:05,  2.06it/s, loss=0.73] \u001b[A\n",
      " 98%|█████████▊| 555/566 [04:27<00:05,  2.05it/s, loss=0.73]\u001b[A\n",
      " 98%|█████████▊| 555/566 [04:28<00:05,  2.05it/s, loss=0.317]\u001b[A\n",
      " 98%|█████████▊| 556/566 [04:28<00:04,  2.06it/s, loss=0.317]\u001b[A\n",
      " 98%|█████████▊| 556/566 [04:28<00:04,  2.06it/s, loss=0.465]\u001b[A\n",
      " 98%|█████████▊| 557/566 [04:28<00:04,  2.06it/s, loss=0.465]\u001b[A\n",
      " 98%|█████████▊| 557/566 [04:29<00:04,  2.06it/s, loss=1.02] \u001b[A\n",
      " 99%|█████████▊| 558/566 [04:29<00:03,  2.05it/s, loss=1.02]\u001b[A\n",
      " 99%|█████████▊| 558/566 [04:29<00:03,  2.05it/s, loss=0.649]\u001b[A\n",
      " 99%|█████████▉| 559/566 [04:29<00:03,  2.05it/s, loss=0.649]\u001b[A\n",
      " 99%|█████████▉| 559/566 [04:30<00:03,  2.05it/s, loss=0.443]\u001b[A\n",
      " 99%|█████████▉| 560/566 [04:30<00:02,  2.06it/s, loss=0.443]\u001b[A\n",
      " 99%|█████████▉| 560/566 [04:30<00:02,  2.06it/s, loss=0.921]\u001b[A\n",
      " 99%|█████████▉| 561/566 [04:30<00:02,  2.07it/s, loss=0.921]\u001b[A\n",
      " 99%|█████████▉| 561/566 [04:31<00:02,  2.07it/s, loss=0.561]\u001b[A\n",
      " 99%|█████████▉| 562/566 [04:31<00:01,  2.07it/s, loss=0.561]\u001b[A\n",
      " 99%|█████████▉| 562/566 [04:31<00:01,  2.07it/s, loss=0.571]\u001b[A\n",
      " 99%|█████████▉| 563/566 [04:31<00:01,  2.06it/s, loss=0.571]\u001b[A\n",
      " 99%|█████████▉| 563/566 [04:32<00:01,  2.06it/s, loss=0.961]\u001b[A\n",
      "100%|█████████▉| 564/566 [04:32<00:00,  2.05it/s, loss=0.961]\u001b[A\n",
      "100%|█████████▉| 564/566 [04:32<00:00,  2.05it/s, loss=0.632]\u001b[A\n",
      "100%|█████████▉| 565/566 [04:32<00:00,  2.06it/s, loss=0.632]\u001b[A\n",
      "100%|█████████▉| 565/566 [04:32<00:00,  2.06it/s, loss=0.131]\u001b[A\n",
      "100%|██████████| 566/566 [04:32<00:00,  2.07it/s, loss=0.131]\n"
     ]
    },
    {
     "metadata": {
      "tags": null
     },
     "name": "stdout",
     "output_type": "stream",
     "text": [
      "\n",
      "Epoch 2\n"
     ]
    },
    {
     "metadata": {
      "tags": null
     },
     "name": "stderr",
     "output_type": "stream",
     "text": [
      "100%|██████████| 566/566 [04:32<00:00,  2.08it/s, loss=0.561]\n"
     ]
    },
    {
     "metadata": {
      "tags": null
     },
     "name": "stdout",
     "output_type": "stream",
     "text": [
      "\n",
      "Epoch 3\n"
     ]
    },
    {
     "metadata": {
      "tags": null
     },
     "name": "stderr",
     "output_type": "stream",
     "text": [
      "100%|██████████| 566/566 [04:32<00:00,  2.08it/s, loss=0.0178]\n"
     ]
    },
    {
     "metadata": {
      "tags": null
     },
     "name": "stdout",
     "output_type": "stream",
     "text": [
      "\n",
      "Epoch 4\n"
     ]
    },
    {
     "metadata": {
      "tags": null
     },
     "name": "stderr",
     "output_type": "stream",
     "text": [
      "100%|██████████| 566/566 [04:32<00:00,  2.08it/s, loss=2.23]\n"
     ]
    },
    {
     "metadata": {
      "tags": null
     },
     "name": "stdout",
     "output_type": "stream",
     "text": [
      "\n",
      "Epoch 5\n"
     ]
    },
    {
     "metadata": {
      "tags": null
     },
     "name": "stderr",
     "output_type": "stream",
     "text": [
      "100%|██████████| 566/566 [04:32<00:00,  2.08it/s, loss=0.011]\n"
     ]
    },
    {
     "metadata": {
      "tags": null
     },
     "name": "stdout",
     "output_type": "stream",
     "text": [
      "\n",
      "Epoch 6\n"
     ]
    },
    {
     "metadata": {
      "tags": null
     },
     "name": "stderr",
     "output_type": "stream",
     "text": [
      "100%|██████████| 566/566 [04:32<00:00,  2.08it/s, loss=3.01]\n"
     ]
    },
    {
     "metadata": {
      "tags": null
     },
     "name": "stdout",
     "output_type": "stream",
     "text": [
      "\n",
      "Epoch 7\n"
     ]
    },
    {
     "metadata": {
      "tags": null
     },
     "name": "stderr",
     "output_type": "stream",
     "text": [
      "100%|██████████| 566/566 [04:32<00:00,  2.08it/s, loss=0.28]\n"
     ]
    },
    {
     "metadata": {
      "tags": null
     },
     "name": "stdout",
     "output_type": "stream",
     "text": [
      "\n",
      "Epoch 8\n"
     ]
    },
    {
     "name": "stderr",
     "output_type": "stream",
     "text": [
      "100%|██████████| 566/566 [04:32<00:00,  2.08it/s, loss=0.00815]\n"
     ]
    },
    {
     "name": "stdout",
     "output_type": "stream",
     "text": [
      "\n",
      "Validation: {'accuracy': 0.7532338308457711, 'precision': 0.7572237429541271, 'recall': 0.7532338308457711, 'f1': 0.751809190038524}\n",
      "Test: {'accuracy': 0.7452229299363057, 'precision': 0.7546749292638254, 'recall': 0.7452229299363057, 'f1': 0.7436910163360136}\n"
     ]
    }
   ],
   "source": [
    "# 📦 Install dependencies (only needed if running on Colab)\n",
    "!pip install -q transformers datasets nltk\n",
    "\n",
    "# 🔧 Imports\n",
    "import pandas as pd, re, nltk, torch\n",
    "from datasets import Dataset\n",
    "from transformers import DebertaV2Tokenizer, DebertaV2ForSequenceClassification\n",
    "from torch.utils.data import DataLoader\n",
    "from torch.optim import AdamW\n",
    "from sklearn.model_selection import train_test_split\n",
    "from sklearn.metrics import accuracy_score, precision_recall_fscore_support\n",
    "from tqdm import tqdm\n",
    "nltk.download(\"stopwords\")\n",
    "from nltk.corpus import stopwords\n",
    "\n",
    "# ⚙️ Device config\n",
    "device = torch.device(\"cuda\" if torch.cuda.is_available() else \"cpu\")\n",
    "print(\"Device:\", device)\n",
    "\n",
    "# 📂 Load your dataset\n",
    "df = pd.read_csv(\"/content/apple_samsung_yelp_sentiment.csv\", quotechar='\"', engine=\"python\", on_bad_lines='skip')\n",
    "df = df.rename(columns={\"review_text\": \"text\", \"sentiment\": \"label\"})\n",
    "\n",
    "# ✨ Clean text\n",
    "stop_words = set(stopwords.words(\"english\"))\n",
    "def clean_text(text):\n",
    "    text = str(text).lower()\n",
    "    text = re.sub(r\"[^a-z\\s]\", \" \", text)\n",
    "    text = re.sub(r\"\\s+\", \" \", text).strip()\n",
    "    return \" \".join([w for w in text.split() if w not in stop_words])\n",
    "\n",
    "df[\"cleaned\"] = df[\"text\"].apply(clean_text)\n",
    "df[\"label\"] = df[\"label\"].map({-1: 0, 0: 1, 1: 2})\n",
    "\n",
    "# 🔀 Split data\n",
    "train_df, test_df = train_test_split(df, test_size=0.2, stratify=df[\"label\"], random_state=42)\n",
    "train_df, val_df = train_test_split(train_df, test_size=0.1, stratify=train_df[\"label\"], random_state=42)\n",
    "\n",
    "# 🤗 Convert to HuggingFace Datasets\n",
    "def to_dataset(d): return Dataset.from_pandas(d[[\"cleaned\", \"label\"]], preserve_index=False)\n",
    "train_ds, val_ds, test_ds = map(to_dataset, [train_df, val_df, test_df])\n",
    "\n",
    "# 🧠 Tokenize\n",
    "tokenizer = DebertaV2Tokenizer.from_pretrained(\"microsoft/deberta-v3-base\")\n",
    "def tokenize_fn(ex): return tokenizer(ex[\"cleaned\"], padding=\"max_length\", truncation=True, max_length=128)\n",
    "\n",
    "train_ds = train_ds.map(tokenize_fn, batched=True).rename_column(\"label\", \"labels\").remove_columns([\"cleaned\"]).with_format(\"torch\")\n",
    "val_ds   = val_ds.map(tokenize_fn, batched=True).rename_column(\"label\", \"labels\").remove_columns([\"cleaned\"]).with_format(\"torch\")\n",
    "test_ds  = test_ds.map(tokenize_fn, batched=True).rename_column(\"label\", \"labels\").remove_columns([\"cleaned\"]).with_format(\"torch\")\n",
    "\n",
    "# 📊 Model & Dataloaders\n",
    "model = DebertaV2ForSequenceClassification.from_pretrained(\"microsoft/deberta-v3-base\", num_labels=3).to(device)\n",
    "train_loader = DataLoader(train_ds, batch_size=16, shuffle=True)\n",
    "val_loader   = DataLoader(val_ds, batch_size=16)\n",
    "test_loader  = DataLoader(test_ds, batch_size=16)\n",
    "\n",
    "# 🔧 Optimizer\n",
    "optimizer = AdamW(model.parameters(), lr=2e-5)\n",
    "\n",
    "# 🎯 Train\n",
    "for epoch in range(8):\n",
    "    print(f\"\\nEpoch {epoch + 1}\")\n",
    "    model.train()\n",
    "    loop = tqdm(train_loader)\n",
    "    for batch in loop:\n",
    "        batch = {k: v.to(device) for k, v in batch.items()}\n",
    "        outputs = model(**batch)\n",
    "        loss = outputs.loss\n",
    "        loss.backward()\n",
    "        torch.nn.utils.clip_grad_norm_(model.parameters(), 1.0)\n",
    "        optimizer.step()\n",
    "        optimizer.zero_grad()\n",
    "        loop.set_postfix(loss=loss.item())\n",
    "\n",
    "# 📈 Evaluate\n",
    "def evaluate(loader):\n",
    "    model.eval()\n",
    "    preds, labels = [], []\n",
    "    with torch.no_grad():\n",
    "        for batch in loader:\n",
    "            batch = {k: v.to(device) for k, v in batch.items()}\n",
    "            out = model(**batch)\n",
    "            pred = torch.argmax(out.logits, dim=-1)\n",
    "            preds += pred.cpu().tolist()\n",
    "            labels += batch[\"labels\"].cpu().tolist()\n",
    "    p, r, f, _ = precision_recall_fscore_support(labels, preds, average=\"weighted\")\n",
    "    acc = accuracy_score(labels, preds)\n",
    "    return {\"accuracy\": acc, \"precision\": p, \"recall\": r, \"f1\": f}\n",
    "\n",
    "print(\"\\nValidation:\", evaluate(val_loader))\n",
    "print(\"Test:\", evaluate(test_loader))\n"
   ]
  },
  {
   "cell_type": "code",
   "execution_count": 1,
   "metadata": {
    "colab": {
     "base_uri": "https://localhost:8080/"
    },
    "id": "I5DPM5A1U30F",
    "outputId": "d7b042ee-3138-4c7a-e870-b263c5131cca"
   },
   "outputs": [
    {
     "name": "stdout",
     "output_type": "stream",
     "text": [
      "\u001b[?25l   \u001b[90m━━━━━━━━━━━━━━━━━━━━━━━━━━━━━━━━━━━━━━━━\u001b[0m \u001b[32m0.0/491.2 kB\u001b[0m \u001b[31m?\u001b[0m eta \u001b[36m-:--:--\u001b[0m\r",
      "\u001b[2K   \u001b[90m━━━━━━━━━━━━━━━━━━━━━━━━━━━━━━━━━━━━━━━━\u001b[0m \u001b[32m491.2/491.2 kB\u001b[0m \u001b[31m15.6 MB/s\u001b[0m eta \u001b[36m0:00:00\u001b[0m\n",
      "\u001b[?25h\u001b[?25l   \u001b[90m━━━━━━━━━━━━━━━━━━━━━━━━━━━━━━━━━━━━━━━━\u001b[0m \u001b[32m0.0/116.3 kB\u001b[0m \u001b[31m?\u001b[0m eta \u001b[36m-:--:--\u001b[0m\r",
      "\u001b[2K   \u001b[90m━━━━━━━━━━━━━━━━━━━━━━━━━━━━━━━━━━━━━━━━\u001b[0m \u001b[32m116.3/116.3 kB\u001b[0m \u001b[31m8.7 MB/s\u001b[0m eta \u001b[36m0:00:00\u001b[0m\n",
      "\u001b[?25h\u001b[?25l   \u001b[90m━━━━━━━━━━━━━━━━━━━━━━━━━━━━━━━━━━━━━━━━\u001b[0m \u001b[32m0.0/183.9 kB\u001b[0m \u001b[31m?\u001b[0m eta \u001b[36m-:--:--\u001b[0m\r",
      "\u001b[2K   \u001b[90m━━━━━━━━━━━━━━━━━━━━━━━━━━━━━━━━━━━━━━━━\u001b[0m \u001b[32m183.9/183.9 kB\u001b[0m \u001b[31m13.3 MB/s\u001b[0m eta \u001b[36m0:00:00\u001b[0m\n",
      "\u001b[?25h\u001b[?25l   \u001b[90m━━━━━━━━━━━━━━━━━━━━━━━━━━━━━━━━━━━━━━━━\u001b[0m \u001b[32m0.0/143.5 kB\u001b[0m \u001b[31m?\u001b[0m eta \u001b[36m-:--:--\u001b[0m\r",
      "\u001b[2K   \u001b[90m━━━━━━━━━━━━━━━━━━━━━━━━━━━━━━━━━━━━━━━━\u001b[0m \u001b[32m143.5/143.5 kB\u001b[0m \u001b[31m10.5 MB/s\u001b[0m eta \u001b[36m0:00:00\u001b[0m\n",
      "\u001b[?25h\u001b[?25l   \u001b[90m━━━━━━━━━━━━━━━━━━━━━━━━━━━━━━━━━━━━━━━━\u001b[0m \u001b[32m0.0/194.8 kB\u001b[0m \u001b[31m?\u001b[0m eta \u001b[36m-:--:--\u001b[0m\r",
      "\u001b[2K   \u001b[90m━━━━━━━━━━━━━━━━━━━━━━━━━━━━━━━━━━━━━━━━\u001b[0m \u001b[32m194.8/194.8 kB\u001b[0m \u001b[31m12.2 MB/s\u001b[0m eta \u001b[36m0:00:00\u001b[0m\n",
      "\u001b[?25h\u001b[31mERROR: pip's dependency resolver does not currently take into account all the packages that are installed. This behaviour is the source of the following dependency conflicts.\n",
      "torch 2.6.0+cu124 requires nvidia-cublas-cu12==12.4.5.8; platform_system == \"Linux\" and platform_machine == \"x86_64\", but you have nvidia-cublas-cu12 12.5.3.2 which is incompatible.\n",
      "torch 2.6.0+cu124 requires nvidia-cuda-cupti-cu12==12.4.127; platform_system == \"Linux\" and platform_machine == \"x86_64\", but you have nvidia-cuda-cupti-cu12 12.5.82 which is incompatible.\n",
      "torch 2.6.0+cu124 requires nvidia-cuda-nvrtc-cu12==12.4.127; platform_system == \"Linux\" and platform_machine == \"x86_64\", but you have nvidia-cuda-nvrtc-cu12 12.5.82 which is incompatible.\n",
      "torch 2.6.0+cu124 requires nvidia-cuda-runtime-cu12==12.4.127; platform_system == \"Linux\" and platform_machine == \"x86_64\", but you have nvidia-cuda-runtime-cu12 12.5.82 which is incompatible.\n",
      "torch 2.6.0+cu124 requires nvidia-cudnn-cu12==9.1.0.70; platform_system == \"Linux\" and platform_machine == \"x86_64\", but you have nvidia-cudnn-cu12 9.3.0.75 which is incompatible.\n",
      "torch 2.6.0+cu124 requires nvidia-cufft-cu12==11.2.1.3; platform_system == \"Linux\" and platform_machine == \"x86_64\", but you have nvidia-cufft-cu12 11.2.3.61 which is incompatible.\n",
      "torch 2.6.0+cu124 requires nvidia-curand-cu12==10.3.5.147; platform_system == \"Linux\" and platform_machine == \"x86_64\", but you have nvidia-curand-cu12 10.3.6.82 which is incompatible.\n",
      "torch 2.6.0+cu124 requires nvidia-cusolver-cu12==11.6.1.9; platform_system == \"Linux\" and platform_machine == \"x86_64\", but you have nvidia-cusolver-cu12 11.6.3.83 which is incompatible.\n",
      "torch 2.6.0+cu124 requires nvidia-cusparse-cu12==12.3.1.170; platform_system == \"Linux\" and platform_machine == \"x86_64\", but you have nvidia-cusparse-cu12 12.5.1.3 which is incompatible.\n",
      "torch 2.6.0+cu124 requires nvidia-nvjitlink-cu12==12.4.127; platform_system == \"Linux\" and platform_machine == \"x86_64\", but you have nvidia-nvjitlink-cu12 12.5.82 which is incompatible.\n",
      "gcsfs 2025.3.0 requires fsspec==2025.3.0, but you have fsspec 2024.12.0 which is incompatible.\u001b[0m\u001b[31m\n",
      "\u001b[0m"
     ]
    }
   ],
   "source": [
    "!pip install -q transformers datasets nltk scikit-learn\n"
   ]
  },
  {
   "cell_type": "code",
   "execution_count": null,
   "metadata": {
    "id": "WW8elab20kQT"
   },
   "outputs": [],
   "source": []
  },
  {
   "cell_type": "code",
   "execution_count": 3,
   "metadata": {
    "colab": {
     "base_uri": "https://localhost:8080/",
     "height": 1000,
     "referenced_widgets": [
      "2a6cafc27cb7429cadc5aa00a0d3957e",
      "943ede5bf4724d0ba46dbc7213f23c2d",
      "6e27bc27da754ae8a27fdc2a32e461c3",
      "7a13a72a47174aecbe0abc4998966b7a",
      "077c0beb758643fa9232677b1f2d1f60",
      "16f5912934e342a8b2b0c11d5084d239",
      "0c97da9ef5de4dea8d37cc7a17666b4f",
      "28af22da83f44091b28044cf088f2061",
      "b7038e1935b746aca6779b155e9e8b0b",
      "737082fb4cc1498cab488d846551e187",
      "66b8e314836b4f79b4e50cca779619e9",
      "db87adfdb225476eb35170593572150b",
      "928c93ae95f841e0b8a1bfed001c835f",
      "c31aa636f30f4f72b27fc48b23768650",
      "fa5bdfc1bc1f4345a01914475a6c1082",
      "d76b5c1fc6d34bbe82f7bc83fcd9d53b",
      "2f45d6ee3462454cac53a9b2b1bb6388",
      "5441a6e92440420ca1286152962adcb8",
      "d37f35e0f93d4fb1a662bfad21d2de70",
      "232424620de747b097c3bcc798847ce0",
      "93c32c6804a846f495b5ead570fb0d59",
      "778bdf487c1b47b198f280d5fe89090b",
      "9d31052b1df74a72bb9e66c2730b836c",
      "7b56ae4351c5400e92f4690c20e9250f",
      "85812525cc8544cab77411bdb9361bec",
      "ac5f8d4c28074544a2dcb0192934f620",
      "d094fbd8dc9f40ac913ec8c859d0783f",
      "b0e02c5878184b65abbf37cfb9146465",
      "cb16e1013f46495988e2232980df6bf1",
      "9010baf9eb4442ff8b406e7b0e56e89a",
      "9f593a86c2dd428f806e1c94b167ac88",
      "b76afda74dd040db841e7cfeb37a0be7",
      "11a14784bc6541428c9f60e586177845",
      "2fd2cce4579544f0967936f15697c104",
      "bf89cbf3490a4ee09e271b562be39fa4",
      "12d3bd246e0d495eb92c9a20ef0a68db",
      "2f771d44059e42d8bef50a4dfe8ccd4d",
      "e5e2feb11639403b9dbfb9ccb42ff1fb",
      "039dd70345f64196bd4459030e687372",
      "ac61f466819c42c0b56e0bbc37d25549",
      "2a8670a142804ed4bf6d90379ca2c087",
      "d6c16370c860432abe3c5602bcdb8ebb",
      "5ce178bdf5794d29adcf76b3f5fa3862",
      "7f7099833de14694b026451a527f879c",
      "6f116bae87534bf2a21407a157ba771a",
      "90e5e00f1062494ab22640507a5e01f5",
      "835d6998d4be4c618a802d4dec3fe752",
      "d97c5ff183254b2e88b29b17df6d40ae",
      "083f01fc78d94a879104c34f73fa3489",
      "9098f4b7c01c4672b76cb0b1933c823f",
      "e99c67402e254e109665c2cc9a55dae7",
      "17d9fc7e7c294a76b04e516c35206d93",
      "7cd30976e09c4d13a8fe1ab6bd21ab42",
      "ae81069c43b04be9a9e0537e267263c9",
      "dff21c728c5b45e9bca47f7bd8bfc820",
      "d88cd5b4bc7e4665aa98555db4fc4832",
      "19f0a83023844a749167903c3733d9c0",
      "2dc961c3e585400489c006c3dd475150",
      "abddb234383d4ff5887e2eeb131c71f7",
      "d53bd362a9234da288e0ca53650eac23",
      "646ab096bb5540a3a47d5301356bd5b5",
      "dc67b2af2680402bb764604f834a9381",
      "1028645f824f4fc2befffa5d6085182f",
      "bef7ee827a4b4435922e5c8b13930ccd",
      "18de9670d7414cc595025f93421dde7a",
      "f529aa494f044e62b1aceac7f42c7952",
      "8a55e80ec1a2463ba0118cec38715379",
      "e5231a23b88f4e29a46253030c2ff7d7",
      "054d5f2d6de84bb3852a4dc8a8c99616",
      "2ed22e17ec83442d9fd40844884cbfc7",
      "bb6f8795c1644a02850958585faa165f",
      "c81533e22b614d4a87d48300092cb156",
      "54c85bd371524f61b19bcb13ac6bf74e",
      "44d67357b004475fb13c6b19a650a5d3",
      "adeed70d8234484594f8ad7929ba0787",
      "8065370d41414604b09b539684926c93",
      "af6d1412c8ae4fb789c3d4ae0df0a8d8",
      "608cf4c921e74ed9be671bbf665406e2",
      "efd0f615017f409eada53cd85f2d6843",
      "6a58a18ce0a844e8bdc0d47dcfb7f7a4",
      "1c290c12873743468ab943e9643d7d05",
      "6ef2f3240610498b9fcf29b9af199dc6",
      "1390ec7872f94e559982520a296bb87e",
      "c41f4d48d1fa4b5590239143c04274bd",
      "9cb6ed64d66b4711961039691ec0ae30",
      "448a3974102e48ec98dedd96a213ff75",
      "d39391c2d3ec45b4b92c1c031ff644b9",
      "5b90bbee74ec4dcbbb7d1a026ded3924"
     ]
    },
    "id": "Pls6TeHkU1Z5",
    "outputId": "f5e66c46-fbe9-4636-a8e4-9cffe6901f2f"
   },
   "outputs": [
    {
     "metadata": {
      "tags": null
     },
     "name": "stderr",
     "output_type": "stream",
     "text": [
      "[nltk_data] Downloading package stopwords to /root/nltk_data...\n",
      "[nltk_data]   Package stopwords is already up-to-date!\n"
     ]
    },
    {
     "metadata": {
      "tags": null
     },
     "name": "stdout",
     "output_type": "stream",
     "text": [
      "Device: cuda\n"
     ]
    },
    {
     "metadata": {
      "tags": null
     },
     "name": "stderr",
     "output_type": "stream",
     "text": [
      "/usr/local/lib/python3.11/dist-packages/huggingface_hub/utils/_auth.py:94: UserWarning: \n",
      "The secret `HF_TOKEN` does not exist in your Colab secrets.\n",
      "To authenticate with the Hugging Face Hub, create a token in your settings tab (https://huggingface.co/settings/tokens), set it as secret in your Google Colab and restart your session.\n",
      "You will be able to reuse this secret in all of your notebooks.\n",
      "Please note that authentication is recommended but still optional to access public models or datasets.\n",
      "  warnings.warn(\n"
     ]
    },
    {
     "data": {
      "application/vnd.jupyter.widget-view+json": {
       "model_id": "2a6cafc27cb7429cadc5aa00a0d3957e",
       "version_major": 2,
       "version_minor": 0
      },
      "text/plain": [
       "tokenizer_config.json:   0%|          | 0.00/52.0 [00:00<?, ?B/s]"
      ]
     },
     "metadata": {},
     "output_type": "display_data"
    },
    {
     "data": {
      "application/vnd.jupyter.widget-view+json": {
       "model_id": "db87adfdb225476eb35170593572150b",
       "version_major": 2,
       "version_minor": 0
      },
      "text/plain": [
       "spm.model:   0%|          | 0.00/2.46M [00:00<?, ?B/s]"
      ]
     },
     "metadata": {},
     "output_type": "display_data"
    },
    {
     "data": {
      "application/vnd.jupyter.widget-view+json": {
       "model_id": "9d31052b1df74a72bb9e66c2730b836c",
       "version_major": 2,
       "version_minor": 0
      },
      "text/plain": [
       "config.json:   0%|          | 0.00/579 [00:00<?, ?B/s]"
      ]
     },
     "metadata": {},
     "output_type": "display_data"
    },
    {
     "data": {
      "application/vnd.jupyter.widget-view+json": {
       "model_id": "2fd2cce4579544f0967936f15697c104",
       "version_major": 2,
       "version_minor": 0
      },
      "text/plain": [
       "Map:   0%|          | 0/9042 [00:00<?, ? examples/s]"
      ]
     },
     "metadata": {},
     "output_type": "display_data"
    },
    {
     "data": {
      "application/vnd.jupyter.widget-view+json": {
       "model_id": "6f116bae87534bf2a21407a157ba771a",
       "version_major": 2,
       "version_minor": 0
      },
      "text/plain": [
       "Map:   0%|          | 0/1005 [00:00<?, ? examples/s]"
      ]
     },
     "metadata": {},
     "output_type": "display_data"
    },
    {
     "data": {
      "application/vnd.jupyter.widget-view+json": {
       "model_id": "d88cd5b4bc7e4665aa98555db4fc4832",
       "version_major": 2,
       "version_minor": 0
      },
      "text/plain": [
       "Map:   0%|          | 0/2512 [00:00<?, ? examples/s]"
      ]
     },
     "metadata": {},
     "output_type": "display_data"
    },
    {
     "data": {
      "application/vnd.jupyter.widget-view+json": {
       "model_id": "8a55e80ec1a2463ba0118cec38715379",
       "version_major": 2,
       "version_minor": 0
      },
      "text/plain": [
       "pytorch_model.bin:   0%|          | 0.00/371M [00:00<?, ?B/s]"
      ]
     },
     "metadata": {},
     "output_type": "display_data"
    },
    {
     "metadata": {
      "tags": null
     },
     "name": "stderr",
     "output_type": "stream",
     "text": [
      "Some weights of DebertaV2ForSequenceClassification were not initialized from the model checkpoint at microsoft/deberta-v3-base and are newly initialized: ['classifier.bias', 'classifier.weight', 'pooler.dense.bias', 'pooler.dense.weight']\n",
      "You should probably TRAIN this model on a down-stream task to be able to use it for predictions and inference.\n"
     ]
    },
    {
     "data": {
      "application/vnd.jupyter.widget-view+json": {
       "model_id": "608cf4c921e74ed9be671bbf665406e2",
       "version_major": 2,
       "version_minor": 0
      },
      "text/plain": [
       "model.safetensors:   0%|          | 0.00/371M [00:00<?, ?B/s]"
      ]
     },
     "metadata": {},
     "output_type": "display_data"
    },
    {
     "metadata": {
      "tags": null
     },
     "name": "stdout",
     "output_type": "stream",
     "text": [
      "\n",
      "Epoch 1\n"
     ]
    },
    {
     "metadata": {
      "tags": null
     },
     "name": "stderr",
     "output_type": "stream",
     "text": [
      "\n",
      "  0%|          | 0/566 [00:00<?, ?it/s]\u001b[A\n",
      "  0%|          | 1/566 [00:02<25:32,  2.71s/it]\u001b[A\n",
      "  0%|          | 2/566 [00:03<15:06,  1.61s/it]\u001b[A\n",
      "  1%|          | 3/566 [00:03<09:59,  1.06s/it]\u001b[A\n",
      "  1%|          | 4/566 [00:04<07:36,  1.23it/s]\u001b[A\n",
      "  1%|          | 5/566 [00:04<06:16,  1.49it/s]\u001b[A\n",
      "  1%|          | 6/566 [00:05<05:29,  1.70it/s]\u001b[A\n",
      "  1%|          | 7/566 [00:05<04:57,  1.88it/s]\u001b[A\n",
      "  1%|▏         | 8/566 [00:06<04:39,  1.99it/s]\u001b[A\n",
      "  2%|▏         | 9/566 [00:06<04:26,  2.09it/s]\u001b[A\n",
      "  2%|▏         | 10/566 [00:06<04:15,  2.17it/s]\u001b[A\n",
      "  2%|▏         | 11/566 [00:07<04:09,  2.22it/s]\u001b[A\n",
      "  2%|▏         | 12/566 [00:07<04:04,  2.27it/s]\u001b[A\n",
      "  2%|▏         | 13/566 [00:08<04:00,  2.30it/s]\u001b[A\n",
      "  2%|▏         | 14/566 [00:08<03:58,  2.32it/s]\u001b[A\n",
      "  3%|▎         | 15/566 [00:09<03:57,  2.32it/s]\u001b[A\n",
      "  3%|▎         | 16/566 [00:09<03:55,  2.33it/s]\u001b[A\n",
      "  3%|▎         | 17/566 [00:09<03:54,  2.34it/s]\u001b[A\n",
      "  3%|▎         | 18/566 [00:10<03:53,  2.35it/s]\u001b[A\n",
      "  3%|▎         | 19/566 [00:10<03:53,  2.34it/s]\u001b[A\n",
      "  4%|▎         | 20/566 [00:11<03:52,  2.35it/s]\u001b[A\n",
      "  4%|▎         | 21/566 [00:11<03:52,  2.35it/s]\u001b[A\n",
      "  4%|▍         | 22/566 [00:12<03:51,  2.35it/s]\u001b[A\n",
      "  4%|▍         | 23/566 [00:12<03:51,  2.34it/s]\u001b[A\n",
      "  4%|▍         | 24/566 [00:12<03:50,  2.35it/s]\u001b[A\n",
      "  4%|▍         | 25/566 [00:13<03:50,  2.35it/s]\u001b[A\n",
      "  5%|▍         | 26/566 [00:13<03:50,  2.34it/s]\u001b[A\n",
      "  5%|▍         | 27/566 [00:14<03:50,  2.34it/s]\u001b[A\n",
      "  5%|▍         | 28/566 [00:14<03:49,  2.35it/s]\u001b[A\n",
      "  5%|▌         | 29/566 [00:15<03:49,  2.34it/s]\u001b[A\n",
      "  5%|▌         | 30/566 [00:15<03:48,  2.34it/s]\u001b[A\n",
      "  5%|▌         | 31/566 [00:15<03:48,  2.34it/s]\u001b[A\n",
      "  6%|▌         | 32/566 [00:16<03:48,  2.34it/s]\u001b[A\n",
      "  6%|▌         | 33/566 [00:16<03:47,  2.34it/s]\u001b[A\n",
      "  6%|▌         | 34/566 [00:17<03:46,  2.35it/s]\u001b[A\n",
      "  6%|▌         | 35/566 [00:17<03:46,  2.35it/s]\u001b[A\n",
      "  6%|▋         | 36/566 [00:18<03:46,  2.34it/s]\u001b[A\n",
      "  7%|▋         | 37/566 [00:18<03:45,  2.34it/s]\u001b[A\n",
      "  7%|▋         | 38/566 [00:18<03:45,  2.34it/s]\u001b[A\n",
      "  7%|▋         | 39/566 [00:19<03:44,  2.35it/s]\u001b[A\n",
      "  7%|▋         | 40/566 [00:19<03:44,  2.34it/s]\u001b[A\n",
      "  7%|▋         | 41/566 [00:20<03:43,  2.35it/s]\u001b[A\n",
      "  7%|▋         | 42/566 [00:20<03:43,  2.34it/s]\u001b[A\n",
      "  8%|▊         | 43/566 [00:20<03:42,  2.35it/s]\u001b[A\n",
      "  8%|▊         | 44/566 [00:21<03:42,  2.34it/s]\u001b[A\n",
      "  8%|▊         | 45/566 [00:21<03:43,  2.33it/s]\u001b[A\n",
      "  8%|▊         | 46/566 [00:22<03:43,  2.33it/s]\u001b[A\n",
      "  8%|▊         | 47/566 [00:22<03:43,  2.32it/s]\u001b[A\n",
      "  8%|▊         | 48/566 [00:23<03:42,  2.33it/s]\u001b[A\n",
      "  9%|▊         | 49/566 [00:23<03:41,  2.33it/s]\u001b[A\n",
      "  9%|▉         | 50/566 [00:24<03:41,  2.33it/s]\u001b[A\n",
      "  9%|▉         | 51/566 [00:24<03:40,  2.34it/s]\u001b[A\n",
      "  9%|▉         | 52/566 [00:24<03:40,  2.33it/s]\u001b[A\n",
      "  9%|▉         | 53/566 [00:25<03:40,  2.33it/s]\u001b[A\n",
      " 10%|▉         | 54/566 [00:25<03:39,  2.33it/s]\u001b[A\n",
      " 10%|▉         | 55/566 [00:26<03:39,  2.33it/s]\u001b[A\n",
      " 10%|▉         | 56/566 [00:26<03:38,  2.33it/s]\u001b[A\n",
      " 10%|█         | 57/566 [00:27<03:38,  2.33it/s]\u001b[A\n",
      " 10%|█         | 58/566 [00:27<03:39,  2.32it/s]\u001b[A\n",
      " 10%|█         | 59/566 [00:27<03:38,  2.32it/s]\u001b[A\n",
      " 11%|█         | 60/566 [00:28<03:37,  2.33it/s]\u001b[A\n",
      " 11%|█         | 61/566 [00:28<03:37,  2.33it/s]\u001b[A\n",
      " 11%|█         | 62/566 [00:29<03:36,  2.33it/s]\u001b[A\n",
      " 11%|█         | 63/566 [00:29<03:36,  2.33it/s]\u001b[A\n",
      " 11%|█▏        | 64/566 [00:30<03:35,  2.33it/s]\u001b[A\n",
      " 11%|█▏        | 65/566 [00:30<03:35,  2.32it/s]\u001b[A\n",
      " 12%|█▏        | 66/566 [00:30<03:35,  2.32it/s]\u001b[A\n",
      " 12%|█▏        | 67/566 [00:31<03:34,  2.33it/s]\u001b[A\n",
      " 12%|█▏        | 68/566 [00:31<03:33,  2.33it/s]\u001b[A\n",
      " 12%|█▏        | 69/566 [00:32<03:34,  2.32it/s]\u001b[A\n",
      " 12%|█▏        | 70/566 [00:32<03:33,  2.32it/s]\u001b[A\n",
      " 13%|█▎        | 71/566 [00:33<03:33,  2.32it/s]\u001b[A\n",
      " 13%|█▎        | 72/566 [00:33<03:32,  2.32it/s]\u001b[A\n",
      " 13%|█▎        | 73/566 [00:33<03:32,  2.32it/s]\u001b[A\n",
      " 13%|█▎        | 74/566 [00:34<03:32,  2.32it/s]\u001b[A\n",
      " 13%|█▎        | 75/566 [00:34<03:31,  2.32it/s]\u001b[A\n",
      " 13%|█▎        | 76/566 [00:35<03:31,  2.32it/s]\u001b[A\n",
      " 14%|█▎        | 77/566 [00:35<03:30,  2.32it/s]\u001b[A\n",
      " 14%|█▍        | 78/566 [00:36<03:30,  2.32it/s]\u001b[A\n",
      " 14%|█▍        | 79/566 [00:36<03:29,  2.32it/s]\u001b[A\n",
      " 14%|█▍        | 80/566 [00:36<03:29,  2.32it/s]\u001b[A\n",
      " 14%|█▍        | 81/566 [00:37<03:28,  2.32it/s]\u001b[A\n",
      " 14%|█▍        | 82/566 [00:37<03:28,  2.32it/s]\u001b[A\n",
      " 15%|█▍        | 83/566 [00:38<03:28,  2.32it/s]\u001b[A\n",
      " 15%|█▍        | 84/566 [00:38<03:27,  2.32it/s]\u001b[A\n",
      " 15%|█▌        | 85/566 [00:39<03:27,  2.32it/s]\u001b[A\n",
      " 15%|█▌        | 86/566 [00:39<03:27,  2.32it/s]\u001b[A\n",
      " 15%|█▌        | 87/566 [00:39<03:26,  2.32it/s]\u001b[A\n",
      " 16%|█▌        | 88/566 [00:40<03:26,  2.32it/s]\u001b[A\n",
      " 16%|█▌        | 89/566 [00:40<03:25,  2.32it/s]\u001b[A\n",
      " 16%|█▌        | 90/566 [00:41<03:25,  2.32it/s]\u001b[A\n",
      " 16%|█▌        | 91/566 [00:41<03:25,  2.31it/s]\u001b[A\n",
      " 16%|█▋        | 92/566 [00:42<03:25,  2.31it/s]\u001b[A\n",
      " 16%|█▋        | 93/566 [00:42<03:25,  2.30it/s]\u001b[A\n",
      " 17%|█▋        | 94/566 [00:42<03:25,  2.30it/s]\u001b[A\n",
      " 17%|█▋        | 95/566 [00:43<03:24,  2.30it/s]\u001b[A\n",
      " 17%|█▋        | 96/566 [00:43<03:24,  2.30it/s]\u001b[A\n",
      " 17%|█▋        | 97/566 [00:44<03:22,  2.31it/s]\u001b[A\n",
      " 17%|█▋        | 98/566 [00:44<03:22,  2.31it/s]\u001b[A\n",
      " 17%|█▋        | 99/566 [00:45<03:22,  2.30it/s]\u001b[A\n",
      " 18%|█▊        | 100/566 [00:45<03:22,  2.30it/s]\u001b[A\n",
      " 18%|█▊        | 101/566 [00:46<03:21,  2.31it/s]\u001b[A\n",
      " 18%|█▊        | 102/566 [00:46<03:22,  2.30it/s]\u001b[A\n",
      " 18%|█▊        | 103/566 [00:46<03:21,  2.30it/s]\u001b[A\n",
      " 18%|█▊        | 104/566 [00:47<03:20,  2.30it/s]\u001b[A\n",
      " 19%|█▊        | 105/566 [00:47<03:20,  2.29it/s]\u001b[A\n",
      " 19%|█▊        | 106/566 [00:48<03:20,  2.30it/s]\u001b[A\n",
      " 19%|█▉        | 107/566 [00:48<03:19,  2.31it/s]\u001b[A\n",
      " 19%|█▉        | 108/566 [00:49<03:18,  2.30it/s]\u001b[A\n",
      " 19%|█▉        | 109/566 [00:49<03:18,  2.30it/s]\u001b[A\n",
      " 19%|█▉        | 110/566 [00:49<03:18,  2.30it/s]\u001b[A\n",
      " 20%|█▉        | 111/566 [00:50<03:17,  2.31it/s]\u001b[A\n",
      " 20%|█▉        | 112/566 [00:50<03:17,  2.30it/s]\u001b[A\n",
      " 20%|█▉        | 113/566 [00:51<03:16,  2.30it/s]\u001b[A\n",
      " 20%|██        | 114/566 [00:51<03:17,  2.29it/s]\u001b[A\n",
      " 20%|██        | 115/566 [00:52<03:16,  2.30it/s]\u001b[A\n",
      " 20%|██        | 116/566 [00:52<03:15,  2.30it/s]\u001b[A\n",
      " 21%|██        | 117/566 [00:52<03:15,  2.30it/s]\u001b[A\n",
      " 21%|██        | 118/566 [00:53<03:15,  2.30it/s]\u001b[A\n",
      " 21%|██        | 119/566 [00:53<03:14,  2.30it/s]\u001b[A\n",
      " 21%|██        | 120/566 [00:54<03:13,  2.30it/s]\u001b[A\n",
      " 21%|██▏       | 121/566 [00:54<03:13,  2.31it/s]\u001b[A\n",
      " 22%|██▏       | 122/566 [00:55<03:13,  2.29it/s]\u001b[A\n",
      " 22%|██▏       | 123/566 [00:55<03:12,  2.30it/s]\u001b[A\n",
      " 22%|██▏       | 124/566 [00:56<03:12,  2.29it/s]\u001b[A\n",
      " 22%|██▏       | 125/566 [00:56<03:12,  2.29it/s]\u001b[A\n",
      " 22%|██▏       | 126/566 [00:56<03:11,  2.29it/s]\u001b[A\n",
      " 22%|██▏       | 127/566 [00:57<03:12,  2.28it/s]\u001b[A\n",
      " 23%|██▎       | 128/566 [00:57<03:12,  2.28it/s]\u001b[A\n",
      " 23%|██▎       | 129/566 [00:58<03:12,  2.27it/s]\u001b[A\n",
      " 23%|██▎       | 130/566 [00:58<03:12,  2.26it/s]\u001b[A\n",
      " 23%|██▎       | 131/566 [00:59<03:12,  2.26it/s]\u001b[A\n",
      " 23%|██▎       | 132/566 [00:59<03:10,  2.28it/s]\u001b[A\n",
      " 23%|██▎       | 133/566 [00:59<03:09,  2.28it/s]\u001b[A\n",
      " 24%|██▎       | 134/566 [01:00<03:09,  2.28it/s]\u001b[A\n",
      " 24%|██▍       | 135/566 [01:00<03:08,  2.28it/s]\u001b[A\n",
      " 24%|██▍       | 136/566 [01:01<03:07,  2.29it/s]\u001b[A\n",
      " 24%|██▍       | 137/566 [01:01<03:07,  2.29it/s]\u001b[A\n",
      " 24%|██▍       | 138/566 [01:02<03:06,  2.29it/s]\u001b[A\n",
      " 25%|██▍       | 139/566 [01:02<03:07,  2.28it/s]\u001b[A\n",
      " 25%|██▍       | 140/566 [01:03<03:06,  2.28it/s]\u001b[A\n",
      " 25%|██▍       | 141/566 [01:03<03:05,  2.29it/s]\u001b[A\n",
      " 25%|██▌       | 142/566 [01:03<03:05,  2.28it/s]\u001b[A\n",
      " 25%|██▌       | 143/566 [01:04<03:05,  2.29it/s]\u001b[A\n",
      " 25%|██▌       | 144/566 [01:04<03:05,  2.28it/s]\u001b[A\n",
      " 26%|██▌       | 145/566 [01:05<03:04,  2.28it/s]\u001b[A\n",
      " 26%|██▌       | 146/566 [01:05<03:04,  2.28it/s]\u001b[A\n",
      " 26%|██▌       | 147/566 [01:06<03:03,  2.28it/s]\u001b[A\n",
      " 26%|██▌       | 148/566 [01:06<03:02,  2.29it/s]\u001b[A\n",
      " 26%|██▋       | 149/566 [01:06<03:02,  2.28it/s]\u001b[A\n",
      " 27%|██▋       | 150/566 [01:07<03:02,  2.28it/s]\u001b[A\n",
      " 27%|██▋       | 151/566 [01:07<03:01,  2.28it/s]\u001b[A\n",
      " 27%|██▋       | 152/566 [01:08<03:01,  2.28it/s]\u001b[A\n",
      " 27%|██▋       | 153/566 [01:08<03:01,  2.28it/s]\u001b[A\n",
      " 27%|██▋       | 154/566 [01:09<03:01,  2.28it/s]\u001b[A\n",
      " 27%|██▋       | 155/566 [01:09<02:59,  2.28it/s]\u001b[A\n",
      " 28%|██▊       | 156/566 [01:10<03:00,  2.28it/s]\u001b[A\n",
      " 28%|██▊       | 157/566 [01:10<02:59,  2.27it/s]\u001b[A\n",
      " 28%|██▊       | 158/566 [01:10<03:00,  2.26it/s]\u001b[A\n",
      " 28%|██▊       | 159/566 [01:11<02:59,  2.26it/s]\u001b[A\n",
      " 28%|██▊       | 160/566 [01:11<02:59,  2.26it/s]\u001b[A\n",
      " 28%|██▊       | 161/566 [01:12<02:58,  2.27it/s]\u001b[A\n",
      " 29%|██▊       | 162/566 [01:12<02:57,  2.27it/s]\u001b[A\n",
      " 29%|██▉       | 163/566 [01:13<02:57,  2.27it/s]\u001b[A\n",
      " 29%|██▉       | 164/566 [01:13<02:57,  2.27it/s]\u001b[A\n",
      " 29%|██▉       | 165/566 [01:14<02:56,  2.27it/s]\u001b[A\n",
      " 29%|██▉       | 166/566 [01:14<02:56,  2.27it/s]\u001b[A\n",
      " 30%|██▉       | 167/566 [01:14<02:55,  2.27it/s]\u001b[A\n",
      " 30%|██▉       | 168/566 [01:15<02:55,  2.27it/s]\u001b[A\n",
      " 30%|██▉       | 169/566 [01:15<02:55,  2.27it/s]\u001b[A\n",
      " 30%|███       | 170/566 [01:16<02:54,  2.26it/s]\u001b[A\n",
      " 30%|███       | 171/566 [01:16<02:54,  2.27it/s]\u001b[A\n",
      " 30%|███       | 172/566 [01:17<02:53,  2.27it/s]\u001b[A\n",
      " 31%|███       | 173/566 [01:17<02:53,  2.27it/s]\u001b[A\n",
      " 31%|███       | 174/566 [01:17<02:53,  2.26it/s]\u001b[A\n",
      " 31%|███       | 175/566 [01:18<02:53,  2.26it/s]\u001b[A\n",
      " 31%|███       | 176/566 [01:18<02:53,  2.25it/s]\u001b[A\n",
      " 31%|███▏      | 177/566 [01:19<02:55,  2.22it/s]\u001b[A\n",
      " 31%|███▏      | 178/566 [01:19<02:54,  2.23it/s]\u001b[A\n",
      " 32%|███▏      | 179/566 [01:20<02:53,  2.23it/s]\u001b[A\n",
      " 32%|███▏      | 180/566 [01:20<02:53,  2.22it/s]\u001b[A\n",
      " 32%|███▏      | 181/566 [01:21<02:53,  2.22it/s]\u001b[A\n",
      " 32%|███▏      | 182/566 [01:21<02:57,  2.16it/s]\u001b[A\n",
      " 32%|███▏      | 183/566 [01:22<02:57,  2.15it/s]\u001b[A\n",
      " 33%|███▎      | 184/566 [01:22<02:56,  2.17it/s]\u001b[A\n",
      " 33%|███▎      | 185/566 [01:23<02:54,  2.19it/s]\u001b[A\n",
      " 33%|███▎      | 186/566 [01:23<02:52,  2.20it/s]\u001b[A\n",
      " 33%|███▎      | 187/566 [01:23<02:51,  2.22it/s]\u001b[A\n",
      " 33%|███▎      | 188/566 [01:24<02:49,  2.23it/s]\u001b[A\n",
      " 33%|███▎      | 189/566 [01:24<02:48,  2.23it/s]\u001b[A\n",
      " 34%|███▎      | 190/566 [01:25<02:47,  2.24it/s]\u001b[A\n",
      " 34%|███▎      | 191/566 [01:25<02:47,  2.24it/s]\u001b[A\n",
      " 34%|███▍      | 192/566 [01:26<02:46,  2.24it/s]\u001b[A\n",
      " 34%|███▍      | 193/566 [01:26<02:46,  2.24it/s]\u001b[A\n",
      " 34%|███▍      | 194/566 [01:27<02:45,  2.24it/s]\u001b[A\n",
      " 34%|███▍      | 195/566 [01:27<02:45,  2.24it/s]\u001b[A\n",
      " 35%|███▍      | 196/566 [01:27<02:44,  2.25it/s]\u001b[A\n",
      " 35%|███▍      | 197/566 [01:28<02:44,  2.24it/s]\u001b[A\n",
      " 35%|███▍      | 198/566 [01:28<02:43,  2.24it/s]\u001b[A\n",
      " 35%|███▌      | 199/566 [01:29<02:43,  2.25it/s]\u001b[A\n",
      " 35%|███▌      | 200/566 [01:29<02:42,  2.25it/s]\u001b[A\n",
      " 36%|███▌      | 201/566 [01:30<02:42,  2.25it/s]\u001b[A\n",
      " 36%|███▌      | 202/566 [01:30<02:41,  2.25it/s]\u001b[A\n",
      " 36%|███▌      | 203/566 [01:31<02:41,  2.25it/s]\u001b[A\n",
      " 36%|███▌      | 204/566 [01:31<02:41,  2.25it/s]\u001b[A\n",
      " 36%|███▌      | 205/566 [01:31<02:40,  2.25it/s]\u001b[A\n",
      " 36%|███▋      | 206/566 [01:32<02:40,  2.24it/s]\u001b[A\n",
      " 37%|███▋      | 207/566 [01:32<02:40,  2.24it/s]\u001b[A\n",
      " 37%|███▋      | 208/566 [01:33<02:39,  2.24it/s]\u001b[A\n",
      " 37%|███▋      | 209/566 [01:33<02:39,  2.24it/s]\u001b[A\n",
      " 37%|███▋      | 210/566 [01:34<02:39,  2.23it/s]\u001b[A\n",
      " 37%|███▋      | 211/566 [01:34<02:39,  2.23it/s]\u001b[A\n",
      " 37%|███▋      | 212/566 [01:35<02:38,  2.23it/s]\u001b[A\n",
      " 38%|███▊      | 213/566 [01:35<02:38,  2.23it/s]\u001b[A\n",
      " 38%|███▊      | 214/566 [01:35<02:38,  2.22it/s]\u001b[A\n",
      " 38%|███▊      | 215/566 [01:36<02:37,  2.23it/s]\u001b[A\n",
      " 38%|███▊      | 216/566 [01:36<02:37,  2.23it/s]\u001b[A\n",
      " 38%|███▊      | 217/566 [01:37<02:36,  2.23it/s]\u001b[A\n",
      " 39%|███▊      | 218/566 [01:37<02:35,  2.23it/s]\u001b[A\n",
      " 39%|███▊      | 219/566 [01:38<02:35,  2.23it/s]\u001b[A\n",
      " 39%|███▉      | 220/566 [01:38<02:34,  2.24it/s]\u001b[A\n",
      " 39%|███▉      | 221/566 [01:39<02:34,  2.24it/s]\u001b[A\n",
      " 39%|███▉      | 222/566 [01:39<02:33,  2.24it/s]\u001b[A\n",
      " 39%|███▉      | 223/566 [01:39<02:33,  2.23it/s]\u001b[A\n",
      " 40%|███▉      | 224/566 [01:40<02:33,  2.23it/s]\u001b[A\n",
      " 40%|███▉      | 225/566 [01:40<02:32,  2.23it/s]\u001b[A\n",
      " 40%|███▉      | 226/566 [01:41<02:32,  2.23it/s]\u001b[A\n",
      " 40%|████      | 227/566 [01:41<02:31,  2.24it/s]\u001b[A\n",
      " 40%|████      | 228/566 [01:42<02:31,  2.24it/s]\u001b[A\n",
      " 40%|████      | 229/566 [01:42<02:30,  2.24it/s]\u001b[A\n",
      " 41%|████      | 230/566 [01:43<02:29,  2.24it/s]\u001b[A\n",
      " 41%|████      | 231/566 [01:43<02:29,  2.24it/s]\u001b[A\n",
      " 41%|████      | 232/566 [01:44<02:29,  2.23it/s]\u001b[A\n",
      " 41%|████      | 233/566 [01:44<02:29,  2.23it/s]\u001b[A\n",
      " 41%|████▏     | 234/566 [01:44<02:28,  2.24it/s]\u001b[A\n",
      " 42%|████▏     | 235/566 [01:45<02:28,  2.23it/s]\u001b[A\n",
      " 42%|████▏     | 236/566 [01:45<02:28,  2.23it/s]\u001b[A\n",
      " 42%|████▏     | 237/566 [01:46<02:28,  2.22it/s]\u001b[A\n",
      " 42%|████▏     | 238/566 [01:46<02:27,  2.23it/s]\u001b[A\n",
      " 42%|████▏     | 239/566 [01:47<02:27,  2.22it/s]\u001b[A\n",
      " 42%|████▏     | 240/566 [01:47<02:27,  2.22it/s]\u001b[A\n",
      " 43%|████▎     | 241/566 [01:48<02:27,  2.20it/s]\u001b[A\n",
      " 43%|████▎     | 242/566 [01:48<02:29,  2.17it/s]\u001b[A\n",
      " 43%|████▎     | 243/566 [01:49<02:29,  2.16it/s]\u001b[A\n",
      " 43%|████▎     | 244/566 [01:49<02:28,  2.18it/s]\u001b[A\n",
      " 43%|████▎     | 245/566 [01:49<02:26,  2.19it/s]\u001b[A\n",
      " 43%|████▎     | 246/566 [01:50<02:25,  2.21it/s]\u001b[A\n",
      " 44%|████▎     | 247/566 [01:50<02:24,  2.21it/s]\u001b[A\n",
      " 44%|████▍     | 248/566 [01:51<02:23,  2.21it/s]\u001b[A\n",
      " 44%|████▍     | 249/566 [01:51<02:23,  2.21it/s]\u001b[A\n",
      " 44%|████▍     | 250/566 [01:52<02:22,  2.22it/s]\u001b[A\n",
      " 44%|████▍     | 251/566 [01:52<02:22,  2.22it/s]\u001b[A\n",
      " 45%|████▍     | 252/566 [01:53<02:21,  2.22it/s]\u001b[A\n",
      " 45%|████▍     | 253/566 [01:53<02:20,  2.22it/s]\u001b[A\n",
      " 45%|████▍     | 254/566 [01:53<02:21,  2.21it/s]\u001b[A\n",
      " 45%|████▌     | 255/566 [01:54<02:20,  2.21it/s]\u001b[A\n",
      " 45%|████▌     | 256/566 [01:54<02:20,  2.21it/s]\u001b[A\n",
      " 45%|████▌     | 257/566 [01:55<02:19,  2.21it/s]\u001b[A\n",
      " 46%|████▌     | 258/566 [01:55<02:19,  2.21it/s]\u001b[A\n",
      " 46%|████▌     | 259/566 [01:56<02:19,  2.20it/s]\u001b[A\n",
      " 46%|████▌     | 260/566 [01:56<02:18,  2.21it/s]\u001b[A\n",
      " 46%|████▌     | 261/566 [01:57<02:17,  2.22it/s]\u001b[A\n",
      " 46%|████▋     | 262/566 [01:57<02:17,  2.21it/s]\u001b[A\n",
      " 46%|████▋     | 263/566 [01:58<02:18,  2.19it/s]\u001b[A\n",
      " 47%|████▋     | 264/566 [01:58<02:17,  2.20it/s]\u001b[A\n",
      " 47%|████▋     | 265/566 [01:58<02:17,  2.19it/s]\u001b[A\n",
      " 47%|████▋     | 266/566 [01:59<02:16,  2.20it/s]\u001b[A\n",
      " 47%|████▋     | 267/566 [01:59<02:15,  2.21it/s]\u001b[A\n",
      " 47%|████▋     | 268/566 [02:00<02:15,  2.20it/s]\u001b[A\n",
      " 48%|████▊     | 269/566 [02:00<02:14,  2.21it/s]\u001b[A\n",
      " 48%|████▊     | 270/566 [02:01<02:14,  2.21it/s]\u001b[A\n",
      " 48%|████▊     | 271/566 [02:01<02:13,  2.21it/s]\u001b[A\n",
      " 48%|████▊     | 272/566 [02:02<02:13,  2.21it/s]\u001b[A\n",
      " 48%|████▊     | 273/566 [02:02<02:13,  2.20it/s]\u001b[A\n",
      " 48%|████▊     | 274/566 [02:03<02:12,  2.21it/s]\u001b[A\n",
      " 49%|████▊     | 275/566 [02:03<02:12,  2.20it/s]\u001b[A\n",
      " 49%|████▉     | 276/566 [02:03<02:11,  2.21it/s]\u001b[A\n",
      " 49%|████▉     | 277/566 [02:04<02:10,  2.21it/s]\u001b[A\n",
      " 49%|████▉     | 278/566 [02:04<02:10,  2.20it/s]\u001b[A\n",
      " 49%|████▉     | 279/566 [02:05<02:10,  2.21it/s]\u001b[A\n",
      " 49%|████▉     | 280/566 [02:05<02:09,  2.21it/s]\u001b[A\n",
      " 50%|████▉     | 281/566 [02:06<02:09,  2.20it/s]\u001b[A\n",
      " 50%|████▉     | 282/566 [02:06<02:08,  2.20it/s]\u001b[A\n",
      " 50%|█████     | 283/566 [02:07<02:08,  2.21it/s]\u001b[A\n",
      " 50%|█████     | 284/566 [02:07<02:07,  2.21it/s]\u001b[A\n",
      " 50%|█████     | 285/566 [02:08<02:07,  2.21it/s]\u001b[A\n",
      " 51%|█████     | 286/566 [02:08<02:07,  2.20it/s]\u001b[A\n",
      " 51%|█████     | 287/566 [02:08<02:07,  2.19it/s]\u001b[A\n",
      " 51%|█████     | 288/566 [02:09<02:06,  2.19it/s]\u001b[A\n",
      " 51%|█████     | 289/566 [02:09<02:06,  2.19it/s]\u001b[A\n",
      " 51%|█████     | 290/566 [02:10<02:05,  2.20it/s]\u001b[A\n",
      " 51%|█████▏    | 291/566 [02:10<02:05,  2.19it/s]\u001b[A\n",
      " 52%|█████▏    | 292/566 [02:11<02:04,  2.20it/s]\u001b[A\n",
      " 52%|█████▏    | 293/566 [02:11<02:04,  2.19it/s]\u001b[A\n",
      " 52%|█████▏    | 294/566 [02:12<02:03,  2.19it/s]\u001b[A\n",
      " 52%|█████▏    | 295/566 [02:12<02:03,  2.19it/s]\u001b[A\n",
      " 52%|█████▏    | 296/566 [02:13<02:02,  2.20it/s]\u001b[A\n",
      " 52%|█████▏    | 297/566 [02:13<02:02,  2.20it/s]\u001b[A\n",
      " 53%|█████▎    | 298/566 [02:13<02:01,  2.20it/s]\u001b[A\n",
      " 53%|█████▎    | 299/566 [02:14<02:00,  2.21it/s]\u001b[A\n",
      " 53%|█████▎    | 300/566 [02:14<02:00,  2.21it/s]\u001b[A\n",
      " 53%|█████▎    | 301/566 [02:15<01:59,  2.21it/s]\u001b[A\n",
      " 53%|█████▎    | 302/566 [02:15<02:00,  2.19it/s]\u001b[A\n",
      " 54%|█████▎    | 303/566 [02:16<02:00,  2.19it/s]\u001b[A\n",
      " 54%|█████▎    | 304/566 [02:16<01:59,  2.20it/s]\u001b[A\n",
      " 54%|█████▍    | 305/566 [02:17<01:59,  2.19it/s]\u001b[A\n",
      " 54%|█████▍    | 306/566 [02:17<01:58,  2.20it/s]\u001b[A\n",
      " 54%|█████▍    | 307/566 [02:18<01:57,  2.21it/s]\u001b[A\n",
      " 54%|█████▍    | 308/566 [02:18<01:57,  2.19it/s]\u001b[A\n",
      " 55%|█████▍    | 309/566 [02:18<01:57,  2.19it/s]\u001b[A\n",
      " 55%|█████▍    | 310/566 [02:19<01:56,  2.19it/s]\u001b[A\n",
      " 55%|█████▍    | 311/566 [02:19<01:56,  2.19it/s]\u001b[A\n",
      " 55%|█████▌    | 312/566 [02:20<01:55,  2.19it/s]\u001b[A\n",
      " 55%|█████▌    | 313/566 [02:20<01:55,  2.19it/s]\u001b[A\n",
      " 55%|█████▌    | 314/566 [02:21<01:54,  2.19it/s]\u001b[A\n",
      " 56%|█████▌    | 315/566 [02:21<01:54,  2.19it/s]\u001b[A\n",
      " 56%|█████▌    | 316/566 [02:22<01:53,  2.20it/s]\u001b[A\n",
      " 56%|█████▌    | 317/566 [02:22<01:53,  2.19it/s]\u001b[A\n",
      " 56%|█████▌    | 318/566 [02:23<01:53,  2.18it/s]\u001b[A\n",
      " 56%|█████▋    | 319/566 [02:23<01:52,  2.19it/s]\u001b[A\n",
      " 57%|█████▋    | 320/566 [02:23<01:52,  2.19it/s]\u001b[A\n",
      " 57%|█████▋    | 321/566 [02:24<01:51,  2.20it/s]\u001b[A\n",
      " 57%|█████▋    | 322/566 [02:24<01:51,  2.20it/s]\u001b[A\n",
      " 57%|█████▋    | 323/566 [02:25<01:50,  2.19it/s]\u001b[A\n",
      " 57%|█████▋    | 324/566 [02:25<01:50,  2.19it/s]\u001b[A\n",
      " 57%|█████▋    | 325/566 [02:26<01:49,  2.19it/s]\u001b[A\n",
      " 58%|█████▊    | 326/566 [02:26<01:49,  2.19it/s]\u001b[A\n",
      " 58%|█████▊    | 327/566 [02:27<01:48,  2.20it/s]\u001b[A\n",
      " 58%|█████▊    | 328/566 [02:27<01:48,  2.20it/s]\u001b[A\n",
      " 58%|█████▊    | 329/566 [02:28<01:47,  2.21it/s]\u001b[A\n",
      " 58%|█████▊    | 330/566 [02:28<01:47,  2.20it/s]\u001b[A\n",
      " 58%|█████▊    | 331/566 [02:28<01:46,  2.20it/s]\u001b[A\n",
      " 59%|█████▊    | 332/566 [02:29<01:46,  2.20it/s]\u001b[A\n",
      " 59%|█████▉    | 333/566 [02:29<01:46,  2.20it/s]\u001b[A\n",
      " 59%|█████▉    | 334/566 [02:30<01:45,  2.20it/s]\u001b[A\n",
      " 59%|█████▉    | 335/566 [02:30<01:45,  2.19it/s]\u001b[A\n",
      " 59%|█████▉    | 336/566 [02:31<01:45,  2.19it/s]\u001b[A\n",
      " 60%|█████▉    | 337/566 [02:31<01:44,  2.19it/s]\u001b[A\n",
      " 60%|█████▉    | 338/566 [02:32<01:44,  2.18it/s]\u001b[A\n",
      " 60%|█████▉    | 339/566 [02:32<01:44,  2.17it/s]\u001b[A\n",
      " 60%|██████    | 340/566 [02:33<01:43,  2.18it/s]\u001b[A\n",
      " 60%|██████    | 341/566 [02:33<01:43,  2.18it/s]\u001b[A\n",
      " 60%|██████    | 342/566 [02:34<01:42,  2.18it/s]\u001b[A\n",
      " 61%|██████    | 343/566 [02:34<01:42,  2.17it/s]\u001b[A\n",
      " 61%|██████    | 344/566 [02:34<01:42,  2.18it/s]\u001b[A\n",
      " 61%|██████    | 345/566 [02:35<01:41,  2.17it/s]\u001b[A\n",
      " 61%|██████    | 346/566 [02:35<01:41,  2.17it/s]\u001b[A\n",
      " 61%|██████▏   | 347/566 [02:36<01:40,  2.17it/s]\u001b[A\n",
      " 61%|██████▏   | 348/566 [02:36<01:40,  2.18it/s]\u001b[A\n",
      " 62%|██████▏   | 349/566 [02:37<01:39,  2.18it/s]\u001b[A\n",
      " 62%|██████▏   | 350/566 [02:37<01:38,  2.19it/s]\u001b[A\n",
      " 62%|██████▏   | 351/566 [02:38<01:38,  2.19it/s]\u001b[A\n",
      " 62%|██████▏   | 352/566 [02:38<01:37,  2.18it/s]\u001b[A\n",
      " 62%|██████▏   | 353/566 [02:39<01:37,  2.19it/s]\u001b[A\n",
      " 63%|██████▎   | 354/566 [02:39<01:37,  2.18it/s]\u001b[A\n",
      " 63%|██████▎   | 355/566 [02:39<01:36,  2.18it/s]\u001b[A\n",
      " 63%|██████▎   | 356/566 [02:40<01:35,  2.19it/s]\u001b[A\n",
      " 63%|██████▎   | 357/566 [02:40<01:35,  2.19it/s]\u001b[A\n",
      " 63%|██████▎   | 358/566 [02:41<01:34,  2.19it/s]\u001b[A\n",
      " 63%|██████▎   | 359/566 [02:41<01:34,  2.18it/s]\u001b[A\n",
      " 64%|██████▎   | 360/566 [02:42<01:34,  2.18it/s]\u001b[A\n",
      " 64%|██████▍   | 361/566 [02:42<01:34,  2.17it/s]\u001b[A\n",
      " 64%|██████▍   | 362/566 [02:43<01:33,  2.18it/s]\u001b[A\n",
      " 64%|██████▍   | 363/566 [02:43<01:33,  2.17it/s]\u001b[A\n",
      " 64%|██████▍   | 364/566 [02:44<01:32,  2.17it/s]\u001b[A\n",
      " 64%|██████▍   | 365/566 [02:44<01:32,  2.17it/s]\u001b[A\n",
      " 65%|██████▍   | 366/566 [02:45<01:32,  2.16it/s]\u001b[A\n",
      " 65%|██████▍   | 367/566 [02:45<01:32,  2.16it/s]\u001b[A\n",
      " 65%|██████▌   | 368/566 [02:45<01:32,  2.15it/s]\u001b[A\n",
      " 65%|██████▌   | 369/566 [02:46<01:31,  2.16it/s]\u001b[A\n",
      " 65%|██████▌   | 370/566 [02:46<01:31,  2.15it/s]\u001b[A\n",
      " 66%|██████▌   | 371/566 [02:47<01:30,  2.16it/s]\u001b[A\n",
      " 66%|██████▌   | 372/566 [02:47<01:29,  2.17it/s]\u001b[A\n",
      " 66%|██████▌   | 373/566 [02:48<01:29,  2.16it/s]\u001b[A\n",
      " 66%|██████▌   | 374/566 [02:48<01:28,  2.16it/s]\u001b[A\n",
      " 66%|██████▋   | 375/566 [02:49<01:28,  2.17it/s]\u001b[A\n",
      " 66%|██████▋   | 376/566 [02:49<01:27,  2.16it/s]\u001b[A\n",
      " 67%|██████▋   | 377/566 [02:50<01:27,  2.16it/s]\u001b[A\n",
      " 67%|██████▋   | 378/566 [02:50<01:26,  2.17it/s]\u001b[A\n",
      " 67%|██████▋   | 379/566 [02:51<01:26,  2.17it/s]\u001b[A\n",
      " 67%|██████▋   | 380/566 [02:51<01:25,  2.17it/s]\u001b[A\n",
      " 67%|██████▋   | 381/566 [02:51<01:25,  2.16it/s]\u001b[A\n",
      " 67%|██████▋   | 382/566 [02:52<01:25,  2.16it/s]\u001b[A\n",
      " 68%|██████▊   | 383/566 [02:52<01:25,  2.15it/s]\u001b[A\n",
      " 68%|██████▊   | 384/566 [02:53<01:24,  2.15it/s]\u001b[A\n",
      " 68%|██████▊   | 385/566 [02:53<01:23,  2.16it/s]\u001b[A\n",
      " 68%|██████▊   | 386/566 [02:54<01:23,  2.15it/s]\u001b[A\n",
      " 68%|██████▊   | 387/566 [02:54<01:23,  2.16it/s]\u001b[A\n",
      " 69%|██████▊   | 388/566 [02:55<01:22,  2.16it/s]\u001b[A\n",
      " 69%|██████▊   | 389/566 [02:55<01:21,  2.16it/s]\u001b[A\n",
      " 69%|██████▉   | 390/566 [02:56<01:21,  2.16it/s]\u001b[A\n",
      " 69%|██████▉   | 391/566 [02:56<01:21,  2.16it/s]\u001b[A\n",
      " 69%|██████▉   | 392/566 [02:57<01:20,  2.16it/s]\u001b[A\n",
      " 69%|██████▉   | 393/566 [02:57<01:20,  2.16it/s]\u001b[A\n",
      " 70%|██████▉   | 394/566 [02:58<01:19,  2.16it/s]\u001b[A\n",
      " 70%|██████▉   | 395/566 [02:58<01:19,  2.15it/s]\u001b[A\n",
      " 70%|██████▉   | 396/566 [02:58<01:19,  2.15it/s]\u001b[A\n",
      " 70%|███████   | 397/566 [02:59<01:18,  2.15it/s]\u001b[A\n",
      " 70%|███████   | 398/566 [02:59<01:17,  2.16it/s]\u001b[A\n",
      " 70%|███████   | 399/566 [03:00<01:17,  2.15it/s]\u001b[A\n",
      " 71%|███████   | 400/566 [03:00<01:16,  2.16it/s]\u001b[A\n",
      " 71%|███████   | 401/566 [03:01<01:16,  2.16it/s]\u001b[A\n",
      " 71%|███████   | 402/566 [03:01<01:15,  2.16it/s]\u001b[A\n",
      " 71%|███████   | 403/566 [03:02<01:15,  2.16it/s]\u001b[A\n",
      " 71%|███████▏  | 404/566 [03:02<01:14,  2.17it/s]\u001b[A\n",
      " 72%|███████▏  | 405/566 [03:03<01:14,  2.16it/s]\u001b[A\n",
      " 72%|███████▏  | 406/566 [03:03<01:14,  2.16it/s]\u001b[A\n",
      " 72%|███████▏  | 407/566 [03:04<01:13,  2.16it/s]\u001b[A\n",
      " 72%|███████▏  | 408/566 [03:04<01:13,  2.16it/s]\u001b[A\n",
      " 72%|███████▏  | 409/566 [03:04<01:12,  2.16it/s]\u001b[A\n",
      " 72%|███████▏  | 410/566 [03:05<01:12,  2.16it/s]\u001b[A\n",
      " 73%|███████▎  | 411/566 [03:05<01:11,  2.17it/s]\u001b[A\n",
      " 73%|███████▎  | 412/566 [03:06<01:10,  2.17it/s]\u001b[A\n",
      " 73%|███████▎  | 413/566 [03:06<01:10,  2.16it/s]\u001b[A\n",
      " 73%|███████▎  | 414/566 [03:07<01:10,  2.16it/s]\u001b[A\n",
      " 73%|███████▎  | 415/566 [03:07<01:10,  2.16it/s]\u001b[A\n",
      " 73%|███████▎  | 416/566 [03:08<01:09,  2.15it/s]\u001b[A\n",
      " 74%|███████▎  | 417/566 [03:08<01:09,  2.15it/s]\u001b[A\n",
      " 74%|███████▍  | 418/566 [03:09<01:08,  2.15it/s]\u001b[A\n",
      " 74%|███████▍  | 419/566 [03:09<01:08,  2.16it/s]\u001b[A\n",
      " 74%|███████▍  | 420/566 [03:10<01:07,  2.15it/s]\u001b[A\n",
      " 74%|███████▍  | 421/566 [03:10<01:07,  2.16it/s]\u001b[A\n",
      " 75%|███████▍  | 422/566 [03:10<01:06,  2.16it/s]\u001b[A\n",
      " 75%|███████▍  | 423/566 [03:11<01:06,  2.16it/s]\u001b[A\n",
      " 75%|███████▍  | 424/566 [03:11<01:05,  2.16it/s]\u001b[A\n",
      " 75%|███████▌  | 425/566 [03:12<01:05,  2.16it/s]\u001b[A\n",
      " 75%|███████▌  | 426/566 [03:12<01:04,  2.16it/s]\u001b[A\n",
      " 75%|███████▌  | 427/566 [03:13<01:04,  2.16it/s]\u001b[A\n",
      " 76%|███████▌  | 428/566 [03:13<01:03,  2.16it/s]\u001b[A\n",
      " 76%|███████▌  | 429/566 [03:14<01:03,  2.15it/s]\u001b[A\n",
      " 76%|███████▌  | 430/566 [03:14<01:03,  2.15it/s]\u001b[A\n",
      " 76%|███████▌  | 431/566 [03:15<01:02,  2.15it/s]\u001b[A\n",
      " 76%|███████▋  | 432/566 [03:15<01:02,  2.15it/s]\u001b[A\n",
      " 77%|███████▋  | 433/566 [03:16<01:01,  2.15it/s]\u001b[A\n",
      " 77%|███████▋  | 434/566 [03:16<01:01,  2.15it/s]\u001b[A\n",
      " 77%|███████▋  | 435/566 [03:17<01:01,  2.15it/s]\u001b[A\n",
      " 77%|███████▋  | 436/566 [03:17<01:00,  2.15it/s]\u001b[A\n",
      " 77%|███████▋  | 437/566 [03:17<01:00,  2.15it/s]\u001b[A\n",
      " 77%|███████▋  | 438/566 [03:18<00:59,  2.15it/s]\u001b[A\n",
      " 78%|███████▊  | 439/566 [03:18<00:59,  2.15it/s]\u001b[A\n",
      " 78%|███████▊  | 440/566 [03:19<00:58,  2.15it/s]\u001b[A\n",
      " 78%|███████▊  | 441/566 [03:19<00:58,  2.15it/s]\u001b[A\n",
      " 78%|███████▊  | 442/566 [03:20<00:57,  2.15it/s]\u001b[A\n",
      " 78%|███████▊  | 443/566 [03:20<00:57,  2.16it/s]\u001b[A\n",
      " 78%|███████▊  | 444/566 [03:21<00:56,  2.15it/s]\u001b[A\n",
      " 79%|███████▊  | 445/566 [03:21<00:55,  2.16it/s]\u001b[A\n",
      " 79%|███████▉  | 446/566 [03:22<00:55,  2.16it/s]\u001b[A\n",
      " 79%|███████▉  | 447/566 [03:22<00:54,  2.17it/s]\u001b[A\n",
      " 79%|███████▉  | 448/566 [03:23<00:54,  2.16it/s]\u001b[A\n",
      " 79%|███████▉  | 449/566 [03:23<00:54,  2.16it/s]\u001b[A\n",
      " 80%|███████▉  | 450/566 [03:23<00:53,  2.17it/s]\u001b[A\n",
      " 80%|███████▉  | 451/566 [03:24<00:53,  2.17it/s]\u001b[A\n",
      " 80%|███████▉  | 452/566 [03:24<00:52,  2.17it/s]\u001b[A\n",
      " 80%|████████  | 453/566 [03:25<00:52,  2.17it/s]\u001b[A\n",
      " 80%|████████  | 454/566 [03:25<00:51,  2.16it/s]\u001b[A\n",
      " 80%|████████  | 455/566 [03:26<00:51,  2.16it/s]\u001b[A\n",
      " 81%|████████  | 456/566 [03:26<00:50,  2.17it/s]\u001b[A\n",
      " 81%|████████  | 457/566 [03:27<00:50,  2.17it/s]\u001b[A\n",
      " 81%|████████  | 458/566 [03:27<00:49,  2.17it/s]\u001b[A\n",
      " 81%|████████  | 459/566 [03:28<00:49,  2.17it/s]\u001b[A\n",
      " 81%|████████▏ | 460/566 [03:28<00:49,  2.16it/s]\u001b[A\n",
      " 81%|████████▏ | 461/566 [03:29<00:48,  2.16it/s]\u001b[A\n",
      " 82%|████████▏ | 462/566 [03:29<00:48,  2.16it/s]\u001b[A\n",
      " 82%|████████▏ | 463/566 [03:29<00:47,  2.18it/s]\u001b[A\n",
      " 82%|████████▏ | 464/566 [03:30<00:46,  2.17it/s]\u001b[A\n",
      " 82%|████████▏ | 465/566 [03:30<00:46,  2.16it/s]\u001b[A\n",
      " 82%|████████▏ | 466/566 [03:31<00:46,  2.17it/s]\u001b[A\n",
      " 83%|████████▎ | 467/566 [03:31<00:45,  2.16it/s]\u001b[A\n",
      " 83%|████████▎ | 468/566 [03:32<00:45,  2.17it/s]\u001b[A\n",
      " 83%|████████▎ | 469/566 [03:32<00:44,  2.17it/s]\u001b[A\n",
      " 83%|████████▎ | 470/566 [03:33<00:44,  2.16it/s]\u001b[A\n",
      " 83%|████████▎ | 471/566 [03:33<00:43,  2.17it/s]\u001b[A\n",
      " 83%|████████▎ | 472/566 [03:34<00:43,  2.16it/s]\u001b[A\n",
      " 84%|████████▎ | 473/566 [03:34<00:43,  2.15it/s]\u001b[A\n",
      " 84%|████████▎ | 474/566 [03:35<00:43,  2.10it/s]\u001b[A\n",
      " 84%|████████▍ | 475/566 [03:35<00:43,  2.09it/s]\u001b[A\n",
      " 84%|████████▍ | 476/566 [03:36<00:43,  2.08it/s]\u001b[A\n",
      " 84%|████████▍ | 477/566 [03:36<00:42,  2.12it/s]\u001b[A\n",
      " 84%|████████▍ | 478/566 [03:36<00:41,  2.13it/s]\u001b[A\n",
      " 85%|████████▍ | 479/566 [03:37<00:40,  2.15it/s]\u001b[A\n",
      " 85%|████████▍ | 480/566 [03:37<00:40,  2.15it/s]\u001b[A\n",
      " 85%|████████▍ | 481/566 [03:38<00:39,  2.16it/s]\u001b[A\n",
      " 85%|████████▌ | 482/566 [03:38<00:38,  2.16it/s]\u001b[A\n",
      " 85%|████████▌ | 483/566 [03:39<00:38,  2.16it/s]\u001b[A\n",
      " 86%|████████▌ | 484/566 [03:39<00:37,  2.17it/s]\u001b[A\n",
      " 86%|████████▌ | 485/566 [03:40<00:37,  2.17it/s]\u001b[A\n",
      " 86%|████████▌ | 486/566 [03:40<00:36,  2.17it/s]\u001b[A\n",
      " 86%|████████▌ | 487/566 [03:41<00:36,  2.17it/s]\u001b[A\n",
      " 86%|████████▌ | 488/566 [03:41<00:35,  2.18it/s]\u001b[A\n",
      " 86%|████████▋ | 489/566 [03:42<00:35,  2.18it/s]\u001b[A\n",
      " 87%|████████▋ | 490/566 [03:42<00:34,  2.17it/s]\u001b[A\n",
      " 87%|████████▋ | 491/566 [03:42<00:34,  2.17it/s]\u001b[A\n",
      " 87%|████████▋ | 492/566 [03:43<00:34,  2.17it/s]\u001b[A\n",
      " 87%|████████▋ | 493/566 [03:43<00:33,  2.18it/s]\u001b[A\n",
      " 87%|████████▋ | 494/566 [03:44<00:33,  2.17it/s]\u001b[A\n",
      " 87%|████████▋ | 495/566 [03:44<00:32,  2.17it/s]\u001b[A\n",
      " 88%|████████▊ | 496/566 [03:45<00:32,  2.17it/s]\u001b[A\n",
      " 88%|████████▊ | 497/566 [03:45<00:31,  2.17it/s]\u001b[A\n",
      " 88%|████████▊ | 498/566 [03:46<00:31,  2.18it/s]\u001b[A\n",
      " 88%|████████▊ | 499/566 [03:46<00:30,  2.17it/s]\u001b[A\n",
      " 88%|████████▊ | 500/566 [03:47<00:30,  2.16it/s]\u001b[A\n",
      " 89%|████████▊ | 501/566 [03:47<00:30,  2.16it/s]\u001b[A\n",
      " 89%|████████▊ | 502/566 [03:48<00:29,  2.15it/s]\u001b[A\n",
      " 89%|████████▉ | 503/566 [03:48<00:29,  2.15it/s]\u001b[A\n",
      " 89%|████████▉ | 504/566 [03:48<00:28,  2.15it/s]\u001b[A\n",
      " 89%|████████▉ | 505/566 [03:49<00:28,  2.16it/s]\u001b[A\n",
      " 89%|████████▉ | 506/566 [03:49<00:27,  2.16it/s]\u001b[A\n",
      " 90%|████████▉ | 507/566 [03:50<00:27,  2.18it/s]\u001b[A\n",
      " 90%|████████▉ | 508/566 [03:50<00:26,  2.17it/s]\u001b[A\n",
      " 90%|████████▉ | 509/566 [03:51<00:26,  2.17it/s]\u001b[A\n",
      " 90%|█████████ | 510/566 [03:51<00:25,  2.18it/s]\u001b[A\n",
      " 90%|█████████ | 511/566 [03:52<00:25,  2.18it/s]\u001b[A\n",
      " 90%|█████████ | 512/566 [03:52<00:24,  2.18it/s]\u001b[A\n",
      " 91%|█████████ | 513/566 [03:53<00:24,  2.18it/s]\u001b[A\n",
      " 91%|█████████ | 514/566 [03:53<00:23,  2.18it/s]\u001b[A\n",
      " 91%|█████████ | 515/566 [03:54<00:23,  2.18it/s]\u001b[A\n",
      " 91%|█████████ | 516/566 [03:54<00:22,  2.19it/s]\u001b[A\n",
      " 91%|█████████▏| 517/566 [03:54<00:22,  2.17it/s]\u001b[A\n",
      " 92%|█████████▏| 518/566 [03:55<00:22,  2.17it/s]\u001b[A\n",
      " 92%|█████████▏| 519/566 [03:55<00:21,  2.17it/s]\u001b[A\n",
      " 92%|█████████▏| 520/566 [03:56<00:21,  2.17it/s]\u001b[A\n",
      " 92%|█████████▏| 521/566 [03:56<00:20,  2.17it/s]\u001b[A\n",
      " 92%|█████████▏| 522/566 [03:57<00:20,  2.17it/s]\u001b[A\n",
      " 92%|█████████▏| 523/566 [03:57<00:19,  2.17it/s]\u001b[A\n",
      " 93%|█████████▎| 524/566 [03:58<00:19,  2.17it/s]\u001b[A\n",
      " 93%|█████████▎| 525/566 [03:58<00:18,  2.16it/s]\u001b[A\n",
      " 93%|█████████▎| 526/566 [03:59<00:18,  2.16it/s]\u001b[A\n",
      " 93%|█████████▎| 527/566 [03:59<00:17,  2.17it/s]\u001b[A\n",
      " 93%|█████████▎| 528/566 [04:00<00:17,  2.16it/s]\u001b[A\n",
      " 93%|█████████▎| 529/566 [04:00<00:17,  2.16it/s]\u001b[A\n",
      " 94%|█████████▎| 530/566 [04:00<00:16,  2.16it/s]\u001b[A\n",
      " 94%|█████████▍| 531/566 [04:01<00:16,  2.16it/s]\u001b[A\n",
      " 94%|█████████▍| 532/566 [04:01<00:15,  2.17it/s]\u001b[A\n",
      " 94%|█████████▍| 533/566 [04:02<00:15,  2.17it/s]\u001b[A\n",
      " 94%|█████████▍| 534/566 [04:02<00:14,  2.16it/s]\u001b[A\n",
      " 95%|█████████▍| 535/566 [04:03<00:14,  2.16it/s]\u001b[A\n",
      " 95%|█████████▍| 536/566 [04:03<00:13,  2.16it/s]\u001b[A\n",
      " 95%|█████████▍| 537/566 [04:04<00:13,  2.16it/s]\u001b[A\n",
      " 95%|█████████▌| 538/566 [04:04<00:12,  2.18it/s]\u001b[A\n",
      " 95%|█████████▌| 539/566 [04:05<00:12,  2.17it/s]\u001b[A\n",
      " 95%|█████████▌| 540/566 [04:05<00:12,  2.17it/s]\u001b[A\n",
      " 96%|█████████▌| 541/566 [04:06<00:11,  2.16it/s]\u001b[A\n",
      " 96%|█████████▌| 542/566 [04:06<00:11,  2.16it/s]\u001b[A\n",
      " 96%|█████████▌| 543/566 [04:06<00:10,  2.17it/s]\u001b[A\n",
      " 96%|█████████▌| 544/566 [04:07<00:10,  2.17it/s]\u001b[A\n",
      " 96%|█████████▋| 545/566 [04:07<00:09,  2.17it/s]\u001b[A\n",
      " 96%|█████████▋| 546/566 [04:08<00:09,  2.17it/s]\u001b[A\n",
      " 97%|█████████▋| 547/566 [04:08<00:08,  2.17it/s]\u001b[A\n",
      " 97%|█████████▋| 548/566 [04:09<00:08,  2.18it/s]\u001b[A\n",
      " 97%|█████████▋| 549/566 [04:09<00:07,  2.17it/s]\u001b[A\n",
      " 97%|█████████▋| 550/566 [04:10<00:07,  2.17it/s]\u001b[A\n",
      " 97%|█████████▋| 551/566 [04:10<00:06,  2.16it/s]\u001b[A\n",
      " 98%|█████████▊| 552/566 [04:11<00:06,  2.16it/s]\u001b[A\n",
      " 98%|█████████▊| 553/566 [04:11<00:06,  2.16it/s]\u001b[A\n",
      " 98%|█████████▊| 554/566 [04:12<00:05,  2.16it/s]\u001b[A\n",
      " 98%|█████████▊| 555/566 [04:12<00:05,  2.17it/s]\u001b[A\n",
      " 98%|█████████▊| 556/566 [04:12<00:04,  2.17it/s]\u001b[A\n",
      " 98%|█████████▊| 557/566 [04:13<00:04,  2.17it/s]\u001b[A\n",
      " 99%|█████████▊| 558/566 [04:13<00:03,  2.17it/s]\u001b[A\n",
      " 99%|█████████▉| 559/566 [04:14<00:03,  2.16it/s]\u001b[A\n",
      " 99%|█████████▉| 560/566 [04:14<00:02,  2.18it/s]\u001b[A\n",
      " 99%|█████████▉| 561/566 [04:15<00:02,  2.17it/s]\u001b[A\n",
      " 99%|█████████▉| 562/566 [04:15<00:01,  2.17it/s]\u001b[A\n",
      " 99%|█████████▉| 563/566 [04:16<00:01,  2.16it/s]\u001b[A\n",
      "100%|█████████▉| 564/566 [04:16<00:00,  2.17it/s]\u001b[A\n",
      "100%|█████████▉| 565/566 [04:17<00:00,  2.18it/s]\u001b[A\n",
      "100%|██████████| 566/566 [04:17<00:00,  2.20it/s]\n"
     ]
    },
    {
     "metadata": {
      "tags": null
     },
     "name": "stdout",
     "output_type": "stream",
     "text": [
      "Train loss: 0.7544760812245073\n",
      "Validation F1: 0.7252518073413595\n",
      "\n",
      "Epoch 2\n"
     ]
    },
    {
     "metadata": {
      "tags": null
     },
     "name": "stderr",
     "output_type": "stream",
     "text": [
      "100%|██████████| 566/566 [04:20<00:00,  2.17it/s]\n"
     ]
    },
    {
     "metadata": {
      "tags": null
     },
     "name": "stdout",
     "output_type": "stream",
     "text": [
      "Train loss: 0.5691870914462809\n",
      "Validation F1: 0.7808433965376683\n",
      "\n",
      "Epoch 3\n"
     ]
    },
    {
     "metadata": {
      "tags": null
     },
     "name": "stderr",
     "output_type": "stream",
     "text": [
      "100%|██████████| 566/566 [04:20<00:00,  2.18it/s]\n"
     ]
    },
    {
     "metadata": {
      "tags": null
     },
     "name": "stdout",
     "output_type": "stream",
     "text": [
      "Train loss: 0.44737648106979816\n",
      "Validation F1: 0.7831666113122704\n",
      "\n",
      "Epoch 4\n"
     ]
    },
    {
     "name": "stderr",
     "output_type": "stream",
     "text": [
      "100%|██████████| 566/566 [04:20<00:00,  2.17it/s]\n"
     ]
    },
    {
     "name": "stdout",
     "output_type": "stream",
     "text": [
      "Train loss: 0.3328586884876285\n",
      "Validation F1: 0.7769109309668432\n",
      "\n",
      "Epoch 5\n"
     ]
    },
    {
     "name": "stderr",
     "output_type": "stream",
     "text": [
      "100%|██████████| 566/566 [04:19<00:00,  2.18it/s]\n"
     ]
    },
    {
     "name": "stdout",
     "output_type": "stream",
     "text": [
      "Train loss: 0.24033034006100767\n",
      "Validation F1: 0.7782751395139056\n",
      "Early stopping triggered!\n",
      "\n",
      "✅ Final Validation: {'accuracy': 0.7810945273631841, 'precision': 0.7861305053160718, 'recall': 0.7810945273631841, 'f1': 0.7831666113122704}\n",
      "✅ Final Test: {'accuracy': 0.7726910828025477, 'precision': 0.7799084005874735, 'recall': 0.7726910828025477, 'f1': 0.77597675851106}\n"
     ]
    }
   ],
   "source": [
    "import pandas as pd, re, nltk, torch\n",
    "from datasets import Dataset\n",
    "from transformers import DebertaV2Tokenizer, DebertaV2ForSequenceClassification, get_scheduler\n",
    "from torch.utils.data import DataLoader\n",
    "from torch.optim import AdamW\n",
    "from sklearn.model_selection import train_test_split\n",
    "from sklearn.metrics import accuracy_score, precision_recall_fscore_support\n",
    "from tqdm import tqdm\n",
    "from nltk.corpus import stopwords\n",
    "import numpy as np\n",
    "\n",
    "# 📥 Download NLTK Stopwords\n",
    "nltk.download('stopwords')\n",
    "\n",
    "# ⚙️ Device setup\n",
    "device = torch.device(\"cuda\" if torch.cuda.is_available() else \"cpu\")\n",
    "print(\"Device:\", device)\n",
    "\n",
    "# 📂 Load and clean dataset\n",
    "df = pd.read_csv(\"/content/apple_samsung_yelp_sentiment.csv\", quotechar='\"', engine=\"python\", on_bad_lines='skip')\n",
    "df = df.rename(columns={\"review_text\": \"text\", \"sentiment\": \"label\"})\n",
    "\n",
    "stop_words = set(stopwords.words(\"english\"))\n",
    "def clean_text(text):\n",
    "    text = str(text).lower()\n",
    "    text = re.sub(r\"[^a-z\\s]\", \" \", text)\n",
    "    text = re.sub(r\"\\s+\", \" \", text).strip()\n",
    "    return \" \".join([w for w in text.split() if w not in stop_words])\n",
    "\n",
    "df[\"cleaned\"] = df[\"text\"].apply(clean_text)\n",
    "df[\"label\"] = df[\"label\"].map({-1: 0, 0: 1, 1: 2})\n",
    "\n",
    "# 🧪 Train/Val/Test split\n",
    "train_df, test_df = train_test_split(df, test_size=0.2, stratify=df[\"label\"], random_state=42)\n",
    "train_df, val_df = train_test_split(train_df, test_size=0.1, stratify=train_df[\"label\"], random_state=42)\n",
    "\n",
    "# 🤗 Convert to Hugging Face Datasets\n",
    "def to_dataset(d): return Dataset.from_pandas(d[[\"cleaned\", \"label\"]], preserve_index=False)\n",
    "train_ds, val_ds, test_ds = map(to_dataset, [train_df, val_df, test_df])\n",
    "\n",
    "# 🧠 Tokenization\n",
    "tokenizer = DebertaV2Tokenizer.from_pretrained(\"microsoft/deberta-v3-base\")\n",
    "def tokenize_fn(ex): return tokenizer(ex[\"cleaned\"], padding=\"max_length\", truncation=True, max_length=128)\n",
    "\n",
    "train_ds = train_ds.map(tokenize_fn, batched=True).rename_column(\"label\", \"labels\").remove_columns([\"cleaned\"]).with_format(\"torch\")\n",
    "val_ds   = val_ds.map(tokenize_fn, batched=True).rename_column(\"label\", \"labels\").remove_columns([\"cleaned\"]).with_format(\"torch\")\n",
    "test_ds  = test_ds.map(tokenize_fn, batched=True).rename_column(\"label\", \"labels\").remove_columns([\"cleaned\"]).with_format(\"torch\")\n",
    "\n",
    "# 🔢 Dataloaders\n",
    "train_loader = DataLoader(train_ds, batch_size=16, shuffle=True)\n",
    "val_loader   = DataLoader(val_ds, batch_size=16)\n",
    "test_loader  = DataLoader(test_ds, batch_size=16)\n",
    "\n",
    "# 📊 Class Weights (to handle imbalance)\n",
    "class_counts = train_df[\"label\"].value_counts().sort_index().values\n",
    "class_weights = torch.tensor(1.0 / class_counts, dtype=torch.float).to(device)\n",
    "loss_fn = torch.nn.CrossEntropyLoss(weight=class_weights)\n",
    "\n",
    "# 🧱 Model\n",
    "model = DebertaV2ForSequenceClassification.from_pretrained(\n",
    "    \"microsoft/deberta-v3-base\", num_labels=3\n",
    ").to(device)\n",
    "\n",
    "# 🎯 Optimizer & Scheduler\n",
    "optimizer = AdamW(model.parameters(), lr=2e-5)\n",
    "num_training_steps = len(train_loader) * 10  # for 10 epochs\n",
    "scheduler = get_scheduler(\"linear\", optimizer=optimizer, num_warmup_steps=0, num_training_steps=num_training_steps)\n",
    "\n",
    "# 🛑 Early stopping setup\n",
    "best_val_f1 = 0\n",
    "patience = 2\n",
    "patience_counter = 0\n",
    "\n",
    "# 🚂 Training loop\n",
    "for epoch in range(10):\n",
    "    print(f\"\\nEpoch {epoch + 1}\")\n",
    "    model.train()\n",
    "    total_loss = 0\n",
    "    for batch in tqdm(train_loader):\n",
    "        batch = {k: v.to(device) for k, v in batch.items()}\n",
    "        outputs = model(**batch)\n",
    "        loss = loss_fn(outputs.logits, batch[\"labels\"])\n",
    "        loss.backward()\n",
    "        torch.nn.utils.clip_grad_norm_(model.parameters(), 1.0)\n",
    "        optimizer.step()\n",
    "        scheduler.step()\n",
    "        optimizer.zero_grad()\n",
    "        total_loss += loss.item()\n",
    "    print(\"Train loss:\", total_loss / len(train_loader))\n",
    "\n",
    "    # 📈 Validation\n",
    "    model.eval()\n",
    "    preds, labels = [], []\n",
    "    with torch.no_grad():\n",
    "        for b in val_loader:\n",
    "            b = {k: v.to(device) for k, v in b.items()}\n",
    "            out = model(**b)\n",
    "            pred = torch.argmax(out.logits, dim=-1)\n",
    "            preds += pred.cpu().tolist()\n",
    "            labels += b[\"labels\"].cpu().tolist()\n",
    "\n",
    "    p, r, f, _ = precision_recall_fscore_support(labels, preds, average=\"weighted\")\n",
    "    print(\"Validation F1:\", f)\n",
    "\n",
    "    # Early stopping\n",
    "    if f > best_val_f1:\n",
    "        best_val_f1 = f\n",
    "        patience_counter = 0\n",
    "        torch.save(model.state_dict(), \"best_model.pt\")\n",
    "    else:\n",
    "        patience_counter += 1\n",
    "        if patience_counter >= patience:\n",
    "            print(\"Early stopping triggered!\")\n",
    "            break\n",
    "\n",
    "# 📊 Evaluation\n",
    "def evaluate(loader):\n",
    "    model.eval()\n",
    "    preds, labels = [], []\n",
    "    with torch.no_grad():\n",
    "        for b in loader:\n",
    "            b = {k: v.to(device) for k, v in b.items()}\n",
    "            o = model(**b)\n",
    "            pred = torch.argmax(o.logits, dim=-1)\n",
    "            preds += pred.cpu().tolist()\n",
    "            labels += b[\"labels\"].cpu().tolist()\n",
    "    p, r, f, _ = precision_recall_fscore_support(labels, preds, average=\"weighted\")\n",
    "    acc = accuracy_score(labels, preds)\n",
    "    return {\"accuracy\": acc, \"precision\": p, \"recall\": r, \"f1\": f}\n",
    "\n",
    "# Load best model\n",
    "model.load_state_dict(torch.load(\"best_model.pt\"))\n",
    "\n",
    "print(\"\\n✅ Final Validation:\", evaluate(val_loader))\n",
    "print(\"✅ Final Test:\", evaluate(test_loader))\n"
   ]
  },
  {
   "cell_type": "code",
   "execution_count": 1,
   "metadata": {
    "colab": {
     "base_uri": "https://localhost:8080/",
     "height": 734
    },
    "id": "dTIJEVz-0k-8",
    "outputId": "b1d5f479-22ca-4d0b-b735-b08c890c3b7b"
   },
   "outputs": [
    {
     "name": "stdout",
     "output_type": "stream",
     "text": [
      "\u001b[?25l   \u001b[90m━━━━━━━━━━━━━━━━━━━━━━━━━━━━━━━━━━━━━━━━\u001b[0m \u001b[32m0.0/491.2 kB\u001b[0m \u001b[31m?\u001b[0m eta \u001b[36m-:--:--\u001b[0m\r",
      "\u001b[2K   \u001b[90m━━━━━━━━━━━━━━━━━━━━━━━━━━━━━━━━━━━━━━━━\u001b[0m \u001b[32m491.2/491.2 kB\u001b[0m \u001b[31m25.7 MB/s\u001b[0m eta \u001b[36m0:00:00\u001b[0m\n",
      "\u001b[?25h\u001b[?25l   \u001b[90m━━━━━━━━━━━━━━━━━━━━━━━━━━━━━━━━━━━━━━━━\u001b[0m \u001b[32m0.0/410.5 kB\u001b[0m \u001b[31m?\u001b[0m eta \u001b[36m-:--:--\u001b[0m\r",
      "\u001b[2K   \u001b[90m━━━━━━━━━━━━━━━━━━━━━━━━━━━━━━━━━━━━━━━━\u001b[0m \u001b[32m410.5/410.5 kB\u001b[0m \u001b[31m25.8 MB/s\u001b[0m eta \u001b[36m0:00:00\u001b[0m\n",
      "\u001b[?25h\u001b[?25l   \u001b[90m━━━━━━━━━━━━━━━━━━━━━━━━━━━━━━━━━━━━━━━━\u001b[0m \u001b[32m0.0/116.3 kB\u001b[0m \u001b[31m?\u001b[0m eta \u001b[36m-:--:--\u001b[0m\r",
      "\u001b[2K   \u001b[90m━━━━━━━━━━━━━━━━━━━━━━━━━━━━━━━━━━━━━━━━\u001b[0m \u001b[32m116.3/116.3 kB\u001b[0m \u001b[31m8.9 MB/s\u001b[0m eta \u001b[36m0:00:00\u001b[0m\n",
      "\u001b[?25h\u001b[?25l   \u001b[90m━━━━━━━━━━━━━━━━━━━━━━━━━━━━━━━━━━━━━━━━\u001b[0m \u001b[32m0.0/183.9 kB\u001b[0m \u001b[31m?\u001b[0m eta \u001b[36m-:--:--\u001b[0m\r",
      "\u001b[2K   \u001b[90m━━━━━━━━━━━━━━━━━━━━━━━━━━━━━━━━━━━━━━━━\u001b[0m \u001b[32m183.9/183.9 kB\u001b[0m \u001b[31m14.9 MB/s\u001b[0m eta \u001b[36m0:00:00\u001b[0m\n",
      "\u001b[?25h\u001b[?25l   \u001b[90m━━━━━━━━━━━━━━━━━━━━━━━━━━━━━━━━━━━━━━━━\u001b[0m \u001b[32m0.0/143.5 kB\u001b[0m \u001b[31m?\u001b[0m eta \u001b[36m-:--:--\u001b[0m\r",
      "\u001b[2K   \u001b[90m━━━━━━━━━━━━━━━━━━━━━━━━━━━━━━━━━━━━━━━━\u001b[0m \u001b[32m143.5/143.5 kB\u001b[0m \u001b[31m12.4 MB/s\u001b[0m eta \u001b[36m0:00:00\u001b[0m\n",
      "\u001b[?25h\u001b[?25l   \u001b[90m━━━━━━━━━━━━━━━━━━━━━━━━━━━━━━━━━━━━━━━━\u001b[0m \u001b[32m0.0/194.8 kB\u001b[0m \u001b[31m?\u001b[0m eta \u001b[36m-:--:--\u001b[0m\r",
      "\u001b[2K   \u001b[90m━━━━━━━━━━━━━━━━━━━━━━━━━━━━━━━━━━━━━━━━\u001b[0m \u001b[32m194.8/194.8 kB\u001b[0m \u001b[31m15.7 MB/s\u001b[0m eta \u001b[36m0:00:00\u001b[0m\n",
      "\u001b[?25h\u001b[31mERROR: pip's dependency resolver does not currently take into account all the packages that are installed. This behaviour is the source of the following dependency conflicts.\n",
      "torch 2.6.0+cu124 requires nvidia-cublas-cu12==12.4.5.8; platform_system == \"Linux\" and platform_machine == \"x86_64\", but you have nvidia-cublas-cu12 12.5.3.2 which is incompatible.\n",
      "torch 2.6.0+cu124 requires nvidia-cuda-cupti-cu12==12.4.127; platform_system == \"Linux\" and platform_machine == \"x86_64\", but you have nvidia-cuda-cupti-cu12 12.5.82 which is incompatible.\n",
      "torch 2.6.0+cu124 requires nvidia-cuda-nvrtc-cu12==12.4.127; platform_system == \"Linux\" and platform_machine == \"x86_64\", but you have nvidia-cuda-nvrtc-cu12 12.5.82 which is incompatible.\n",
      "torch 2.6.0+cu124 requires nvidia-cuda-runtime-cu12==12.4.127; platform_system == \"Linux\" and platform_machine == \"x86_64\", but you have nvidia-cuda-runtime-cu12 12.5.82 which is incompatible.\n",
      "torch 2.6.0+cu124 requires nvidia-cudnn-cu12==9.1.0.70; platform_system == \"Linux\" and platform_machine == \"x86_64\", but you have nvidia-cudnn-cu12 9.3.0.75 which is incompatible.\n",
      "torch 2.6.0+cu124 requires nvidia-cufft-cu12==11.2.1.3; platform_system == \"Linux\" and platform_machine == \"x86_64\", but you have nvidia-cufft-cu12 11.2.3.61 which is incompatible.\n",
      "torch 2.6.0+cu124 requires nvidia-curand-cu12==10.3.5.147; platform_system == \"Linux\" and platform_machine == \"x86_64\", but you have nvidia-curand-cu12 10.3.6.82 which is incompatible.\n",
      "torch 2.6.0+cu124 requires nvidia-cusolver-cu12==11.6.1.9; platform_system == \"Linux\" and platform_machine == \"x86_64\", but you have nvidia-cusolver-cu12 11.6.3.83 which is incompatible.\n",
      "torch 2.6.0+cu124 requires nvidia-cusparse-cu12==12.3.1.170; platform_system == \"Linux\" and platform_machine == \"x86_64\", but you have nvidia-cusparse-cu12 12.5.1.3 which is incompatible.\n",
      "torch 2.6.0+cu124 requires nvidia-nvjitlink-cu12==12.4.127; platform_system == \"Linux\" and platform_machine == \"x86_64\", but you have nvidia-nvjitlink-cu12 12.5.82 which is incompatible.\n",
      "gcsfs 2025.3.0 requires fsspec==2025.3.0, but you have fsspec 2024.12.0 which is incompatible.\u001b[0m\u001b[31m\n",
      "\u001b[0m"
     ]
    },
    {
     "ename": "ImportError",
     "errorDetails": {
      "actions": [
       {
        "action": "open_url",
        "actionText": "Open Examples",
        "url": "/notebooks/snippets/importing_libraries.ipynb"
       }
      ]
     },
     "evalue": "cannot import name 'AdamW' from 'transformers' (/usr/local/lib/python3.11/dist-packages/transformers/__init__.py)",
     "output_type": "error",
     "traceback": [
      "\u001b[0;31m---------------------------------------------------------------------------\u001b[0m",
      "\u001b[0;31mImportError\u001b[0m                               Traceback (most recent call last)",
      "\u001b[0;32m<ipython-input-1-a471d7f5bab7>\u001b[0m in \u001b[0;36m<cell line: 0>\u001b[0;34m()\u001b[0m\n\u001b[1;32m      5\u001b[0m \u001b[0;32mimport\u001b[0m \u001b[0mpandas\u001b[0m \u001b[0;32mas\u001b[0m \u001b[0mpd\u001b[0m\u001b[0;34m,\u001b[0m \u001b[0mre\u001b[0m\u001b[0;34m,\u001b[0m \u001b[0mnltk\u001b[0m\u001b[0;34m,\u001b[0m \u001b[0mtorch\u001b[0m\u001b[0;34m\u001b[0m\u001b[0;34m\u001b[0m\u001b[0m\n\u001b[1;32m      6\u001b[0m \u001b[0;32mfrom\u001b[0m \u001b[0mdatasets\u001b[0m \u001b[0;32mimport\u001b[0m \u001b[0mDataset\u001b[0m\u001b[0;34m\u001b[0m\u001b[0;34m\u001b[0m\u001b[0m\n\u001b[0;32m----> 7\u001b[0;31m \u001b[0;32mfrom\u001b[0m \u001b[0mtransformers\u001b[0m \u001b[0;32mimport\u001b[0m \u001b[0mDebertaV2Tokenizer\u001b[0m\u001b[0;34m,\u001b[0m \u001b[0mDebertaV2ForSequenceClassification\u001b[0m\u001b[0;34m,\u001b[0m \u001b[0mAdamW\u001b[0m\u001b[0;34m,\u001b[0m \u001b[0mget_scheduler\u001b[0m\u001b[0;34m\u001b[0m\u001b[0;34m\u001b[0m\u001b[0m\n\u001b[0m\u001b[1;32m      8\u001b[0m \u001b[0;32mfrom\u001b[0m \u001b[0mtorch\u001b[0m\u001b[0;34m.\u001b[0m\u001b[0mutils\u001b[0m\u001b[0;34m.\u001b[0m\u001b[0mdata\u001b[0m \u001b[0;32mimport\u001b[0m \u001b[0mDataLoader\u001b[0m\u001b[0;34m\u001b[0m\u001b[0;34m\u001b[0m\u001b[0m\n\u001b[1;32m      9\u001b[0m \u001b[0;32mfrom\u001b[0m \u001b[0msklearn\u001b[0m\u001b[0;34m.\u001b[0m\u001b[0mmodel_selection\u001b[0m \u001b[0;32mimport\u001b[0m \u001b[0mtrain_test_split\u001b[0m\u001b[0;34m\u001b[0m\u001b[0;34m\u001b[0m\u001b[0m\n",
      "\u001b[0;31mImportError\u001b[0m: cannot import name 'AdamW' from 'transformers' (/usr/local/lib/python3.11/dist-packages/transformers/__init__.py)",
      "",
      "\u001b[0;31m---------------------------------------------------------------------------\u001b[0;32m\nNOTE: If your import is failing due to a missing package, you can\nmanually install dependencies using either !pip or !apt.\n\nTo view examples of installing some common dependencies, click the\n\"Open Examples\" button below.\n\u001b[0;31m---------------------------------------------------------------------------\u001b[0m\n"
     ]
    }
   ],
   "source": [
    "# 🚀 Install required packages\n",
    "!pip install -q transformers datasets nltk scikit-learn nlpaug\n",
    "\n",
    "# 📚 Imports\n",
    "import pandas as pd, re, nltk, torch\n",
    "from datasets import Dataset\n",
    "from transformers import DebertaV2Tokenizer, DebertaV2ForSequenceClassification, AdamW, get_scheduler\n",
    "from torch.utils.data import DataLoader\n",
    "from sklearn.model_selection import train_test_split\n",
    "from sklearn.metrics import accuracy_score, precision_recall_fscore_support\n",
    "from tqdm import tqdm\n",
    "import nlpaug.augmenter.word as naw\n",
    "import torch.nn as nn\n",
    "nltk.download('stopwords')\n",
    "from nltk.corpus import stopwords\n",
    "\n",
    "# ⚙️ Device setup\n",
    "device = torch.device(\"cuda\" if torch.cuda.is_available() else \"cpu\")\n",
    "print(\"Device:\", device)\n",
    "\n",
    "# 📂 Load and clean dataset\n",
    "df = pd.read_csv(\"/content/apple_samsung_yelp_sentiment.csv\")  # Upload this file to Colab\n",
    "df = df.rename(columns={\"review_text\": \"text\", \"sentiment\": \"label\"})\n",
    "\n",
    "stop_words = set(stopwords.words(\"english\"))\n",
    "def clean_text(text):\n",
    "    text = str(text).lower()\n",
    "    text = re.sub(r\"[^a-z\\\\s]\", \" \", text)\n",
    "    text = re.sub(r\"\\\\s+\", \" \", text).strip()\n",
    "    return \" \".join([w for w in text.split() if w not in stop_words])\n",
    "\n",
    "df[\"cleaned\"] = df[\"text\"].apply(clean_text)\n",
    "df[\"label\"] = df[\"label\"].map({-1: 0, 0: 1, 1: 2})\n",
    "\n",
    "# 🔁 Data augmentation (30% of dataset)\n",
    "aug = naw.SynonymAug(aug_src='wordnet')\n",
    "augmented = df.sample(frac=0.3, random_state=42).copy()\n",
    "augmented[\"cleaned\"] = augmented[\"cleaned\"].apply(lambda x: aug.augment(x))\n",
    "df = pd.concat([df, augmented], ignore_index=True)\n",
    "\n",
    "# ✂️ Split\n",
    "train_df, test_df = train_test_split(df, test_size=0.2, stratify=df[\"label\"], random_state=42)\n",
    "train_df, val_df = train_test_split(train_df, test_size=0.1, stratify=train_df[\"label\"], random_state=42)\n",
    "\n",
    "# 🤗 Tokenization\n",
    "tokenizer = DebertaV2Tokenizer.from_pretrained(\"microsoft/deberta-v3-base\")\n",
    "def tokenize_fn(ex): return tokenizer(ex[\"cleaned\"], padding=\"max_length\", truncation=True, max_length=128)\n",
    "\n",
    "def to_dataset(d): return Dataset.from_pandas(d[[\"cleaned\", \"label\"]], preserve_index=False)\n",
    "train_ds, val_ds, test_ds = map(to_dataset, [train_df, val_df, test_df])\n",
    "\n",
    "train_ds = train_ds.map(tokenize_fn, batched=True).rename_column(\"label\", \"labels\").remove_columns([\"cleaned\"]).with_format(\"torch\")\n",
    "val_ds = val_ds.map(tokenize_fn, batched=True).rename_column(\"label\", \"labels\").remove_columns([\"cleaned\"]).with_format(\"torch\")\n",
    "test_ds = test_ds.map(tokenize_fn, batched=True).rename_column(\"label\", \"labels\").remove_columns([\"cleaned\"]).with_format(\"torch\")\n",
    "\n",
    "# 🔥 Focal Loss Definition\n",
    "class FocalLoss(nn.Module):\n",
    "    def __init__(self, gamma=2, weight=None):\n",
    "        super().__init__()\n",
    "        self.gamma = gamma\n",
    "        self.weight = weight\n",
    "\n",
    "    def forward(self, input, target):\n",
    "        ce_loss = torch.nn.functional.cross_entropy(input, target, weight=self.weight, reduction=\"none\")\n",
    "        pt = torch.exp(-ce_loss)\n",
    "        focal_loss = ((1 - pt) ** self.gamma) * ce_loss\n",
    "        return focal_loss.mean()\n",
    "\n",
    "# 🧠 Model Setup\n",
    "model = DebertaV2ForSequenceClassification.from_pretrained(\"microsoft/deberta-v3-base\", num_labels=3).to(device)\n",
    "class_counts = train_df[\"label\"].value_counts().sort_index().values\n",
    "class_weights = torch.tensor(1.0 / class_counts, dtype=torch.float).to(device)\n",
    "loss_fn = FocalLoss(weight=class_weights)\n",
    "\n",
    "# 🔁 Dataloaders\n",
    "train_loader = DataLoader(train_ds, batch_size=16, shuffle=True)\n",
    "val_loader = DataLoader(val_ds, batch_size=16)\n",
    "test_loader = DataLoader(test_ds, batch_size=16)\n",
    "\n",
    "# 🎯 Optimizer & Scheduler\n",
    "optimizer = AdamW(model.parameters(), lr=2e-5)\n",
    "scheduler = get_scheduler(\"linear\", optimizer=optimizer, num_warmup_steps=0, num_training_steps=len(train_loader)*10)\n",
    "\n",
    "# 🛑 Early Stopping and Training Loop\n",
    "best_val_f1, patience, counter = 0, 3, 0\n",
    "for epoch in range(10):\n",
    "    print(f\"Epoch {epoch+1}\")\n",
    "    model.train()\n",
    "    for batch in tqdm(train_loader):\n",
    "        batch = {k: v.to(device) for k, v in batch.items()}\n",
    "        outputs = model(**batch)\n",
    "        loss = loss_fn(outputs.logits, batch[\"labels\"])\n",
    "        loss.backward()\n",
    "        torch.nn.utils.clip_grad_norm_(model.parameters(), 1.0)\n",
    "        optimizer.step()\n",
    "        scheduler.step()\n",
    "        optimizer.zero_grad()\n",
    "\n",
    "    # 🔍 Validation\n",
    "    model.eval()\n",
    "    preds, labels = [], []\n",
    "    with torch.no_grad():\n",
    "        for batch in val_loader:\n",
    "            batch = {k: v.to(device) for k, v in batch.items()}\n",
    "            outputs = model(**batch)\n",
    "            pred = torch.argmax(outputs.logits, dim=-1)\n",
    "            preds += pred.cpu().tolist()\n",
    "            labels += batch[\"labels\"].cpu().tolist()\n",
    "\n",
    "    p, r, f, _ = precision_recall_fscore_support(labels, preds, average=\"weighted\")\n",
    "    print(\"Validation F1:\", f)\n",
    "    if f > best_val_f1:\n",
    "        best_val_f1 = f\n",
    "        torch.save(model.state_dict(), \"best_model.pt\")\n",
    "        counter = 0\n",
    "    else:\n",
    "        counter += 1\n",
    "        if counter >= patience:\n",
    "            print(\"Early stopping triggered.\")\n",
    "            break\n",
    "\n",
    "# ✅ Evaluation\n",
    "model.load_state_dict(torch.load(\"best_model.pt\"))\n",
    "model.eval()\n",
    "\n",
    "def evaluate(loader):\n",
    "    preds, labels = [], []\n",
    "    with torch.no_grad():\n",
    "        for batch in loader:\n",
    "            batch = {k: v.to(device) for k, v in batch.items()}\n",
    "            outputs = model(**batch)\n",
    "            pred = torch.argmax(outputs.logits, dim=-1)\n",
    "            preds += pred.cpu().tolist()\n",
    "            labels += batch[\"labels\"].cpu().tolist()\n",
    "    p, r, f, _ = precision_recall_fscore_support(labels, preds, average=\"weighted\")\n",
    "    acc = accuracy_score(labels, preds)\n",
    "    return {\"accuracy\": acc, \"precision\": p, \"recall\": r, \"f1\": f}\n",
    "\n",
    "print(\"✅ Final Test Results:\", evaluate(test_loader))\n"
   ]
  },
  {
   "cell_type": "code",
   "execution_count": 12,
   "metadata": {
    "colab": {
     "base_uri": "https://localhost:8080/",
     "height": 1000,
     "referenced_widgets": [
      "5663b32a7e9e4e178c114697d975b1de",
      "db8b880aaaf841b2bb5583d69346d2c7",
      "1c60b18a1c4947bd92089cbe60d83c80",
      "4702c4b002e347969732de24f597c02b",
      "afc66af8d66a4a139d40a63b6400f447",
      "74f68cfb1bbf433e890e75533a920805",
      "6007e735f3954c6dbe7c5530fa89596f",
      "ae8e3d186a994924bbefced5d8cd4809",
      "73e6b0ef509d4093a997226c02d5d5b5",
      "cb4d70c0bdd4495b85f7ef528bc96717",
      "3d5f1a391ec34bbbbc09b2fc5f7146a8",
      "e027c1d156ae436fb8c6882b799a1fc2",
      "4d1d8a8b711c423a8652cbe5b06d4c32",
      "e8190f584b3548b3873f570f77d0bc6f",
      "b4f6a7ba8a2644698c68b3648ecfa0de",
      "1d8522f83e54468e8f465a1f054f7f13",
      "e6133fccbbde42b6bc394c0735356169",
      "5ea60f341b8e4292a6a0e056c7bc990d",
      "92ca199d12514a2d8e365dafc78ea0b7",
      "1d5a488b276944078fb86f4ab01fa4ef",
      "4f029247298a415f8af892d1c5e1a493",
      "f9d65ec7a78d45a18ee6828122c061df",
      "d3e7a5851f1745248e3d8366bf391ed3",
      "72a96303dd1543f6ab80c08e309939db",
      "3549d2ef0b604b68b298381054346fc8",
      "02dcd5ff1f754447aa7a77a273ca02f7",
      "4d6ed71334934bc992e0bd1a5fe950f6",
      "76e155e63124470a96bedda77bb9f765",
      "09c373bf97c349edb5f097bfccdc0418",
      "27200f45d0b247b0bcac6503938e54dc",
      "7195d1a4fdc744cf87cc9b0d640770a3",
      "86f4de22cc154885a2bd2edddb41bc76",
      "cc2759199e254965951fcecdb38969a5",
      "5f347759f3d44dffacda1155e93b7a71",
      "4147efcc494e458897fe9a6882e41ade",
      "5e388b5363b24b34892bd92fba963e14",
      "a9d9608484c146808af4be4d095aa132",
      "420028e9884b46ae9b7238388665edeb",
      "e46e0554ba9e4f9487511e031036ab86",
      "65ee85305bcf4e3a8d4095046657b732",
      "2d2900d7797e491c972e413a76cdcbc9",
      "5861daca310948f28aa9905eadc26694",
      "806b4dccbe8a4b57a931a680518593ec",
      "b1b9d4fd0fda45e483ef97ed3ef49216",
      "f634bceb81b84cfdbbd0e63d95de9466",
      "b82ea689092b489f92a2835af30ab237",
      "0b20f5bb1500450cb52f7720c79e09e4",
      "148c153b38e94060b64fc3960a635578",
      "9011661a8b7849d69f1d4371ffa63910",
      "d4d1ebb3a8aa4ec0ba34534f60ee7dc2",
      "34df1b30a1b54ad499383983fe68adf8",
      "f1b45983aeb2422c9c71399403e9d827",
      "48bce99e637a4b0d92b8856cf072e548",
      "bafa7064afb44a11bf1914b8f424d6f9",
      "afc263a87a3e427caf2fa921d823236a",
      "0924224d0bce480fab447b751e903051",
      "5fbf041c19234d8ba09deeca88d15490",
      "c294448cb0f044599e57789c2fd121d0",
      "9002407ca9d44346b63909d0c9a06324",
      "5c045da788c2480b85bc4a81b26f2919",
      "2d1d929974684057ba3a2696b052b942",
      "6b0f43ad1af346f4ad69415edcf80800",
      "f117ae9201e34f528a4a73d505ea3562",
      "e4c778bc536c48b8bad5ac4fc024a11d",
      "7a73746e522e4e16b1c9118b709ca0c3",
      "76ee4f58f1d74fbb8464bb5af9aef51a",
      "f9704d60250d4401b3d1ee642bb775a8",
      "1ae3a0eae7f84ad1b59cbcad6aec9557",
      "7973fdcfbe0c4e0982c8a6007ef26047",
      "7b0488e1e94d41f7b7b7c10d7ec77d0b",
      "5b4bfb9a321943de97f4d62b9f55d623",
      "649c6f720d48409a99f8b1c4ead0b1c8",
      "2ed2e4f2f6194684badbb3544c173cff",
      "d0ae9a2e38e649b5a80ad3aecb026d42",
      "a9995161d099452db4b77a8162867455",
      "b942153425284ce69f7d8575c8c08be1",
      "3aeab325f5ad494c99a9e6304b95c381",
      "09bce3731b10443bb3fead441da8494d",
      "c53ccc9b7a4b421baadc63000a281e89",
      "7f6ab07be26140ca9dd14c877c0edd01",
      "c159b5ce57b24d4c8bd50addf7b6ef97",
      "b7382d7f835b4d2695700d40c0781bdd",
      "a4522d0e11864427ae05e37e7df6d39a",
      "56df4278e3f443d6b2368088350d6de8",
      "3a68ee8ebdd045e9a824478f1e39ae6b",
      "4d47033c7189471eb6cae5b3688dcdf8",
      "571690b30b1e43b4a09346bc3325f127",
      "bc035b1837cd4c61ad42a7e0014fd42f"
     ]
    },
    "id": "psytHPIxU3zf",
    "outputId": "42f8c78e-08e3-4f71-db31-ea062d1a4f3e"
   },
   "outputs": [
    {
     "metadata": {
      "tags": null
     },
     "name": "stderr",
     "output_type": "stream",
     "text": [
      "[nltk_data] Downloading package stopwords to /root/nltk_data...\n",
      "[nltk_data]   Package stopwords is already up-to-date!\n",
      "[nltk_data] Downloading package wordnet to /root/nltk_data...\n",
      "[nltk_data]   Package wordnet is already up-to-date!\n"
     ]
    },
    {
     "metadata": {
      "tags": null
     },
     "name": "stdout",
     "output_type": "stream",
     "text": [
      "Device: cuda\n"
     ]
    },
    {
     "metadata": {
      "tags": null
     },
     "name": "stderr",
     "output_type": "stream",
     "text": [
      "/usr/local/lib/python3.11/dist-packages/huggingface_hub/utils/_auth.py:94: UserWarning: \n",
      "The secret `HF_TOKEN` does not exist in your Colab secrets.\n",
      "To authenticate with the Hugging Face Hub, create a token in your settings tab (https://huggingface.co/settings/tokens), set it as secret in your Google Colab and restart your session.\n",
      "You will be able to reuse this secret in all of your notebooks.\n",
      "Please note that authentication is recommended but still optional to access public models or datasets.\n",
      "  warnings.warn(\n"
     ]
    },
    {
     "data": {
      "application/vnd.jupyter.widget-view+json": {
       "model_id": "5663b32a7e9e4e178c114697d975b1de",
       "version_major": 2,
       "version_minor": 0
      },
      "text/plain": [
       "tokenizer_config.json:   0%|          | 0.00/52.0 [00:00<?, ?B/s]"
      ]
     },
     "metadata": {},
     "output_type": "display_data"
    },
    {
     "data": {
      "application/vnd.jupyter.widget-view+json": {
       "model_id": "e027c1d156ae436fb8c6882b799a1fc2",
       "version_major": 2,
       "version_minor": 0
      },
      "text/plain": [
       "spm.model:   0%|          | 0.00/2.46M [00:00<?, ?B/s]"
      ]
     },
     "metadata": {},
     "output_type": "display_data"
    },
    {
     "data": {
      "application/vnd.jupyter.widget-view+json": {
       "model_id": "d3e7a5851f1745248e3d8366bf391ed3",
       "version_major": 2,
       "version_minor": 0
      },
      "text/plain": [
       "config.json:   0%|          | 0.00/579 [00:00<?, ?B/s]"
      ]
     },
     "metadata": {},
     "output_type": "display_data"
    },
    {
     "data": {
      "application/vnd.jupyter.widget-view+json": {
       "model_id": "5f347759f3d44dffacda1155e93b7a71",
       "version_major": 2,
       "version_minor": 0
      },
      "text/plain": [
       "Map:   0%|          | 0/9042 [00:00<?, ? examples/s]"
      ]
     },
     "metadata": {},
     "output_type": "display_data"
    },
    {
     "data": {
      "application/vnd.jupyter.widget-view+json": {
       "model_id": "f634bceb81b84cfdbbd0e63d95de9466",
       "version_major": 2,
       "version_minor": 0
      },
      "text/plain": [
       "Map:   0%|          | 0/1005 [00:00<?, ? examples/s]"
      ]
     },
     "metadata": {},
     "output_type": "display_data"
    },
    {
     "data": {
      "application/vnd.jupyter.widget-view+json": {
       "model_id": "0924224d0bce480fab447b751e903051",
       "version_major": 2,
       "version_minor": 0
      },
      "text/plain": [
       "Map:   0%|          | 0/2512 [00:00<?, ? examples/s]"
      ]
     },
     "metadata": {},
     "output_type": "display_data"
    },
    {
     "data": {
      "application/vnd.jupyter.widget-view+json": {
       "model_id": "f9704d60250d4401b3d1ee642bb775a8",
       "version_major": 2,
       "version_minor": 0
      },
      "text/plain": [
       "pytorch_model.bin:   0%|          | 0.00/371M [00:00<?, ?B/s]"
      ]
     },
     "metadata": {},
     "output_type": "display_data"
    },
    {
     "metadata": {
      "tags": null
     },
     "name": "stderr",
     "output_type": "stream",
     "text": [
      "Some weights of DebertaV2ForSequenceClassification were not initialized from the model checkpoint at microsoft/deberta-v3-base and are newly initialized: ['classifier.bias', 'classifier.weight', 'pooler.dense.bias', 'pooler.dense.weight']\n",
      "You should probably TRAIN this model on a down-stream task to be able to use it for predictions and inference.\n"
     ]
    },
    {
     "metadata": {
      "tags": null
     },
     "name": "stdout",
     "output_type": "stream",
     "text": [
      "\n",
      "Epoch 1\n"
     ]
    },
    {
     "metadata": {
      "tags": null
     },
     "name": "stderr",
     "output_type": "stream",
     "text": [
      "\r",
      "  0%|          | 0/566 [00:00<?, ?it/s]"
     ]
    },
    {
     "data": {
      "application/vnd.jupyter.widget-view+json": {
       "model_id": "09bce3731b10443bb3fead441da8494d",
       "version_major": 2,
       "version_minor": 0
      },
      "text/plain": [
       "model.safetensors:   0%|          | 0.00/371M [00:00<?, ?B/s]"
      ]
     },
     "metadata": {},
     "output_type": "display_data"
    },
    {
     "metadata": {
      "tags": null
     },
     "name": "stderr",
     "output_type": "stream",
     "text": [
      "100%|██████████| 566/566 [04:30<00:00,  2.09it/s]\n",
      "/usr/local/lib/python3.11/dist-packages/sklearn/metrics/_classification.py:1565: UndefinedMetricWarning: Precision is ill-defined and being set to 0.0 in labels with no predicted samples. Use `zero_division` parameter to control this behavior.\n",
      "  _warn_prf(average, modifier, f\"{metric.capitalize()} is\", len(result))\n"
     ]
    },
    {
     "metadata": {
      "tags": null
     },
     "name": "stdout",
     "output_type": "stream",
     "text": [
      "Validation F1: 0.3240\n",
      "\n",
      "Epoch 2\n"
     ]
    },
    {
     "metadata": {
      "tags": null
     },
     "name": "stderr",
     "output_type": "stream",
     "text": [
      "100%|██████████| 566/566 [04:27<00:00,  2.11it/s]\n",
      "/usr/local/lib/python3.11/dist-packages/sklearn/metrics/_classification.py:1565: UndefinedMetricWarning: Precision is ill-defined and being set to 0.0 in labels with no predicted samples. Use `zero_division` parameter to control this behavior.\n",
      "  _warn_prf(average, modifier, f\"{metric.capitalize()} is\", len(result))\n"
     ]
    },
    {
     "metadata": {
      "tags": null
     },
     "name": "stdout",
     "output_type": "stream",
     "text": [
      "Validation F1: 0.3240\n",
      "\n",
      "Epoch 3\n"
     ]
    },
    {
     "name": "stderr",
     "output_type": "stream",
     "text": [
      "100%|██████████| 566/566 [04:27<00:00,  2.12it/s]\n",
      "/usr/local/lib/python3.11/dist-packages/sklearn/metrics/_classification.py:1565: UndefinedMetricWarning: Precision is ill-defined and being set to 0.0 in labels with no predicted samples. Use `zero_division` parameter to control this behavior.\n",
      "  _warn_prf(average, modifier, f\"{metric.capitalize()} is\", len(result))\n"
     ]
    },
    {
     "name": "stdout",
     "output_type": "stream",
     "text": [
      "Validation F1: 0.3240\n",
      "\n",
      "Epoch 4\n"
     ]
    },
    {
     "name": "stderr",
     "output_type": "stream",
     "text": [
      "100%|██████████| 566/566 [04:28<00:00,  2.11it/s]\n",
      "/usr/local/lib/python3.11/dist-packages/sklearn/metrics/_classification.py:1565: UndefinedMetricWarning: Precision is ill-defined and being set to 0.0 in labels with no predicted samples. Use `zero_division` parameter to control this behavior.\n",
      "  _warn_prf(average, modifier, f\"{metric.capitalize()} is\", len(result))\n"
     ]
    },
    {
     "name": "stdout",
     "output_type": "stream",
     "text": [
      "Validation F1: 0.3240\n",
      "Early stopping triggered.\n",
      "✅ Final Test Results: {'accuracy': 0.4912420382165605, 'precision': 0.24131874011116067, 'recall': 0.4912420382165605, 'f1': 0.3236479846018343}\n"
     ]
    },
    {
     "name": "stderr",
     "output_type": "stream",
     "text": [
      "/usr/local/lib/python3.11/dist-packages/sklearn/metrics/_classification.py:1565: UndefinedMetricWarning: Precision is ill-defined and being set to 0.0 in labels with no predicted samples. Use `zero_division` parameter to control this behavior.\n",
      "  _warn_prf(average, modifier, f\"{metric.capitalize()} is\", len(result))\n"
     ]
    }
   ],
   "source": [
    "# 🚀 Install required packages\n",
    "!pip install -q transformers datasets nltk scikit-learn\n",
    "\n",
    "# 📚 Imports\n",
    "import pandas as pd, re, nltk, torch\n",
    "from datasets import Dataset\n",
    "from transformers import DebertaV2Tokenizer, DebertaV2ForSequenceClassification, get_scheduler\n",
    "from torch.optim import AdamW\n",
    "from torch.utils.data import DataLoader\n",
    "from sklearn.model_selection import train_test_split\n",
    "from sklearn.metrics import accuracy_score, precision_recall_fscore_support\n",
    "from tqdm import tqdm\n",
    "import torch.nn as nn\n",
    "\n",
    "# 📥 Download NLTK resources\n",
    "nltk.download(\"stopwords\")\n",
    "nltk.download(\"wordnet\")\n",
    "\n",
    "# ⚙️ Set device\n",
    "device = torch.device(\"cuda\" if torch.cuda.is_available() else \"cpu\")\n",
    "print(\"Device:\", device)\n",
    "\n",
    "# 📂 Load and clean dataset\n",
    "df = pd.read_csv(\"/content/apple_samsung_yelp_sentiment.csv\")\n",
    "df = df.rename(columns={\"review_text\": \"text\", \"sentiment\": \"label\"})\n",
    "\n",
    "stop_words = set(nltk.corpus.stopwords.words(\"english\"))\n",
    "def clean_text(text):\n",
    "    text = str(text).lower()\n",
    "    text = re.sub(r\"[^a-z\\\\s]\", \" \", text)\n",
    "    text = re.sub(r\"\\\\s+\", \" \", text).strip()\n",
    "    return \" \".join([w for w in text.split() if w not in stop_words])\n",
    "df[\"cleaned\"] = df[\"text\"].apply(clean_text)\n",
    "df[\"label\"] = df[\"label\"].map({-1: 0, 0: 1, 1: 2})\n",
    "\n",
    "# ✂️ Train/Val/Test split\n",
    "train_df, test_df = train_test_split(df, test_size=0.2, stratify=df[\"label\"], random_state=42)\n",
    "train_df, val_df = train_test_split(train_df, test_size=0.1, stratify=train_df[\"label\"], random_state=42)\n",
    "\n",
    "# 🤗 Tokenization\n",
    "tokenizer = DebertaV2Tokenizer.from_pretrained(\"microsoft/deberta-v3-base\")\n",
    "def tokenize_fn(ex): return tokenizer(ex[\"cleaned\"], padding=\"max_length\", truncation=True, max_length=128)\n",
    "def to_dataset(d): return Dataset.from_pandas(d[[\"cleaned\", \"label\"]], preserve_index=False)\n",
    "\n",
    "train_ds, val_ds, test_ds = map(to_dataset, [train_df, val_df, test_df])\n",
    "train_ds = train_ds.map(tokenize_fn, batched=True).rename_column(\"label\", \"labels\").remove_columns([\"cleaned\"]).with_format(\"torch\")\n",
    "val_ds   = val_ds.map(tokenize_fn, batched=True).rename_column(\"label\", \"labels\").remove_columns([\"cleaned\"]).with_format(\"torch\")\n",
    "test_ds  = test_ds.map(tokenize_fn, batched=True).rename_column(\"label\", \"labels\").remove_columns([\"cleaned\"]).with_format(\"torch\")\n",
    "\n",
    "# 🔥 Focal Loss\n",
    "class FocalLoss(nn.Module):\n",
    "    def __init__(self, gamma=2, weight=None):\n",
    "        super().__init__()\n",
    "        self.gamma = gamma\n",
    "        self.weight = weight\n",
    "    def forward(self, input, target):\n",
    "        ce_loss = nn.functional.cross_entropy(input, target, weight=self.weight, reduction=\"none\")\n",
    "        pt = torch.exp(-ce_loss)\n",
    "        return ((1 - pt) ** self.gamma * ce_loss).mean()\n",
    "\n",
    "# 🧠 Model and optimizer\n",
    "model = DebertaV2ForSequenceClassification.from_pretrained(\"microsoft/deberta-v3-base\", num_labels=3).to(device)\n",
    "class_counts = train_df[\"label\"].value_counts().sort_index().values\n",
    "class_weights = torch.tensor(1.0 / class_counts, dtype=torch.float).to(device)\n",
    "loss_fn = FocalLoss(weight=class_weights)\n",
    "\n",
    "train_loader = DataLoader(train_ds, batch_size=16, shuffle=True)\n",
    "val_loader   = DataLoader(val_ds, batch_size=16)\n",
    "test_loader  = DataLoader(test_ds, batch_size=16)\n",
    "optimizer = AdamW(model.parameters(), lr=2e-5)\n",
    "scheduler = get_scheduler(\"linear\", optimizer=optimizer, num_warmup_steps=0, num_training_steps=len(train_loader) * 10)\n",
    "\n",
    "# 🛠 Training Loop\n",
    "best_val_f1, patience, counter = 0, 3, 0\n",
    "for epoch in range(10):\n",
    "    print(f\"\\nEpoch {epoch+1}\")\n",
    "    model.train()\n",
    "    for batch in tqdm(train_loader):\n",
    "        batch = {k: v.to(device) for k, v in batch.items()}\n",
    "        out = model(**batch)\n",
    "        loss = loss_fn(out.logits, batch[\"labels\"])\n",
    "        loss.backward()\n",
    "        torch.nn.utils.clip_grad_norm_(model.parameters(), 1.0)\n",
    "        optimizer.step()\n",
    "        scheduler.step()\n",
    "        optimizer.zero_grad()\n",
    "\n",
    "    # 📈 Validation\n",
    "    model.eval()\n",
    "    preds, labels = [], []\n",
    "    with torch.no_grad():\n",
    "        for batch in val_loader:\n",
    "            batch = {k: v.to(device) for k, v in batch.items()}\n",
    "            out = model(**batch)\n",
    "            pred = torch.argmax(out.logits, dim=-1)\n",
    "            preds += pred.cpu().tolist()\n",
    "            labels += batch[\"labels\"].cpu().tolist()\n",
    "\n",
    "    p, r, f, _ = precision_recall_fscore_support(labels, preds, average=\"weighted\")\n",
    "    print(f\"Validation F1: {f:.4f}\")\n",
    "    if f > best_val_f1:\n",
    "        best_val_f1 = f\n",
    "        counter = 0\n",
    "        torch.save(model.state_dict(), \"best_model.pt\")\n",
    "    else:\n",
    "        counter += 1\n",
    "        if counter >= patience:\n",
    "            print(\"Early stopping triggered.\")\n",
    "            break\n",
    "\n",
    "# ✅ Evaluation\n",
    "model.load_state_dict(torch.load(\"best_model.pt\"))\n",
    "model.eval()\n",
    "def evaluate(loader):\n",
    "    preds, labels = [], []\n",
    "    with torch.no_grad():\n",
    "        for batch in loader:\n",
    "            batch = {k: v.to(device) for k, v in batch.items()}\n",
    "            out = model(**batch)\n",
    "            pred = torch.argmax(out.logits, dim=-1)\n",
    "            preds += pred.cpu().tolist()\n",
    "            labels += batch[\"labels\"].cpu().tolist()\n",
    "    p, r, f, _ = precision_recall_fscore_support(labels, preds, average=\"weighted\")\n",
    "    acc = accuracy_score(labels, preds)\n",
    "    return {\"accuracy\": acc, \"precision\": p, \"recall\": r, \"f1\": f}\n",
    "\n",
    "print(\"✅ Final Test Results:\", evaluate(test_loader))\n"
   ]
  },
  {
   "cell_type": "markdown",
   "metadata": {
    "id": "Ac0l6pZJ_bTs"
   },
   "source": []
  },
  {
   "cell_type": "code",
   "execution_count": 14,
   "metadata": {
    "colab": {
     "base_uri": "https://localhost:8080/",
     "height": 950,
     "referenced_widgets": [
      "c529694460174e75bc58498260a7afcc",
      "ce036c766547441e828116be8a3ec095",
      "8fea879abf3e432f9070057fd6e779cd",
      "2d7820ba94b94cd78ef6328025c8a694",
      "c233da3fd6d24dfe997ca8c2c6e6d658",
      "cd1087f1550d4967bb7e68167716a3d5",
      "22e59da12e5a4e9b82ea3b5b86ff3b86",
      "19b1e995e891435ab3cc5946dfa6b672",
      "f1c6413eca0845dfb4b0b85a0bf308ee",
      "d5b25d4a92ac4bdfac6e6ba36de34072",
      "d5d04ceda14b486a89745b86c6c8ccdc",
      "517d542b92ee414181eb7cc36880ca01",
      "bd0b527988d64341901ec876cbca7a99",
      "f5b11d73baa94864acdb94481c1e7958",
      "df7bf227cc6c41adb81b0f450eb6355f",
      "cd4234b65ab84f2da4b139c7eb0dcea4",
      "cf82259af5fe43e0a2e24691a28b30f3",
      "4ac4293d3f564ec7a72648d10990dab6",
      "a67bb429f318457ba244e702dfd242fc",
      "56660eae48434c618df6838aaca52799",
      "fcb0dd42dd23472881088cde3734ebca",
      "c7dd05fea2b24f9e8aa22f09b8ef43e4",
      "d7ef48feb1f04080adcceb1e053c2153",
      "292faa9b91a94100875ad65dee75f7f9",
      "f8904d0731d4403a8d6e17e6b0a68ff6",
      "a3b2c4b3d5174e4eb1ccc1b8bd767723",
      "a6f14d0b95664b16ad8b4f317a0a1444",
      "edbd85109bfa46f1bb430b9842c653aa",
      "7e46c0555fed490f876e2bc2861e6b7e",
      "aca881005e6145dda1bb541d6d1ae769",
      "11cdb5741a9044329cd48e7e3b641e85",
      "fd9c767a07d24b5da7d91d7e44b7101b",
      "d08bd3e552974d38a12defa6c6875b3c",
      "7fcaee03746b4940b66658c3ee0efd47",
      "7ab8d8d64ca34c06a8c9ee1cf118f666",
      "515363df9afd48c4973614829a23ee5a",
      "f636e742ecd24c75aab19ab17a0e592b",
      "393d3418bd6f4d27b8b5ffafddd85022",
      "7c81f5ae18124a5fb08f20d4f84878b8",
      "0b2235b354df47f8bb1a2d02ee48f957",
      "6df9f0a88bb7493a975fd55163d07207",
      "0e855540e22e42569d5d966af732275c",
      "4ef7b45a7f694726bbdc248c303a315e",
      "0ea460c7739c4a94950f3d10827e9412",
      "2b87a7e1b6c941b18939d99abf6cd741",
      "79bb46c18ca4447cab3d45dbb404a88c",
      "d4d502d10bf54fe394082e321146e4b3",
      "338163ab53144e2eb63971d16468aff9",
      "7b7dd44a32404818b2ea0caad7fdaace",
      "b1a719b97b884317ac3e872a2d4d10b7",
      "88fcd4b3fb5749f5876a8187f55df2c7",
      "13a0383a366340728e59cec5337c81c7",
      "c1f35415c4f641e1b158c36697aca397",
      "7bf3bfb2f2cc4ef68075ab268ca20759",
      "dcea9973125247c8b10f6fe9f1f00dab",
      "7ef3671ee3fb40dd98791da0ea856fe9",
      "8a0dc1bce2e7447d91f30970b2f7eda2",
      "5314d6a8075c46dab5ed868a5ebdfd4d",
      "5799ed6e5da44635a8af15668af333c4",
      "2dd72ab647144f5cbabd8f1973d33396",
      "f8125f7eac6e42a1b31a3cbd7a4ae3df",
      "6672f843b5aa45f3ad89c5651c621716",
      "768ee3f1b68c44d0a517c12f152dfcc0",
      "bcf044eb7fee460a8e3ba879a37b5e69",
      "afab170f98fc4944b9b576a82d1133ae",
      "6f7e6fc0da48492c9f75a18b126a16d0",
      "b392076fb4a44966ae511c058e97c01b",
      "9210da81074247e08b290c0ee96c033d",
      "ebf2bb7ee4ab4ca3a3b748f17cbcf2d0",
      "ce3ece50733349f5aa04493279f98550",
      "97957a644f424de38ecbed24c3d191c1",
      "166457a106d24809bb8317f2ece4e110",
      "480c816765f9438d8a4f94c577cc9cff",
      "de208d73c444477fa17153e775bdd179",
      "42bd6936d7f64e1f9a3d1489b389fd9c",
      "970f01107b3e46649884590cf1f65883",
      "e2f2af0be7d244bb959bf8d15d0a61ac",
      "226b925f948f42adb1c53d0ca7a41683",
      "c0ca131eef0440d38c2ddd6a79476739",
      "be46b38a9a2040f2b6fa826fd6a10fb6",
      "cc31eecc8ac740779f36808b4f5573c6",
      "2bdcdea7f718480bb69c984bbc3bf840",
      "8a56aa58aad549cf8c1a2cdbd5ffd259",
      "a18139703d814b99a1cdf882bbe06c4e",
      "80f66e9e2d6946b6b53b9d58588531cc",
      "9a559bea58a54f19b51d1e7bb7470380",
      "749b9171d9f94b9faf9eeb9f202f7c57",
      "c40ca5bd2ddb4fb1ad666be57c115335",
      "1651acec4a62478db7e7662ddf1ef636",
      "bde489057a3949879eb16a5c84390fb1",
      "9f29dbc03e45419eaa3f87237765bd59",
      "e6ef3f43800e45cf92cd477d5cb7c12c",
      "6fe289eb6539446888c11f3a96eba273",
      "e034fd51e1da488d868505778a2aa5c0",
      "a532d50dfd42407ea33ef72a887e9f77",
      "674b0d84a1174b16b938c29d3efd8003",
      "7e6ef7ad7a004c7f8108be00cdb5258d",
      "a4eb2a416ee74cd1ae898759a43385d9",
      "fed43c0b112a4d0d8bc13c9b06a62d43"
     ]
    },
    "id": "GWB7gnFM_bcy",
    "outputId": "02091897-0e1f-424e-b74d-cbef3f266b43"
   },
   "outputs": [
    {
     "name": "stderr",
     "output_type": "stream",
     "text": [
      "[nltk_data] Downloading package stopwords to /root/nltk_data...\n",
      "[nltk_data]   Package stopwords is already up-to-date!\n"
     ]
    },
    {
     "name": "stdout",
     "output_type": "stream",
     "text": [
      "Device: cuda\n"
     ]
    },
    {
     "data": {
      "application/vnd.jupyter.widget-view+json": {
       "model_id": "c529694460174e75bc58498260a7afcc",
       "version_major": 2,
       "version_minor": 0
      },
      "text/plain": [
       "tokenizer_config.json:   0%|          | 0.00/25.0 [00:00<?, ?B/s]"
      ]
     },
     "metadata": {},
     "output_type": "display_data"
    },
    {
     "data": {
      "application/vnd.jupyter.widget-view+json": {
       "model_id": "517d542b92ee414181eb7cc36880ca01",
       "version_major": 2,
       "version_minor": 0
      },
      "text/plain": [
       "vocab.json:   0%|          | 0.00/899k [00:00<?, ?B/s]"
      ]
     },
     "metadata": {},
     "output_type": "display_data"
    },
    {
     "data": {
      "application/vnd.jupyter.widget-view+json": {
       "model_id": "d7ef48feb1f04080adcceb1e053c2153",
       "version_major": 2,
       "version_minor": 0
      },
      "text/plain": [
       "merges.txt:   0%|          | 0.00/456k [00:00<?, ?B/s]"
      ]
     },
     "metadata": {},
     "output_type": "display_data"
    },
    {
     "data": {
      "application/vnd.jupyter.widget-view+json": {
       "model_id": "7fcaee03746b4940b66658c3ee0efd47",
       "version_major": 2,
       "version_minor": 0
      },
      "text/plain": [
       "tokenizer.json:   0%|          | 0.00/1.36M [00:00<?, ?B/s]"
      ]
     },
     "metadata": {},
     "output_type": "display_data"
    },
    {
     "data": {
      "application/vnd.jupyter.widget-view+json": {
       "model_id": "2b87a7e1b6c941b18939d99abf6cd741",
       "version_major": 2,
       "version_minor": 0
      },
      "text/plain": [
       "config.json:   0%|          | 0.00/481 [00:00<?, ?B/s]"
      ]
     },
     "metadata": {},
     "output_type": "display_data"
    },
    {
     "data": {
      "application/vnd.jupyter.widget-view+json": {
       "model_id": "7ef3671ee3fb40dd98791da0ea856fe9",
       "version_major": 2,
       "version_minor": 0
      },
      "text/plain": [
       "Map:   0%|          | 0/9042 [00:00<?, ? examples/s]"
      ]
     },
     "metadata": {},
     "output_type": "display_data"
    },
    {
     "data": {
      "application/vnd.jupyter.widget-view+json": {
       "model_id": "b392076fb4a44966ae511c058e97c01b",
       "version_major": 2,
       "version_minor": 0
      },
      "text/plain": [
       "Map:   0%|          | 0/1005 [00:00<?, ? examples/s]"
      ]
     },
     "metadata": {},
     "output_type": "display_data"
    },
    {
     "data": {
      "application/vnd.jupyter.widget-view+json": {
       "model_id": "226b925f948f42adb1c53d0ca7a41683",
       "version_major": 2,
       "version_minor": 0
      },
      "text/plain": [
       "Map:   0%|          | 0/2512 [00:00<?, ? examples/s]"
      ]
     },
     "metadata": {},
     "output_type": "display_data"
    },
    {
     "data": {
      "application/vnd.jupyter.widget-view+json": {
       "model_id": "1651acec4a62478db7e7662ddf1ef636",
       "version_major": 2,
       "version_minor": 0
      },
      "text/plain": [
       "model.safetensors:   0%|          | 0.00/499M [00:00<?, ?B/s]"
      ]
     },
     "metadata": {},
     "output_type": "display_data"
    },
    {
     "name": "stderr",
     "output_type": "stream",
     "text": [
      "Some weights of RobertaForSequenceClassification were not initialized from the model checkpoint at roberta-base and are newly initialized: ['classifier.dense.bias', 'classifier.dense.weight', 'classifier.out_proj.bias', 'classifier.out_proj.weight']\n",
      "You should probably TRAIN this model on a down-stream task to be able to use it for predictions and inference.\n"
     ]
    },
    {
     "name": "stdout",
     "output_type": "stream",
     "text": [
      "\n",
      "Epoch 1\n"
     ]
    },
    {
     "name": "stderr",
     "output_type": "stream",
     "text": [
      "100%|██████████| 566/566 [03:27<00:00,  2.72it/s]\n"
     ]
    },
    {
     "name": "stdout",
     "output_type": "stream",
     "text": [
      "Validation F1: 0.6952\n",
      "\n",
      "Epoch 2\n"
     ]
    },
    {
     "name": "stderr",
     "output_type": "stream",
     "text": [
      "100%|██████████| 566/566 [03:26<00:00,  2.74it/s]\n"
     ]
    },
    {
     "name": "stdout",
     "output_type": "stream",
     "text": [
      "Validation F1: 0.7498\n",
      "\n",
      "Epoch 3\n"
     ]
    },
    {
     "name": "stderr",
     "output_type": "stream",
     "text": [
      "100%|██████████| 566/566 [03:26<00:00,  2.74it/s]\n"
     ]
    },
    {
     "name": "stdout",
     "output_type": "stream",
     "text": [
      "Validation F1: 0.7578\n",
      "\n",
      "Epoch 4\n"
     ]
    },
    {
     "name": "stderr",
     "output_type": "stream",
     "text": [
      "100%|██████████| 566/566 [03:26<00:00,  2.74it/s]\n"
     ]
    },
    {
     "name": "stdout",
     "output_type": "stream",
     "text": [
      "Validation F1: 0.7613\n",
      "\n",
      "Epoch 5\n"
     ]
    },
    {
     "name": "stderr",
     "output_type": "stream",
     "text": [
      "100%|██████████| 566/566 [03:26<00:00,  2.74it/s]\n"
     ]
    },
    {
     "name": "stdout",
     "output_type": "stream",
     "text": [
      "Validation F1: 0.7563\n",
      "\n",
      "Epoch 6\n"
     ]
    },
    {
     "name": "stderr",
     "output_type": "stream",
     "text": [
      "100%|██████████| 566/566 [03:26<00:00,  2.75it/s]\n"
     ]
    },
    {
     "name": "stdout",
     "output_type": "stream",
     "text": [
      "Validation F1: 0.7557\n",
      "\n",
      "Epoch 7\n"
     ]
    },
    {
     "name": "stderr",
     "output_type": "stream",
     "text": [
      "100%|██████████| 566/566 [03:26<00:00,  2.75it/s]\n"
     ]
    },
    {
     "name": "stdout",
     "output_type": "stream",
     "text": [
      "Validation F1: 0.7558\n",
      "Early stopping triggered.\n",
      "✅ Final Test Results: {'accuracy': 0.759952229299363, 'precision': 0.7772359241083165, 'recall': 0.759952229299363, 'f1': 0.7665571794395611}\n"
     ]
    }
   ],
   "source": [
    "# 🚀 Install required libraries\n",
    "# !pip install -q transformers datasets nltk scikit-learn\n",
    "\n",
    "# 📚 Imports\n",
    "import pandas as pd, re, nltk, torch\n",
    "from datasets import Dataset\n",
    "from transformers import RobertaTokenizer, RobertaForSequenceClassification, get_scheduler\n",
    "from torch.optim import AdamW\n",
    "from torch.utils.data import DataLoader\n",
    "from sklearn.model_selection import train_test_split\n",
    "from sklearn.metrics import accuracy_score, precision_recall_fscore_support\n",
    "from tqdm import tqdm\n",
    "import torch.nn as nn\n",
    "\n",
    "# 📥 Download NLTK stopwords\n",
    "nltk.download(\"stopwords\")\n",
    "\n",
    "# ⚙️ Set device\n",
    "device = torch.device(\"cuda\" if torch.cuda.is_available() else \"cpu\")\n",
    "print(\"Device:\", device)\n",
    "\n",
    "# 📂 Load and lightly clean dataset\n",
    "df = pd.read_csv(\"/content/apple_samsung_yelp_sentiment.csv\")\n",
    "df = df.rename(columns={\"review_text\": \"text\", \"sentiment\": \"label\"})\n",
    "\n",
    "def clean_text(text):\n",
    "    text = str(text).lower()\n",
    "    text = re.sub(r\"\\s+\", \" \", text).strip()\n",
    "    return text\n",
    "\n",
    "df[\"cleaned\"] = df[\"text\"].apply(clean_text)\n",
    "df[\"label\"] = df[\"label\"].map({-1: 0, 0: 1, 1: 2})\n",
    "\n",
    "# ✂️ Train/Val/Test split\n",
    "train_df, test_df = train_test_split(df, test_size=0.2, stratify=df[\"label\"], random_state=42)\n",
    "train_df, val_df = train_test_split(train_df, test_size=0.1, stratify=train_df[\"label\"], random_state=42)\n",
    "\n",
    "# 🤗 Tokenization with RobertaTokenizer\n",
    "tokenizer = RobertaTokenizer.from_pretrained(\"roberta-base\")\n",
    "def tokenize_fn(ex): return tokenizer(ex[\"cleaned\"], padding=\"max_length\", truncation=True, max_length=128)\n",
    "def to_dataset(d): return Dataset.from_pandas(d[[\"cleaned\", \"label\"]], preserve_index=False)\n",
    "\n",
    "train_ds, val_ds, test_ds = map(to_dataset, [train_df, val_df, test_df])\n",
    "train_ds = train_ds.map(tokenize_fn, batched=True).rename_column(\"label\", \"labels\").remove_columns([\"cleaned\"]).with_format(\"torch\")\n",
    "val_ds   = val_ds.map(tokenize_fn, batched=True).rename_column(\"label\", \"labels\").remove_columns([\"cleaned\"]).with_format(\"torch\")\n",
    "test_ds  = test_ds.map(tokenize_fn, batched=True).rename_column(\"label\", \"labels\").remove_columns([\"cleaned\"]).with_format(\"torch\")\n",
    "\n",
    "# 🧠 Model and optimizer\n",
    "model = RobertaForSequenceClassification.from_pretrained(\"roberta-base\", num_labels=3).to(device)\n",
    "loss_fn = nn.CrossEntropyLoss()\n",
    "\n",
    "train_loader = DataLoader(train_ds, batch_size=16, shuffle=True)\n",
    "val_loader   = DataLoader(val_ds, batch_size=16)\n",
    "test_loader  = DataLoader(test_ds, batch_size=16)\n",
    "optimizer = AdamW(model.parameters(), lr=2e-5)\n",
    "scheduler = get_scheduler(\"linear\", optimizer=optimizer, num_warmup_steps=0, num_training_steps=len(train_loader) * 10)\n",
    "\n",
    "# 🛠 Training Loop w/ Early Stopping\n",
    "best_val_f1, patience, counter = 0, 3, 0\n",
    "for epoch in range(10):\n",
    "    print(f\"\\nEpoch {epoch+1}\")\n",
    "    model.train()\n",
    "    for batch in tqdm(train_loader):\n",
    "        batch = {k: v.to(device) for k, v in batch.items()}\n",
    "        out = model(**batch)\n",
    "        loss = loss_fn(out.logits, batch[\"labels\"])\n",
    "        loss.backward()\n",
    "        torch.nn.utils.clip_grad_norm_(model.parameters(), 1.0)\n",
    "        optimizer.step()\n",
    "        scheduler.step()\n",
    "        optimizer.zero_grad()\n",
    "\n",
    "    # 📈 Validation\n",
    "    model.eval()\n",
    "    preds, labels = [], []\n",
    "    with torch.no_grad():\n",
    "        for batch in val_loader:\n",
    "            batch = {k: v.to(device) for k, v in batch.items()}\n",
    "            out = model(**batch)\n",
    "            pred = torch.argmax(out.logits, dim=-1)\n",
    "            preds += pred.cpu().tolist()\n",
    "            labels += batch[\"labels\"].cpu().tolist()\n",
    "\n",
    "    p, r, f, _ = precision_recall_fscore_support(labels, preds, average=\"weighted\")\n",
    "    print(f\"Validation F1: {f:.4f}\")\n",
    "    if f > best_val_f1:\n",
    "        best_val_f1 = f\n",
    "        counter = 0\n",
    "        torch.save(model.state_dict(), \"best_roberta_model.pt\")\n",
    "    else:\n",
    "        counter += 1\n",
    "        if counter >= patience:\n",
    "            print(\"Early stopping triggered.\")\n",
    "            break\n",
    "\n",
    "# ✅ Final Test Evaluation\n",
    "model.load_state_dict(torch.load(\"best_roberta_model.pt\"))\n",
    "model.eval()\n",
    "def evaluate(loader):\n",
    "    preds, labels = [], []\n",
    "    with torch.no_grad():\n",
    "        for batch in loader:\n",
    "            batch = {k: v.to(device) for k, v in batch.items()}\n",
    "            out = model(**batch)\n",
    "            pred = torch.argmax(out.logits, dim=-1)\n",
    "            preds += pred.cpu().tolist()\n",
    "            labels += batch[\"labels\"].cpu().tolist()\n",
    "    p, r, f, _ = precision_recall_fscore_support(labels, preds, average=\"weighted\")\n",
    "    acc = accuracy_score(labels, preds)\n",
    "    return {\"accuracy\": acc, \"precision\": p, \"recall\": r, \"f1\": f}\n",
    "\n",
    "print(\"✅ Final Test Results:\", evaluate(test_loader))\n"
   ]
  },
  {
   "cell_type": "markdown",
   "metadata": {
    "id": "D41MAQEGIqv9"
   },
   "source": [
    "wesome! Let's use a domain-specific model for sentiment analysis:\n",
    "\n",
    "cardiffnlp/twitter-roberta-base-sentiment\n",
    "It’s fine-tuned on millions of tweets, making it great for short reviews, informal language, and polarized opinions — just like your Apple vs. Samsung dataset."
   ]
  },
  {
   "cell_type": "code",
   "execution_count": null,
   "metadata": {
    "colab": {
     "base_uri": "https://localhost:8080/",
     "height": 484,
     "referenced_widgets": [
      "5fd76c8f18a947b4a28dc205918737d0",
      "e8f007434e4e44fa932738e98f8ae859",
      "ba4675ede210444db45177eaa0db6a40",
      "741a20a2062a4169ac3d2f89a57e20fe",
      "7212ab86f02e4f048987eedb2461a4b1",
      "a2ac59c6e50f44f4bb4928c956071448",
      "b1b9d439b02142079169dc2e580fffbc",
      "0b4ce6f84a7047268f71d6370e2a37f1",
      "8ffe190adfa241c8ba95e18da9cf9429",
      "9126e6d83602499e83249b767af256cd",
      "87b98c23abd64805be1bee8144510ced",
      "1537195438324e0687b1a82e71d2e247",
      "b0dabdb6598d44758a119811233c1861",
      "3832c125874a43bb97c2d57e0aa5aa8e",
      "276b03fe0b8241a9983a4277c191bf67",
      "03f49d57ca7748d99048333c658f0ad0",
      "896c49016e12420a87e589f455b34992",
      "a2db6c26f3fd4378befeebe4fa07ae2d",
      "673bc1c09d2c4094be892c98dc32ddfd",
      "bc81ec61077b42de8d900edb1cd3467b",
      "03944ae8a74848dbb21a0be5a2ebd460",
      "9d08647de74d4ac7b4548ce1df69db65",
      "ea6e66e84fb148dea2351f8904920e20",
      "7230c11d3aee4198b90bf58cea02c540",
      "8e087fb6eccb4544b7ffdaad3f77de8e",
      "2bba187ead8249269b02ff616340d7e3",
      "e732a80a15ee44e4ae40026dd9575707",
      "a4b67ed9e45a42aba8691705331f0ee3",
      "4f58f41837b24af68141ff60a3e6a5b5",
      "830b50a80aa14815b6a333bab354a107",
      "16314956518f4b52b91f5cbaf6686041",
      "eea6171c901547128ab98269ca1710ad",
      "807b424f7fd045bfbf561bdc70dd71e6",
      "0b6ded6c88ef4df28456a005cfc615a3",
      "f945a7ed638043b887894d06247535ef",
      "06e36fd088ab4751a22ada78882e453a",
      "890f4db0fb4e4b9685e488437da20999",
      "661fddd867f145c8aa9b7a645e05f5c1",
      "1fa634ab9d204331af6a8e2b6bbd4b27",
      "71d9bbeddf2b410cbe8915b59f881778",
      "07cd40596e5f48be88059b7052b65cba",
      "3e0d6f6e12d341f18a53e77cec0fa04c",
      "5537b474268048918e9b2563172d7a7d",
      "82fec408ca9f49d389546b053c158811",
      "2d8c91b11f3a4d878a7d55910dbb3480",
      "b4e2b15f4b0143ef9dbfc494ccde9635",
      "2a0b251bc800445abbec06f5d1fe1db3",
      "b0d034c381d74d8287f387d2f140dff1",
      "ee24237c0e324dc8aed9eaf1b246393b",
      "a51acfc2e69b4a76a0748743a6b58341",
      "3a740e3d3dbc4ddfb116bffeeea0d091",
      "6d92db2ab9c3478d93cef91cdd5ab5f8",
      "3958198ee7d14d4f915c526b376dffbe",
      "8cae8b1caba54f7da4de464d436a091e",
      "5e04312ae1fd46af9f07e3d948e76552",
      "ccf483e2aff94c42b8028dc797e25e1c",
      "ffff2ee1642a4433b566c250c1608d36",
      "053168525c334eafb93930b0f8a887a0",
      "04910160b45a4d879a34c1748f422fa5",
      "b791e1093bd647af98e4c1c416aaea02",
      "b38140475ed94c5694e6e5cbf9eb8c8b",
      "cd44a63cfd12485aa75deafeb6241553",
      "a16e72bb5d6543ff8ec7be3ca3fde72d",
      "a8dfb425c4a5487c90b3026f34c307c9",
      "d13d835cdf204eb39dbb510f0a0b56f4",
      "d6295b5590a54d36a81d9fe41e65eadc",
      "b693e5e6467148f4847622df03b6e992",
      "22cacc4eb4bf46e0a7d0621c17a0d585",
      "41ee63fedd3f4b8e8d27446803a98a8b",
      "213b7a102dfd487ca7ef2747ba2a6f69",
      "22a8ad9e87584d13a8bce3ea236e9640",
      "9f50c9f6f92148d7b59737cefdc8d43b",
      "a3c5c40e7e9843aa93bc8a74b688b506",
      "b9ba94cc2c45495b9821d6fbc2de3cc6",
      "6f29dcab3a9946fd9781e3f6da7cd4f4",
      "93cb788b8cbe41b295dc9174eb64ba77",
      "7b3672292731487ba6998370f3ac44e7",
      "065bf1e81085462fb1d131cb30e9a965",
      "f6f15debec54439cb61e2e92948a7fd4",
      "7d6f3b7a02444d9ab53760d3041f813f",
      "886f5cab82cd4730b31798917f8c134c",
      "61b0fcf664ba415eae0f7ff28278a636",
      "7daffb77a70647c7ade32269eea013aa",
      "24e8cde4fbff460c857b16382feda2c1",
      "d55db3441263474c952be28529e3a700",
      "ad9cd4eae3ac4964b6f1af60c4de2b3f",
      "d83a5c6589094028a47d02c06de43909",
      "91b3824fa0c643ce900ab6c079b5984e",
      "acfcdb1aed9a4bbf8f94c64d527f0c89",
      "9e3c0c8139ac444eb445e3676b0456ea",
      "d2c908b055984a39955351d6c203afcf",
      "95403714a42e48d4a395e57372a1ba18",
      "e21c4531342041fd8c4ab7bfefb1bd6a",
      "54e30fe9323f438ea557b0acc5a3717b",
      "99e62b18509048629fbe23fbe4148a52",
      "60deca5ce32749629a18269be0adaa0b",
      "7c894ad9df564b179a051c6fcb0c14f1",
      "19b520f0aecb4ee0ad123dc9125af163",
      "0fe7393736694f858dcdb18d3555b38b"
     ]
    },
    "id": "KHfTeajKIsjQ",
    "outputId": "58c6ef63-1191-46c2-ed09-e4ba388c2fef"
   },
   "outputs": [
    {
     "name": "stderr",
     "output_type": "stream",
     "text": [
      "[nltk_data] Downloading package stopwords to /root/nltk_data...\n",
      "[nltk_data]   Package stopwords is already up-to-date!\n"
     ]
    },
    {
     "name": "stdout",
     "output_type": "stream",
     "text": [
      "Device: cuda\n"
     ]
    },
    {
     "data": {
      "application/vnd.jupyter.widget-view+json": {
       "model_id": "5fd76c8f18a947b4a28dc205918737d0",
       "version_major": 2,
       "version_minor": 0
      },
      "text/plain": [
       "config.json:   0%|          | 0.00/747 [00:00<?, ?B/s]"
      ]
     },
     "metadata": {},
     "output_type": "display_data"
    },
    {
     "data": {
      "application/vnd.jupyter.widget-view+json": {
       "model_id": "1537195438324e0687b1a82e71d2e247",
       "version_major": 2,
       "version_minor": 0
      },
      "text/plain": [
       "vocab.json:   0%|          | 0.00/899k [00:00<?, ?B/s]"
      ]
     },
     "metadata": {},
     "output_type": "display_data"
    },
    {
     "data": {
      "application/vnd.jupyter.widget-view+json": {
       "model_id": "ea6e66e84fb148dea2351f8904920e20",
       "version_major": 2,
       "version_minor": 0
      },
      "text/plain": [
       "merges.txt:   0%|          | 0.00/456k [00:00<?, ?B/s]"
      ]
     },
     "metadata": {},
     "output_type": "display_data"
    },
    {
     "data": {
      "application/vnd.jupyter.widget-view+json": {
       "model_id": "0b6ded6c88ef4df28456a005cfc615a3",
       "version_major": 2,
       "version_minor": 0
      },
      "text/plain": [
       "special_tokens_map.json:   0%|          | 0.00/150 [00:00<?, ?B/s]"
      ]
     },
     "metadata": {},
     "output_type": "display_data"
    },
    {
     "data": {
      "application/vnd.jupyter.widget-view+json": {
       "model_id": "2d8c91b11f3a4d878a7d55910dbb3480",
       "version_major": 2,
       "version_minor": 0
      },
      "text/plain": [
       "pytorch_model.bin:   0%|          | 0.00/499M [00:00<?, ?B/s]"
      ]
     },
     "metadata": {},
     "output_type": "display_data"
    },
    {
     "data": {
      "application/vnd.jupyter.widget-view+json": {
       "model_id": "ccf483e2aff94c42b8028dc797e25e1c",
       "version_major": 2,
       "version_minor": 0
      },
      "text/plain": [
       "Map:   0%|          | 0/9042 [00:00<?, ? examples/s]"
      ]
     },
     "metadata": {},
     "output_type": "display_data"
    },
    {
     "data": {
      "application/vnd.jupyter.widget-view+json": {
       "model_id": "b693e5e6467148f4847622df03b6e992",
       "version_major": 2,
       "version_minor": 0
      },
      "text/plain": [
       "model.safetensors:   0%|          | 0.00/499M [00:00<?, ?B/s]"
      ]
     },
     "metadata": {},
     "output_type": "display_data"
    },
    {
     "data": {
      "application/vnd.jupyter.widget-view+json": {
       "model_id": "065bf1e81085462fb1d131cb30e9a965",
       "version_major": 2,
       "version_minor": 0
      },
      "text/plain": [
       "Map:   0%|          | 0/1005 [00:00<?, ? examples/s]"
      ]
     },
     "metadata": {},
     "output_type": "display_data"
    },
    {
     "data": {
      "application/vnd.jupyter.widget-view+json": {
       "model_id": "acfcdb1aed9a4bbf8f94c64d527f0c89",
       "version_major": 2,
       "version_minor": 0
      },
      "text/plain": [
       "Map:   0%|          | 0/2512 [00:00<?, ? examples/s]"
      ]
     },
     "metadata": {},
     "output_type": "display_data"
    },
    {
     "name": "stdout",
     "output_type": "stream",
     "text": [
      "\n",
      "Epoch 1\n"
     ]
    },
    {
     "name": "stderr",
     "output_type": "stream",
     "text": [
      "100%|██████████| 566/566 [03:26<00:00,  2.74it/s]\n"
     ]
    },
    {
     "name": "stdout",
     "output_type": "stream",
     "text": [
      "Validation F1: 0.7312\n",
      "\n",
      "Epoch 2\n"
     ]
    },
    {
     "name": "stderr",
     "output_type": "stream",
     "text": [
      " 99%|█████████▉| 560/566 [03:23<00:02,  2.77it/s]"
     ]
    }
   ],
   "source": [
    "# 🚀 Install dependencies\n",
    "# !pip install -q transformers datasets nltk scikit-learn\n",
    "\n",
    "# 📚 Imports\n",
    "import pandas as pd, re, nltk, torch\n",
    "from datasets import Dataset\n",
    "from transformers import AutoTokenizer, AutoModelForSequenceClassification, get_scheduler\n",
    "from torch.optim import AdamW\n",
    "from torch.utils.data import DataLoader\n",
    "from sklearn.model_selection import train_test_split\n",
    "from sklearn.metrics import accuracy_score, precision_recall_fscore_support\n",
    "from tqdm import tqdm\n",
    "import torch.nn as nn\n",
    "\n",
    "# 📥 NLTK for stopword removal (optional)\n",
    "nltk.download(\"stopwords\")\n",
    "stop_words = set(nltk.corpus.stopwords.words(\"english\"))\n",
    "\n",
    "# ⚙️ Device\n",
    "device = torch.device(\"cuda\" if torch.cuda.is_available() else \"cpu\")\n",
    "print(\"Device:\", device)\n",
    "\n",
    "# 📂 Load & clean data\n",
    "df = pd.read_csv(\"/content/apple_samsung_yelp_sentiment.csv\")\n",
    "df = df.rename(columns={\"review_text\": \"text\", \"sentiment\": \"label\"})\n",
    "\n",
    "def clean_text(text):\n",
    "    text = str(text).lower()\n",
    "    text = re.sub(r\"\\s+\", \" \", text).strip()\n",
    "    return \" \".join([w for w in text.split() if w not in stop_words])\n",
    "df[\"cleaned\"] = df[\"text\"].apply(clean_text)\n",
    "df[\"label\"] = df[\"label\"].map({-1: 0, 0: 1, 1: 2})\n",
    "\n",
    "# 🧪 Train / Val / Test split\n",
    "train_df, test_df = train_test_split(df, test_size=0.2, stratify=df[\"label\"], random_state=42)\n",
    "train_df, val_df = train_test_split(train_df, test_size=0.1, stratify=train_df[\"label\"], random_state=42)\n",
    "\n",
    "# 🤗 Load tokenizer and model\n",
    "model_name = \"cardiffnlp/twitter-roberta-base-sentiment\"\n",
    "tokenizer = AutoTokenizer.from_pretrained(model_name)\n",
    "model = AutoModelForSequenceClassification.from_pretrained(model_name, num_labels=3).to(device)\n",
    "\n",
    "# Tokenize\n",
    "def tokenize_fn(ex): return tokenizer(ex[\"cleaned\"], padding=\"max_length\", truncation=True, max_length=128)\n",
    "def to_dataset(d): return Dataset.from_pandas(d[[\"cleaned\", \"label\"]], preserve_index=False)\n",
    "\n",
    "train_ds, val_ds, test_ds = map(to_dataset, [train_df, val_df, test_df])\n",
    "train_ds = train_ds.map(tokenize_fn, batched=True).rename_column(\"label\", \"labels\").remove_columns([\"cleaned\"]).with_format(\"torch\")\n",
    "val_ds   = val_ds.map(tokenize_fn, batched=True).rename_column(\"label\", \"labels\").remove_columns([\"cleaned\"]).with_format(\"torch\")\n",
    "test_ds  = test_ds.map(tokenize_fn, batched=True).rename_column(\"label\", \"labels\").remove_columns([\"cleaned\"]).with_format(\"torch\")\n",
    "\n",
    "# Dataloaders\n",
    "train_loader = DataLoader(train_ds, batch_size=16, shuffle=True)\n",
    "val_loader   = DataLoader(val_ds, batch_size=16)\n",
    "test_loader  = DataLoader(test_ds, batch_size=16)\n",
    "\n",
    "# Optimizer and scheduler\n",
    "optimizer = AdamW(model.parameters(), lr=2e-5)\n",
    "scheduler = get_scheduler(\"linear\", optimizer=optimizer, num_warmup_steps=0, num_training_steps=len(train_loader)*5)\n",
    "loss_fn = nn.CrossEntropyLoss()\n",
    "\n",
    "# 🔁 Train\n",
    "best_val_f1, patience, counter = 0, 3, 0\n",
    "for epoch in range(5):\n",
    "    print(f\"\\nEpoch {epoch + 1}\")\n",
    "    model.train()\n",
    "    for batch in tqdm(train_loader):\n",
    "        batch = {k: v.to(device) for k, v in batch.items()}\n",
    "        out = model(**batch)\n",
    "        loss = loss_fn(out.logits, batch[\"labels\"])\n",
    "        loss.backward()\n",
    "        torch.nn.utils.clip_grad_norm_(model.parameters(), 1.0)\n",
    "        optimizer.step()\n",
    "        scheduler.step()\n",
    "        optimizer.zero_grad()\n",
    "\n",
    "    # 🔍 Validate\n",
    "    model.eval()\n",
    "    preds, labels = [], []\n",
    "    with torch.no_grad():\n",
    "        for b in val_loader:\n",
    "            b = {k: v.to(device) for k, v in b.items()}\n",
    "            out = model(**b)\n",
    "            pred = torch.argmax(out.logits, dim=-1)\n",
    "            preds += pred.cpu().tolist()\n",
    "            labels += b[\"labels\"].cpu().tolist()\n",
    "\n",
    "    p, r, f, _ = precision_recall_fscore_support(labels, preds, average=\"weighted\")\n",
    "    print(f\"Validation F1: {f:.4f}\")\n",
    "    if f > best_val_f1:\n",
    "        best_val_f1 = f\n",
    "        counter = 0\n",
    "        torch.save(model.state_dict(), \"best_cardiff_model.pt\")\n",
    "    else:\n",
    "        counter += 1\n",
    "        if counter >= patience:\n",
    "            print(\"Early stopping!\")\n",
    "            break\n",
    "\n",
    "# 📊 Evaluate on test set\n",
    "model.load_state_dict(torch.load(\"best_cardiff_model.pt\"))\n",
    "model.eval()\n",
    "def evaluate(loader):\n",
    "    preds, labels = [], []\n",
    "    with torch.no_grad():\n",
    "        for b in loader:\n",
    "            b = {k: v.to(device) for k, v in b.items()}\n",
    "            out = model(**b)\n",
    "            pred = torch.argmax(out.logits, dim=-1)\n",
    "            preds += pred.cpu().tolist()\n",
    "            labels += b[\"labels\"].cpu().tolist()\n",
    "    p, r, f, _ = precision_recall_fscore_support(labels, preds, average=\"weighted\")\n",
    "    acc = accuracy_score(labels, preds)\n",
    "    return {\"accuracy\": acc, \"precision\": p, \"recall\": r, \"f1\": f}\n",
    "\n",
    "print(\"\\n✅ Final Test Results:\", evaluate(test_loader))\n"
   ]
  }
 ],
 "metadata": {
  "accelerator": "GPU",
  "colab": {
   "gpuType": "T4",
   "provenance": []
  },
  "kernelspec": {
   "display_name": "Python 3",
   "name": "python3"
  },
  "language_info": {
   "name": "python"
  }
 },
 "nbformat": 4,
 "nbformat_minor": 0
}
